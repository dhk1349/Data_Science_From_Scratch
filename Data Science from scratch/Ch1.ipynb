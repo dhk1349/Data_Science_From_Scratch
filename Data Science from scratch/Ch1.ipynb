{
 "cells": [
  {
   "cell_type": "code",
   "execution_count": 4,
   "metadata": {},
   "outputs": [],
   "source": [
    "users = [\n",
    "    { \"id\": 0, \"name\": \"Hero\" },\n",
    "    { \"id\": 1, \"name\": \"Dunn\" },\n",
    "    { \"id\": 2, \"name\": \"Sue\" },\n",
    "    { \"id\": 3, \"name\": \"Chi\" },\n",
    "    { \"id\": 4, \"name\": \"Thor\" },\n",
    "    { \"id\": 5, \"name\": \"Clive\" },\n",
    "    { \"id\": 6, \"name\": \"Hicks\" },\n",
    "    { \"id\": 7, \"name\": \"Devin\" },\n",
    "    { \"id\": 8, \"name\": \"Kate\" },\n",
    "    { \"id\": 9, \"name\": \"Klein\" },\n",
    "    { \"id\": 10, \"name\": \"Jen\" }\n",
    "]\n",
    "\n",
    "friendship_pair = [(0, 1), (0, 2), (1, 2), (1, 3), (2, 3), (3, 4),\n",
    "               (4, 5), (5, 6), (5, 7), (6, 8), (7, 8), (8, 9)]"
   ]
  },
  {
   "cell_type": "code",
   "execution_count": 6,
   "metadata": {},
   "outputs": [
    {
     "data": {
      "text/plain": [
       "{0: [1, 2],\n",
       " 1: [0, 2, 3],\n",
       " 2: [0, 1, 3],\n",
       " 3: [1, 2, 4],\n",
       " 4: [3, 5],\n",
       " 5: [4, 6, 7],\n",
       " 6: [5, 8],\n",
       " 7: [5, 8],\n",
       " 8: [6, 7, 9],\n",
       " 9: [8],\n",
       " 10: []}"
      ]
     },
     "execution_count": 6,
     "metadata": {},
     "output_type": "execute_result"
    }
   ],
   "source": [
    "#Change user and friend ship into dictionary format (var=friendship)\n",
    "friendship={user['id']: []for user in users}\n",
    "for pair in friendship_pair:\n",
    "    friendship[pair[0]].append(pair[1])\n",
    "    friendship[pair[1]].append(pair[0])\n",
    "friendship"
   ]
  },
  {
   "cell_type": "code",
   "execution_count": 8,
   "metadata": {},
   "outputs": [
    {
     "name": "stdout",
     "output_type": "stream",
     "text": [
      "(0, 2)\n",
      "(1, 3)\n",
      "(2, 3)\n",
      "(3, 3)\n",
      "(4, 2)\n",
      "(5, 3)\n",
      "(6, 2)\n",
      "(7, 2)\n",
      "(8, 3)\n",
      "(9, 1)\n",
      "(10, 0)\n"
     ]
    }
   ],
   "source": [
    "#define function that returns number of friends that each user has.\n",
    "def num_of_friend(user):\n",
    "    return (user['id'],len(friendship[user['id']]))\n",
    "for user in users:\n",
    "    print(num_of_friend(user))"
   ]
  },
  {
   "cell_type": "code",
   "execution_count": 21,
   "metadata": {},
   "outputs": [
    {
     "name": "stdout",
     "output_type": "stream",
     "text": [
      "[(0, 2), (1, 3), (2, 3), (3, 3), (4, 2), (5, 3), (6, 2), (7, 2), (8, 3), (9, 1), (10, 0)]\n",
      "[(10, 0), (9, 1), (0, 2), (4, 2), (6, 2), (7, 2), (1, 3), (2, 3), (3, 3), (5, 3), (8, 3)]\n"
     ]
    }
   ],
   "source": [
    "#Order users in ascending order(by number of friends)\n",
    "numoffriend=[]\n",
    "for user in users:\n",
    "    numoffriend.append(num_of_friend(user))\n",
    "print(numoffriend)\n",
    "print(sorted(numoffriend, key=lambda elem:elem[1]))"
   ]
  },
  {
   "cell_type": "code",
   "execution_count": 29,
   "metadata": {},
   "outputs": [
    {
     "name": "stdout",
     "output_type": "stream",
     "text": [
      "[3]\n",
      "[4]\n",
      "[4]\n",
      "[0, 5]\n",
      "[1, 2, 6, 7]\n",
      "[8, 3]\n",
      "[9, 4, 7]\n",
      "[9, 4, 6]\n",
      "[5]\n",
      "[6, 7]\n",
      "[]\n"
     ]
    }
   ],
   "source": [
    "#define function that returns friend of a friend\n",
    "from collections import Counter\n",
    "def foaf(user):\n",
    "    result=[]\n",
    "    for f in friendship[user['id']]:\n",
    "        for fof in friendship[f]:\n",
    "            if(fof != user['id'] and fof not in friendship[user['id']]):\n",
    "                result.append(fof)\n",
    "    return list(set(result))\n",
    "for u in users:\n",
    "    print(foaf(u))"
   ]
  },
  {
   "cell_type": "code",
   "execution_count": 54,
   "metadata": {},
   "outputs": [],
   "source": [
    "#define function that returns number of mutual friend with user's friend\n",
    "def numofmut(user):\n",
    "    result={ i['id']:[] for i in users}\n",
    "    for i in users:\n",
    "        for fof in friendship[i['id']]:\n",
    "            if fof in friendship[user['id']] :\n",
    "                result[i['id']].append(fof)\n",
    "    #Didn't removed user itself and user's friend\n",
    "    del result[user['id']]\n",
    "    for i in friendship[user['id']]:\n",
    "        del result[i]\n",
    "    return result"
   ]
  },
  {
   "cell_type": "code",
   "execution_count": 55,
   "metadata": {},
   "outputs": [
    {
     "data": {
      "text/plain": [
       "{0: [1, 2], 5: [4], 6: [], 7: [], 8: [], 9: [], 10: []}"
      ]
     },
     "execution_count": 55,
     "metadata": {},
     "output_type": "execute_result"
    }
   ],
   "source": [
    "numofmut(users[3])"
   ]
  },
  {
   "cell_type": "code",
   "execution_count": null,
   "metadata": {},
   "outputs": [],
   "source": []
  },
  {
   "cell_type": "code",
   "execution_count": null,
   "metadata": {},
   "outputs": [],
   "source": [
    "interests = [\n",
    "    (0, \"Hadoop\"), (0, \"Big Data\"), (0, \"HBase\"), (0, \"Java\"),\n",
    "    (0, \"Spark\"), (0, \"Storm\"), (0, \"Cassandra\"),\n",
    "    (1, \"NoSQL\"), (1, \"MongoDB\"), (1, \"Cassandra\"), (1, \"HBase\"),\n",
    "    (1, \"Postgres\"), (2, \"Python\"), (2, \"scikit-learn\"), (2, \"scipy\"),\n",
    "    (2, \"numpy\"), (2, \"statsmodels\"), (2, \"pandas\"), (3, \"R\"), (3, \"Python\"),\n",
    "    (3, \"statistics\"), (3, \"regression\"), (3, \"probability\"),\n",
    "    (4, \"machine learning\"), (4, \"regression\"), (4, \"decision trees\"),\n",
    "    (4, \"libsvm\"), (5, \"Python\"), (5, \"R\"), (5, \"Java\"), (5, \"C++\"),\n",
    "    (5, \"Haskell\"), (5, \"programming languages\"), (6, \"statistics\"),\n",
    "    (6, \"probability\"), (6, \"mathematics\"), (6, \"theory\"),\n",
    "    (7, \"machine learning\"), (7, \"scikit-learn\"), (7, \"Mahout\"),\n",
    "    (7, \"neural networks\"), (8, \"neural networks\"), (8, \"deep learning\"),\n",
    "    (8, \"Big Data\"), (8, \"artificial intelligence\"), (9, \"Hadoop\"),\n",
    "    (9, \"Java\"), (9, \"MapReduce\"), (9, \"Big Data\")\n",
    "]"
   ]
  }
 ],
 "metadata": {
  "kernelspec": {
   "display_name": "tf_CPU",
   "language": "python",
   "name": "tf_cpu"
  },
  "language_info": {
   "codemirror_mode": {
    "name": "ipython",
    "version": 3
   },
   "file_extension": ".py",
   "mimetype": "text/x-python",
   "name": "python",
   "nbconvert_exporter": "python",
   "pygments_lexer": "ipython3",
   "version": "3.8.3"
  }
 },
 "nbformat": 4,
 "nbformat_minor": 4
}
