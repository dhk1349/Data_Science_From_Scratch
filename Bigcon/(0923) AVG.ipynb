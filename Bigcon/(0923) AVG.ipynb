{
 "cells": [
  {
   "cell_type": "code",
   "execution_count": 1,
   "metadata": {},
   "outputs": [],
   "source": [
    "import pandas as pd\n",
    "import numpy as np\n",
    "import tensorflow as tf\n",
    "from tensorflow import keras\n",
    "from tensorflow.keras import layers "
   ]
  },
  {
   "cell_type": "code",
   "execution_count": 2,
   "metadata": {},
   "outputs": [],
   "source": [
    "x_train=pd.read_csv(\"AVG\\\\AVG_train_x.csv\")\n",
    "y_train=pd.read_csv(\"AVG\\\\AVG_train_y.csv\")\n",
    "x_test=pd.read_csv(\"AVG\\\\AVG_test_x.csv\")\n",
    "y_test=pd.read_csv(\"AVG\\\\AVG_test_y.csv\")"
   ]
  },
  {
   "cell_type": "code",
   "execution_count": 3,
   "metadata": {},
   "outputs": [],
   "source": [
    "def build_model():\n",
    "  model = keras.Sequential([\n",
    "    layers.Dense(1024, activation='relu', input_shape=[len(x_train.keys())]),\n",
    "    layers.Dense(1024, activation='relu'),\n",
    "    layers.Dense(1024, activation='relu'),\n",
    "    layers.Dense(1024, activation='relu'),\n",
    "    layers.Dense(1)\n",
    "  ])\n",
    "\n",
    "  optimizer = tf.keras.optimizers.RMSprop(0.001)\n",
    "\n",
    "  model.compile(loss='mse',\n",
    "                optimizer=optimizer,\n",
    "                metrics=['mae', 'mse'])\n",
    "  return model"
   ]
  },
  {
   "cell_type": "code",
   "execution_count": 4,
   "metadata": {},
   "outputs": [],
   "source": [
    "# 에포크가 끝날 때마다 점(.)을 출력해 훈련 진행 과정을 표시합니다\n",
    "class PrintDot(keras.callbacks.Callback):\n",
    "  def on_epoch_end(self, epoch, logs):\n",
    "    if epoch % 100 == 0: print('')\n",
    "    print('.', end='')"
   ]
  },
  {
   "cell_type": "code",
   "execution_count": 5,
   "metadata": {},
   "outputs": [],
   "source": [
    "x_train=x_train.drop(columns=[\"T_ID\", \"YEAR\"])\n",
    "x_test=x_test.drop(columns=[\"T_ID\", \"YEAR\"])\n",
    "y_train=y_train.drop(columns=[\"T_ID\", \"YEAR\"])\n",
    "y_test=y_test.drop(columns=[\"T_ID\", \"YEAR\"])"
   ]
  },
  {
   "cell_type": "code",
   "execution_count": 6,
   "metadata": {},
   "outputs": [
    {
     "name": "stdout",
     "output_type": "stream",
     "text": [
      "Model: \"sequential\"\n",
      "_________________________________________________________________\n",
      "Layer (type)                 Output Shape              Param #   \n",
      "=================================================================\n",
      "dense (Dense)                (None, 1024)              48128     \n",
      "_________________________________________________________________\n",
      "dense_1 (Dense)              (None, 1024)              1049600   \n",
      "_________________________________________________________________\n",
      "dense_2 (Dense)              (None, 1024)              1049600   \n",
      "_________________________________________________________________\n",
      "dense_3 (Dense)              (None, 1024)              1049600   \n",
      "_________________________________________________________________\n",
      "dense_4 (Dense)              (None, 1)                 1025      \n",
      "=================================================================\n",
      "Total params: 3,197,953\n",
      "Trainable params: 3,197,953\n",
      "Non-trainable params: 0\n",
      "_________________________________________________________________\n"
     ]
    }
   ],
   "source": [
    "model = build_model()\n",
    "model.summary()"
   ]
  },
  {
   "cell_type": "code",
   "execution_count": 8,
   "metadata": {},
   "outputs": [
    {
     "name": "stderr",
     "output_type": "stream",
     "text": [
      "W0927 19:05:10.202442 18340 training.py:504] Falling back from v2 loop because of error: Failed to find data adapter that can handle input: <class 'pandas.core.frame.DataFrame'>, <class 'NoneType'>\n"
     ]
    },
    {
     "name": "stdout",
     "output_type": "stream",
     "text": [
      "Train on 2336 samples, validate on 584 samples\n",
      "Epoch 1/100\n",
      "2304/2336 [============================>.] - ETA: 0s - loss: 9.0013e-04 - mae: 0.0233 - mse: 9.0013e-04s - loss: 0.0010 - mae: 0.0248 -\n",
      "2336/2336 [==============================] - 4s 2ms/sample - loss: 8.9687e-04 - mae: 0.0233 - mse: 8.9687e-04 - val_loss: 3.0230e-04 - val_mae: 0.0130 - val_mse: 3.0230e-04\n",
      "Epoch 2/100\n",
      "2336/2336 [==============================] - 4s 2ms/sample - loss: 6.0457e-04 - mae: 0.0196 - mse: 6.0457e-04 - val_loss: 7.4930e-04 - val_mae: 0.0237 - val_mse: 7.4930e-04\n",
      "Epoch 3/100\n",
      "2336/2336 [==============================] - 4s 2ms/sample - loss: 5.7384e-04 - mae: 0.0187 - mse: 5.7384e-04 - val_loss: 2.5495e-04 - val_mae: 0.0122 - val_mse: 2.5495e-04\n",
      "Epoch 4/100\n",
      "2336/2336 [==============================] - 3s 1ms/sample - loss: 4.8228e-04 - mae: 0.0174 - mse: 4.8228e-04 - val_loss: 8.1087e-04 - val_mae: 0.0246 - val_mse: 8.1087e-04\n",
      "Epoch 5/100\n",
      "2336/2336 [==============================] - 3s 1ms/sample - loss: 4.7524e-04 - mae: 0.0174 - mse: 4.7524e-04 - val_loss: 3.4555e-04 - val_mae: 0.0138 - val_mse: 3.4555e-04\n",
      "Epoch 6/100\n",
      "2336/2336 [==============================] - 3s 1ms/sample - loss: 4.5602e-04 - mae: 0.0169 - mse: 4.5602e-04 - val_loss: 5.5932e-04 - val_mae: 0.0194 - val_mse: 5.5932e-04\n",
      "Epoch 7/100\n",
      "2336/2336 [==============================] - 3s 1ms/sample - loss: 4.3893e-04 - mae: 0.0165 - mse: 4.3893e-04 - val_loss: 4.8796e-04 - val_mae: 0.0179 - val_mse: 4.8796e-04\n",
      "Epoch 8/100\n",
      "2336/2336 [==============================] - 4s 2ms/sample - loss: 4.4037e-04 - mae: 0.0167 - mse: 4.4037e-04 - val_loss: 5.4073e-04 - val_mae: 0.0184 - val_mse: 5.4073e-04\n",
      "Epoch 9/100\n",
      "2336/2336 [==============================] - 4s 2ms/sample - loss: 4.2543e-04 - mae: 0.0163 - mse: 4.2543e-04 - val_loss: 5.6541e-04 - val_mae: 0.0199 - val_mse: 5.6541e-04\n",
      "Epoch 10/100\n",
      "2336/2336 [==============================] - 4s 2ms/sample - loss: 4.2383e-04 - mae: 0.0163 - mse: 4.2383e-04 - val_loss: 7.9382e-04 - val_mae: 0.0244 - val_mse: 7.9382e-04\n",
      "Epoch 11/100\n",
      "2336/2336 [==============================] - 3s 1ms/sample - loss: 4.2043e-04 - mae: 0.0163 - mse: 4.2043e-04 - val_loss: 5.7045e-04 - val_mae: 0.0197 - val_mse: 5.7045e-04\n",
      "Epoch 12/100\n",
      "2336/2336 [==============================] - 3s 1ms/sample - loss: 4.1910e-04 - mae: 0.0162 - mse: 4.1910e-04 - val_loss: 7.6785e-04 - val_mae: 0.0233 - val_mse: 7.6785e-04\n",
      "Epoch 13/100\n",
      "2336/2336 [==============================] - 3s 1ms/sample - loss: 4.1138e-04 - mae: 0.0162 - mse: 4.1138e-04 - val_loss: 5.8607e-04 - val_mae: 0.0197 - val_mse: 5.8607e-04\n",
      "Epoch 14/100\n",
      "2336/2336 [==============================] - 4s 2ms/sample - loss: 4.0802e-04 - mae: 0.0158 - mse: 4.0802e-04 - val_loss: 5.6304e-04 - val_mae: 0.0191 - val_mse: 5.6304e-04\n",
      "Epoch 15/100\n",
      "2336/2336 [==============================] - 4s 2ms/sample - loss: 4.0304e-04 - mae: 0.0159 - mse: 4.0304e-04 - val_loss: 7.6659e-04 - val_mae: 0.0238 - val_mse: 7.6659e-04\n",
      "Epoch 16/100\n",
      "2336/2336 [==============================] - 4s 2ms/sample - loss: 4.1381e-04 - mae: 0.0160 - mse: 4.1381e-04 - val_loss: 0.0011 - val_mae: 0.0300 - val_mse: 0.0011\n",
      "Epoch 17/100\n",
      "2336/2336 [==============================] - 5s 2ms/sample - loss: 3.8916e-04 - mae: 0.0155 - mse: 3.8916e-04 - val_loss: 0.0011 - val_mae: 0.0303 - val_mse: 0.0011\n",
      "Epoch 18/100\n",
      "2336/2336 [==============================] - 5s 2ms/sample - loss: 4.0056e-04 - mae: 0.0159 - mse: 4.0056e-04 - val_loss: 5.4107e-04 - val_mae: 0.0191 - val_mse: 5.4107e-04\n",
      "Epoch 19/100\n",
      "2336/2336 [==============================] - 5s 2ms/sample - loss: 3.8618e-04 - mae: 0.0155 - mse: 3.8618e-04 - val_loss: 3.3837e-04 - val_mae: 0.0142 - val_mse: 3.3837e-04\n",
      "Epoch 20/100\n",
      "2336/2336 [==============================] - 5s 2ms/sample - loss: 4.0314e-04 - mae: 0.0158 - mse: 4.0314e-04 - val_loss: 7.5734e-04 - val_mae: 0.0237 - val_mse: 7.5734e-04\n",
      "Epoch 21/100\n",
      "2336/2336 [==============================] - 6s 3ms/sample - loss: 3.8398e-04 - mae: 0.0155 - mse: 3.8398e-04 - val_loss: 7.4740e-04 - val_mae: 0.0234 - val_mse: 7.4740e-04\n",
      "Epoch 22/100\n",
      "2336/2336 [==============================] - 5s 2ms/sample - loss: 3.7023e-04 - mae: 0.0151 - mse: 3.7023e-04 - val_loss: 4.4062e-04 - val_mae: 0.0165 - val_mse: 4.4062e-04\n",
      "Epoch 23/100\n",
      "2336/2336 [==============================] - 5s 2ms/sample - loss: 3.7793e-04 - mae: 0.0153 - mse: 3.7793e-04 - val_loss: 8.4046e-04 - val_mae: 0.0250 - val_mse: 8.4046e-04se: 3.8377e\n",
      "Epoch 24/100\n",
      "2336/2336 [==============================] - 5s 2ms/sample - loss: 3.7168e-04 - mae: 0.0153 - mse: 3.7168e-04 - val_loss: 4.8920e-04 - val_mae: 0.0175 - val_mse: 4.8920e-04\n",
      "Epoch 25/100\n",
      "2336/2336 [==============================] - 4s 2ms/sample - loss: 3.6971e-04 - mae: 0.0150 - mse: 3.6971e-04 - val_loss: 0.0016 - val_mae: 0.0364 - val_mse: 0.0016\n",
      "Epoch 26/100\n",
      "2336/2336 [==============================] - 3s 1ms/sample - loss: 3.5910e-04 - mae: 0.0151 - mse: 3.5910e-04 - val_loss: 6.0137e-04 - val_mae: 0.0205 - val_mse: 6.0137e-04\n",
      "Epoch 27/100\n",
      "2336/2336 [==============================] - 3s 1ms/sample - loss: 3.6507e-04 - mae: 0.0149 - mse: 3.6507e-04 - val_loss: 6.1491e-04 - val_mae: 0.0201 - val_mse: 6.1491e-04\n",
      "Epoch 28/100\n",
      "2336/2336 [==============================] - 3s 1ms/sample - loss: 3.6273e-04 - mae: 0.0150 - mse: 3.6273e-04 - val_loss: 9.1718e-04 - val_mae: 0.0265 - val_mse: 9.1718e-04\n",
      "Epoch 29/100\n",
      "2336/2336 [==============================] - 3s 1ms/sample - loss: 3.4980e-04 - mae: 0.0147 - mse: 3.4980e-04 - val_loss: 4.9471e-04 - val_mae: 0.0176 - val_mse: 4.9471e-04\n",
      "Epoch 30/100\n",
      "2336/2336 [==============================] - 3s 1ms/sample - loss: 3.4804e-04 - mae: 0.0146 - mse: 3.4804e-04 - val_loss: 0.0011 - val_mae: 0.0291 - val_mse: 0.0011\n",
      "Epoch 31/100\n",
      "2336/2336 [==============================] - 3s 1ms/sample - loss: 3.6640e-04 - mae: 0.0150 - mse: 3.6640e-04 - val_loss: 0.0010 - val_mae: 0.0285 - val_mse: 0.0010\n",
      "Epoch 32/100\n",
      "2336/2336 [==============================] - 3s 1ms/sample - loss: 3.4058e-04 - mae: 0.0144 - mse: 3.4058e-04 - val_loss: 6.1828e-04 - val_mae: 0.0202 - val_mse: 6.1828e-04\n",
      "Epoch 33/100\n",
      "2336/2336 [==============================] - 4s 2ms/sample - loss: 3.3166e-04 - mae: 0.0143 - mse: 3.3166e-04 - val_loss: 8.0980e-04 - val_mae: 0.0240 - val_mse: 8.0980e-04\n",
      "Epoch 34/100\n",
      "2336/2336 [==============================] - 3s 1ms/sample - loss: 3.1745e-04 - mae: 0.0140 - mse: 3.1745e-04 - val_loss: 0.0013 - val_mae: 0.0313 - val_mse: 0.0013\n",
      "Epoch 35/100\n",
      "2336/2336 [==============================] - 3s 1ms/sample - loss: 3.4386e-04 - mae: 0.0147 - mse: 3.4386e-04 - val_loss: 7.1869e-04 - val_mae: 0.0222 - val_mse: 7.1869e-04\n",
      "Epoch 36/100\n",
      "2336/2336 [==============================] - 4s 2ms/sample - loss: 3.2776e-04 - mae: 0.0142 - mse: 3.2776e-04 - val_loss: 4.1376e-04 - val_mae: 0.0160 - val_mse: 4.1376e-04\n",
      "Epoch 37/100\n",
      "2336/2336 [==============================] - 4s 2ms/sample - loss: 3.3309e-04 - mae: 0.0143 - mse: 3.3309e-04 - val_loss: 6.8909e-04 - val_mae: 0.0226 - val_mse: 6.8909e-04\n",
      "Epoch 38/100\n",
      "2336/2336 [==============================] - 4s 2ms/sample - loss: 3.1725e-04 - mae: 0.0141 - mse: 3.1725e-04 - val_loss: 6.1370e-04 - val_mae: 0.0205 - val_mse: 6.1370e-04\n",
      "Epoch 39/100\n",
      "2336/2336 [==============================] - 5s 2ms/sample - loss: 3.1927e-04 - mae: 0.0140 - mse: 3.1927e-04 - val_loss: 9.9874e-04 - val_mae: 0.0277 - val_mse: 9.9874e-04\n",
      "Epoch 40/100\n",
      "2336/2336 [==============================] - 5s 2ms/sample - loss: 3.2807e-04 - mae: 0.0142 - mse: 3.2807e-04 - val_loss: 5.2664e-04 - val_mae: 0.0187 - val_mse: 5.2664e-04\n",
      "Epoch 41/100\n",
      "2336/2336 [==============================] - 5s 2ms/sample - loss: 3.1465e-04 - mae: 0.0139 - mse: 3.1465e-04 - val_loss: 5.6482e-04 - val_mae: 0.0191 - val_mse: 5.6482e-04\n",
      "Epoch 42/100\n",
      "2336/2336 [==============================] - 6s 2ms/sample - loss: 3.2582e-04 - mae: 0.0140 - mse: 3.2582e-04 - val_loss: 5.9756e-04 - val_mae: 0.0198 - val_mse: 5.9756e-04\n",
      "Epoch 43/100\n",
      "2336/2336 [==============================] - 6s 3ms/sample - loss: 3.1866e-04 - mae: 0.0139 - mse: 3.1866e-04 - val_loss: 0.0017 - val_mae: 0.0360 - val_mse: 0.0017\n",
      "Epoch 44/100\n"
     ]
    },
    {
     "name": "stdout",
     "output_type": "stream",
     "text": [
      "2336/2336 [==============================] - 5s 2ms/sample - loss: 2.9605e-04 - mae: 0.0134 - mse: 2.9605e-04 - val_loss: 4.9379e-04 - val_mae: 0.0180 - val_mse: 4.9379e-04\n",
      "Epoch 45/100\n",
      "2336/2336 [==============================] - 5s 2ms/sample - loss: 2.9940e-04 - mae: 0.0135 - mse: 2.9940e-04 - val_loss: 4.4902e-04 - val_mae: 0.0171 - val_mse: 4.4902e-04\n",
      "Epoch 46/100\n",
      "2336/2336 [==============================] - 4s 2ms/sample - loss: 2.9856e-04 - mae: 0.0134 - mse: 2.9856e-04 - val_loss: 8.7441e-04 - val_mae: 0.0248 - val_mse: 8.7441e-04\n",
      "Epoch 47/100\n",
      "2336/2336 [==============================] - 4s 2ms/sample - loss: 2.8904e-04 - mae: 0.0133 - mse: 2.8904e-04 - val_loss: 8.3540e-04 - val_mae: 0.0246 - val_mse: 8.3540e-04\n",
      "Epoch 48/100\n",
      "2336/2336 [==============================] - 4s 2ms/sample - loss: 2.8985e-04 - mae: 0.0132 - mse: 2.8985e-04 - val_loss: 8.7706e-04 - val_mae: 0.0242 - val_mse: 8.7706e-04\n",
      "Epoch 49/100\n",
      "2336/2336 [==============================] - 4s 2ms/sample - loss: 3.2109e-04 - mae: 0.0138 - mse: 3.2109e-04 - val_loss: 0.0012 - val_mae: 0.0312 - val_mse: 0.0012\n",
      "Epoch 50/100\n",
      "2336/2336 [==============================] - 3s 1ms/sample - loss: 2.8010e-04 - mae: 0.0127 - mse: 2.8010e-04 - val_loss: 0.0013 - val_mae: 0.0316 - val_mse: 0.0013\n",
      "Epoch 51/100\n",
      "2336/2336 [==============================] - 4s 2ms/sample - loss: 2.7848e-04 - mae: 0.0129 - mse: 2.7847e-04 - val_loss: 7.1365e-04 - val_mae: 0.0220 - val_mse: 7.1365e-04\n",
      "Epoch 52/100\n",
      "2336/2336 [==============================] - 4s 2ms/sample - loss: 2.8647e-04 - mae: 0.0133 - mse: 2.8647e-04 - val_loss: 9.0667e-04 - val_mae: 0.0261 - val_mse: 9.0667e-04\n",
      "Epoch 53/100\n",
      "2336/2336 [==============================] - 4s 2ms/sample - loss: 2.8249e-04 - mae: 0.0130 - mse: 2.8249e-04 - val_loss: 8.7013e-04 - val_mae: 0.0250 - val_mse: 8.7013e-04\n",
      "Epoch 54/100\n",
      "2336/2336 [==============================] - 4s 2ms/sample - loss: 2.7128e-04 - mae: 0.0125 - mse: 2.7128e-04 - val_loss: 7.6903e-04 - val_mae: 0.0229 - val_mse: 7.6903e-04\n",
      "Epoch 55/100\n",
      "2336/2336 [==============================] - 4s 2ms/sample - loss: 2.8185e-04 - mae: 0.0129 - mse: 2.8185e-04 - val_loss: 9.2963e-04 - val_mae: 0.0260 - val_mse: 9.2963e-04\n",
      "Epoch 56/100\n",
      "2336/2336 [==============================] - 4s 2ms/sample - loss: 2.6492e-04 - mae: 0.0126 - mse: 2.6492e-04 - val_loss: 7.3005e-04 - val_mae: 0.0225 - val_mse: 7.3005e-04\n",
      "Epoch 57/100\n",
      "2336/2336 [==============================] - 4s 2ms/sample - loss: 2.6737e-04 - mae: 0.0127 - mse: 2.6737e-04 - val_loss: 5.6669e-04 - val_mae: 0.0188 - val_mse: 5.6669e-04\n",
      "Epoch 58/100\n",
      "2336/2336 [==============================] - 4s 2ms/sample - loss: 2.7562e-04 - mae: 0.0127 - mse: 2.7562e-04 - val_loss: 8.5647e-04 - val_mae: 0.0245 - val_mse: 8.5647e-04\n",
      "Epoch 59/100\n",
      "2336/2336 [==============================] - 4s 2ms/sample - loss: 2.6294e-04 - mae: 0.0126 - mse: 2.6294e-04 - val_loss: 8.0473e-04 - val_mae: 0.0239 - val_mse: 8.0473e-04\n",
      "Epoch 60/100\n",
      "2336/2336 [==============================] - 5s 2ms/sample - loss: 2.5590e-04 - mae: 0.0122 - mse: 2.5590e-04 - val_loss: 5.2571e-04 - val_mae: 0.0187 - val_mse: 5.2571e-04\n",
      "Epoch 61/100\n",
      "2336/2336 [==============================] - 6s 3ms/sample - loss: 2.6285e-04 - mae: 0.0125 - mse: 2.6285e-04 - val_loss: 7.5844e-04 - val_mae: 0.0231 - val_mse: 7.5844e-04\n",
      "Epoch 62/100\n",
      "2336/2336 [==============================] - 6s 2ms/sample - loss: 2.5976e-04 - mae: 0.0122 - mse: 2.5976e-04 - val_loss: 5.4567e-04 - val_mae: 0.0186 - val_mse: 5.4567e-04\n",
      "Epoch 63/100\n",
      "2336/2336 [==============================] - 6s 3ms/sample - loss: 2.4948e-04 - mae: 0.0121 - mse: 2.4948e-04 - val_loss: 7.0087e-04 - val_mae: 0.0220 - val_mse: 7.0087e-04\n",
      "Epoch 64/100\n",
      "2336/2336 [==============================] - 6s 3ms/sample - loss: 2.3791e-04 - mae: 0.0117 - mse: 2.3791e-04 - val_loss: 4.6725e-04 - val_mae: 0.0172 - val_mse: 4.6725e-04\n",
      "Epoch 65/100\n",
      "2336/2336 [==============================] - 5s 2ms/sample - loss: 2.3233e-04 - mae: 0.0117 - mse: 2.3233e-04 - val_loss: 0.0014 - val_mae: 0.0330 - val_mse: 0.0014\n",
      "Epoch 66/100\n",
      "2336/2336 [==============================] - 5s 2ms/sample - loss: 2.5303e-04 - mae: 0.0120 - mse: 2.5303e-04 - val_loss: 0.0011 - val_mae: 0.0272 - val_mse: 0.0011\n",
      "Epoch 67/100\n",
      "2336/2336 [==============================] - 4s 2ms/sample - loss: 2.2736e-04 - mae: 0.0115 - mse: 2.2736e-04 - val_loss: 9.3936e-04 - val_mae: 0.0259 - val_mse: 9.3936e-04\n",
      "Epoch 68/100\n",
      "2336/2336 [==============================] - 4s 2ms/sample - loss: 2.2251e-04 - mae: 0.0114 - mse: 2.2251e-04 - val_loss: 0.0011 - val_mae: 0.0300 - val_mse: 0.0011\n",
      "Epoch 69/100\n",
      "2336/2336 [==============================] - 3s 1ms/sample - loss: 2.3438e-04 - mae: 0.0118 - mse: 2.3438e-04 - val_loss: 6.7053e-04 - val_mae: 0.0217 - val_mse: 6.7053e-04\n",
      "Epoch 70/100\n",
      "2336/2336 [==============================] - 3s 1ms/sample - loss: 2.1907e-04 - mae: 0.0111 - mse: 2.1907e-04 - val_loss: 0.0012 - val_mae: 0.0294 - val_mse: 0.0012\n",
      "Epoch 71/100\n",
      "2336/2336 [==============================] - 3s 1ms/sample - loss: 2.2393e-04 - mae: 0.0113 - mse: 2.2393e-04 - val_loss: 0.0011 - val_mae: 0.0280 - val_mse: 0.0011\n",
      "Epoch 72/100\n",
      "2336/2336 [==============================] - 3s 1ms/sample - loss: 2.0204e-04 - mae: 0.0108 - mse: 2.0204e-04 - val_loss: 4.9106e-04 - val_mae: 0.0179 - val_mse: 4.9106e-04\n",
      "Epoch 73/100\n",
      "2336/2336 [==============================] - 3s 1ms/sample - loss: 2.1101e-04 - mae: 0.0111 - mse: 2.1101e-04 - val_loss: 0.0015 - val_mae: 0.0344 - val_mse: 0.0015\n",
      "Epoch 74/100\n",
      "2336/2336 [==============================] - 4s 2ms/sample - loss: 2.0948e-04 - mae: 0.0110 - mse: 2.0948e-04 - val_loss: 0.0015 - val_mae: 0.0334 - val_mse: 0.0015\n",
      "Epoch 75/100\n",
      "2336/2336 [==============================] - 4s 2ms/sample - loss: 2.0805e-04 - mae: 0.0108 - mse: 2.0805e-04 - val_loss: 0.0012 - val_mae: 0.0294 - val_mse: 0.0012\n",
      "Epoch 76/100\n",
      "2336/2336 [==============================] - 4s 2ms/sample - loss: 2.0315e-04 - mae: 0.0108 - mse: 2.0315e-04 - val_loss: 0.0011 - val_mae: 0.0280 - val_mse: 0.0011\n",
      "Epoch 77/100\n",
      "2336/2336 [==============================] - 4s 2ms/sample - loss: 1.9032e-04 - mae: 0.0104 - mse: 1.9032e-04 - val_loss: 0.0011 - val_mae: 0.0276 - val_mse: 0.0011\n",
      "Epoch 78/100\n",
      "2336/2336 [==============================] - 4s 2ms/sample - loss: 1.8716e-04 - mae: 0.0105 - mse: 1.8716e-04 - val_loss: 4.9139e-04 - val_mae: 0.0179 - val_mse: 4.9139e-04\n",
      "Epoch 79/100\n",
      "2336/2336 [==============================] - 4s 2ms/sample - loss: 1.8845e-04 - mae: 0.0103 - mse: 1.8845e-04 - val_loss: 0.0010 - val_mae: 0.0275 - val_mse: 0.0010\n",
      "Epoch 80/100\n",
      "2336/2336 [==============================] - 4s 2ms/sample - loss: 1.9649e-04 - mae: 0.0106 - mse: 1.9649e-04 - val_loss: 8.6341e-04 - val_mae: 0.0252 - val_mse: 8.6341e-04\n",
      "Epoch 81/100\n",
      "2336/2336 [==============================] - 5s 2ms/sample - loss: 1.9408e-04 - mae: 0.0105 - mse: 1.9408e-04 - val_loss: 8.0109e-04 - val_mae: 0.0230 - val_mse: 8.0109e-04\n",
      "Epoch 82/100\n",
      "2336/2336 [==============================] - 5s 2ms/sample - loss: 1.8481e-04 - mae: 0.0102 - mse: 1.8481e-04 - val_loss: 0.0014 - val_mae: 0.0318 - val_mse: 0.0014\n",
      "Epoch 83/100\n",
      "2336/2336 [==============================] - 5s 2ms/sample - loss: 1.7961e-04 - mae: 0.0101 - mse: 1.7961e-04 - val_loss: 9.6547e-04 - val_mae: 0.0261 - val_mse: 9.6547e-04\n",
      "Epoch 84/100\n",
      "2336/2336 [==============================] - 6s 3ms/sample - loss: 1.7451e-04 - mae: 0.0100 - mse: 1.7451e-04 - val_loss: 4.6473e-04 - val_mae: 0.0176 - val_mse: 4.6473e-04\n",
      "Epoch 85/100\n",
      "2336/2336 [==============================] - 7s 3ms/sample - loss: 1.7640e-04 - mae: 0.0101 - mse: 1.7640e-04 - val_loss: 7.3944e-04 - val_mae: 0.0226 - val_mse: 7.3944e-04\n",
      "Epoch 86/100\n",
      "2336/2336 [==============================] - 6s 2ms/sample - loss: 1.6122e-04 - mae: 0.0097 - mse: 1.6122e-04 - val_loss: 7.7642e-04 - val_mae: 0.0235 - val_mse: 7.7642e-04\n",
      "Epoch 87/100\n",
      "2336/2336 [==============================] - 5s 2ms/sample - loss: 1.6964e-04 - mae: 0.0098 - mse: 1.6964e-04 - val_loss: 8.3832e-04 - val_mae: 0.0245 - val_mse: 8.3832e-04\n",
      "Epoch 88/100\n",
      "2336/2336 [==============================] - 4s 2ms/sample - loss: 1.7099e-04 - mae: 0.0098 - mse: 1.7099e-04 - val_loss: 6.0472e-04 - val_mae: 0.0197 - val_mse: 6.0472e-04\n"
     ]
    },
    {
     "name": "stdout",
     "output_type": "stream",
     "text": [
      "Epoch 89/100\n",
      "2336/2336 [==============================] - 4s 2ms/sample - loss: 1.6236e-04 - mae: 0.0095 - mse: 1.6236e-04 - val_loss: 6.9537e-04 - val_mae: 0.0216 - val_mse: 6.9537e-04\n",
      "Epoch 90/100\n",
      "2336/2336 [==============================] - 4s 2ms/sample - loss: 1.6760e-04 - mae: 0.0097 - mse: 1.6760e-04 - val_loss: 8.0094e-04 - val_mae: 0.0241 - val_mse: 8.0094e-04\n",
      "Epoch 91/100\n",
      "2336/2336 [==============================] - 3s 1ms/sample - loss: 1.6878e-04 - mae: 0.0097 - mse: 1.6878e-04 - val_loss: 6.8731e-04 - val_mae: 0.0216 - val_mse: 6.8731e-04\n",
      "Epoch 92/100\n",
      "2336/2336 [==============================] - 3s 1ms/sample - loss: 1.6012e-04 - mae: 0.0095 - mse: 1.6012e-04 - val_loss: 9.3368e-04 - val_mae: 0.0262 - val_mse: 9.3368e-04\n",
      "Epoch 93/100\n",
      "2336/2336 [==============================] - 3s 1ms/sample - loss: 1.7315e-04 - mae: 0.0096 - mse: 1.7315e-04 - val_loss: 9.4195e-04 - val_mae: 0.0258 - val_mse: 9.4195e-04\n",
      "Epoch 94/100\n",
      "2336/2336 [==============================] - 4s 2ms/sample - loss: 1.5474e-04 - mae: 0.0092 - mse: 1.5474e-04 - val_loss: 6.8255e-04 - val_mae: 0.0218 - val_mse: 6.8255e-04\n",
      "Epoch 95/100\n",
      "2336/2336 [==============================] - 4s 2ms/sample - loss: 1.5692e-04 - mae: 0.0093 - mse: 1.5692e-04 - val_loss: 0.0015 - val_mae: 0.0348 - val_mse: 0.0015\n",
      "Epoch 96/100\n",
      "2336/2336 [==============================] - 4s 2ms/sample - loss: 1.5687e-04 - mae: 0.0094 - mse: 1.5687e-04 - val_loss: 7.6119e-04 - val_mae: 0.0228 - val_mse: 7.6119e-04\n",
      "Epoch 97/100\n",
      "2336/2336 [==============================] - 4s 2ms/sample - loss: 1.6662e-04 - mae: 0.0096 - mse: 1.6662e-04 - val_loss: 4.7131e-04 - val_mae: 0.0177 - val_mse: 4.7131e-04\n",
      "Epoch 98/100\n",
      "2336/2336 [==============================] - 4s 2ms/sample - loss: 1.3557e-04 - mae: 0.0088 - mse: 1.3557e-04 - val_loss: 9.6740e-04 - val_mae: 0.0259 - val_mse: 9.6740e-04\n",
      "Epoch 99/100\n",
      "2336/2336 [==============================] - 4s 2ms/sample - loss: 1.4796e-04 - mae: 0.0090 - mse: 1.4796e-04 - val_loss: 7.2908e-04 - val_mae: 0.0226 - val_mse: 7.2908e-04\n",
      "Epoch 100/100\n",
      "2336/2336 [==============================] - 4s 2ms/sample - loss: 1.4249e-04 - mae: 0.0088 - mse: 1.4249e-04 - val_loss: 0.0013 - val_mae: 0.0306 - val_mse: 0.0013\n"
     ]
    }
   ],
   "source": [
    "history = model.fit(\n",
    "  x_train, y_train,\n",
    "  epochs=100, validation_split = 0.2, verbose=1,\n",
    "  callbacks=[PrintDot()])"
   ]
  },
  {
   "cell_type": "code",
   "execution_count": 9,
   "metadata": {},
   "outputs": [
    {
     "data": {
      "text/plain": [
       "<Figure size 800x1200 with 2 Axes>"
      ]
     },
     "metadata": {},
     "output_type": "display_data"
    }
   ],
   "source": [
    "import matplotlib.pyplot as plt\n",
    "\n",
    "def plot_history(history):\n",
    "  hist = pd.DataFrame(history.history)\n",
    "  hist['epoch'] = history.epoch\n",
    "\n",
    "  plt.figure(figsize=(8,12))\n",
    "\n",
    "  plt.subplot(2,1,1)\n",
    "  plt.xlabel('Epoch')\n",
    "  plt.ylabel('Mean Abs Error ')\n",
    "  plt.plot(hist['epoch'], hist['mae'],\n",
    "           label='Train Error')\n",
    "  plt.plot(hist['epoch'], hist['val_mae'],\n",
    "           label = 'Val Error')\n",
    "  plt.ylim([0,0.5])\n",
    "  plt.legend()\n",
    "\n",
    "  plt.subplot(2,1,2)\n",
    "  plt.xlabel('Epoch')\n",
    "  plt.ylabel('Mean Square Error ')\n",
    "  plt.plot(hist['epoch'], hist['mse'],\n",
    "           label='Train Error')\n",
    "  plt.plot(hist['epoch'], hist['val_mse'],\n",
    "           label = 'Val Error')\n",
    "  plt.ylim([0,0.05])\n",
    "  plt.legend()\n",
    "  plt.show()\n",
    "\n",
    "plot_history(history)"
   ]
  },
  {
   "cell_type": "code",
   "execution_count": 10,
   "metadata": {},
   "outputs": [
    {
     "name": "stderr",
     "output_type": "stream",
     "text": [
      "W0927 19:12:06.541630 18340 training.py:504] Falling back from v2 loop because of error: Failed to find data adapter that can handle input: <class 'pandas.core.frame.DataFrame'>, <class 'NoneType'>\n"
     ]
    },
    {
     "name": "stdout",
     "output_type": "stream",
     "text": [
      "50/50 - 0s - loss: 8.7119e-04 - mae: 0.0232 - mse: 8.7119e-04\n",
      "테스트 세트의 mae: 0.0232 \n",
      "테스트 세트의 mse: 0.0009 \n"
     ]
    }
   ],
   "source": [
    "loss, mae, mse = model.evaluate(x_test, y_test, verbose=2)\n",
    "\n",
    "print(\"테스트 세트의 mae: {:5.4f} \".format(mae))\n",
    "print(\"테스트 세트의 mse: {:5.4f} \".format(mse))"
   ]
  },
  {
   "cell_type": "code",
   "execution_count": 11,
   "metadata": {},
   "outputs": [],
   "source": [
    "y_test=pd.read_csv(\"AVG\\\\AVG_test_y.csv\")\n",
    "y_TID=y_test[\"T_ID\"]\n",
    "y_YEAR=y_test[\"YEAR\"]"
   ]
  },
  {
   "cell_type": "code",
   "execution_count": null,
   "metadata": {},
   "outputs": [],
   "source": [
    "pred=model.predict(x_test)\n",
    "y_test[\"pred\"]=pred\n",
    "y_test['T_ID']=y_TID\n",
    "y_test['YEAR']=y_YEAR\n",
    "y_test=y_test[['YEAR', 'T_ID', 'AVG', 'pred']]"
   ]
  },
  {
   "cell_type": "code",
   "execution_count": null,
   "metadata": {},
   "outputs": [],
   "source": [
    "y_test"
   ]
  },
  {
   "cell_type": "code",
   "execution_count": null,
   "metadata": {},
   "outputs": [],
   "source": [
    "from sklearn.metrics import mean_squared_error\n",
    "mse = mean_squared_error(y_test['AVG'], pred)"
   ]
  },
  {
   "cell_type": "code",
   "execution_count": null,
   "metadata": {},
   "outputs": [],
   "source": [
    "mse"
   ]
  },
  {
   "cell_type": "code",
   "execution_count": null,
   "metadata": {},
   "outputs": [],
   "source": [
    "len(x_train.keys())"
   ]
  },
  {
   "cell_type": "code",
   "execution_count": null,
   "metadata": {},
   "outputs": [],
   "source": [
    "from sklearn.metrics import r2_score\n",
    "\n",
    "r2_y_predict = r2_score(y_test['y'], y_test['y_pred'])\n",
    "r2_y_predict"
   ]
  }
 ],
 "metadata": {
  "kernelspec": {
   "display_name": "Python 3",
   "language": "python",
   "name": "python3"
  },
  "language_info": {
   "codemirror_mode": {
    "name": "ipython",
    "version": 3
   },
   "file_extension": ".py",
   "mimetype": "text/x-python",
   "name": "python",
   "nbconvert_exporter": "python",
   "pygments_lexer": "ipython3",
   "version": "3.7.3"
  }
 },
 "nbformat": 4,
 "nbformat_minor": 2
}
