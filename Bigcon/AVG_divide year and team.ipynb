{
 "cells": [
  {
   "cell_type": "code",
   "execution_count": 9,
   "metadata": {},
   "outputs": [],
   "source": [
    "import tensorflow as tf\n",
    "import numpy as np\n",
    "\n",
    "from tensorflow import keras\n",
    "from tensorflow.keras.utils import to_categorical\n",
    "\n",
    "from tensorflow.keras.models import Sequential\n",
    "# from tensorflow.keras.utils import np_utils\n",
    "from tensorflow.keras.layers import Dense, LSTM, Dropout\n",
    "from tensorflow.keras import layers \n",
    "import tensorflow.keras.backend as K \n",
    "\n",
    "from tensorflow.keras.optimizers import RMSprop, Adam\n",
    "from tensorflow.keras.callbacks import EarlyStopping\n",
    "\n",
    "from sklearn.metrics import accuracy_score\n",
    "from sklearn.metrics import mean_squared_error\n",
    "from sklearn.preprocessing import MinMaxScaler\n",
    "\n",
    "\n",
    "import pandas as pd\n",
    "\n",
    "import matplotlib.pyplot as plt\n",
    "import seaborn as sns\n",
    "# import plotly.express as px\n",
    "# import plotly.graph_objects as go\n",
    "\n",
    "from math import sqrt"
   ]
  },
  {
   "cell_type": "code",
   "execution_count": 2,
   "metadata": {},
   "outputs": [],
   "source": [
    "lstm_train_X = pd.read_csv(\"AVG\\\\AVG_train_x.csv\")\n",
    "lstm_train_y = pd.read_csv(\"AVG\\\\AVG_train_y.csv\")\n",
    "\n",
    "lstm_test_X = pd.read_csv(\"AVG\\\\AVG_test_x.csv\")\n",
    "lstm_test_y = pd.read_csv(\"AVG\\\\AVG_test_y.csv\")"
   ]
  },
  {
   "cell_type": "code",
   "execution_count": 3,
   "metadata": {},
   "outputs": [],
   "source": [
    "team = list(lstm_train_X.T_ID.unique())\n",
    "year = list(lstm_train_y.YEAR.unique())"
   ]
  },
  {
   "cell_type": "code",
   "execution_count": 4,
   "metadata": {},
   "outputs": [
    {
     "data": {
      "text/plain": [
       "(['LG', 'HH', 'NC', 'HT', 'SK', 'KT', 'WO', 'LT', 'SS', 'OB'],\n",
       " [2016, 2017, 2018, 2019])"
      ]
     },
     "execution_count": 4,
     "metadata": {},
     "output_type": "execute_result"
    }
   ],
   "source": [
    "team, year"
   ]
  },
  {
   "cell_type": "code",
   "execution_count": 43,
   "metadata": {
    "scrolled": true
   },
   "outputs": [
    {
     "name": "stderr",
     "output_type": "stream",
     "text": [
      "W0923 15:50:01.512622 18616 training.py:504] Falling back from v2 loop because of error: Failed to find data adapter that can handle input: <class 'pandas.core.frame.DataFrame'>, <class 'NoneType'>\n"
     ]
    },
    {
     "name": "stdout",
     "output_type": "stream",
     "text": [
      "2016LG =======================================\n",
      "Model: \"sequential\"\n",
      "_________________________________________________________________\n",
      "Layer (type)                 Output Shape              Param #   \n",
      "=================================================================\n",
      "dense (Dense)                (None, 1024)              48128     \n",
      "_________________________________________________________________\n",
      "dense_1 (Dense)              (None, 1024)              1049600   \n",
      "_________________________________________________________________\n",
      "dense_2 (Dense)              (None, 1024)              1049600   \n",
      "_________________________________________________________________\n",
      "dense_3 (Dense)              (None, 1)                 1025      \n",
      "=================================================================\n",
      "Total params: 2,148,353\n",
      "Trainable params: 2,148,353\n",
      "Non-trainable params: 0\n",
      "_________________________________________________________________\n",
      "Train on 73 samples\n",
      "Epoch 1/100\n",
      "73/73 [==============================] - 1s 10ms/sample - loss: 338.3643 - mae: 2.3521\n",
      "Epoch 2/100\n",
      "73/73 [==============================] - 1s 9ms/sample - loss: 0.0014 - mae: 0.0303\n",
      "Epoch 3/100\n",
      "73/73 [==============================] - 1s 9ms/sample - loss: 8.5344e-04 - mae: 0.0233\n",
      "Epoch 4/100\n",
      "73/73 [==============================] - 1s 9ms/sample - loss: 9.7563e-04 - mae: 0.0255\n",
      "Epoch 5/100\n",
      "73/73 [==============================] - 1s 9ms/sample - loss: 5.4289e-04 - mae: 0.0190\n",
      "Epoch 6/100\n",
      "73/73 [==============================] - 1s 9ms/sample - loss: 5.7731e-04 - mae: 0.0195\n",
      "Epoch 7/100\n",
      "73/73 [==============================] - 1s 9ms/sample - loss: 4.8502e-04 - mae: 0.0184\n",
      "Epoch 8/100\n",
      "73/73 [==============================] - 1s 9ms/sample - loss: 4.1986e-04 - mae: 0.0171\n",
      "Epoch 9/100\n",
      "73/73 [==============================] - 1s 9ms/sample - loss: 1.6766e-04 - mae: 0.0105\n",
      "Epoch 10/100\n",
      "73/73 [==============================] - 1s 10ms/sample - loss: 5.5028e-04 - mae: 0.0177\n",
      "Epoch 11/100\n",
      "73/73 [==============================] - 1s 9ms/sample - loss: 3.4104e-04 - mae: 0.0145\n"
     ]
    },
    {
     "name": "stderr",
     "output_type": "stream",
     "text": [
      "W0923 15:50:09.290825 18616 training.py:504] Falling back from v2 loop because of error: Failed to find data adapter that can handle input: <class 'pandas.core.frame.DataFrame'>, <class 'NoneType'>\n"
     ]
    },
    {
     "name": "stdout",
     "output_type": "stream",
     "text": [
      "Epoch 00011: early stopping\n",
      "2016HH =======================================\n"
     ]
    },
    {
     "name": "stderr",
     "output_type": "stream",
     "text": [
      "W0923 15:50:09.523206 18616 training.py:504] Falling back from v2 loop because of error: Failed to find data adapter that can handle input: <class 'pandas.core.frame.DataFrame'>, <class 'NoneType'>\n"
     ]
    },
    {
     "name": "stdout",
     "output_type": "stream",
     "text": [
      "Model: \"sequential\"\n",
      "_________________________________________________________________\n",
      "Layer (type)                 Output Shape              Param #   \n",
      "=================================================================\n",
      "dense (Dense)                (None, 1024)              48128     \n",
      "_________________________________________________________________\n",
      "dense_1 (Dense)              (None, 1024)              1049600   \n",
      "_________________________________________________________________\n",
      "dense_2 (Dense)              (None, 1024)              1049600   \n",
      "_________________________________________________________________\n",
      "dense_3 (Dense)              (None, 1)                 1025      \n",
      "=================================================================\n",
      "Total params: 2,148,353\n",
      "Trainable params: 2,148,353\n",
      "Non-trainable params: 0\n",
      "_________________________________________________________________\n",
      "Train on 73 samples\n",
      "Epoch 1/100\n",
      "73/73 [==============================] - 1s 11ms/sample - loss: 214.6274 - mae: 1.9707\n",
      "Epoch 2/100\n",
      "73/73 [==============================] - 1s 9ms/sample - loss: 3.1501e-04 - mae: 0.0138\n",
      "Epoch 3/100\n",
      "73/73 [==============================] - 1s 10ms/sample - loss: 2.6804e-04 - mae: 0.0130\n",
      "Epoch 4/100\n",
      "73/73 [==============================] - 1s 10ms/sample - loss: 2.4442e-04 - mae: 0.0122\n",
      "Epoch 5/100\n",
      "73/73 [==============================] - 1s 9ms/sample - loss: 5.8793e-04 - mae: 0.0204\n",
      "Epoch 6/100\n",
      "73/73 [==============================] - 1s 9ms/sample - loss: 2.7463e-04 - mae: 0.0136\n"
     ]
    },
    {
     "name": "stderr",
     "output_type": "stream",
     "text": [
      "W0923 15:50:14.361268 18616 training.py:504] Falling back from v2 loop because of error: Failed to find data adapter that can handle input: <class 'pandas.core.frame.DataFrame'>, <class 'NoneType'>\n"
     ]
    },
    {
     "name": "stdout",
     "output_type": "stream",
     "text": [
      "Epoch 00006: early stopping\n",
      "2016NC =======================================\n"
     ]
    },
    {
     "name": "stderr",
     "output_type": "stream",
     "text": [
      "W0923 15:50:14.590656 18616 training.py:504] Falling back from v2 loop because of error: Failed to find data adapter that can handle input: <class 'pandas.core.frame.DataFrame'>, <class 'NoneType'>\n"
     ]
    },
    {
     "name": "stdout",
     "output_type": "stream",
     "text": [
      "Model: \"sequential\"\n",
      "_________________________________________________________________\n",
      "Layer (type)                 Output Shape              Param #   \n",
      "=================================================================\n",
      "dense (Dense)                (None, 1024)              48128     \n",
      "_________________________________________________________________\n",
      "dense_1 (Dense)              (None, 1024)              1049600   \n",
      "_________________________________________________________________\n",
      "dense_2 (Dense)              (None, 1024)              1049600   \n",
      "_________________________________________________________________\n",
      "dense_3 (Dense)              (None, 1)                 1025      \n",
      "=================================================================\n",
      "Total params: 2,148,353\n",
      "Trainable params: 2,148,353\n",
      "Non-trainable params: 0\n",
      "_________________________________________________________________\n",
      "Train on 73 samples\n",
      "Epoch 1/100\n",
      "73/73 [==============================] - 1s 10ms/sample - loss: 489.7416 - mae: 2.7899\n",
      "Epoch 2/100\n",
      "73/73 [==============================] - 1s 9ms/sample - loss: 7.9796e-04 - mae: 0.0230\n",
      "Epoch 3/100\n",
      "73/73 [==============================] - 1s 10ms/sample - loss: 0.0012 - mae: 0.0264\n",
      "Epoch 4/100\n",
      "73/73 [==============================] - 1s 9ms/sample - loss: 6.4065e-04 - mae: 0.0201\n",
      "Epoch 5/100\n",
      "73/73 [==============================] - 1s 9ms/sample - loss: 9.1111e-04 - mae: 0.0233\n",
      "Epoch 6/100\n",
      "73/73 [==============================] - 1s 8ms/sample - loss: 8.0473e-04 - mae: 0.0233\n"
     ]
    },
    {
     "name": "stderr",
     "output_type": "stream",
     "text": [
      "W0923 15:50:19.153456 18616 training.py:504] Falling back from v2 loop because of error: Failed to find data adapter that can handle input: <class 'pandas.core.frame.DataFrame'>, <class 'NoneType'>\n"
     ]
    },
    {
     "name": "stdout",
     "output_type": "stream",
     "text": [
      "Epoch 00006: early stopping\n",
      "2016HT =======================================\n"
     ]
    },
    {
     "name": "stderr",
     "output_type": "stream",
     "text": [
      "W0923 15:50:19.388826 18616 training.py:504] Falling back from v2 loop because of error: Failed to find data adapter that can handle input: <class 'pandas.core.frame.DataFrame'>, <class 'NoneType'>\n"
     ]
    },
    {
     "name": "stdout",
     "output_type": "stream",
     "text": [
      "Model: \"sequential\"\n",
      "_________________________________________________________________\n",
      "Layer (type)                 Output Shape              Param #   \n",
      "=================================================================\n",
      "dense (Dense)                (None, 1024)              48128     \n",
      "_________________________________________________________________\n",
      "dense_1 (Dense)              (None, 1024)              1049600   \n",
      "_________________________________________________________________\n",
      "dense_2 (Dense)              (None, 1024)              1049600   \n",
      "_________________________________________________________________\n",
      "dense_3 (Dense)              (None, 1)                 1025      \n",
      "=================================================================\n",
      "Total params: 2,148,353\n",
      "Trainable params: 2,148,353\n",
      "Non-trainable params: 0\n",
      "_________________________________________________________________\n",
      "Train on 73 samples\n",
      "Epoch 1/100\n",
      "73/73 [==============================] - 1s 10ms/sample - loss: 320.4365 - mae: 2.4047\n",
      "Epoch 2/100\n",
      "73/73 [==============================] - 1s 9ms/sample - loss: 0.0027 - mae: 0.0399\n",
      "Epoch 3/100\n",
      "73/73 [==============================] - 1s 9ms/sample - loss: 0.0018 - mae: 0.0324\n",
      "Epoch 4/100\n",
      "73/73 [==============================] - 1s 9ms/sample - loss: 0.0012 - mae: 0.0274\n",
      "Epoch 5/100\n",
      "73/73 [==============================] - 1s 10ms/sample - loss: 0.0018 - mae: 0.0337\n",
      "Epoch 6/100\n",
      "73/73 [==============================] - 1s 10ms/sample - loss: 0.0014 - mae: 0.0285\n"
     ]
    },
    {
     "name": "stderr",
     "output_type": "stream",
     "text": [
      "W0923 15:50:23.932678 18616 training.py:504] Falling back from v2 loop because of error: Failed to find data adapter that can handle input: <class 'pandas.core.frame.DataFrame'>, <class 'NoneType'>\n"
     ]
    },
    {
     "name": "stdout",
     "output_type": "stream",
     "text": [
      "Epoch 00006: early stopping\n",
      "2016SK =======================================\n"
     ]
    },
    {
     "name": "stderr",
     "output_type": "stream",
     "text": [
      "W0923 15:50:24.180020 18616 training.py:504] Falling back from v2 loop because of error: Failed to find data adapter that can handle input: <class 'pandas.core.frame.DataFrame'>, <class 'NoneType'>\n"
     ]
    },
    {
     "name": "stdout",
     "output_type": "stream",
     "text": [
      "Model: \"sequential\"\n",
      "_________________________________________________________________\n",
      "Layer (type)                 Output Shape              Param #   \n",
      "=================================================================\n",
      "dense (Dense)                (None, 1024)              48128     \n",
      "_________________________________________________________________\n",
      "dense_1 (Dense)              (None, 1024)              1049600   \n",
      "_________________________________________________________________\n",
      "dense_2 (Dense)              (None, 1024)              1049600   \n",
      "_________________________________________________________________\n",
      "dense_3 (Dense)              (None, 1)                 1025      \n",
      "=================================================================\n",
      "Total params: 2,148,353\n",
      "Trainable params: 2,148,353\n",
      "Non-trainable params: 0\n",
      "_________________________________________________________________\n",
      "Train on 73 samples\n",
      "Epoch 1/100\n",
      "73/73 [==============================] - 1s 10ms/sample - loss: 204.8492 - mae: 1.9379\n",
      "Epoch 2/100\n",
      "73/73 [==============================] - 1s 9ms/sample - loss: 0.0011 - mae: 0.0272\n",
      "Epoch 3/100\n",
      "73/73 [==============================] - 1s 9ms/sample - loss: 5.2332e-04 - mae: 0.0188\n",
      "Epoch 4/100\n",
      "73/73 [==============================] - 1s 9ms/sample - loss: 8.1061e-04 - mae: 0.0228\n",
      "Epoch 5/100\n",
      "73/73 [==============================] - 1s 9ms/sample - loss: 3.2976e-04 - mae: 0.0145\n",
      "Epoch 6/100\n",
      "73/73 [==============================] - 1s 8ms/sample - loss: 3.5935e-04 - mae: 0.0157\n",
      "Epoch 7/100\n",
      "73/73 [==============================] - 1s 9ms/sample - loss: 2.4550e-04 - mae: 0.0130\n",
      "Epoch 8/100\n",
      "73/73 [==============================] - 1s 10ms/sample - loss: 6.5720e-04 - mae: 0.0181\n",
      "Epoch 9/100\n",
      "73/73 [==============================] - 1s 10ms/sample - loss: 3.8106e-04 - mae: 0.0153\n"
     ]
    },
    {
     "name": "stderr",
     "output_type": "stream",
     "text": [
      "W0923 15:50:30.648720 18616 training.py:504] Falling back from v2 loop because of error: Failed to find data adapter that can handle input: <class 'pandas.core.frame.DataFrame'>, <class 'NoneType'>\n"
     ]
    },
    {
     "name": "stdout",
     "output_type": "stream",
     "text": [
      "Epoch 00009: early stopping\n",
      "2016KT =======================================\n"
     ]
    },
    {
     "name": "stderr",
     "output_type": "stream",
     "text": [
      "W0923 15:50:30.880105 18616 training.py:504] Falling back from v2 loop because of error: Failed to find data adapter that can handle input: <class 'pandas.core.frame.DataFrame'>, <class 'NoneType'>\n"
     ]
    },
    {
     "name": "stdout",
     "output_type": "stream",
     "text": [
      "Model: \"sequential\"\n",
      "_________________________________________________________________\n",
      "Layer (type)                 Output Shape              Param #   \n",
      "=================================================================\n",
      "dense (Dense)                (None, 1024)              48128     \n",
      "_________________________________________________________________\n",
      "dense_1 (Dense)              (None, 1024)              1049600   \n",
      "_________________________________________________________________\n",
      "dense_2 (Dense)              (None, 1024)              1049600   \n",
      "_________________________________________________________________\n",
      "dense_3 (Dense)              (None, 1)                 1025      \n",
      "=================================================================\n",
      "Total params: 2,148,353\n",
      "Trainable params: 2,148,353\n",
      "Non-trainable params: 0\n",
      "_________________________________________________________________\n",
      "Train on 73 samples\n",
      "Epoch 1/100\n",
      "73/73 [==============================] - 1s 10ms/sample - loss: 249.8937 - mae: 2.0299\n",
      "Epoch 2/100\n",
      "73/73 [==============================] - 1s 10ms/sample - loss: 0.0010 - mae: 0.0266\n",
      "Epoch 3/100\n",
      "73/73 [==============================] - 1s 10ms/sample - loss: 9.5318e-04 - mae: 0.0252\n",
      "Epoch 4/100\n",
      "73/73 [==============================] - 1s 10ms/sample - loss: 2.6930e-04 - mae: 0.0130\n",
      "Epoch 5/100\n",
      "73/73 [==============================] - 1s 10ms/sample - loss: 3.5947e-04 - mae: 0.0148\n",
      "Epoch 6/100\n",
      "73/73 [==============================] - 1s 11ms/sample - loss: 2.0345e-04 - mae: 0.0115\n",
      "Epoch 7/100\n",
      "73/73 [==============================] - 1s 11ms/sample - loss: 2.8365e-04 - mae: 0.0131\n",
      "Epoch 8/100\n",
      "73/73 [==============================] - 1s 10ms/sample - loss: 5.0573e-04 - mae: 0.0181\n"
     ]
    },
    {
     "name": "stderr",
     "output_type": "stream",
     "text": [
      "W0923 15:50:37.492422 18616 training.py:504] Falling back from v2 loop because of error: Failed to find data adapter that can handle input: <class 'pandas.core.frame.DataFrame'>, <class 'NoneType'>\n"
     ]
    },
    {
     "name": "stdout",
     "output_type": "stream",
     "text": [
      "Epoch 00008: early stopping\n",
      "2016WO =======================================\n",
      "Model: \"sequential\"\n",
      "_________________________________________________________________\n",
      "Layer (type)                 Output Shape              Param #   \n",
      "=================================================================\n",
      "dense (Dense)                (None, 1024)              48128     \n",
      "_________________________________________________________________\n",
      "dense_1 (Dense)              (None, 1024)              1049600   \n",
      "_________________________________________________________________\n",
      "dense_2 (Dense)              (None, 1024)              1049600   "
     ]
    },
    {
     "name": "stderr",
     "output_type": "stream",
     "text": [
      "W0923 15:50:37.759707 18616 training.py:504] Falling back from v2 loop because of error: Failed to find data adapter that can handle input: <class 'pandas.core.frame.DataFrame'>, <class 'NoneType'>\n"
     ]
    },
    {
     "name": "stdout",
     "output_type": "stream",
     "text": [
      "\n",
      "_________________________________________________________________\n",
      "dense_3 (Dense)              (None, 1)                 1025      \n",
      "=================================================================\n",
      "Total params: 2,148,353\n",
      "Trainable params: 2,148,353\n",
      "Non-trainable params: 0\n",
      "_________________________________________________________________\n",
      "Train on 73 samples\n",
      "Epoch 1/100\n",
      "73/73 [==============================] - 1s 9ms/sample - loss: 312.9447 - mae: 2.4241\n",
      "Epoch 2/100\n",
      "73/73 [==============================] - 1s 10ms/sample - loss: 0.0020 - mae: 0.0380\n",
      "Epoch 3/100\n",
      "73/73 [==============================] - 1s 9ms/sample - loss: 0.0017 - mae: 0.0333\n",
      "Epoch 4/100\n",
      "73/73 [==============================] - 1s 9ms/sample - loss: 9.2491e-04 - mae: 0.0244\n",
      "Epoch 5/100\n",
      "73/73 [==============================] - 1s 8ms/sample - loss: 4.6332e-04 - mae: 0.0177\n",
      "Epoch 6/100\n",
      "73/73 [==============================] - 1s 8ms/sample - loss: 0.0014 - mae: 0.0260\n",
      "Epoch 7/100\n",
      "73/73 [==============================] - 1s 10ms/sample - loss: 8.4585e-04 - mae: 0.0237\n"
     ]
    },
    {
     "name": "stderr",
     "output_type": "stream",
     "text": [
      "W0923 15:50:42.910934 18616 training.py:504] Falling back from v2 loop because of error: Failed to find data adapter that can handle input: <class 'pandas.core.frame.DataFrame'>, <class 'NoneType'>\n"
     ]
    },
    {
     "name": "stdout",
     "output_type": "stream",
     "text": [
      "Epoch 00007: early stopping\n",
      "2016LT =======================================\n"
     ]
    },
    {
     "name": "stderr",
     "output_type": "stream",
     "text": [
      "W0923 15:50:43.295904 18616 training.py:504] Falling back from v2 loop because of error: Failed to find data adapter that can handle input: <class 'pandas.core.frame.DataFrame'>, <class 'NoneType'>\n"
     ]
    },
    {
     "name": "stdout",
     "output_type": "stream",
     "text": [
      "Model: \"sequential\"\n",
      "_________________________________________________________________\n",
      "Layer (type)                 Output Shape              Param #   \n",
      "=================================================================\n",
      "dense (Dense)                (None, 1024)              48128     \n",
      "_________________________________________________________________\n",
      "dense_1 (Dense)              (None, 1024)              1049600   \n",
      "_________________________________________________________________\n",
      "dense_2 (Dense)              (None, 1024)              1049600   \n",
      "_________________________________________________________________\n",
      "dense_3 (Dense)              (None, 1)                 1025      \n",
      "=================================================================\n",
      "Total params: 2,148,353\n",
      "Trainable params: 2,148,353\n",
      "Non-trainable params: 0\n",
      "_________________________________________________________________\n",
      "Train on 73 samples\n",
      "Epoch 1/100\n",
      "73/73 [==============================] - 1s 12ms/sample - loss: 312.7635 - mae: 2.4252\n",
      "Epoch 2/100\n",
      "73/73 [==============================] - 1s 9ms/sample - loss: 0.0013 - mae: 0.0294\n",
      "Epoch 3/100\n",
      "73/73 [==============================] - 1s 10ms/sample - loss: 7.6986e-04 - mae: 0.0218\n",
      "Epoch 4/100\n",
      "73/73 [==============================] - 1s 10ms/sample - loss: 6.5341e-04 - mae: 0.0200\n",
      "Epoch 5/100\n",
      "73/73 [==============================] - 1s 9ms/sample - loss: 8.7789e-04 - mae: 0.0232\n",
      "Epoch 6/100\n",
      "73/73 [==============================] - 1s 9ms/sample - loss: 0.0010 - mae: 0.0259\n"
     ]
    },
    {
     "name": "stderr",
     "output_type": "stream",
     "text": [
      "W0923 15:50:48.304514 18616 training.py:504] Falling back from v2 loop because of error: Failed to find data adapter that can handle input: <class 'pandas.core.frame.DataFrame'>, <class 'NoneType'>\n"
     ]
    },
    {
     "name": "stdout",
     "output_type": "stream",
     "text": [
      "Epoch 00006: early stopping\n",
      "2016SS =======================================\n",
      "Model: \"sequential\""
     ]
    },
    {
     "name": "stderr",
     "output_type": "stream",
     "text": [
      "W0923 15:50:48.584764 18616 training.py:504] Falling back from v2 loop because of error: Failed to find data adapter that can handle input: <class 'pandas.core.frame.DataFrame'>, <class 'NoneType'>\n"
     ]
    },
    {
     "name": "stdout",
     "output_type": "stream",
     "text": [
      "\n",
      "_________________________________________________________________\n",
      "Layer (type)                 Output Shape              Param #   \n",
      "=================================================================\n",
      "dense (Dense)                (None, 1024)              48128     \n",
      "_________________________________________________________________\n",
      "dense_1 (Dense)              (None, 1024)              1049600   \n",
      "_________________________________________________________________\n",
      "dense_2 (Dense)              (None, 1024)              1049600   \n",
      "_________________________________________________________________\n",
      "dense_3 (Dense)              (None, 1)                 1025      \n",
      "=================================================================\n",
      "Total params: 2,148,353\n",
      "Trainable params: 2,148,353\n",
      "Non-trainable params: 0\n",
      "_________________________________________________________________\n",
      "Train on 73 samples\n",
      "Epoch 1/100\n",
      "73/73 [==============================] - 1s 12ms/sample - loss: 400.4881 - mae: 2.5601\n",
      "Epoch 2/100\n",
      "73/73 [==============================] - 1s 9ms/sample - loss: 0.0017 - mae: 0.0314\n",
      "Epoch 3/100\n",
      "73/73 [==============================] - 1s 9ms/sample - loss: 0.0021 - mae: 0.0368\n",
      "Epoch 4/100\n",
      "73/73 [==============================] - 1s 9ms/sample - loss: 9.9868e-04 - mae: 0.0258\n",
      "Epoch 5/100\n",
      "73/73 [==============================] - 1s 9ms/sample - loss: 8.6239e-04 - mae: 0.0239\n",
      "Epoch 6/100\n",
      "73/73 [==============================] - 1s 10ms/sample - loss: 8.9239e-04 - mae: 0.0246\n",
      "Epoch 7/100\n",
      "73/73 [==============================] - 1s 9ms/sample - loss: 0.0014 - mae: 0.0308\n"
     ]
    },
    {
     "name": "stderr",
     "output_type": "stream",
     "text": [
      "W0923 15:50:54.451145 18616 training.py:504] Falling back from v2 loop because of error: Failed to find data adapter that can handle input: <class 'pandas.core.frame.DataFrame'>, <class 'NoneType'>\n"
     ]
    },
    {
     "name": "stdout",
     "output_type": "stream",
     "text": [
      "Epoch 00007: early stopping\n",
      "2016OB =======================================\n"
     ]
    },
    {
     "name": "stderr",
     "output_type": "stream",
     "text": [
      "W0923 15:50:54.772288 18616 training.py:504] Falling back from v2 loop because of error: Failed to find data adapter that can handle input: <class 'pandas.core.frame.DataFrame'>, <class 'NoneType'>\n"
     ]
    },
    {
     "name": "stdout",
     "output_type": "stream",
     "text": [
      "Model: \"sequential\"\n",
      "_________________________________________________________________\n",
      "Layer (type)                 Output Shape              Param #   \n",
      "=================================================================\n",
      "dense (Dense)                (None, 1024)              48128     \n",
      "_________________________________________________________________\n",
      "dense_1 (Dense)              (None, 1024)              1049600   \n",
      "_________________________________________________________________\n",
      "dense_2 (Dense)              (None, 1024)              1049600   \n",
      "_________________________________________________________________\n",
      "dense_3 (Dense)              (None, 1)                 1025      \n",
      "=================================================================\n",
      "Total params: 2,148,353\n",
      "Trainable params: 2,148,353\n",
      "Non-trainable params: 0\n",
      "_________________________________________________________________\n",
      "Train on 73 samples\n",
      "Epoch 1/100\n",
      "73/73 [==============================] - 1s 11ms/sample - loss: 373.7259 - mae: 2.5391\n",
      "Epoch 2/100\n",
      "73/73 [==============================] - 1s 9ms/sample - loss: 0.0020 - mae: 0.0368\n",
      "Epoch 3/100\n",
      "73/73 [==============================] - 1s 9ms/sample - loss: 0.0026 - mae: 0.0408\n",
      "Epoch 4/100\n",
      "73/73 [==============================] - 1s 9ms/sample - loss: 0.0017 - mae: 0.0329\n",
      "Epoch 5/100\n",
      "73/73 [==============================] - 1s 9ms/sample - loss: 8.6143e-04 - mae: 0.0228\n",
      "Epoch 6/100\n",
      "73/73 [==============================] - 1s 8ms/sample - loss: 8.4443e-04 - mae: 0.0234\n",
      "Epoch 7/100\n",
      "73/73 [==============================] - 1s 12ms/sample - loss: 4.8395e-04 - mae: 0.0173\n",
      "Epoch 8/100\n",
      "73/73 [==============================] - 1s 10ms/sample - loss: 5.8260e-04 - mae: 0.0191\n",
      "Epoch 9/100\n",
      "73/73 [==============================] - ETA: 0s - loss: 5.9976e-04 - mae: 0.019 - 1s 11ms/sample - loss: 6.3583e-04 - mae: 0.0201\n"
     ]
    },
    {
     "name": "stderr",
     "output_type": "stream",
     "text": [
      "W0923 15:51:02.182984 18616 training.py:504] Falling back from v2 loop because of error: Failed to find data adapter that can handle input: <class 'pandas.core.frame.DataFrame'>, <class 'NoneType'>\n"
     ]
    },
    {
     "name": "stdout",
     "output_type": "stream",
     "text": [
      "Epoch 00009: early stopping\n",
      "2017LG =======================================\n",
      "Model: \"sequential\"\n",
      "_________________________________________________________________\n",
      "Layer (type)                 Output Shape              Param #   \n",
      "=================================================================\n",
      "dense (Dense)                (None, 1024)              48128     \n",
      "_________________________________________________________________\n",
      "dense_1 (Dense)              (None, 1024)              1049600   \n",
      "_________________________________________________________________\n",
      "dense_2 (Dense)              (None, 1024)              1049600   "
     ]
    },
    {
     "name": "stderr",
     "output_type": "stream",
     "text": [
      "W0923 15:51:02.494152 18616 training.py:504] Falling back from v2 loop because of error: Failed to find data adapter that can handle input: <class 'pandas.core.frame.DataFrame'>, <class 'NoneType'>\n"
     ]
    },
    {
     "name": "stdout",
     "output_type": "stream",
     "text": [
      "\n",
      "_________________________________________________________________\n",
      "dense_3 (Dense)              (None, 1)                 1025      \n",
      "=================================================================\n",
      "Total params: 2,148,353\n",
      "Trainable params: 2,148,353\n",
      "Non-trainable params: 0\n",
      "_________________________________________________________________\n",
      "Train on 73 samples\n",
      "Epoch 1/100\n",
      "73/73 [==============================] - 1s 10ms/sample - loss: 357.4933 - mae: 2.4893\n",
      "Epoch 2/100\n",
      "73/73 [==============================] - 1s 9ms/sample - loss: 0.0079 - mae: 0.0708\n",
      "Epoch 3/100\n",
      "73/73 [==============================] - 1s 9ms/sample - loss: 0.0045 - mae: 0.0539 0s - loss: 0.0127 - \n",
      "Epoch 4/100\n",
      "73/73 [==============================] - 1s 9ms/sample - loss: 0.0020 - mae: 0.0340\n",
      "Epoch 5/100\n",
      "73/73 [==============================] - 1s 9ms/sample - loss: 9.0322e-04 - mae: 0.0237\n",
      "Epoch 6/100\n",
      "73/73 [==============================] - 1s 9ms/sample - loss: 0.0010 - mae: 0.0273\n",
      "Epoch 7/100\n",
      "73/73 [==============================] - 1s 11ms/sample - loss: 3.8450e-04 - mae: 0.0155\n",
      "Epoch 8/100\n",
      "73/73 [==============================] - ETA: 0s - loss: 3.6189e-04 - mae: 0.0149- ETA: 0s - loss: 5.0154e-04 - - 1s 12ms/sample - loss: 3.6649e-04 - mae: 0.0151\n",
      "Epoch 9/100\n",
      "73/73 [==============================] - 1s 10ms/sample - loss: 2.5374e-04 - mae: 0.0132\n",
      "Epoch 10/100\n",
      "73/73 [==============================] - 1s 9ms/sample - loss: 2.2632e-04 - mae: 0.0121\n",
      "Epoch 11/100\n",
      "73/73 [==============================] - 1s 9ms/sample - loss: 2.8069e-04 - mae: 0.0143\n",
      "Epoch 12/100\n",
      "73/73 [==============================] - 1s 10ms/sample - loss: 2.9351e-04 - mae: 0.0137\n"
     ]
    },
    {
     "name": "stderr",
     "output_type": "stream",
     "text": [
      "W0923 15:51:11.422280 18616 training.py:504] Falling back from v2 loop because of error: Failed to find data adapter that can handle input: <class 'pandas.core.frame.DataFrame'>, <class 'NoneType'>\n"
     ]
    },
    {
     "name": "stdout",
     "output_type": "stream",
     "text": [
      "Epoch 00012: early stopping\n",
      "2017HH =======================================\n"
     ]
    },
    {
     "name": "stderr",
     "output_type": "stream",
     "text": [
      "W0923 15:51:11.676602 18616 training.py:504] Falling back from v2 loop because of error: Failed to find data adapter that can handle input: <class 'pandas.core.frame.DataFrame'>, <class 'NoneType'>\n"
     ]
    },
    {
     "name": "stdout",
     "output_type": "stream",
     "text": [
      "Model: \"sequential\"\n",
      "_________________________________________________________________\n",
      "Layer (type)                 Output Shape              Param #   \n",
      "=================================================================\n",
      "dense (Dense)                (None, 1024)              48128     \n",
      "_________________________________________________________________\n",
      "dense_1 (Dense)              (None, 1024)              1049600   \n",
      "_________________________________________________________________\n",
      "dense_2 (Dense)              (None, 1024)              1049600   \n",
      "_________________________________________________________________\n",
      "dense_3 (Dense)              (None, 1)                 1025      \n",
      "=================================================================\n",
      "Total params: 2,148,353\n",
      "Trainable params: 2,148,353\n",
      "Non-trainable params: 0\n",
      "_________________________________________________________________\n",
      "Train on 73 samples\n",
      "Epoch 1/100\n",
      "73/73 [==============================] - 1s 10ms/sample - loss: 349.7419 - mae: 2.4236\n",
      "Epoch 2/100\n",
      "73/73 [==============================] - 1s 9ms/sample - loss: 0.0010 - mae: 0.0258\n",
      "Epoch 3/100\n",
      "73/73 [==============================] - 1s 10ms/sample - loss: 4.4654e-04 - mae: 0.0175\n",
      "Epoch 4/100\n",
      "73/73 [==============================] - 1s 12ms/sample - loss: 5.6360e-04 - mae: 0.0177\n",
      "Epoch 5/100\n",
      "73/73 [==============================] - 1s 11ms/sample - loss: 3.3959e-04 - mae: 0.0145\n",
      "Epoch 6/100\n",
      "73/73 [==============================] - 1s 9ms/sample - loss: 5.2091e-04 - mae: 0.0177\n",
      "Epoch 7/100\n",
      "73/73 [==============================] - 1s 9ms/sample - loss: 2.4187e-04 - mae: 0.0128\n",
      "Epoch 8/100\n",
      "73/73 [==============================] - 1s 9ms/sample - loss: 3.2487e-04 - mae: 0.0138\n",
      "Epoch 9/100\n",
      "73/73 [==============================] - 1s 9ms/sample - loss: 2.6532e-04 - mae: 0.0139\n"
     ]
    },
    {
     "name": "stderr",
     "output_type": "stream",
     "text": [
      "W0923 15:51:18.685464 18616 training.py:504] Falling back from v2 loop because of error: Failed to find data adapter that can handle input: <class 'pandas.core.frame.DataFrame'>, <class 'NoneType'>\n"
     ]
    },
    {
     "name": "stdout",
     "output_type": "stream",
     "text": [
      "Epoch 00009: early stopping\n",
      "2017NC =======================================\n"
     ]
    },
    {
     "name": "stderr",
     "output_type": "stream",
     "text": [
      "W0923 15:51:18.908866 18616 training.py:504] Falling back from v2 loop because of error: Failed to find data adapter that can handle input: <class 'pandas.core.frame.DataFrame'>, <class 'NoneType'>\n"
     ]
    },
    {
     "name": "stdout",
     "output_type": "stream",
     "text": [
      "Model: \"sequential\"\n",
      "_________________________________________________________________\n",
      "Layer (type)                 Output Shape              Param #   \n",
      "=================================================================\n",
      "dense (Dense)                (None, 1024)              48128     \n",
      "_________________________________________________________________\n",
      "dense_1 (Dense)              (None, 1024)              1049600   \n",
      "_________________________________________________________________\n",
      "dense_2 (Dense)              (None, 1024)              1049600   \n",
      "_________________________________________________________________\n",
      "dense_3 (Dense)              (None, 1)                 1025      \n",
      "=================================================================\n",
      "Total params: 2,148,353\n",
      "Trainable params: 2,148,353\n",
      "Non-trainable params: 0\n",
      "_________________________________________________________________\n",
      "Train on 73 samples\n",
      "Epoch 1/100\n",
      "73/73 [==============================] - 1s 10ms/sample - loss: 305.1564 - mae: 2.2802\n",
      "Epoch 2/100\n",
      "73/73 [==============================] - 1s 9ms/sample - loss: 0.0018 - mae: 0.0336\n",
      "Epoch 3/100\n",
      "73/73 [==============================] - 1s 10ms/sample - loss: 8.5600e-04 - mae: 0.0245\n",
      "Epoch 4/100\n",
      "73/73 [==============================] - 1s 10ms/sample - loss: 7.6191e-04 - mae: 0.02090s - loss: 7.1145e-04 -\n",
      "Epoch 5/100\n",
      "73/73 [==============================] - 1s 10ms/sample - loss: 9.3742e-04 - mae: 0.0246\n",
      "Epoch 6/100\n",
      "73/73 [==============================] - 1s 9ms/sample - loss: 9.8369e-04 - mae: 0.0252\n"
     ]
    },
    {
     "name": "stderr",
     "output_type": "stream",
     "text": [
      "W0923 15:51:23.753933 18616 training.py:504] Falling back from v2 loop because of error: Failed to find data adapter that can handle input: <class 'pandas.core.frame.DataFrame'>, <class 'NoneType'>\n"
     ]
    },
    {
     "name": "stdout",
     "output_type": "stream",
     "text": [
      "Epoch 00006: early stopping\n",
      "2017HT =======================================\n"
     ]
    },
    {
     "name": "stderr",
     "output_type": "stream",
     "text": [
      "W0923 15:51:23.980328 18616 training.py:504] Falling back from v2 loop because of error: Failed to find data adapter that can handle input: <class 'pandas.core.frame.DataFrame'>, <class 'NoneType'>\n"
     ]
    },
    {
     "name": "stdout",
     "output_type": "stream",
     "text": [
      "Model: \"sequential\"\n",
      "_________________________________________________________________\n",
      "Layer (type)                 Output Shape              Param #   \n",
      "=================================================================\n",
      "dense (Dense)                (None, 1024)              48128     \n",
      "_________________________________________________________________\n",
      "dense_1 (Dense)              (None, 1024)              1049600   \n",
      "_________________________________________________________________\n",
      "dense_2 (Dense)              (None, 1024)              1049600   \n",
      "_________________________________________________________________\n",
      "dense_3 (Dense)              (None, 1)                 1025      \n",
      "=================================================================\n",
      "Total params: 2,148,353\n",
      "Trainable params: 2,148,353\n",
      "Non-trainable params: 0\n",
      "_________________________________________________________________\n",
      "Train on 73 samples\n",
      "Epoch 1/100\n",
      "73/73 [==============================] - 1s 10ms/sample - loss: 541.9753 - mae: 3.1985\n",
      "Epoch 2/100\n",
      "73/73 [==============================] - 1s 9ms/sample - loss: 0.0049 - mae: 0.0531\n",
      "Epoch 3/100\n",
      "73/73 [==============================] - 1s 9ms/sample - loss: 0.0031 - mae: 0.0428\n",
      "Epoch 4/100\n",
      "73/73 [==============================] - 1s 9ms/sample - loss: 0.0031 - mae: 0.0451\n",
      "Epoch 5/100\n",
      "73/73 [==============================] - 1s 10ms/sample - loss: 0.0039 - mae: 0.0491\n"
     ]
    },
    {
     "name": "stderr",
     "output_type": "stream",
     "text": [
      "W0923 15:51:27.791140 18616 training.py:504] Falling back from v2 loop because of error: Failed to find data adapter that can handle input: <class 'pandas.core.frame.DataFrame'>, <class 'NoneType'>\n"
     ]
    },
    {
     "name": "stdout",
     "output_type": "stream",
     "text": [
      "Epoch 00005: early stopping\n",
      "2017SK =======================================\n"
     ]
    },
    {
     "name": "stderr",
     "output_type": "stream",
     "text": [
      "W0923 15:51:28.140206 18616 training.py:504] Falling back from v2 loop because of error: Failed to find data adapter that can handle input: <class 'pandas.core.frame.DataFrame'>, <class 'NoneType'>\n"
     ]
    },
    {
     "name": "stdout",
     "output_type": "stream",
     "text": [
      "Model: \"sequential\"\n",
      "_________________________________________________________________\n",
      "Layer (type)                 Output Shape              Param #   \n",
      "=================================================================\n",
      "dense (Dense)                (None, 1024)              48128     \n",
      "_________________________________________________________________\n",
      "dense_1 (Dense)              (None, 1024)              1049600   \n",
      "_________________________________________________________________\n",
      "dense_2 (Dense)              (None, 1024)              1049600   \n",
      "_________________________________________________________________\n",
      "dense_3 (Dense)              (None, 1)                 1025      \n",
      "=================================================================\n",
      "Total params: 2,148,353\n",
      "Trainable params: 2,148,353\n",
      "Non-trainable params: 0\n",
      "_________________________________________________________________\n",
      "Train on 73 samples\n",
      "Epoch 1/100\n",
      "73/73 [==============================] - 1s 9ms/sample - loss: 225.3514 - mae: 2.0643\n",
      "Epoch 2/100\n",
      "73/73 [==============================] - 1s 8ms/sample - loss: 0.0011 - mae: 0.0270\n",
      "Epoch 3/100\n",
      "73/73 [==============================] - 1s 9ms/sample - loss: 4.2482e-04 - mae: 0.0168\n",
      "Epoch 4/100\n",
      "73/73 [==============================] - 1s 9ms/sample - loss: 4.8783e-04 - mae: 0.0176\n",
      "Epoch 5/100\n",
      "73/73 [==============================] - 1s 9ms/sample - loss: 4.1851e-04 - mae: 0.0165\n",
      "Epoch 6/100\n",
      "73/73 [==============================] - 1s 8ms/sample - loss: 4.7451e-04 - mae: 0.0180\n",
      "Epoch 7/100\n",
      "73/73 [==============================] - 1s 9ms/sample - loss: 4.7942e-04 - mae: 0.0180\n"
     ]
    },
    {
     "name": "stderr",
     "output_type": "stream",
     "text": [
      "W0923 15:51:33.293427 18616 training.py:504] Falling back from v2 loop because of error: Failed to find data adapter that can handle input: <class 'pandas.core.frame.DataFrame'>, <class 'NoneType'>\n"
     ]
    },
    {
     "name": "stdout",
     "output_type": "stream",
     "text": [
      "Epoch 00007: early stopping\n",
      "2017KT =======================================\n"
     ]
    },
    {
     "name": "stderr",
     "output_type": "stream",
     "text": [
      "W0923 15:51:33.507887 18616 training.py:504] Falling back from v2 loop because of error: Failed to find data adapter that can handle input: <class 'pandas.core.frame.DataFrame'>, <class 'NoneType'>\n"
     ]
    },
    {
     "name": "stdout",
     "output_type": "stream",
     "text": [
      "Model: \"sequential\"\n",
      "_________________________________________________________________\n",
      "Layer (type)                 Output Shape              Param #   \n",
      "=================================================================\n",
      "dense (Dense)                (None, 1024)              48128     \n",
      "_________________________________________________________________\n",
      "dense_1 (Dense)              (None, 1024)              1049600   \n",
      "_________________________________________________________________\n",
      "dense_2 (Dense)              (None, 1024)              1049600   \n",
      "_________________________________________________________________\n",
      "dense_3 (Dense)              (None, 1)                 1025      \n",
      "=================================================================\n",
      "Total params: 2,148,353\n",
      "Trainable params: 2,148,353\n",
      "Non-trainable params: 0\n",
      "_________________________________________________________________\n",
      "Train on 73 samples\n",
      "Epoch 1/100\n",
      "73/73 [==============================] - 1s 10ms/sample - loss: 339.1250 - mae: 2.4696\n",
      "Epoch 2/100\n",
      "73/73 [==============================] - 1s 9ms/sample - loss: 0.0073 - mae: 0.0657\n",
      "Epoch 3/100\n",
      "73/73 [==============================] - 1s 9ms/sample - loss: 0.0016 - mae: 0.0326\n",
      "Epoch 4/100\n",
      "73/73 [==============================] - 1s 10ms/sample - loss: 9.7305e-04 - mae: 0.0245\n",
      "Epoch 5/100\n",
      "73/73 [==============================] - 1s 9ms/sample - loss: 8.2521e-04 - mae: 0.0244- loss: 0.0011 - ma\n",
      "Epoch 6/100\n",
      "73/73 [==============================] - 1s 9ms/sample - loss: 4.7257e-04 - mae: 0.0175\n",
      "Epoch 7/100\n",
      "73/73 [==============================] - 1s 9ms/sample - loss: 3.0976e-04 - mae: 0.0141\n",
      "Epoch 8/100\n",
      "73/73 [==============================] - 1s 11ms/sample - loss: 4.0944e-04 - mae: 0.0152\n",
      "Epoch 9/100\n",
      "73/73 [==============================] - 1s 12ms/sample - loss: 4.8016e-04 - mae: 0.0177\n"
     ]
    },
    {
     "name": "stderr",
     "output_type": "stream",
     "text": [
      "W0923 15:51:41.012921 18616 training.py:504] Falling back from v2 loop because of error: Failed to find data adapter that can handle input: <class 'pandas.core.frame.DataFrame'>, <class 'NoneType'>\n"
     ]
    },
    {
     "name": "stdout",
     "output_type": "stream",
     "text": [
      "Epoch 00009: early stopping\n",
      "2017WO =======================================\n"
     ]
    },
    {
     "name": "stderr",
     "output_type": "stream",
     "text": [
      "W0923 15:51:41.330074 18616 training.py:504] Falling back from v2 loop because of error: Failed to find data adapter that can handle input: <class 'pandas.core.frame.DataFrame'>, <class 'NoneType'>\n"
     ]
    },
    {
     "name": "stdout",
     "output_type": "stream",
     "text": [
      "Model: \"sequential\"\n",
      "_________________________________________________________________\n",
      "Layer (type)                 Output Shape              Param #   \n",
      "=================================================================\n",
      "dense (Dense)                (None, 1024)              48128     \n",
      "_________________________________________________________________\n",
      "dense_1 (Dense)              (None, 1024)              1049600   \n",
      "_________________________________________________________________\n",
      "dense_2 (Dense)              (None, 1024)              1049600   \n",
      "_________________________________________________________________\n",
      "dense_3 (Dense)              (None, 1)                 1025      \n",
      "=================================================================\n",
      "Total params: 2,148,353\n",
      "Trainable params: 2,148,353\n",
      "Non-trainable params: 0\n",
      "_________________________________________________________________\n",
      "Train on 73 samples\n",
      "Epoch 1/100\n",
      "73/73 [==============================] - 1s 10ms/sample - loss: 220.0027 - mae: 2.0350\n",
      "Epoch 2/100\n",
      "73/73 [==============================] - 1s 9ms/sample - loss: 0.0024 - mae: 0.0424\n",
      "Epoch 3/100\n",
      "73/73 [==============================] - 1s 9ms/sample - loss: 0.0018 - mae: 0.0346\n",
      "Epoch 4/100\n",
      "73/73 [==============================] - 1s 9ms/sample - loss: 0.0014 - mae: 0.0305\n",
      "Epoch 5/100\n",
      "73/73 [==============================] - 1s 9ms/sample - loss: 8.9812e-04 - mae: 0.0246\n",
      "Epoch 6/100\n",
      "73/73 [==============================] - 1s 8ms/sample - loss: 0.0013 - mae: 0.0291\n",
      "Epoch 7/100\n",
      "73/73 [==============================] - 1s 9ms/sample - loss: 8.0505e-04 - mae: 0.0238\n",
      "Epoch 8/100\n",
      "73/73 [==============================] - 1s 11ms/sample - loss: 5.3828e-04 - mae: 0.0186\n",
      "Epoch 9/100\n",
      "73/73 [==============================] - 1s 10ms/sample - loss: 5.1723e-04 - mae: 0.0183\n",
      "Epoch 10/100\n",
      "73/73 [==============================] - 1s 10ms/sample - loss: 5.1265e-04 - mae: 0.0182\n",
      "Epoch 11/100\n",
      "73/73 [==============================] - 1s 9ms/sample - loss: 5.8715e-04 - mae: 0.0199\n",
      "Epoch 12/100\n",
      "73/73 [==============================] - 1s 10ms/sample - loss: 2.7322e-04 - mae: 0.0131\n",
      "Epoch 13/100\n",
      "73/73 [==============================] - 1s 10ms/sample - loss: 2.9176e-04 - mae: 0.0136\n",
      "Epoch 14/100\n",
      "73/73 [==============================] - 1s 9ms/sample - loss: 2.9057e-04 - mae: 0.0137\n"
     ]
    },
    {
     "name": "stderr",
     "output_type": "stream",
     "text": [
      "W0923 15:51:51.313381 18616 training.py:504] Falling back from v2 loop because of error: Failed to find data adapter that can handle input: <class 'pandas.core.frame.DataFrame'>, <class 'NoneType'>\n"
     ]
    },
    {
     "name": "stdout",
     "output_type": "stream",
     "text": [
      "Epoch 00014: early stopping\n",
      "2017LT =======================================\n",
      "Model: \"sequential\""
     ]
    },
    {
     "name": "stderr",
     "output_type": "stream",
     "text": [
      "W0923 15:51:51.514842 18616 training.py:504] Falling back from v2 loop because of error: Failed to find data adapter that can handle input: <class 'pandas.core.frame.DataFrame'>, <class 'NoneType'>\n"
     ]
    },
    {
     "name": "stdout",
     "output_type": "stream",
     "text": [
      "\n",
      "_________________________________________________________________\n",
      "Layer (type)                 Output Shape              Param #   \n",
      "=================================================================\n",
      "dense (Dense)                (None, 1024)              48128     \n",
      "_________________________________________________________________\n",
      "dense_1 (Dense)              (None, 1024)              1049600   \n",
      "_________________________________________________________________\n",
      "dense_2 (Dense)              (None, 1024)              1049600   \n",
      "_________________________________________________________________\n",
      "dense_3 (Dense)              (None, 1)                 1025      \n",
      "=================================================================\n",
      "Total params: 2,148,353\n",
      "Trainable params: 2,148,353\n",
      "Non-trainable params: 0\n",
      "_________________________________________________________________\n",
      "Train on 73 samples\n",
      "Epoch 1/100\n",
      "73/73 [==============================] - 1s 10ms/sample - loss: 312.1191 - mae: 2.3075\n",
      "Epoch 2/100\n",
      "73/73 [==============================] - 1s 9ms/sample - loss: 0.0026 - mae: 0.0406\n",
      "Epoch 3/100\n",
      "73/73 [==============================] - 1s 10ms/sample - loss: 9.2753e-04 - mae: 0.0261\n",
      "Epoch 4/100\n",
      "73/73 [==============================] - 1s 11ms/sample - loss: 9.2283e-04 - mae: 0.0253\n",
      "Epoch 5/100\n",
      "73/73 [==============================] - 1s 8ms/sample - loss: 3.5951e-04 - mae: 0.0148\n",
      "Epoch 6/100\n",
      "73/73 [==============================] - 1s 9ms/sample - loss: 2.4440e-04 - mae: 0.0122\n",
      "Epoch 7/100\n",
      "73/73 [==============================] - 1s 9ms/sample - loss: 4.8796e-04 - mae: 0.0179\n",
      "Epoch 8/100\n",
      "73/73 [==============================] - 1s 9ms/sample - loss: 3.9621e-04 - mae: 0.0167\n"
     ]
    },
    {
     "name": "stderr",
     "output_type": "stream",
     "text": [
      "W0923 15:51:57.419054 18616 training.py:504] Falling back from v2 loop because of error: Failed to find data adapter that can handle input: <class 'pandas.core.frame.DataFrame'>, <class 'NoneType'>\n"
     ]
    },
    {
     "name": "stdout",
     "output_type": "stream",
     "text": [
      "Epoch 00008: early stopping\n",
      "2017SS =======================================\n"
     ]
    },
    {
     "name": "stderr",
     "output_type": "stream",
     "text": [
      "W0923 15:51:57.674373 18616 training.py:504] Falling back from v2 loop because of error: Failed to find data adapter that can handle input: <class 'pandas.core.frame.DataFrame'>, <class 'NoneType'>\n"
     ]
    },
    {
     "name": "stdout",
     "output_type": "stream",
     "text": [
      "Model: \"sequential\"\n",
      "_________________________________________________________________\n",
      "Layer (type)                 Output Shape              Param #   \n",
      "=================================================================\n",
      "dense (Dense)                (None, 1024)              48128     \n",
      "_________________________________________________________________\n",
      "dense_1 (Dense)              (None, 1024)              1049600   \n",
      "_________________________________________________________________\n",
      "dense_2 (Dense)              (None, 1024)              1049600   \n",
      "_________________________________________________________________\n",
      "dense_3 (Dense)              (None, 1)                 1025      \n",
      "=================================================================\n",
      "Total params: 2,148,353\n",
      "Trainable params: 2,148,353\n",
      "Non-trainable params: 0\n",
      "_________________________________________________________________\n",
      "Train on 73 samples\n",
      "Epoch 1/100\n",
      "73/73 [==============================] - 1s 9ms/sample - loss: 215.9932 - mae: 1.9279\n",
      "Epoch 2/100\n",
      "73/73 [==============================] - 1s 9ms/sample - loss: 5.4953e-04 - mae: 0.0187\n",
      "Epoch 3/100\n",
      "73/73 [==============================] - 1s 10ms/sample - loss: 3.6040e-04 - mae: 0.0155\n",
      "Epoch 4/100\n",
      "73/73 [==============================] - 1s 11ms/sample - loss: 4.3530e-04 - mae: 0.01730s - loss: 2.1550e-04 \n",
      "Epoch 5/100\n",
      "73/73 [==============================] - 1s 12ms/sample - loss: 6.8929e-04 - mae: 0.0188\n"
     ]
    },
    {
     "name": "stderr",
     "output_type": "stream",
     "text": [
      "W0923 15:52:01.927999 18616 training.py:504] Falling back from v2 loop because of error: Failed to find data adapter that can handle input: <class 'pandas.core.frame.DataFrame'>, <class 'NoneType'>\n"
     ]
    },
    {
     "name": "stdout",
     "output_type": "stream",
     "text": [
      "Epoch 00005: early stopping\n",
      "2017OB =======================================\n"
     ]
    },
    {
     "name": "stderr",
     "output_type": "stream",
     "text": [
      "W0923 15:52:02.197281 18616 training.py:504] Falling back from v2 loop because of error: Failed to find data adapter that can handle input: <class 'pandas.core.frame.DataFrame'>, <class 'NoneType'>\n"
     ]
    },
    {
     "name": "stdout",
     "output_type": "stream",
     "text": [
      "Model: \"sequential\"\n",
      "_________________________________________________________________\n",
      "Layer (type)                 Output Shape              Param #   \n",
      "=================================================================\n",
      "dense (Dense)                (None, 1024)              48128     \n",
      "_________________________________________________________________\n",
      "dense_1 (Dense)              (None, 1024)              1049600   \n",
      "_________________________________________________________________\n",
      "dense_2 (Dense)              (None, 1024)              1049600   \n",
      "_________________________________________________________________\n",
      "dense_3 (Dense)              (None, 1)                 1025      \n",
      "=================================================================\n",
      "Total params: 2,148,353\n",
      "Trainable params: 2,148,353\n",
      "Non-trainable params: 0\n",
      "_________________________________________________________________\n",
      "Train on 73 samples\n",
      "Epoch 1/100\n",
      "73/73 [==============================] - 1s 11ms/sample - loss: 378.8645 - mae: 2.5567\n",
      "Epoch 2/100\n",
      "73/73 [==============================] - 1s 9ms/sample - loss: 0.0017 - mae: 0.0351\n",
      "Epoch 3/100\n",
      "73/73 [==============================] - 1s 10ms/sample - loss: 0.0011 - mae: 0.0268\n",
      "Epoch 4/100\n",
      "73/73 [==============================] - 1s 11ms/sample - loss: 0.0012 - mae: 0.0289\n",
      "Epoch 5/100\n",
      "73/73 [==============================] - 1s 9ms/sample - loss: 7.3704e-04 - mae: 0.0225\n",
      "Epoch 6/100\n",
      "73/73 [==============================] - 1s 9ms/sample - loss: 4.5968e-04 - mae: 0.0181\n",
      "Epoch 7/100\n",
      "73/73 [==============================] - 1s 11ms/sample - loss: 4.8638e-04 - mae: 0.0180\n",
      "Epoch 8/100\n",
      "73/73 [==============================] - 1s 11ms/sample - loss: 3.6998e-04 - mae: 0.0162\n",
      "Epoch 9/100\n",
      "73/73 [==============================] - 1s 10ms/sample - loss: 5.8641e-04 - mae: 0.0195\n",
      "Epoch 10/100\n",
      "73/73 [==============================] - 1s 9ms/sample - loss: 2.5133e-04 - mae: 0.0130\n",
      "Epoch 11/100\n",
      "73/73 [==============================] - 1s 9ms/sample - loss: 2.9159e-04 - mae: 0.0138\n",
      "Epoch 12/100\n",
      "73/73 [==============================] - 1s 9ms/sample - loss: 1.6895e-04 - mae: 0.0108\n",
      "Epoch 13/100\n",
      "73/73 [==============================] - 1s 9ms/sample - loss: 2.1457e-04 - mae: 0.0116\n",
      "Epoch 14/100\n",
      "73/73 [==============================] - 1s 9ms/sample - loss: 2.4699e-04 - mae: 0.0126\n"
     ]
    },
    {
     "name": "stderr",
     "output_type": "stream",
     "text": [
      "W0923 15:52:12.580517 18616 training.py:504] Falling back from v2 loop because of error: Failed to find data adapter that can handle input: <class 'pandas.core.frame.DataFrame'>, <class 'NoneType'>\n"
     ]
    },
    {
     "name": "stdout",
     "output_type": "stream",
     "text": [
      "Epoch 00014: early stopping\n",
      "2018LG =======================================\n"
     ]
    },
    {
     "name": "stderr",
     "output_type": "stream",
     "text": [
      "W0923 15:52:12.808906 18616 training.py:504] Falling back from v2 loop because of error: Failed to find data adapter that can handle input: <class 'pandas.core.frame.DataFrame'>, <class 'NoneType'>\n"
     ]
    },
    {
     "name": "stdout",
     "output_type": "stream",
     "text": [
      "Model: \"sequential\"\n",
      "_________________________________________________________________\n",
      "Layer (type)                 Output Shape              Param #   \n",
      "=================================================================\n",
      "dense (Dense)                (None, 1024)              48128     \n",
      "_________________________________________________________________\n",
      "dense_1 (Dense)              (None, 1024)              1049600   \n",
      "_________________________________________________________________\n",
      "dense_2 (Dense)              (None, 1024)              1049600   \n",
      "_________________________________________________________________\n",
      "dense_3 (Dense)              (None, 1)                 1025      \n",
      "=================================================================\n",
      "Total params: 2,148,353\n",
      "Trainable params: 2,148,353\n",
      "Non-trainable params: 0\n",
      "_________________________________________________________________\n",
      "Train on 73 samples\n",
      "Epoch 1/100\n",
      "73/73 [==============================] - 1s 10ms/sample - loss: 353.1840 - mae: 2.3838\n",
      "Epoch 2/100\n",
      "73/73 [==============================] - 1s 11ms/sample - loss: 8.2902e-04 - mae: 0.0235\n",
      "Epoch 3/100\n",
      "73/73 [==============================] - 1s 11ms/sample - loss: 3.6545e-04 - mae: 0.0158\n",
      "Epoch 4/100\n",
      "73/73 [==============================] - 1s 11ms/sample - loss: 3.0124e-04 - mae: 0.0140\n",
      "Epoch 5/100\n",
      "73/73 [==============================] - 1s 9ms/sample - loss: 2.8680e-04 - mae: 0.0134\n",
      "Epoch 6/100\n",
      "73/73 [==============================] - 1s 9ms/sample - loss: 4.1289e-04 - mae: 0.0164\n",
      "Epoch 7/100\n",
      "73/73 [==============================] - 1s 10ms/sample - loss: 3.5430e-04 - mae: 0.0148\n"
     ]
    },
    {
     "name": "stderr",
     "output_type": "stream",
     "text": [
      "W0923 15:52:18.463788 18616 training.py:504] Falling back from v2 loop because of error: Failed to find data adapter that can handle input: <class 'pandas.core.frame.DataFrame'>, <class 'NoneType'>\n"
     ]
    },
    {
     "name": "stdout",
     "output_type": "stream",
     "text": [
      "Epoch 00007: early stopping\n",
      "2018HH =======================================\n"
     ]
    },
    {
     "name": "stderr",
     "output_type": "stream",
     "text": [
      "W0923 15:52:18.711126 18616 training.py:504] Falling back from v2 loop because of error: Failed to find data adapter that can handle input: <class 'pandas.core.frame.DataFrame'>, <class 'NoneType'>\n"
     ]
    },
    {
     "name": "stdout",
     "output_type": "stream",
     "text": [
      "Model: \"sequential\"\n",
      "_________________________________________________________________\n",
      "Layer (type)                 Output Shape              Param #   \n",
      "=================================================================\n",
      "dense (Dense)                (None, 1024)              48128     \n",
      "_________________________________________________________________\n",
      "dense_1 (Dense)              (None, 1024)              1049600   \n",
      "_________________________________________________________________\n",
      "dense_2 (Dense)              (None, 1024)              1049600   \n",
      "_________________________________________________________________\n",
      "dense_3 (Dense)              (None, 1)                 1025      \n",
      "=================================================================\n",
      "Total params: 2,148,353\n",
      "Trainable params: 2,148,353\n",
      "Non-trainable params: 0\n",
      "_________________________________________________________________\n",
      "Train on 73 samples\n",
      "Epoch 1/100\n",
      "73/73 [==============================] - 1s 9ms/sample - loss: 321.5783 - mae: 2.3632\n",
      "Epoch 2/100\n",
      "73/73 [==============================] - 1s 9ms/sample - loss: 0.0011 - mae: 0.0286\n",
      "Epoch 3/100\n",
      "73/73 [==============================] - 1s 10ms/sample - loss: 4.5437e-04 - mae: 0.0165\n",
      "Epoch 4/100\n",
      "73/73 [==============================] - 1s 11ms/sample - loss: 5.4791e-04 - mae: 0.0191\n",
      "Epoch 5/100\n",
      "73/73 [==============================] - 1s 10ms/sample - loss: 4.8274e-04 - mae: 0.0182\n"
     ]
    },
    {
     "name": "stderr",
     "output_type": "stream",
     "text": [
      "W0923 15:52:22.722401 18616 training.py:504] Falling back from v2 loop because of error: Failed to find data adapter that can handle input: <class 'pandas.core.frame.DataFrame'>, <class 'NoneType'>\n"
     ]
    },
    {
     "name": "stdout",
     "output_type": "stream",
     "text": [
      "Epoch 00005: early stopping\n",
      "2018NC =======================================\n",
      "Model: \"sequential\""
     ]
    },
    {
     "name": "stderr",
     "output_type": "stream",
     "text": [
      "W0923 15:52:23.246998 18616 training.py:504] Falling back from v2 loop because of error: Failed to find data adapter that can handle input: <class 'pandas.core.frame.DataFrame'>, <class 'NoneType'>\n"
     ]
    },
    {
     "name": "stdout",
     "output_type": "stream",
     "text": [
      "\n",
      "_________________________________________________________________\n",
      "Layer (type)                 Output Shape              Param #   \n",
      "=================================================================\n",
      "dense (Dense)                (None, 1024)              48128     \n",
      "_________________________________________________________________\n",
      "dense_1 (Dense)              (None, 1024)              1049600   \n",
      "_________________________________________________________________\n",
      "dense_2 (Dense)              (None, 1024)              1049600   \n",
      "_________________________________________________________________\n",
      "dense_3 (Dense)              (None, 1)                 1025      \n",
      "=================================================================\n",
      "Total params: 2,148,353\n",
      "Trainable params: 2,148,353\n",
      "Non-trainable params: 0\n",
      "_________________________________________________________________\n",
      "Train on 73 samples\n",
      "Epoch 1/100\n",
      "73/73 [==============================] - 1s 11ms/sample - loss: 266.2641 - mae: 2.1141\n",
      "Epoch 2/100\n",
      "73/73 [==============================] - 1s 9ms/sample - loss: 0.0043 - mae: 0.0534\n",
      "Epoch 3/100\n",
      "73/73 [==============================] - 1s 9ms/sample - loss: 0.0020 - mae: 0.0341\n",
      "Epoch 4/100\n",
      "73/73 [==============================] - 1s 10ms/sample - loss: 0.0010 - mae: 0.0263\n",
      "Epoch 5/100\n",
      "73/73 [==============================] - 1s 9ms/sample - loss: 5.6206e-04 - mae: 0.0195\n",
      "Epoch 6/100\n",
      "73/73 [==============================] - 1s 10ms/sample - loss: 6.4055e-04 - mae: 0.02080s - loss: 5.2168e-04 - \n",
      "Epoch 7/100\n",
      "73/73 [==============================] - 1s 11ms/sample - loss: 7.4478e-04 - mae: 0.0223\n"
     ]
    },
    {
     "name": "stderr",
     "output_type": "stream",
     "text": [
      "W0923 15:52:28.900881 18616 training.py:504] Falling back from v2 loop because of error: Failed to find data adapter that can handle input: <class 'pandas.core.frame.DataFrame'>, <class 'NoneType'>\n"
     ]
    },
    {
     "name": "stdout",
     "output_type": "stream",
     "text": [
      "Epoch 00007: early stopping\n",
      "2018HT =======================================\n",
      "Model: \"sequential\""
     ]
    },
    {
     "name": "stderr",
     "output_type": "stream",
     "text": [
      "W0923 15:52:29.215041 18616 training.py:504] Falling back from v2 loop because of error: Failed to find data adapter that can handle input: <class 'pandas.core.frame.DataFrame'>, <class 'NoneType'>\n"
     ]
    },
    {
     "name": "stdout",
     "output_type": "stream",
     "text": [
      "\n",
      "_________________________________________________________________\n",
      "Layer (type)                 Output Shape              Param #   \n",
      "=================================================================\n",
      "dense (Dense)                (None, 1024)              48128     \n",
      "_________________________________________________________________\n",
      "dense_1 (Dense)              (None, 1024)              1049600   \n",
      "_________________________________________________________________\n",
      "dense_2 (Dense)              (None, 1024)              1049600   \n",
      "_________________________________________________________________\n",
      "dense_3 (Dense)              (None, 1)                 1025      \n",
      "=================================================================\n",
      "Total params: 2,148,353\n",
      "Trainable params: 2,148,353\n",
      "Non-trainable params: 0\n",
      "_________________________________________________________________\n",
      "Train on 73 samples\n",
      "Epoch 1/100\n",
      "73/73 [==============================] - 1s 10ms/sample - loss: 338.2398 - mae: 2.3712\n",
      "Epoch 2/100\n",
      "73/73 [==============================] - 1s 9ms/sample - loss: 0.0014 - mae: 0.0301\n",
      "Epoch 3/100\n",
      "73/73 [==============================] - 1s 10ms/sample - loss: 0.0013 - mae: 0.0287\n",
      "Epoch 4/100\n",
      "73/73 [==============================] - 1s 10ms/sample - loss: 0.0011 - mae: 0.0262\n",
      "Epoch 5/100\n",
      "73/73 [==============================] - 1s 9ms/sample - loss: 0.0015 - mae: 0.0316ETA: 0s - loss: 0.0021 - ma\n",
      "Epoch 6/100\n",
      "73/73 [==============================] - 1s 10ms/sample - loss: 6.5678e-04 - mae: 0.0199\n",
      "Epoch 7/100\n",
      "73/73 [==============================] - 1s 10ms/sample - loss: 0.0012 - mae: 0.0279\n",
      "Epoch 8/100\n",
      "73/73 [==============================] - 1s 11ms/sample - loss: 4.0223e-04 - mae: 0.01570s - loss: 3.5475e-04 - mae: 0\n",
      "Epoch 9/100\n",
      "73/73 [==============================] - 1s 10ms/sample - loss: 5.7663e-04 - mae: 0.0208\n",
      "Epoch 10/100\n",
      "73/73 [==============================] - 1s 10ms/sample - loss: 2.6018e-04 - mae: 0.0121\n",
      "Epoch 11/100\n",
      "73/73 [==============================] - 1s 10ms/sample - loss: 2.1342e-04 - mae: 0.0123\n",
      "Epoch 12/100\n",
      "73/73 [==============================] - 1s 9ms/sample - loss: 3.2234e-04 - mae: 0.0147\n",
      "Epoch 13/100\n",
      "73/73 [==============================] - 1s 9ms/sample - loss: 2.3522e-04 - mae: 0.0127\n"
     ]
    },
    {
     "name": "stderr",
     "output_type": "stream",
     "text": [
      "W0923 15:52:39.019826 18616 training.py:504] Falling back from v2 loop because of error: Failed to find data adapter that can handle input: <class 'pandas.core.frame.DataFrame'>, <class 'NoneType'>\n"
     ]
    },
    {
     "name": "stdout",
     "output_type": "stream",
     "text": [
      "Epoch 00013: early stopping\n",
      "2018SK =======================================\n"
     ]
    },
    {
     "name": "stderr",
     "output_type": "stream",
     "text": [
      "W0923 15:52:39.279133 18616 training.py:504] Falling back from v2 loop because of error: Failed to find data adapter that can handle input: <class 'pandas.core.frame.DataFrame'>, <class 'NoneType'>\n"
     ]
    },
    {
     "name": "stdout",
     "output_type": "stream",
     "text": [
      "Model: \"sequential\"\n",
      "_________________________________________________________________\n",
      "Layer (type)                 Output Shape              Param #   \n",
      "=================================================================\n",
      "dense (Dense)                (None, 1024)              48128     \n",
      "_________________________________________________________________\n",
      "dense_1 (Dense)              (None, 1024)              1049600   \n",
      "_________________________________________________________________\n",
      "dense_2 (Dense)              (None, 1024)              1049600   \n",
      "_________________________________________________________________\n",
      "dense_3 (Dense)              (None, 1)                 1025      \n",
      "=================================================================\n",
      "Total params: 2,148,353\n",
      "Trainable params: 2,148,353\n",
      "Non-trainable params: 0\n",
      "_________________________________________________________________\n",
      "Train on 73 samples\n",
      "Epoch 1/100\n",
      "73/73 [==============================] - 1s 11ms/sample - loss: 275.3702 - mae: 2.1650\n",
      "Epoch 2/100\n",
      "73/73 [==============================] - 1s 10ms/sample - loss: 3.7609e-04 - mae: 0.0151\n",
      "Epoch 3/100\n",
      "73/73 [==============================] - 1s 11ms/sample - loss: 3.4178e-04 - mae: 0.0154\n",
      "Epoch 4/100\n",
      "73/73 [==============================] - 1s 11ms/sample - loss: 2.9996e-04 - mae: 0.0140\n",
      "Epoch 5/100\n",
      "73/73 [==============================] - 1s 10ms/sample - loss: 3.0370e-04 - mae: 0.0133\n",
      "Epoch 6/100\n",
      "73/73 [==============================] - 1s 9ms/sample - loss: 2.4297e-04 - mae: 0.0128\n",
      "Epoch 7/100\n",
      "73/73 [==============================] - 1s 9ms/sample - loss: 4.6948e-04 - mae: 0.0181\n",
      "Epoch 8/100\n",
      "73/73 [==============================] - 1s 9ms/sample - loss: 3.8561e-04 - mae: 0.0149\n"
     ]
    },
    {
     "name": "stderr",
     "output_type": "stream",
     "text": [
      "W0923 15:52:45.666073 18616 training.py:504] Falling back from v2 loop because of error: Failed to find data adapter that can handle input: <class 'pandas.core.frame.DataFrame'>, <class 'NoneType'>\n"
     ]
    },
    {
     "name": "stdout",
     "output_type": "stream",
     "text": [
      "Epoch 00008: early stopping\n",
      "2018KT =======================================\n"
     ]
    },
    {
     "name": "stderr",
     "output_type": "stream",
     "text": [
      "W0923 15:52:45.923367 18616 training.py:504] Falling back from v2 loop because of error: Failed to find data adapter that can handle input: <class 'pandas.core.frame.DataFrame'>, <class 'NoneType'>\n"
     ]
    },
    {
     "name": "stdout",
     "output_type": "stream",
     "text": [
      "Model: \"sequential\"\n",
      "_________________________________________________________________\n",
      "Layer (type)                 Output Shape              Param #   \n",
      "=================================================================\n",
      "dense (Dense)                (None, 1024)              48128     \n",
      "_________________________________________________________________\n",
      "dense_1 (Dense)              (None, 1024)              1049600   \n",
      "_________________________________________________________________\n",
      "dense_2 (Dense)              (None, 1024)              1049600   \n",
      "_________________________________________________________________\n",
      "dense_3 (Dense)              (None, 1)                 1025      \n",
      "=================================================================\n",
      "Total params: 2,148,353\n",
      "Trainable params: 2,148,353\n",
      "Non-trainable params: 0\n",
      "_________________________________________________________________\n",
      "Train on 73 samples\n",
      "Epoch 1/100\n",
      "73/73 [==============================] - 1s 11ms/sample - loss: 183.1895 - mae: 1.8376\n",
      "Epoch 2/100\n",
      "73/73 [==============================] - 1s 9ms/sample - loss: 0.0012 - mae: 0.0237\n",
      "Epoch 3/100\n",
      "73/73 [==============================] - 1s 10ms/sample - loss: 1.8029e-04 - mae: 0.0114\n",
      "Epoch 4/100\n",
      "73/73 [==============================] - 1s 11ms/sample - loss: 1.4865e-04 - mae: 0.0103\n",
      "Epoch 5/100\n",
      "73/73 [==============================] - 1s 10ms/sample - loss: 2.1261e-04 - mae: 0.0118\n",
      "Epoch 6/100\n",
      "73/73 [==============================] - 1s 9ms/sample - loss: 2.0428e-04 - mae: 0.0118\n"
     ]
    },
    {
     "name": "stderr",
     "output_type": "stream",
     "text": [
      "W0923 15:52:50.751458 18616 training.py:504] Falling back from v2 loop because of error: Failed to find data adapter that can handle input: <class 'pandas.core.frame.DataFrame'>, <class 'NoneType'>\n"
     ]
    },
    {
     "name": "stdout",
     "output_type": "stream",
     "text": [
      "Epoch 00006: early stopping\n",
      "2018WO =======================================\n"
     ]
    },
    {
     "name": "stderr",
     "output_type": "stream",
     "text": [
      "W0923 15:52:50.971868 18616 training.py:504] Falling back from v2 loop because of error: Failed to find data adapter that can handle input: <class 'pandas.core.frame.DataFrame'>, <class 'NoneType'>\n"
     ]
    },
    {
     "name": "stdout",
     "output_type": "stream",
     "text": [
      "Model: \"sequential\"\n",
      "_________________________________________________________________\n",
      "Layer (type)                 Output Shape              Param #   \n",
      "=================================================================\n",
      "dense (Dense)                (None, 1024)              48128     \n",
      "_________________________________________________________________\n",
      "dense_1 (Dense)              (None, 1024)              1049600   \n",
      "_________________________________________________________________\n",
      "dense_2 (Dense)              (None, 1024)              1049600   \n",
      "_________________________________________________________________\n",
      "dense_3 (Dense)              (None, 1)                 1025      \n",
      "=================================================================\n",
      "Total params: 2,148,353\n",
      "Trainable params: 2,148,353\n",
      "Non-trainable params: 0\n",
      "_________________________________________________________________\n",
      "Train on 73 samples\n",
      "Epoch 1/100\n",
      "73/73 [==============================] - 1s 10ms/sample - loss: 352.0074 - mae: 2.6325\n",
      "Epoch 2/100\n",
      "73/73 [==============================] - 1s 9ms/sample - loss: 0.0065 - mae: 0.0654\n",
      "Epoch 3/100\n",
      "73/73 [==============================] - 1s 10ms/sample - loss: 0.0028 - mae: 0.0435\n",
      "Epoch 4/100\n",
      "73/73 [==============================] - 1s 9ms/sample - loss: 0.0043 - mae: 0.0552\n",
      "Epoch 5/100\n",
      "73/73 [==============================] - 1s 10ms/sample - loss: 0.0021 - mae: 0.0370\n",
      "Epoch 6/100\n",
      "73/73 [==============================] - 1s 13ms/sample - loss: 0.0019 - mae: 0.0362\n",
      "Epoch 7/100\n",
      "73/73 [==============================] - 1s 10ms/sample - loss: 0.0014 - mae: 0.0302\n",
      "Epoch 8/100\n",
      "73/73 [==============================] - 1s 9ms/sample - loss: 9.3380e-04 - mae: 0.0222\n",
      "Epoch 9/100\n",
      "73/73 [==============================] - 1s 9ms/sample - loss: 0.0021 - mae: 0.0397\n",
      "Epoch 10/100\n",
      "73/73 [==============================] - 1s 9ms/sample - loss: 0.0016 - mae: 0.0306\n"
     ]
    },
    {
     "name": "stderr",
     "output_type": "stream",
     "text": [
      "W0923 15:52:58.739125 18616 training.py:504] Falling back from v2 loop because of error: Failed to find data adapter that can handle input: <class 'pandas.core.frame.DataFrame'>, <class 'NoneType'>\n"
     ]
    },
    {
     "name": "stdout",
     "output_type": "stream",
     "text": [
      "Epoch 00010: early stopping\n",
      "2018LT =======================================\n"
     ]
    },
    {
     "name": "stderr",
     "output_type": "stream",
     "text": [
      "W0923 15:52:58.991449 18616 training.py:504] Falling back from v2 loop because of error: Failed to find data adapter that can handle input: <class 'pandas.core.frame.DataFrame'>, <class 'NoneType'>\n"
     ]
    },
    {
     "name": "stdout",
     "output_type": "stream",
     "text": [
      "Model: \"sequential\"\n",
      "_________________________________________________________________\n",
      "Layer (type)                 Output Shape              Param #   \n",
      "=================================================================\n",
      "dense (Dense)                (None, 1024)              48128     \n",
      "_________________________________________________________________\n",
      "dense_1 (Dense)              (None, 1024)              1049600   \n",
      "_________________________________________________________________\n",
      "dense_2 (Dense)              (None, 1024)              1049600   \n",
      "_________________________________________________________________\n",
      "dense_3 (Dense)              (None, 1)                 1025      \n",
      "=================================================================\n",
      "Total params: 2,148,353\n",
      "Trainable params: 2,148,353\n",
      "Non-trainable params: 0\n",
      "_________________________________________________________________\n",
      "Train on 73 samples\n",
      "Epoch 1/100\n",
      "73/73 [==============================] - 1s 10ms/sample - loss: 224.1148 - mae: 1.9825\n",
      "Epoch 2/100\n",
      "73/73 [==============================] - 1s 9ms/sample - loss: 5.2749e-04 - mae: 0.0188\n",
      "Epoch 3/100\n",
      "73/73 [==============================] - 1s 9ms/sample - loss: 2.4066e-04 - mae: 0.0125\n",
      "Epoch 4/100\n",
      "73/73 [==============================] - 1s 11ms/sample - loss: 2.1183e-04 - mae: 0.0110\n",
      "Epoch 5/100\n",
      "73/73 [==============================] - 1s 11ms/sample - loss: 2.7173e-04 - mae: 0.0126\n",
      "Epoch 6/100\n",
      "73/73 [==============================] - 1s 10ms/sample - loss: 2.3647e-04 - mae: 0.0118\n"
     ]
    },
    {
     "name": "stderr",
     "output_type": "stream",
     "text": [
      "W0923 15:53:03.741750 18616 training.py:504] Falling back from v2 loop because of error: Failed to find data adapter that can handle input: <class 'pandas.core.frame.DataFrame'>, <class 'NoneType'>\n"
     ]
    },
    {
     "name": "stdout",
     "output_type": "stream",
     "text": [
      "Epoch 00006: early stopping\n",
      "2018SS =======================================\n"
     ]
    },
    {
     "name": "stderr",
     "output_type": "stream",
     "text": [
      "W0923 15:53:03.980113 18616 training.py:504] Falling back from v2 loop because of error: Failed to find data adapter that can handle input: <class 'pandas.core.frame.DataFrame'>, <class 'NoneType'>\n"
     ]
    },
    {
     "name": "stdout",
     "output_type": "stream",
     "text": [
      "Model: \"sequential\"\n",
      "_________________________________________________________________\n",
      "Layer (type)                 Output Shape              Param #   \n",
      "=================================================================\n",
      "dense (Dense)                (None, 1024)              48128     \n",
      "_________________________________________________________________\n",
      "dense_1 (Dense)              (None, 1024)              1049600   \n",
      "_________________________________________________________________\n",
      "dense_2 (Dense)              (None, 1024)              1049600   \n",
      "_________________________________________________________________\n",
      "dense_3 (Dense)              (None, 1)                 1025      \n",
      "=================================================================\n",
      "Total params: 2,148,353\n",
      "Trainable params: 2,148,353\n",
      "Non-trainable params: 0\n",
      "_________________________________________________________________\n",
      "Train on 73 samples\n",
      "Epoch 1/100\n",
      "73/73 [==============================] - 1s 10ms/sample - loss: 433.8378 - mae: 2.6388\n",
      "Epoch 2/100\n",
      "73/73 [==============================] - 1s 9ms/sample - loss: 3.7493e-04 - mae: 0.0154\n",
      "Epoch 3/100\n",
      "73/73 [==============================] - 1s 9ms/sample - loss: 3.9236e-04 - mae: 0.0163\n",
      "Epoch 4/100\n",
      "73/73 [==============================] - 1s 9ms/sample - loss: 2.8711e-04 - mae: 0.0133\n",
      "Epoch 5/100\n",
      "73/73 [==============================] - 1s 9ms/sample - loss: 2.9355e-04 - mae: 0.0135\n",
      "Epoch 6/100\n",
      "73/73 [==============================] - 1s 9ms/sample - loss: 2.1408e-04 - mae: 0.0123\n",
      "Epoch 7/100\n",
      "73/73 [==============================] - 1s 10ms/sample - loss: 1.8688e-04 - mae: 0.0106\n",
      "Epoch 8/100\n",
      "73/73 [==============================] - 1s 10ms/sample - loss: 1.8616e-04 - mae: 0.0109\n",
      "Epoch 9/100\n",
      "73/73 [==============================] - 1s 10ms/sample - loss: 1.6138e-04 - mae: 0.0100\n",
      "Epoch 10/100\n",
      "73/73 [==============================] - 1s 9ms/sample - loss: 1.8932e-04 - mae: 0.0107\n",
      "Epoch 11/100\n",
      "73/73 [==============================] - 1s 9ms/sample - loss: 2.2161e-04 - mae: 0.0121\n"
     ]
    },
    {
     "name": "stderr",
     "output_type": "stream",
     "text": [
      "W0923 15:53:11.907922 18616 training.py:504] Falling back from v2 loop because of error: Failed to find data adapter that can handle input: <class 'pandas.core.frame.DataFrame'>, <class 'NoneType'>\n"
     ]
    },
    {
     "name": "stdout",
     "output_type": "stream",
     "text": [
      "Epoch 00011: early stopping\n",
      "2018OB =======================================\n"
     ]
    },
    {
     "name": "stderr",
     "output_type": "stream",
     "text": [
      "W0923 15:53:12.157250 18616 training.py:504] Falling back from v2 loop because of error: Failed to find data adapter that can handle input: <class 'pandas.core.frame.DataFrame'>, <class 'NoneType'>\n"
     ]
    },
    {
     "name": "stdout",
     "output_type": "stream",
     "text": [
      "Model: \"sequential\"\n",
      "_________________________________________________________________\n",
      "Layer (type)                 Output Shape              Param #   \n",
      "=================================================================\n",
      "dense (Dense)                (None, 1024)              48128     \n",
      "_________________________________________________________________\n",
      "dense_1 (Dense)              (None, 1024)              1049600   \n",
      "_________________________________________________________________\n",
      "dense_2 (Dense)              (None, 1024)              1049600   \n",
      "_________________________________________________________________\n",
      "dense_3 (Dense)              (None, 1)                 1025      \n",
      "=================================================================\n",
      "Total params: 2,148,353\n",
      "Trainable params: 2,148,353\n",
      "Non-trainable params: 0\n",
      "_________________________________________________________________\n",
      "Train on 73 samples\n",
      "Epoch 1/100\n",
      "73/73 [==============================] - 1s 9ms/sample - loss: 387.6777 - mae: 2.4612\n",
      "Epoch 2/100\n",
      "73/73 [==============================] - 1s 9ms/sample - loss: 0.0034 - mae: 0.0432\n",
      "Epoch 3/100\n",
      "73/73 [==============================] - 1s 9ms/sample - loss: 0.0029 - mae: 0.0428\n",
      "Epoch 4/100\n",
      "73/73 [==============================] - 1s 9ms/sample - loss: 0.0011 - mae: 0.0273\n",
      "Epoch 5/100\n",
      "73/73 [==============================] - 1s 10ms/sample - loss: 0.0011 - mae: 0.0282\n",
      "Epoch 6/100\n",
      "73/73 [==============================] - 1s 10ms/sample - loss: 6.4470e-04 - mae: 0.0216\n",
      "Epoch 7/100\n",
      "73/73 [==============================] - 1s 9ms/sample - loss: 7.4906e-04 - mae: 0.0222\n",
      "Epoch 8/100\n",
      "73/73 [==============================] - 1s 11ms/sample - loss: 7.5562e-04 - mae: 0.0230\n"
     ]
    },
    {
     "name": "stderr",
     "output_type": "stream",
     "text": [
      "W0923 15:53:18.151222 18616 training.py:504] Falling back from v2 loop because of error: Failed to find data adapter that can handle input: <class 'pandas.core.frame.DataFrame'>, <class 'NoneType'>\n"
     ]
    },
    {
     "name": "stdout",
     "output_type": "stream",
     "text": [
      "Epoch 00008: early stopping\n",
      "2019LG =======================================\n"
     ]
    },
    {
     "name": "stderr",
     "output_type": "stream",
     "text": [
      "W0923 15:53:18.400557 18616 training.py:504] Falling back from v2 loop because of error: Failed to find data adapter that can handle input: <class 'pandas.core.frame.DataFrame'>, <class 'NoneType'>\n"
     ]
    },
    {
     "name": "stdout",
     "output_type": "stream",
     "text": [
      "Model: \"sequential\"\n",
      "_________________________________________________________________\n",
      "Layer (type)                 Output Shape              Param #   \n",
      "=================================================================\n",
      "dense (Dense)                (None, 1024)              48128     \n",
      "_________________________________________________________________\n",
      "dense_1 (Dense)              (None, 1024)              1049600   \n",
      "_________________________________________________________________\n",
      "dense_2 (Dense)              (None, 1024)              1049600   \n",
      "_________________________________________________________________\n",
      "dense_3 (Dense)              (None, 1)                 1025      \n",
      "=================================================================\n",
      "Total params: 2,148,353\n",
      "Trainable params: 2,148,353\n",
      "Non-trainable params: 0\n",
      "_________________________________________________________________\n",
      "Train on 73 samples\n",
      "Epoch 1/100\n",
      "73/73 [==============================] - 1s 11ms/sample - loss: 217.4301 - mae: 1.9224\n",
      "Epoch 2/100\n",
      "73/73 [==============================] - 1s 10ms/sample - loss: 4.9971e-04 - mae: 0.0175\n",
      "Epoch 3/100\n",
      "73/73 [==============================] - 1s 11ms/sample - loss: 5.7527e-04 - mae: 0.0177\n",
      "Epoch 4/100\n",
      "73/73 [==============================] - 1s 10ms/sample - loss: 4.1763e-04 - mae: 0.01610s - loss: 3.9027e-04 - mae\n",
      "Epoch 5/100\n",
      "73/73 [==============================] - 1s 11ms/sample - loss: 3.4189e-04 - mae: 0.0145\n",
      "Epoch 6/100\n",
      "73/73 [==============================] - 1s 10ms/sample - loss: 5.5548e-04 - mae: 0.0197\n",
      "Epoch 7/100\n",
      "73/73 [==============================] - 1s 9ms/sample - loss: 3.4597e-04 - mae: 0.0155\n"
     ]
    },
    {
     "name": "stderr",
     "output_type": "stream",
     "text": [
      "W0923 15:53:24.503750 18616 training.py:504] Falling back from v2 loop because of error: Failed to find data adapter that can handle input: <class 'pandas.core.frame.DataFrame'>, <class 'NoneType'>\n"
     ]
    },
    {
     "name": "stdout",
     "output_type": "stream",
     "text": [
      "Epoch 00007: early stopping\n",
      "2019HH =======================================\n"
     ]
    },
    {
     "name": "stderr",
     "output_type": "stream",
     "text": [
      "W0923 15:53:24.713190 18616 training.py:504] Falling back from v2 loop because of error: Failed to find data adapter that can handle input: <class 'pandas.core.frame.DataFrame'>, <class 'NoneType'>\n"
     ]
    },
    {
     "name": "stdout",
     "output_type": "stream",
     "text": [
      "Model: \"sequential\"\n",
      "_________________________________________________________________\n",
      "Layer (type)                 Output Shape              Param #   \n",
      "=================================================================\n",
      "dense (Dense)                (None, 1024)              48128     \n",
      "_________________________________________________________________\n",
      "dense_1 (Dense)              (None, 1024)              1049600   \n",
      "_________________________________________________________________\n",
      "dense_2 (Dense)              (None, 1024)              1049600   \n",
      "_________________________________________________________________\n",
      "dense_3 (Dense)              (None, 1)                 1025      \n",
      "=================================================================\n",
      "Total params: 2,148,353\n",
      "Trainable params: 2,148,353\n",
      "Non-trainable params: 0\n",
      "_________________________________________________________________\n",
      "Train on 73 samples\n",
      "Epoch 1/100\n",
      "73/73 [==============================] - 1s 10ms/sample - loss: 247.2573 - mae: 2.1097\n",
      "Epoch 2/100\n",
      "73/73 [==============================] - 1s 9ms/sample - loss: 0.0015 - mae: 0.0307\n",
      "Epoch 3/100\n",
      "73/73 [==============================] - 1s 9ms/sample - loss: 0.0014 - mae: 0.0298\n",
      "Epoch 4/100\n",
      "73/73 [==============================] - 1s 9ms/sample - loss: 7.8522e-04 - mae: 0.0230\n",
      "Epoch 5/100\n",
      "73/73 [==============================] - 1s 9ms/sample - loss: 0.0011 - mae: 0.0265\n",
      "Epoch 6/100\n",
      "73/73 [==============================] - 1s 10ms/sample - loss: 4.5503e-04 - mae: 0.0163\n",
      "Epoch 7/100\n",
      "73/73 [==============================] - 1s 10ms/sample - loss: 5.2309e-04 - mae: 0.0178\n",
      "Epoch 8/100\n",
      "73/73 [==============================] - 1s 10ms/sample - loss: 0.0024 - mae: 0.0330\n"
     ]
    },
    {
     "name": "stderr",
     "output_type": "stream",
     "text": [
      "W0923 15:53:30.575516 18616 training.py:504] Falling back from v2 loop because of error: Failed to find data adapter that can handle input: <class 'pandas.core.frame.DataFrame'>, <class 'NoneType'>\n"
     ]
    },
    {
     "name": "stdout",
     "output_type": "stream",
     "text": [
      "Epoch 00008: early stopping\n",
      "2019NC =======================================\n",
      "Model: \"sequential\""
     ]
    },
    {
     "name": "stderr",
     "output_type": "stream",
     "text": [
      "W0923 15:53:30.838812 18616 training.py:504] Falling back from v2 loop because of error: Failed to find data adapter that can handle input: <class 'pandas.core.frame.DataFrame'>, <class 'NoneType'>\n"
     ]
    },
    {
     "name": "stdout",
     "output_type": "stream",
     "text": [
      "\n",
      "_________________________________________________________________\n",
      "Layer (type)                 Output Shape              Param #   \n",
      "=================================================================\n",
      "dense (Dense)                (None, 1024)              48128     \n",
      "_________________________________________________________________\n",
      "dense_1 (Dense)              (None, 1024)              1049600   \n",
      "_________________________________________________________________\n",
      "dense_2 (Dense)              (None, 1024)              1049600   \n",
      "_________________________________________________________________\n",
      "dense_3 (Dense)              (None, 1)                 1025      \n",
      "=================================================================\n",
      "Total params: 2,148,353\n",
      "Trainable params: 2,148,353\n",
      "Non-trainable params: 0\n",
      "_________________________________________________________________\n",
      "Train on 73 samples\n",
      "Epoch 1/100\n",
      "73/73 [==============================] - 1s 9ms/sample - loss: 117.7430 - mae: 1.5387\n",
      "Epoch 2/100\n",
      "73/73 [==============================] - 1s 9ms/sample - loss: 0.0021 - mae: 0.0386\n",
      "Epoch 3/100\n",
      "73/73 [==============================] - 1s 9ms/sample - loss: 0.0021 - mae: 0.0380\n",
      "Epoch 4/100\n",
      "73/73 [==============================] - 1s 9ms/sample - loss: 0.0014 - mae: 0.0312\n",
      "Epoch 5/100\n",
      "73/73 [==============================] - 1s 9ms/sample - loss: 0.0010 - mae: 0.0266\n",
      "Epoch 6/100\n",
      "73/73 [==============================] - 1s 9ms/sample - loss: 6.5076e-04 - mae: 0.0204\n",
      "Epoch 7/100\n",
      "73/73 [==============================] - 1s 10ms/sample - loss: 3.9411e-04 - mae: 0.0161\n",
      "Epoch 8/100\n",
      "73/73 [==============================] - 1s 10ms/sample - loss: 3.2802e-04 - mae: 0.0145\n",
      "Epoch 9/100\n",
      "73/73 [==============================] - 1s 9ms/sample - loss: 3.4453e-04 - mae: 0.0152\n",
      "Epoch 10/100\n",
      "73/73 [==============================] - 1s 8ms/sample - loss: 1.9853e-04 - mae: 0.0112\n",
      "Epoch 11/100\n",
      "73/73 [==============================] - 1s 9ms/sample - loss: 2.8810e-04 - mae: 0.0139\n",
      "Epoch 12/100\n",
      "73/73 [==============================] - 1s 9ms/sample - loss: 2.9864e-04 - mae: 0.0143\n"
     ]
    },
    {
     "name": "stderr",
     "output_type": "stream",
     "text": [
      "W0923 15:53:39.217410 18616 training.py:504] Falling back from v2 loop because of error: Failed to find data adapter that can handle input: <class 'pandas.core.frame.DataFrame'>, <class 'NoneType'>\n"
     ]
    },
    {
     "name": "stdout",
     "output_type": "stream",
     "text": [
      "Epoch 00012: early stopping\n",
      "2019HT =======================================\n"
     ]
    },
    {
     "name": "stderr",
     "output_type": "stream",
     "text": [
      "W0923 15:53:39.430839 18616 training.py:504] Falling back from v2 loop because of error: Failed to find data adapter that can handle input: <class 'pandas.core.frame.DataFrame'>, <class 'NoneType'>\n"
     ]
    },
    {
     "name": "stdout",
     "output_type": "stream",
     "text": [
      "Model: \"sequential\"\n",
      "_________________________________________________________________\n",
      "Layer (type)                 Output Shape              Param #   \n",
      "=================================================================\n",
      "dense (Dense)                (None, 1024)              48128     \n",
      "_________________________________________________________________\n",
      "dense_1 (Dense)              (None, 1024)              1049600   \n",
      "_________________________________________________________________\n",
      "dense_2 (Dense)              (None, 1024)              1049600   \n",
      "_________________________________________________________________\n",
      "dense_3 (Dense)              (None, 1)                 1025      \n",
      "=================================================================\n",
      "Total params: 2,148,353\n",
      "Trainable params: 2,148,353\n",
      "Non-trainable params: 0\n",
      "_________________________________________________________________\n",
      "Train on 73 samples\n",
      "Epoch 1/100\n",
      "73/73 [==============================] - 1s 10ms/sample - loss: 178.7024 - mae: 1.8174\n",
      "Epoch 2/100\n",
      "73/73 [==============================] - 1s 9ms/sample - loss: 5.6575e-04 - mae: 0.0178\n",
      "Epoch 3/100\n",
      "73/73 [==============================] - 1s 10ms/sample - loss: 8.0417e-04 - mae: 0.0232\n",
      "Epoch 4/100\n",
      "73/73 [==============================] - 1s 11ms/sample - loss: 5.9705e-04 - mae: 0.0197\n"
     ]
    },
    {
     "name": "stderr",
     "output_type": "stream",
     "text": [
      "W0923 15:53:42.693117 18616 training.py:504] Falling back from v2 loop because of error: Failed to find data adapter that can handle input: <class 'pandas.core.frame.DataFrame'>, <class 'NoneType'>\n"
     ]
    },
    {
     "name": "stdout",
     "output_type": "stream",
     "text": [
      "Epoch 00004: early stopping\n",
      "2019SK =======================================\n"
     ]
    },
    {
     "name": "stderr",
     "output_type": "stream",
     "text": [
      "W0923 15:53:43.052156 18616 training.py:504] Falling back from v2 loop because of error: Failed to find data adapter that can handle input: <class 'pandas.core.frame.DataFrame'>, <class 'NoneType'>\n"
     ]
    },
    {
     "name": "stdout",
     "output_type": "stream",
     "text": [
      "Model: \"sequential\"\n",
      "_________________________________________________________________\n",
      "Layer (type)                 Output Shape              Param #   \n",
      "=================================================================\n",
      "dense (Dense)                (None, 1024)              48128     \n",
      "_________________________________________________________________\n",
      "dense_1 (Dense)              (None, 1024)              1049600   \n",
      "_________________________________________________________________\n",
      "dense_2 (Dense)              (None, 1024)              1049600   \n",
      "_________________________________________________________________\n",
      "dense_3 (Dense)              (None, 1)                 1025      \n",
      "=================================================================\n",
      "Total params: 2,148,353\n",
      "Trainable params: 2,148,353\n",
      "Non-trainable params: 0\n",
      "_________________________________________________________________\n",
      "Train on 73 samples\n",
      "Epoch 1/100\n",
      "73/73 [==============================] - 1s 11ms/sample - loss: 192.7288 - mae: 1.9108\n",
      "Epoch 2/100\n",
      "73/73 [==============================] - 1s 9ms/sample - loss: 0.0022 - mae: 0.0384\n",
      "Epoch 3/100\n",
      "73/73 [==============================] - 1s 9ms/sample - loss: 0.0022 - mae: 0.0372\n",
      "Epoch 4/100\n",
      "73/73 [==============================] - 1s 11ms/sample - loss: 0.0016 - mae: 0.0322\n",
      "Epoch 5/100\n",
      "73/73 [==============================] - 1s 9ms/sample - loss: 0.0012 - mae: 0.0292\n",
      "Epoch 6/100\n",
      "73/73 [==============================] - 1s 10ms/sample - loss: 9.7352e-04 - mae: 0.0258\n",
      "Epoch 7/100\n",
      "73/73 [==============================] - 1s 9ms/sample - loss: 0.0010 - mae: 0.0272\n",
      "Epoch 8/100\n",
      "73/73 [==============================] - 1s 10ms/sample - loss: 7.0846e-04 - mae: 0.0216\n",
      "Epoch 9/100\n",
      "73/73 [==============================] - 1s 10ms/sample - loss: 5.7503e-04 - mae: 0.0202\n",
      "Epoch 10/100\n",
      "73/73 [==============================] - 1s 9ms/sample - loss: 5.4364e-04 - mae: 0.0179\n",
      "Epoch 11/100\n",
      "73/73 [==============================] - 1s 9ms/sample - loss: 6.6177e-04 - mae: 0.0209 0s - loss: 7.3838e-04 - mae:\n",
      "Epoch 12/100\n",
      "73/73 [==============================] - 1s 9ms/sample - loss: 3.6730e-04 - mae: 0.0153\n",
      "Epoch 13/100\n",
      "73/73 [==============================] - 1s 10ms/sample - loss: 2.8376e-04 - mae: 0.0138\n",
      "Epoch 14/100\n",
      "73/73 [==============================] - 1s 11ms/sample - loss: 4.3083e-04 - mae: 0.0175\n",
      "Epoch 15/100\n",
      "73/73 [==============================] - 1s 11ms/sample - loss: 2.7958e-04 - mae: 0.01360s - loss: 5.3626e-04 -\n",
      "Epoch 16/100\n",
      "73/73 [==============================] - 1s 11ms/sample - loss: 2.2026e-04 - mae: 0.0120\n",
      "Epoch 17/100\n",
      "73/73 [==============================] - 1s 12ms/sample - loss: 2.1686e-04 - mae: 0.0122\n",
      "Epoch 18/100\n",
      "73/73 [==============================] - 1s 11ms/sample - loss: 2.2121e-04 - mae: 0.0121\n",
      "Epoch 19/100\n",
      "73/73 [==============================] - 1s 11ms/sample - loss: 2.0139e-04 - mae: 0.0118\n",
      "Epoch 20/100\n",
      "73/73 [==============================] - 1s 10ms/sample - loss: 1.8610e-04 - mae: 0.0110\n",
      "Epoch 21/100\n",
      "73/73 [==============================] - 1s 10ms/sample - loss: 2.6394e-04 - mae: 0.0134\n",
      "Epoch 22/100\n",
      "73/73 [==============================] - 1s 11ms/sample - loss: 2.6018e-04 - mae: 0.0138\n"
     ]
    },
    {
     "name": "stderr",
     "output_type": "stream",
     "text": [
      "W0923 15:54:00.153318 18616 training.py:504] Falling back from v2 loop because of error: Failed to find data adapter that can handle input: <class 'pandas.core.frame.DataFrame'>, <class 'NoneType'>\n"
     ]
    },
    {
     "name": "stdout",
     "output_type": "stream",
     "text": [
      "Epoch 00022: early stopping\n",
      "2019KT =======================================\n"
     ]
    },
    {
     "name": "stderr",
     "output_type": "stream",
     "text": [
      "W0923 15:54:00.563222 18616 training.py:504] Falling back from v2 loop because of error: Failed to find data adapter that can handle input: <class 'pandas.core.frame.DataFrame'>, <class 'NoneType'>\n"
     ]
    },
    {
     "name": "stdout",
     "output_type": "stream",
     "text": [
      "Model: \"sequential\"\n",
      "_________________________________________________________________\n",
      "Layer (type)                 Output Shape              Param #   \n",
      "=================================================================\n",
      "dense (Dense)                (None, 1024)              48128     \n",
      "_________________________________________________________________\n",
      "dense_1 (Dense)              (None, 1024)              1049600   \n",
      "_________________________________________________________________\n",
      "dense_2 (Dense)              (None, 1024)              1049600   \n",
      "_________________________________________________________________\n",
      "dense_3 (Dense)              (None, 1)                 1025      \n",
      "=================================================================\n",
      "Total params: 2,148,353\n",
      "Trainable params: 2,148,353\n",
      "Non-trainable params: 0\n",
      "_________________________________________________________________\n",
      "Train on 73 samples\n",
      "Epoch 1/100\n",
      "73/73 [==============================] - 1s 10ms/sample - loss: 175.8608 - mae: 1.7794\n",
      "Epoch 2/100\n",
      "73/73 [==============================] - 1s 11ms/sample - loss: 0.0014 - mae: 0.0286TA: 0s - loss: 0.0045 - ma\n",
      "Epoch 3/100\n",
      "73/73 [==============================] - 1s 11ms/sample - loss: 8.7064e-04 - mae: 0.0235\n",
      "Epoch 4/100\n",
      "73/73 [==============================] - 1s 11ms/sample - loss: 6.2614e-04 - mae: 0.0190\n",
      "Epoch 5/100\n",
      "73/73 [==============================] - 1s 10ms/sample - loss: 0.0012 - mae: 0.0298\n",
      "Epoch 6/100\n",
      "73/73 [==============================] - 1s 9ms/sample - loss: 6.2455e-04 - mae: 0.0200\n",
      "Epoch 7/100\n",
      "73/73 [==============================] - 1s 10ms/sample - loss: 5.4949e-04 - mae: 0.0185\n",
      "Epoch 8/100\n",
      "73/73 [==============================] - 1s 10ms/sample - loss: 3.7302e-04 - mae: 0.0158\n",
      "Epoch 9/100\n",
      "73/73 [==============================] - 1s 9ms/sample - loss: 3.1478e-04 - mae: 0.0139\n",
      "Epoch 10/100\n",
      "73/73 [==============================] - 1s 9ms/sample - loss: 3.9324e-04 - mae: 0.0167\n",
      "Epoch 11/100\n",
      "73/73 [==============================] - 1s 9ms/sample - loss: 2.7409e-04 - mae: 0.0127\n",
      "Epoch 12/100\n",
      "73/73 [==============================] - 1s 11ms/sample - loss: 2.1798e-04 - mae: 0.0116\n",
      "Epoch 13/100\n",
      "73/73 [==============================] - 1s 11ms/sample - loss: 4.0927e-04 - mae: 0.0165\n",
      "Epoch 14/100\n",
      "73/73 [==============================] - 1s 10ms/sample - loss: 3.6719e-04 - mae: 0.0157\n"
     ]
    },
    {
     "name": "stderr",
     "output_type": "stream",
     "text": [
      "W0923 15:54:11.573785 18616 training.py:504] Falling back from v2 loop because of error: Failed to find data adapter that can handle input: <class 'pandas.core.frame.DataFrame'>, <class 'NoneType'>\n"
     ]
    },
    {
     "name": "stdout",
     "output_type": "stream",
     "text": [
      "Epoch 00014: early stopping\n",
      "2019WO =======================================\n"
     ]
    },
    {
     "name": "stderr",
     "output_type": "stream",
     "text": [
      "W0923 15:54:11.801176 18616 training.py:504] Falling back from v2 loop because of error: Failed to find data adapter that can handle input: <class 'pandas.core.frame.DataFrame'>, <class 'NoneType'>\n"
     ]
    },
    {
     "name": "stdout",
     "output_type": "stream",
     "text": [
      "Model: \"sequential\"\n",
      "_________________________________________________________________\n",
      "Layer (type)                 Output Shape              Param #   \n",
      "=================================================================\n",
      "dense (Dense)                (None, 1024)              48128     \n",
      "_________________________________________________________________\n",
      "dense_1 (Dense)              (None, 1024)              1049600   \n",
      "_________________________________________________________________\n",
      "dense_2 (Dense)              (None, 1024)              1049600   \n",
      "_________________________________________________________________\n",
      "dense_3 (Dense)              (None, 1)                 1025      \n",
      "=================================================================\n",
      "Total params: 2,148,353\n",
      "Trainable params: 2,148,353\n",
      "Non-trainable params: 0\n",
      "_________________________________________________________________\n",
      "Train on 73 samples\n",
      "Epoch 1/100\n",
      "73/73 [==============================] - 1s 10ms/sample - loss: 310.0858 - mae: 2.2934\n",
      "Epoch 2/100\n",
      "73/73 [==============================] - 1s 9ms/sample - loss: 0.0066 - mae: 0.0655\n",
      "Epoch 3/100\n",
      "73/73 [==============================] - 1s 9ms/sample - loss: 5.7580e-04 - mae: 0.0196\n",
      "Epoch 4/100\n",
      "73/73 [==============================] - 1s 9ms/sample - loss: 3.2488e-04 - mae: 0.0130 0s - loss: 1.8996e-04 - \n",
      "Epoch 5/100\n",
      "73/73 [==============================] - 1s 8ms/sample - loss: 3.9771e-04 - mae: 0.0162\n",
      "Epoch 6/100\n",
      "73/73 [==============================] - 1s 9ms/sample - loss: 6.2985e-04 - mae: 0.0200\n"
     ]
    },
    {
     "name": "stderr",
     "output_type": "stream",
     "text": [
      "W0923 15:54:16.215373 18616 training.py:504] Falling back from v2 loop because of error: Failed to find data adapter that can handle input: <class 'pandas.core.frame.DataFrame'>, <class 'NoneType'>\n"
     ]
    },
    {
     "name": "stdout",
     "output_type": "stream",
     "text": [
      "Epoch 00006: early stopping\n",
      "2019LT =======================================\n"
     ]
    },
    {
     "name": "stderr",
     "output_type": "stream",
     "text": [
      "W0923 15:54:16.567431 18616 training.py:504] Falling back from v2 loop because of error: Failed to find data adapter that can handle input: <class 'pandas.core.frame.DataFrame'>, <class 'NoneType'>\n"
     ]
    },
    {
     "name": "stdout",
     "output_type": "stream",
     "text": [
      "Model: \"sequential\"\n",
      "_________________________________________________________________\n",
      "Layer (type)                 Output Shape              Param #   \n",
      "=================================================================\n",
      "dense (Dense)                (None, 1024)              48128     \n",
      "_________________________________________________________________\n",
      "dense_1 (Dense)              (None, 1024)              1049600   \n",
      "_________________________________________________________________\n",
      "dense_2 (Dense)              (None, 1024)              1049600   \n",
      "_________________________________________________________________\n",
      "dense_3 (Dense)              (None, 1)                 1025      \n",
      "=================================================================\n",
      "Total params: 2,148,353\n",
      "Trainable params: 2,148,353\n",
      "Non-trainable params: 0\n",
      "_________________________________________________________________\n",
      "Train on 73 samples\n",
      "Epoch 1/100\n",
      "73/73 [==============================] - 1s 10ms/sample - loss: 282.9394 - mae: 2.1740\n",
      "Epoch 2/100\n",
      "73/73 [==============================] - 1s 9ms/sample - loss: 0.0010 - mae: 0.0234\n",
      "Epoch 3/100\n",
      "73/73 [==============================] - 1s 9ms/sample - loss: 3.5327e-04 - mae: 0.0148\n",
      "Epoch 4/100\n",
      "73/73 [==============================] - 1s 10ms/sample - loss: 4.3233e-04 - mae: 0.0170\n",
      "Epoch 5/100\n",
      "73/73 [==============================] - 1s 9ms/sample - loss: 6.0302e-04 - mae: 0.0205\n"
     ]
    },
    {
     "name": "stderr",
     "output_type": "stream",
     "text": [
      "W0923 15:54:20.687416 18616 training.py:504] Falling back from v2 loop because of error: Failed to find data adapter that can handle input: <class 'pandas.core.frame.DataFrame'>, <class 'NoneType'>\n"
     ]
    },
    {
     "name": "stdout",
     "output_type": "stream",
     "text": [
      "Epoch 00005: early stopping\n",
      "2019SS =======================================\n"
     ]
    },
    {
     "name": "stderr",
     "output_type": "stream",
     "text": [
      "W0923 15:54:20.920793 18616 training.py:504] Falling back from v2 loop because of error: Failed to find data adapter that can handle input: <class 'pandas.core.frame.DataFrame'>, <class 'NoneType'>\n"
     ]
    },
    {
     "name": "stdout",
     "output_type": "stream",
     "text": [
      "Model: \"sequential\"\n",
      "_________________________________________________________________\n",
      "Layer (type)                 Output Shape              Param #   \n",
      "=================================================================\n",
      "dense (Dense)                (None, 1024)              48128     \n",
      "_________________________________________________________________\n",
      "dense_1 (Dense)              (None, 1024)              1049600   \n",
      "_________________________________________________________________\n",
      "dense_2 (Dense)              (None, 1024)              1049600   \n",
      "_________________________________________________________________\n",
      "dense_3 (Dense)              (None, 1)                 1025      \n",
      "=================================================================\n",
      "Total params: 2,148,353\n",
      "Trainable params: 2,148,353\n",
      "Non-trainable params: 0\n",
      "_________________________________________________________________\n",
      "Train on 73 samples\n",
      "Epoch 1/100\n",
      "73/73 [==============================] - 1s 10ms/sample - loss: 240.4133 - mae: 2.0188\n",
      "Epoch 2/100\n",
      "73/73 [==============================] - 1s 10ms/sample - loss: 4.3698e-04 - mae: 0.0174\n",
      "Epoch 3/100\n",
      "73/73 [==============================] - 1s 11ms/sample - loss: 4.3965e-04 - mae: 0.0166\n",
      "Epoch 4/100\n",
      "73/73 [==============================] - 1s 9ms/sample - loss: 3.8649e-04 - mae: 0.0154\n",
      "Epoch 5/100\n",
      "73/73 [==============================] - 1s 9ms/sample - loss: 2.5101e-04 - mae: 0.0128\n",
      "Epoch 6/100\n",
      "73/73 [==============================] - 1s 9ms/sample - loss: 2.8817e-04 - mae: 0.0134\n",
      "Epoch 7/100\n",
      "73/73 [==============================] - 1s 9ms/sample - loss: 2.7763e-04 - mae: 0.0133\n"
     ]
    },
    {
     "name": "stderr",
     "output_type": "stream",
     "text": [
      "W0923 15:54:26.238573 18616 training.py:504] Falling back from v2 loop because of error: Failed to find data adapter that can handle input: <class 'pandas.core.frame.DataFrame'>, <class 'NoneType'>\n"
     ]
    },
    {
     "name": "stdout",
     "output_type": "stream",
     "text": [
      "Epoch 00007: early stopping\n",
      "2019OB =======================================\n"
     ]
    },
    {
     "name": "stderr",
     "output_type": "stream",
     "text": [
      "W0923 15:54:26.470953 18616 training.py:504] Falling back from v2 loop because of error: Failed to find data adapter that can handle input: <class 'pandas.core.frame.DataFrame'>, <class 'NoneType'>\n"
     ]
    },
    {
     "name": "stdout",
     "output_type": "stream",
     "text": [
      "Model: \"sequential\"\n",
      "_________________________________________________________________\n",
      "Layer (type)                 Output Shape              Param #   \n",
      "=================================================================\n",
      "dense (Dense)                (None, 1024)              48128     \n",
      "_________________________________________________________________\n",
      "dense_1 (Dense)              (None, 1024)              1049600   \n",
      "_________________________________________________________________\n",
      "dense_2 (Dense)              (None, 1024)              1049600   \n",
      "_________________________________________________________________\n",
      "dense_3 (Dense)              (None, 1)                 1025      \n",
      "=================================================================\n",
      "Total params: 2,148,353\n",
      "Trainable params: 2,148,353\n",
      "Non-trainable params: 0\n",
      "_________________________________________________________________\n",
      "Train on 73 samples\n",
      "Epoch 1/100\n",
      "73/73 [==============================] - 1s 9ms/sample - loss: 308.8204 - mae: 2.3120\n",
      "Epoch 2/100\n",
      "73/73 [==============================] - 1s 9ms/sample - loss: 9.8467e-04 - mae: 0.0252\n",
      "Epoch 3/100\n",
      "73/73 [==============================] - 1s 9ms/sample - loss: 5.2642e-04 - mae: 0.0182\n",
      "Epoch 4/100\n",
      "73/73 [==============================] - 1s 10ms/sample - loss: 4.3022e-04 - mae: 0.0165\n",
      "Epoch 5/100\n",
      "73/73 [==============================] - 1s 11ms/sample - loss: 3.3058e-04 - mae: 0.0147\n",
      "Epoch 6/100\n",
      "73/73 [==============================] - 1s 9ms/sample - loss: 5.2106e-04 - mae: 0.0180\n",
      "Epoch 7/100\n",
      "73/73 [==============================] - 1s 9ms/sample - loss: 3.9430e-04 - mae: 0.0157\n"
     ]
    },
    {
     "name": "stderr",
     "output_type": "stream",
     "text": [
      "W0923 15:54:31.751833 18616 training.py:504] Falling back from v2 loop because of error: Failed to find data adapter that can handle input: <class 'pandas.core.frame.DataFrame'>, <class 'NoneType'>\n"
     ]
    },
    {
     "name": "stdout",
     "output_type": "stream",
     "text": [
      "Epoch 00007: early stopping\n"
     ]
    },
    {
     "ename": "KeyError",
     "evalue": "\"['shift_AVG_1', 'shift_AVG_2'] not in index\"",
     "output_type": "error",
     "traceback": [
      "\u001b[1;31m---------------------------------------------------------------------------\u001b[0m",
      "\u001b[1;31mKeyError\u001b[0m                                  Traceback (most recent call last)",
      "\u001b[1;32m<ipython-input-43-2c7a5c71e238>\u001b[0m in \u001b[0;36m<module>\u001b[1;34m\u001b[0m\n\u001b[0;32m     62\u001b[0m         \u001b[0midx\u001b[0m \u001b[1;33m+=\u001b[0m \u001b[1;36m1\u001b[0m\u001b[1;33m\u001b[0m\u001b[1;33m\u001b[0m\u001b[0m\n\u001b[0;32m     63\u001b[0m \u001b[1;33m\u001b[0m\u001b[0m\n\u001b[1;32m---> 64\u001b[1;33m \u001b[0mtest_pred_df\u001b[0m\u001b[1;33m[\u001b[0m\u001b[1;33m[\u001b[0m\u001b[1;34m'y'\u001b[0m\u001b[1;33m,\u001b[0m\u001b[1;34m'y_pred'\u001b[0m\u001b[1;33m,\u001b[0m\u001b[1;34m\"shift_AVG_1\"\u001b[0m\u001b[1;33m,\u001b[0m\u001b[1;34m\"shift_AVG_2\"\u001b[0m\u001b[1;33m,\u001b[0m\u001b[1;34m'MSE'\u001b[0m\u001b[1;33m,\u001b[0m\u001b[1;34m'MSE_avg'\u001b[0m\u001b[1;33m]\u001b[0m\u001b[1;33m]\u001b[0m \u001b[1;33m=\u001b[0m \u001b[0mtest_pred_df\u001b[0m\u001b[1;33m[\u001b[0m\u001b[1;33m[\u001b[0m\u001b[1;34m'y'\u001b[0m\u001b[1;33m,\u001b[0m\u001b[1;34m'y_pred'\u001b[0m\u001b[1;33m,\u001b[0m\u001b[1;34m\"shift_AVG_1\"\u001b[0m\u001b[1;33m,\u001b[0m\u001b[1;34m\"shift_AVG_2\"\u001b[0m\u001b[1;33m,\u001b[0m\u001b[1;34m'MSE'\u001b[0m\u001b[1;33m,\u001b[0m\u001b[1;34m'MSE_avg'\u001b[0m\u001b[1;33m]\u001b[0m\u001b[1;33m]\u001b[0m\u001b[1;33m.\u001b[0m\u001b[0mastype\u001b[0m\u001b[1;33m(\u001b[0m\u001b[0mfloat\u001b[0m\u001b[1;33m)\u001b[0m\u001b[1;33m\u001b[0m\u001b[1;33m\u001b[0m\u001b[0m\n\u001b[0m",
      "\u001b[1;32m~\\Anaconda3\\lib\\site-packages\\pandas\\core\\frame.py\u001b[0m in \u001b[0;36m__getitem__\u001b[1;34m(self, key)\u001b[0m\n\u001b[0;32m   2932\u001b[0m                 \u001b[0mkey\u001b[0m \u001b[1;33m=\u001b[0m \u001b[0mlist\u001b[0m\u001b[1;33m(\u001b[0m\u001b[0mkey\u001b[0m\u001b[1;33m)\u001b[0m\u001b[1;33m\u001b[0m\u001b[1;33m\u001b[0m\u001b[0m\n\u001b[0;32m   2933\u001b[0m             indexer = self.loc._convert_to_indexer(key, axis=1,\n\u001b[1;32m-> 2934\u001b[1;33m                                                    raise_missing=True)\n\u001b[0m\u001b[0;32m   2935\u001b[0m \u001b[1;33m\u001b[0m\u001b[0m\n\u001b[0;32m   2936\u001b[0m         \u001b[1;31m# take() does not accept boolean indexers\u001b[0m\u001b[1;33m\u001b[0m\u001b[1;33m\u001b[0m\u001b[1;33m\u001b[0m\u001b[0m\n",
      "\u001b[1;32m~\\Anaconda3\\lib\\site-packages\\pandas\\core\\indexing.py\u001b[0m in \u001b[0;36m_convert_to_indexer\u001b[1;34m(self, obj, axis, is_setter, raise_missing)\u001b[0m\n\u001b[0;32m   1352\u001b[0m                 kwargs = {'raise_missing': True if is_setter else\n\u001b[0;32m   1353\u001b[0m                           raise_missing}\n\u001b[1;32m-> 1354\u001b[1;33m                 \u001b[1;32mreturn\u001b[0m \u001b[0mself\u001b[0m\u001b[1;33m.\u001b[0m\u001b[0m_get_listlike_indexer\u001b[0m\u001b[1;33m(\u001b[0m\u001b[0mobj\u001b[0m\u001b[1;33m,\u001b[0m \u001b[0maxis\u001b[0m\u001b[1;33m,\u001b[0m \u001b[1;33m**\u001b[0m\u001b[0mkwargs\u001b[0m\u001b[1;33m)\u001b[0m\u001b[1;33m[\u001b[0m\u001b[1;36m1\u001b[0m\u001b[1;33m]\u001b[0m\u001b[1;33m\u001b[0m\u001b[1;33m\u001b[0m\u001b[0m\n\u001b[0m\u001b[0;32m   1355\u001b[0m         \u001b[1;32melse\u001b[0m\u001b[1;33m:\u001b[0m\u001b[1;33m\u001b[0m\u001b[1;33m\u001b[0m\u001b[0m\n\u001b[0;32m   1356\u001b[0m             \u001b[1;32mtry\u001b[0m\u001b[1;33m:\u001b[0m\u001b[1;33m\u001b[0m\u001b[1;33m\u001b[0m\u001b[0m\n",
      "\u001b[1;32m~\\Anaconda3\\lib\\site-packages\\pandas\\core\\indexing.py\u001b[0m in \u001b[0;36m_get_listlike_indexer\u001b[1;34m(self, key, axis, raise_missing)\u001b[0m\n\u001b[0;32m   1159\u001b[0m         self._validate_read_indexer(keyarr, indexer,\n\u001b[0;32m   1160\u001b[0m                                     \u001b[0mo\u001b[0m\u001b[1;33m.\u001b[0m\u001b[0m_get_axis_number\u001b[0m\u001b[1;33m(\u001b[0m\u001b[0maxis\u001b[0m\u001b[1;33m)\u001b[0m\u001b[1;33m,\u001b[0m\u001b[1;33m\u001b[0m\u001b[1;33m\u001b[0m\u001b[0m\n\u001b[1;32m-> 1161\u001b[1;33m                                     raise_missing=raise_missing)\n\u001b[0m\u001b[0;32m   1162\u001b[0m         \u001b[1;32mreturn\u001b[0m \u001b[0mkeyarr\u001b[0m\u001b[1;33m,\u001b[0m \u001b[0mindexer\u001b[0m\u001b[1;33m\u001b[0m\u001b[1;33m\u001b[0m\u001b[0m\n\u001b[0;32m   1163\u001b[0m \u001b[1;33m\u001b[0m\u001b[0m\n",
      "\u001b[1;32m~\\Anaconda3\\lib\\site-packages\\pandas\\core\\indexing.py\u001b[0m in \u001b[0;36m_validate_read_indexer\u001b[1;34m(self, key, indexer, axis, raise_missing)\u001b[0m\n\u001b[0;32m   1250\u001b[0m             \u001b[1;32mif\u001b[0m \u001b[1;32mnot\u001b[0m\u001b[1;33m(\u001b[0m\u001b[0mself\u001b[0m\u001b[1;33m.\u001b[0m\u001b[0mname\u001b[0m \u001b[1;33m==\u001b[0m \u001b[1;34m'loc'\u001b[0m \u001b[1;32mand\u001b[0m \u001b[1;32mnot\u001b[0m \u001b[0mraise_missing\u001b[0m\u001b[1;33m)\u001b[0m\u001b[1;33m:\u001b[0m\u001b[1;33m\u001b[0m\u001b[1;33m\u001b[0m\u001b[0m\n\u001b[0;32m   1251\u001b[0m                 \u001b[0mnot_found\u001b[0m \u001b[1;33m=\u001b[0m \u001b[0mlist\u001b[0m\u001b[1;33m(\u001b[0m\u001b[0mset\u001b[0m\u001b[1;33m(\u001b[0m\u001b[0mkey\u001b[0m\u001b[1;33m)\u001b[0m \u001b[1;33m-\u001b[0m \u001b[0mset\u001b[0m\u001b[1;33m(\u001b[0m\u001b[0max\u001b[0m\u001b[1;33m)\u001b[0m\u001b[1;33m)\u001b[0m\u001b[1;33m\u001b[0m\u001b[1;33m\u001b[0m\u001b[0m\n\u001b[1;32m-> 1252\u001b[1;33m                 \u001b[1;32mraise\u001b[0m \u001b[0mKeyError\u001b[0m\u001b[1;33m(\u001b[0m\u001b[1;34m\"{} not in index\"\u001b[0m\u001b[1;33m.\u001b[0m\u001b[0mformat\u001b[0m\u001b[1;33m(\u001b[0m\u001b[0mnot_found\u001b[0m\u001b[1;33m)\u001b[0m\u001b[1;33m)\u001b[0m\u001b[1;33m\u001b[0m\u001b[1;33m\u001b[0m\u001b[0m\n\u001b[0m\u001b[0;32m   1253\u001b[0m \u001b[1;33m\u001b[0m\u001b[0m\n\u001b[0;32m   1254\u001b[0m             \u001b[1;31m# we skip the warning on Categorical/Interval\u001b[0m\u001b[1;33m\u001b[0m\u001b[1;33m\u001b[0m\u001b[1;33m\u001b[0m\u001b[0m\n",
      "\u001b[1;31mKeyError\u001b[0m: \"['shift_AVG_1', 'shift_AVG_2'] not in index\""
     ]
    }
   ],
   "source": [
    "model_dict = dict()\n",
    "hist_dict = dict()\n",
    "test_pred_df = pd.DataFrame([],columns = ['YEAR','T_ID','y','y_pred','MSE','MSE_avg'])\n",
    "\n",
    "idx = 0\n",
    "for y in year:\n",
    "    tmp1 = lstm_train_X[lstm_train_X[\"YEAR\"] == y]\n",
    "    tmp2 = lstm_train_y[lstm_train_y[\"YEAR\"] == y]\n",
    "    tmp3 = lstm_test_X[lstm_test_X[\"YEAR\"] == y]\n",
    "    tmp4 = lstm_test_y[lstm_test_y[\"YEAR\"] == y]\n",
    "    for t in team:\n",
    "        name = '{}{}'.format(y,t)\n",
    "        print(name,\"=======================================\")\n",
    "        \n",
    "        X_train = tmp1[tmp1[\"T_ID\"] == t].drop([\"T_ID\",\"YEAR\"],axis = 1)\n",
    "        y_train = tmp2[tmp2[\"T_ID\"] == t].drop([\"T_ID\",\"YEAR\"],axis=1)\n",
    "        X_test = tmp3[tmp3[\"T_ID\"] == t].drop([\"T_ID\",\"YEAR\"],axis=1)\n",
    "        y_test = tmp4[tmp4[\"T_ID\"] == t].drop([\"T_ID\",\"YEAR\"],axis=1)\n",
    "        \n",
    "        X_train_v = X_train.values\n",
    "        y_train_v = y_train.values\n",
    "\n",
    "        X_test_v = X_test.values\n",
    "        y_test_v = y_test.values\n",
    "        \"\"\"\n",
    "        X_train_t = X_train_v.reshape(X_train_v.shape[0], 2,X_train_v.shape[1]//2)\n",
    "        X_test_t = X_test_v.reshape(X_test_v.shape[0], 2,X_test_v.shape[1]//2)\n",
    "        \"\"\"\n",
    "        \n",
    "        ## model\n",
    "        K.clear_session() \n",
    "        \n",
    "        model = Sequential()\n",
    "        optimizer = Adam(lr=0.01)\n",
    "        model.add(Dense(1024, input_shape = [X_train.shape[1]]))\n",
    "        model.add(Dense(1024))\n",
    "        model.add(Dense(1024))\n",
    "        model.add(Dense(1024))\n",
    "        model.add(Dense(1024))\n",
    "        model.add(Dense(1)) # output = 1\n",
    "        model.compile(loss='mean_squared_error', optimizer=optimizer,metrics=['mae'])\n",
    "\n",
    "       \n",
    "        model.summary()\n",
    "        \n",
    "        early_stop = EarlyStopping(monitor='loss', mode = 'min',patience=2, verbose=1)\n",
    "\n",
    "        hist1 = model.fit(X_train, y_train, epochs=100,\n",
    "                  batch_size=1, verbose=1, callbacks=[early_stop])\n",
    "        ##\n",
    "        \n",
    "        model_dict[name] = model\n",
    "        hist_dict[name] = hist1\n",
    "        \n",
    "        y_pred = model.predict(X_test)\n",
    "        mse = mean_squared_error(y_test, y_pred)\n",
    "        \n",
    "        ######### MSE AVG#########\n",
    "        mse_avg = mean_squared_error(y_test,[y_train.mean()[0]])\n",
    "        \n",
    "        \n",
    "        test_pred_df.loc[idx,:] = [y,t,y_test_v.reshape(-1)[0],y_pred.reshape(-1)[0], mse,mse_avg]\n",
    "\n",
    "        idx += 1\n",
    "\n",
    "test_pred_df[['y','y_pred',\"shift_AVG_1\",\"shift_AVG_2\",'MSE','MSE_avg']] = test_pred_df[['y','y_pred',\"shift_AVG_1\",\"shift_AVG_2\",'MSE','MSE_avg']].astype(float)"
   ]
  },
  {
   "cell_type": "code",
   "execution_count": 46,
   "metadata": {},
   "outputs": [
    {
     "data": {
      "text/html": [
       "<div>\n",
       "<style scoped>\n",
       "    .dataframe tbody tr th:only-of-type {\n",
       "        vertical-align: middle;\n",
       "    }\n",
       "\n",
       "    .dataframe tbody tr th {\n",
       "        vertical-align: top;\n",
       "    }\n",
       "\n",
       "    .dataframe thead th {\n",
       "        text-align: right;\n",
       "    }\n",
       "</style>\n",
       "<table border=\"1\" class=\"dataframe\">\n",
       "  <thead>\n",
       "    <tr style=\"text-align: right;\">\n",
       "      <th></th>\n",
       "      <th>YEAR</th>\n",
       "      <th>T_ID</th>\n",
       "      <th>y</th>\n",
       "      <th>y_pred</th>\n",
       "      <th>MSE</th>\n",
       "      <th>MSE_avg</th>\n",
       "    </tr>\n",
       "  </thead>\n",
       "  <tbody>\n",
       "    <tr>\n",
       "      <th>0</th>\n",
       "      <td>2016</td>\n",
       "      <td>LG</td>\n",
       "      <td>0.296069</td>\n",
       "      <td>0.304457</td>\n",
       "      <td>7.03566e-05</td>\n",
       "      <td>3.7316e-05</td>\n",
       "    </tr>\n",
       "    <tr>\n",
       "      <th>1</th>\n",
       "      <td>2016</td>\n",
       "      <td>HH</td>\n",
       "      <td>0.288575</td>\n",
       "      <td>0.290199</td>\n",
       "      <td>2.63944e-06</td>\n",
       "      <td>0.000133732</td>\n",
       "    </tr>\n",
       "    <tr>\n",
       "      <th>2</th>\n",
       "      <td>2016</td>\n",
       "      <td>NC</td>\n",
       "      <td>0.28744</td>\n",
       "      <td>0.270944</td>\n",
       "      <td>0.000272116</td>\n",
       "      <td>3.88079e-05</td>\n",
       "    </tr>\n",
       "    <tr>\n",
       "      <th>3</th>\n",
       "      <td>2016</td>\n",
       "      <td>HT</td>\n",
       "      <td>0.256739</td>\n",
       "      <td>0.315943</td>\n",
       "      <td>0.00350509</td>\n",
       "      <td>0.00136878</td>\n",
       "    </tr>\n",
       "    <tr>\n",
       "      <th>4</th>\n",
       "      <td>2016</td>\n",
       "      <td>SK</td>\n",
       "      <td>0.305263</td>\n",
       "      <td>0.280003</td>\n",
       "      <td>0.000638101</td>\n",
       "      <td>3.75366e-05</td>\n",
       "    </tr>\n",
       "    <tr>\n",
       "      <th>5</th>\n",
       "      <td>2016</td>\n",
       "      <td>KT</td>\n",
       "      <td>0.295455</td>\n",
       "      <td>0.314563</td>\n",
       "      <td>0.000365121</td>\n",
       "      <td>0.000734129</td>\n",
       "    </tr>\n",
       "    <tr>\n",
       "      <th>6</th>\n",
       "      <td>2016</td>\n",
       "      <td>WO</td>\n",
       "      <td>0.289941</td>\n",
       "      <td>0.283091</td>\n",
       "      <td>4.69184e-05</td>\n",
       "      <td>9.82956e-05</td>\n",
       "    </tr>\n",
       "    <tr>\n",
       "      <th>7</th>\n",
       "      <td>2016</td>\n",
       "      <td>LT</td>\n",
       "      <td>0.309893</td>\n",
       "      <td>0.256867</td>\n",
       "      <td>0.00281171</td>\n",
       "      <td>0.000666009</td>\n",
       "    </tr>\n",
       "    <tr>\n",
       "      <th>8</th>\n",
       "      <td>2016</td>\n",
       "      <td>SS</td>\n",
       "      <td>0.283863</td>\n",
       "      <td>0.284588</td>\n",
       "      <td>5.25017e-07</td>\n",
       "      <td>9.98067e-05</td>\n",
       "    </tr>\n",
       "    <tr>\n",
       "      <th>9</th>\n",
       "      <td>2016</td>\n",
       "      <td>OB</td>\n",
       "      <td>0.298225</td>\n",
       "      <td>0.2939</td>\n",
       "      <td>1.87011e-05</td>\n",
       "      <td>1.62505e-05</td>\n",
       "    </tr>\n",
       "    <tr>\n",
       "      <th>10</th>\n",
       "      <td>2017</td>\n",
       "      <td>LG</td>\n",
       "      <td>0.274136</td>\n",
       "      <td>0.289814</td>\n",
       "      <td>0.000245795</td>\n",
       "      <td>0.000241413</td>\n",
       "    </tr>\n",
       "    <tr>\n",
       "      <th>11</th>\n",
       "      <td>2017</td>\n",
       "      <td>HH</td>\n",
       "      <td>0.272944</td>\n",
       "      <td>0.297089</td>\n",
       "      <td>0.000582987</td>\n",
       "      <td>0.000576775</td>\n",
       "    </tr>\n",
       "    <tr>\n",
       "      <th>12</th>\n",
       "      <td>2017</td>\n",
       "      <td>NC</td>\n",
       "      <td>0.329682</td>\n",
       "      <td>0.25366</td>\n",
       "      <td>0.0057794</td>\n",
       "      <td>0.00102854</td>\n",
       "    </tr>\n",
       "    <tr>\n",
       "      <th>13</th>\n",
       "      <td>2017</td>\n",
       "      <td>HT</td>\n",
       "      <td>0.294464</td>\n",
       "      <td>0.312141</td>\n",
       "      <td>0.000312477</td>\n",
       "      <td>0.000505421</td>\n",
       "    </tr>\n",
       "    <tr>\n",
       "      <th>14</th>\n",
       "      <td>2017</td>\n",
       "      <td>SK</td>\n",
       "      <td>0.28416</td>\n",
       "      <td>0.260881</td>\n",
       "      <td>0.00054188</td>\n",
       "      <td>0.000407679</td>\n",
       "    </tr>\n",
       "    <tr>\n",
       "      <th>15</th>\n",
       "      <td>2017</td>\n",
       "      <td>KT</td>\n",
       "      <td>0.303592</td>\n",
       "      <td>0.242481</td>\n",
       "      <td>0.00373456</td>\n",
       "      <td>0.000511633</td>\n",
       "    </tr>\n",
       "    <tr>\n",
       "      <th>16</th>\n",
       "      <td>2017</td>\n",
       "      <td>WO</td>\n",
       "      <td>0.276888</td>\n",
       "      <td>0.287538</td>\n",
       "      <td>0.000113421</td>\n",
       "      <td>0.000311399</td>\n",
       "    </tr>\n",
       "    <tr>\n",
       "      <th>17</th>\n",
       "      <td>2017</td>\n",
       "      <td>LT</td>\n",
       "      <td>0.297794</td>\n",
       "      <td>0.291516</td>\n",
       "      <td>3.94158e-05</td>\n",
       "      <td>0.000308332</td>\n",
       "    </tr>\n",
       "    <tr>\n",
       "      <th>18</th>\n",
       "      <td>2017</td>\n",
       "      <td>SS</td>\n",
       "      <td>0.293588</td>\n",
       "      <td>0.331613</td>\n",
       "      <td>0.00144589</td>\n",
       "      <td>0.000159681</td>\n",
       "    </tr>\n",
       "    <tr>\n",
       "      <th>19</th>\n",
       "      <td>2017</td>\n",
       "      <td>OB</td>\n",
       "      <td>0.288757</td>\n",
       "      <td>0.292983</td>\n",
       "      <td>1.78554e-05</td>\n",
       "      <td>0.000266941</td>\n",
       "    </tr>\n",
       "    <tr>\n",
       "      <th>20</th>\n",
       "      <td>2018</td>\n",
       "      <td>LG</td>\n",
       "      <td>0.268675</td>\n",
       "      <td>0.294453</td>\n",
       "      <td>0.000664501</td>\n",
       "      <td>0.00108653</td>\n",
       "    </tr>\n",
       "    <tr>\n",
       "      <th>21</th>\n",
       "      <td>2018</td>\n",
       "      <td>HH</td>\n",
       "      <td>0.270758</td>\n",
       "      <td>0.314636</td>\n",
       "      <td>0.00192524</td>\n",
       "      <td>9.22974e-06</td>\n",
       "    </tr>\n",
       "    <tr>\n",
       "      <th>22</th>\n",
       "      <td>2018</td>\n",
       "      <td>NC</td>\n",
       "      <td>0.283636</td>\n",
       "      <td>0.308432</td>\n",
       "      <td>0.000614801</td>\n",
       "      <td>0.000681074</td>\n",
       "    </tr>\n",
       "    <tr>\n",
       "      <th>23</th>\n",
       "      <td>2018</td>\n",
       "      <td>HT</td>\n",
       "      <td>0.293083</td>\n",
       "      <td>0.292233</td>\n",
       "      <td>7.2312e-07</td>\n",
       "      <td>4.10084e-06</td>\n",
       "    </tr>\n",
       "    <tr>\n",
       "      <th>24</th>\n",
       "      <td>2018</td>\n",
       "      <td>SK</td>\n",
       "      <td>0.275089</td>\n",
       "      <td>0.273532</td>\n",
       "      <td>2.4233e-06</td>\n",
       "      <td>2.9248e-05</td>\n",
       "    </tr>\n",
       "    <tr>\n",
       "      <th>25</th>\n",
       "      <td>2018</td>\n",
       "      <td>KT</td>\n",
       "      <td>0.280925</td>\n",
       "      <td>0.254062</td>\n",
       "      <td>0.000721608</td>\n",
       "      <td>0.000125964</td>\n",
       "    </tr>\n",
       "    <tr>\n",
       "      <th>26</th>\n",
       "      <td>2018</td>\n",
       "      <td>WO</td>\n",
       "      <td>0.266908</td>\n",
       "      <td>0.327654</td>\n",
       "      <td>0.00369006</td>\n",
       "      <td>0.00063613</td>\n",
       "    </tr>\n",
       "    <tr>\n",
       "      <th>27</th>\n",
       "      <td>2018</td>\n",
       "      <td>LT</td>\n",
       "      <td>0.300691</td>\n",
       "      <td>0.298797</td>\n",
       "      <td>3.58823e-06</td>\n",
       "      <td>0.000110512</td>\n",
       "    </tr>\n",
       "    <tr>\n",
       "      <th>28</th>\n",
       "      <td>2018</td>\n",
       "      <td>SS</td>\n",
       "      <td>0.295063</td>\n",
       "      <td>0.287475</td>\n",
       "      <td>5.75729e-05</td>\n",
       "      <td>5.67506e-06</td>\n",
       "    </tr>\n",
       "    <tr>\n",
       "      <th>29</th>\n",
       "      <td>2018</td>\n",
       "      <td>OB</td>\n",
       "      <td>0.316629</td>\n",
       "      <td>0.335888</td>\n",
       "      <td>0.00037091</td>\n",
       "      <td>1.15037e-11</td>\n",
       "    </tr>\n",
       "    <tr>\n",
       "      <th>30</th>\n",
       "      <td>2019</td>\n",
       "      <td>LG</td>\n",
       "      <td>0.258809</td>\n",
       "      <td>0.260926</td>\n",
       "      <td>4.47871e-06</td>\n",
       "      <td>2.09665e-06</td>\n",
       "    </tr>\n",
       "    <tr>\n",
       "      <th>31</th>\n",
       "      <td>2019</td>\n",
       "      <td>HH</td>\n",
       "      <td>0.236341</td>\n",
       "      <td>0.176186</td>\n",
       "      <td>0.00361853</td>\n",
       "      <td>0.00109893</td>\n",
       "    </tr>\n",
       "    <tr>\n",
       "      <th>32</th>\n",
       "      <td>2019</td>\n",
       "      <td>NC</td>\n",
       "      <td>0.255611</td>\n",
       "      <td>0.277252</td>\n",
       "      <td>0.000468321</td>\n",
       "      <td>0.000815483</td>\n",
       "    </tr>\n",
       "    <tr>\n",
       "      <th>33</th>\n",
       "      <td>2019</td>\n",
       "      <td>HT</td>\n",
       "      <td>0.264524</td>\n",
       "      <td>0.309076</td>\n",
       "      <td>0.00198485</td>\n",
       "      <td>9.34624e-05</td>\n",
       "    </tr>\n",
       "    <tr>\n",
       "      <th>34</th>\n",
       "      <td>2019</td>\n",
       "      <td>SK</td>\n",
       "      <td>0.233207</td>\n",
       "      <td>0.270084</td>\n",
       "      <td>0.00135994</td>\n",
       "      <td>0.000702116</td>\n",
       "    </tr>\n",
       "    <tr>\n",
       "      <th>35</th>\n",
       "      <td>2019</td>\n",
       "      <td>KT</td>\n",
       "      <td>0.265664</td>\n",
       "      <td>0.258518</td>\n",
       "      <td>5.10623e-05</td>\n",
       "      <td>0.000109486</td>\n",
       "    </tr>\n",
       "    <tr>\n",
       "      <th>36</th>\n",
       "      <td>2019</td>\n",
       "      <td>WO</td>\n",
       "      <td>0.260143</td>\n",
       "      <td>0.242826</td>\n",
       "      <td>0.000299873</td>\n",
       "      <td>0.000299382</td>\n",
       "    </tr>\n",
       "    <tr>\n",
       "      <th>37</th>\n",
       "      <td>2019</td>\n",
       "      <td>LT</td>\n",
       "      <td>0.268657</td>\n",
       "      <td>0.268211</td>\n",
       "      <td>1.99055e-07</td>\n",
       "      <td>4.3185e-05</td>\n",
       "    </tr>\n",
       "    <tr>\n",
       "      <th>38</th>\n",
       "      <td>2019</td>\n",
       "      <td>SS</td>\n",
       "      <td>0.279376</td>\n",
       "      <td>0.25083</td>\n",
       "      <td>0.000814927</td>\n",
       "      <td>7.77008e-05</td>\n",
       "    </tr>\n",
       "    <tr>\n",
       "      <th>39</th>\n",
       "      <td>2019</td>\n",
       "      <td>OB</td>\n",
       "      <td>0.255786</td>\n",
       "      <td>0.231526</td>\n",
       "      <td>0.000588517</td>\n",
       "      <td>1.87448e-05</td>\n",
       "    </tr>\n",
       "  </tbody>\n",
       "</table>\n",
       "</div>"
      ],
      "text/plain": [
       "    YEAR T_ID         y    y_pred          MSE      MSE_avg\n",
       "0   2016   LG  0.296069  0.304457  7.03566e-05   3.7316e-05\n",
       "1   2016   HH  0.288575  0.290199  2.63944e-06  0.000133732\n",
       "2   2016   NC   0.28744  0.270944  0.000272116  3.88079e-05\n",
       "3   2016   HT  0.256739  0.315943   0.00350509   0.00136878\n",
       "4   2016   SK  0.305263  0.280003  0.000638101  3.75366e-05\n",
       "5   2016   KT  0.295455  0.314563  0.000365121  0.000734129\n",
       "6   2016   WO  0.289941  0.283091  4.69184e-05  9.82956e-05\n",
       "7   2016   LT  0.309893  0.256867   0.00281171  0.000666009\n",
       "8   2016   SS  0.283863  0.284588  5.25017e-07  9.98067e-05\n",
       "9   2016   OB  0.298225    0.2939  1.87011e-05  1.62505e-05\n",
       "10  2017   LG  0.274136  0.289814  0.000245795  0.000241413\n",
       "11  2017   HH  0.272944  0.297089  0.000582987  0.000576775\n",
       "12  2017   NC  0.329682   0.25366    0.0057794   0.00102854\n",
       "13  2017   HT  0.294464  0.312141  0.000312477  0.000505421\n",
       "14  2017   SK   0.28416  0.260881   0.00054188  0.000407679\n",
       "15  2017   KT  0.303592  0.242481   0.00373456  0.000511633\n",
       "16  2017   WO  0.276888  0.287538  0.000113421  0.000311399\n",
       "17  2017   LT  0.297794  0.291516  3.94158e-05  0.000308332\n",
       "18  2017   SS  0.293588  0.331613   0.00144589  0.000159681\n",
       "19  2017   OB  0.288757  0.292983  1.78554e-05  0.000266941\n",
       "20  2018   LG  0.268675  0.294453  0.000664501   0.00108653\n",
       "21  2018   HH  0.270758  0.314636   0.00192524  9.22974e-06\n",
       "22  2018   NC  0.283636  0.308432  0.000614801  0.000681074\n",
       "23  2018   HT  0.293083  0.292233   7.2312e-07  4.10084e-06\n",
       "24  2018   SK  0.275089  0.273532   2.4233e-06   2.9248e-05\n",
       "25  2018   KT  0.280925  0.254062  0.000721608  0.000125964\n",
       "26  2018   WO  0.266908  0.327654   0.00369006   0.00063613\n",
       "27  2018   LT  0.300691  0.298797  3.58823e-06  0.000110512\n",
       "28  2018   SS  0.295063  0.287475  5.75729e-05  5.67506e-06\n",
       "29  2018   OB  0.316629  0.335888   0.00037091  1.15037e-11\n",
       "30  2019   LG  0.258809  0.260926  4.47871e-06  2.09665e-06\n",
       "31  2019   HH  0.236341  0.176186   0.00361853   0.00109893\n",
       "32  2019   NC  0.255611  0.277252  0.000468321  0.000815483\n",
       "33  2019   HT  0.264524  0.309076   0.00198485  9.34624e-05\n",
       "34  2019   SK  0.233207  0.270084   0.00135994  0.000702116\n",
       "35  2019   KT  0.265664  0.258518  5.10623e-05  0.000109486\n",
       "36  2019   WO  0.260143  0.242826  0.000299873  0.000299382\n",
       "37  2019   LT  0.268657  0.268211  1.99055e-07   4.3185e-05\n",
       "38  2019   SS  0.279376   0.25083  0.000814927  7.77008e-05\n",
       "39  2019   OB  0.255786  0.231526  0.000588517  1.87448e-05"
      ]
     },
     "execution_count": 46,
     "metadata": {},
     "output_type": "execute_result"
    }
   ],
   "source": [
    "test_pred_df"
   ]
  },
  {
   "cell_type": "code",
   "execution_count": 56,
   "metadata": {},
   "outputs": [
    {
     "data": {
      "text/plain": [
       "-1.3222042274068913"
      ]
     },
     "execution_count": 56,
     "metadata": {},
     "output_type": "execute_result"
    }
   ],
   "source": [
    "from sklearn.metrics import r2_score\n",
    "tmp = test_pred_df.copy()\n",
    "# tmp['half']= 0.5\n",
    "r2_y_predict = r2_score(tmp['y'], tmp['y_pred'])\n",
    "r2_y_predict"
   ]
  },
  {
   "cell_type": "code",
   "execution_count": null,
   "metadata": {},
   "outputs": [],
   "source": []
  }
 ],
 "metadata": {
  "kernelspec": {
   "display_name": "Python 3",
   "language": "python",
   "name": "python3"
  },
  "language_info": {
   "codemirror_mode": {
    "name": "ipython",
    "version": 3
   },
   "file_extension": ".py",
   "mimetype": "text/x-python",
   "name": "python",
   "nbconvert_exporter": "python",
   "pygments_lexer": "ipython3",
   "version": "3.7.3"
  }
 },
 "nbformat": 4,
 "nbformat_minor": 2
}
