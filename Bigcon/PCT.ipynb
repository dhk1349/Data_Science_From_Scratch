{
 "cells": [
  {
   "cell_type": "code",
   "execution_count": 1,
   "metadata": {},
   "outputs": [],
   "source": [
    "import tensorflow as tf\n",
    "import numpy as np\n",
    "\n",
    "from tensorflow import keras\n",
    "from tensorflow.keras.utils import to_categorical\n",
    "\n",
    "from tensorflow.keras.models import Sequential\n",
    "# from tensorflow.keras.utils import np_utils\n",
    "from tensorflow.keras.layers import Dense, LSTM, Dropout\n",
    "from tensorflow.keras import layers \n",
    "import tensorflow.keras.backend as K \n",
    "\n",
    "from tensorflow.keras.optimizers import RMSprop, Adam\n",
    "from tensorflow.keras.callbacks import EarlyStopping\n",
    "\n",
    "from sklearn.metrics import accuracy_score\n",
    "from sklearn.metrics import mean_squared_error\n",
    "from sklearn.preprocessing import MinMaxScaler\n",
    "\n",
    "\n",
    "import pandas as pd\n",
    "\n",
    "import matplotlib.pyplot as plt\n",
    "import seaborn as sns\n",
    "# import plotly.express as px\n",
    "# import plotly.graph_objects as go\n",
    "\n",
    "from math import sqrt"
   ]
  },
  {
   "cell_type": "code",
   "execution_count": 2,
   "metadata": {},
   "outputs": [],
   "source": [
    "lstm_train_X = pd.read_csv(\"PCT\\\\PCT_train_x.csv\")\n",
    "lstm_train_y = pd.read_csv(\"PCT\\\\PCT_train_y.csv\")\n",
    "\n",
    "lstm_test_X = pd.read_csv(\"PCT\\\\PCT_test_x.csv\")\n",
    "lstm_test_y = pd.read_csv(\"PCT\\\\PCT_test_y.csv\")"
   ]
  },
  {
   "cell_type": "code",
   "execution_count": 3,
   "metadata": {},
   "outputs": [],
   "source": [
    "team = list(lstm_train_X.T_ID.unique())\n",
    "year = list(lstm_train_y.YEAR.unique())"
   ]
  },
  {
   "cell_type": "code",
   "execution_count": 4,
   "metadata": {},
   "outputs": [
    {
     "data": {
      "text/plain": [
       "(['LG', 'HH', 'NC', 'HT', 'SK', 'KT', 'WO', 'LT', 'SS', 'OB'],\n",
       " [2016, 2017, 2018, 2019])"
      ]
     },
     "execution_count": 4,
     "metadata": {},
     "output_type": "execute_result"
    }
   ],
   "source": [
    "team, year"
   ]
  },
  {
   "cell_type": "code",
   "execution_count": 7,
   "metadata": {
    "scrolled": true
   },
   "outputs": [
    {
     "name": "stdout",
     "output_type": "stream",
     "text": [
      "2016LG =======================================\n"
     ]
    },
    {
     "name": "stderr",
     "output_type": "stream",
     "text": [
      "W0926 21:43:44.703567 17016 training.py:504] Falling back from v2 loop because of error: Failed to find data adapter that can handle input: <class 'pandas.core.frame.DataFrame'>, <class 'NoneType'>\n"
     ]
    },
    {
     "name": "stdout",
     "output_type": "stream",
     "text": [
      "Model: \"sequential\"\n",
      "_________________________________________________________________\n",
      "Layer (type)                 Output Shape              Param #   \n",
      "=================================================================\n",
      "dense (Dense)                (None, 1024)              59392     \n",
      "_________________________________________________________________\n",
      "dense_1 (Dense)              (None, 1024)              1049600   \n",
      "_________________________________________________________________\n",
      "dense_2 (Dense)              (None, 1024)              1049600   \n",
      "_________________________________________________________________\n",
      "dense_3 (Dense)              (None, 1024)              1049600   \n",
      "_________________________________________________________________\n",
      "dense_4 (Dense)              (None, 1024)              1049600   \n",
      "_________________________________________________________________\n",
      "dense_5 (Dense)              (None, 1)                 1025      \n",
      "=================================================================\n",
      "Total params: 4,258,817\n",
      "Trainable params: 4,258,817\n",
      "Non-trainable params: 0\n",
      "_________________________________________________________________\n",
      "Train on 73 samples\n",
      "Epoch 1/100\n",
      "73/73 [==============================] - 2s 25ms/sample - loss: 38268.6649 - mae: 25.4072\n",
      "Epoch 2/100\n",
      "73/73 [==============================] - 1s 20ms/sample - loss: 0.0393 - mae: 0.1541\n",
      "Epoch 3/100\n",
      "73/73 [==============================] - 2s 22ms/sample - loss: 112.7602 - mae: 5.1195\n",
      "Epoch 4/100\n",
      "73/73 [==============================] - 1s 20ms/sample - loss: 0.3523 - mae: 0.4216\n"
     ]
    },
    {
     "name": "stderr",
     "output_type": "stream",
     "text": [
      "W0926 21:43:52.240952 17016 training.py:504] Falling back from v2 loop because of error: Failed to find data adapter that can handle input: <class 'pandas.core.frame.DataFrame'>, <class 'NoneType'>\n"
     ]
    },
    {
     "name": "stdout",
     "output_type": "stream",
     "text": [
      "Epoch 00004: early stopping\n",
      "2016HH =======================================\n"
     ]
    },
    {
     "name": "stderr",
     "output_type": "stream",
     "text": [
      "W0926 21:43:52.693654 17016 training.py:504] Falling back from v2 loop because of error: Failed to find data adapter that can handle input: <class 'pandas.core.frame.DataFrame'>, <class 'NoneType'>\n"
     ]
    },
    {
     "name": "stdout",
     "output_type": "stream",
     "text": [
      "Model: \"sequential\"\n",
      "_________________________________________________________________\n",
      "Layer (type)                 Output Shape              Param #   \n",
      "=================================================================\n",
      "dense (Dense)                (None, 1024)              59392     \n",
      "_________________________________________________________________\n",
      "dense_1 (Dense)              (None, 1024)              1049600   \n",
      "_________________________________________________________________\n",
      "dense_2 (Dense)              (None, 1024)              1049600   \n",
      "_________________________________________________________________\n",
      "dense_3 (Dense)              (None, 1024)              1049600   \n",
      "_________________________________________________________________\n",
      "dense_4 (Dense)              (None, 1024)              1049600   \n",
      "_________________________________________________________________\n",
      "dense_5 (Dense)              (None, 1)                 1025      \n",
      "=================================================================\n",
      "Total params: 4,258,817\n",
      "Trainable params: 4,258,817\n",
      "Non-trainable params: 0\n",
      "_________________________________________________________________\n",
      "Train on 73 samples\n",
      "Epoch 1/100\n",
      "73/73 [==============================] - 2s 22ms/sample - loss: 62448.9820 - mae: 31.7439\n",
      "Epoch 2/100\n",
      "73/73 [==============================] - 1s 19ms/sample - loss: 0.0445 - mae: 0.1435\n",
      "Epoch 3/100\n",
      "73/73 [==============================] - 1s 20ms/sample - loss: 0.0141 - mae: 0.0895\n",
      "Epoch 4/100\n",
      "73/73 [==============================] - 1s 19ms/sample - loss: 0.0093 - mae: 0.0743\n",
      "Epoch 5/100\n",
      "73/73 [==============================] - 1s 18ms/sample - loss: 0.0073 - mae: 0.0691\n",
      "Epoch 6/100\n",
      "73/73 [==============================] - 1s 18ms/sample - loss: 0.0073 - mae: 0.0709\n",
      "Epoch 7/100\n",
      "73/73 [==============================] - 1s 19ms/sample - loss: 0.0092 - mae: 0.0755\n"
     ]
    },
    {
     "name": "stderr",
     "output_type": "stream",
     "text": [
      "W0926 21:44:03.907527 17016 training.py:504] Falling back from v2 loop because of error: Failed to find data adapter that can handle input: <class 'pandas.core.frame.DataFrame'>, <class 'NoneType'>\n"
     ]
    },
    {
     "name": "stdout",
     "output_type": "stream",
     "text": [
      "Epoch 00007: early stopping\n",
      "2016NC =======================================\n"
     ]
    },
    {
     "name": "stderr",
     "output_type": "stream",
     "text": [
      "W0926 21:44:04.444208 17016 training.py:504] Falling back from v2 loop because of error: Failed to find data adapter that can handle input: <class 'pandas.core.frame.DataFrame'>, <class 'NoneType'>\n"
     ]
    },
    {
     "name": "stdout",
     "output_type": "stream",
     "text": [
      "Model: \"sequential\"\n",
      "_________________________________________________________________\n",
      "Layer (type)                 Output Shape              Param #   \n",
      "=================================================================\n",
      "dense (Dense)                (None, 1024)              59392     \n",
      "_________________________________________________________________\n",
      "dense_1 (Dense)              (None, 1024)              1049600   \n",
      "_________________________________________________________________\n",
      "dense_2 (Dense)              (None, 1024)              1049600   \n",
      "_________________________________________________________________\n",
      "dense_3 (Dense)              (None, 1024)              1049600   \n",
      "_________________________________________________________________\n",
      "dense_4 (Dense)              (None, 1024)              1049600   \n",
      "_________________________________________________________________\n",
      "dense_5 (Dense)              (None, 1)                 1025      \n",
      "=================================================================\n",
      "Total params: 4,258,817\n",
      "Trainable params: 4,258,817\n",
      "Non-trainable params: 0\n",
      "_________________________________________________________________\n",
      "Train on 73 samples\n",
      "Epoch 1/100\n",
      "73/73 [==============================] - 1s 19ms/sample - loss: 105660.6701 - mae: 39.6762\n",
      "Epoch 2/100\n",
      "73/73 [==============================] - 1s 17ms/sample - loss: 0.0456 - mae: 0.1624\n",
      "Epoch 3/100\n",
      "73/73 [==============================] - 1s 18ms/sample - loss: 0.0278 - mae: 0.1361\n",
      "Epoch 4/100\n",
      "73/73 [==============================] - 1s 20ms/sample - loss: 0.0186 - mae: 0.1088\n",
      "Epoch 5/100\n",
      "73/73 [==============================] - 1s 19ms/sample - loss: 0.0161 - mae: 0.0990\n",
      "Epoch 6/100\n",
      "73/73 [==============================] - 1s 18ms/sample - loss: 0.0147 - mae: 0.1005\n",
      "Epoch 7/100\n",
      "73/73 [==============================] - 1s 16ms/sample - loss: 1060.0096 - mae: 8.8814\n",
      "Epoch 8/100\n",
      "73/73 [==============================] - 1s 17ms/sample - loss: 4.6648 - mae: 1.3279\n"
     ]
    },
    {
     "name": "stderr",
     "output_type": "stream",
     "text": [
      "W0926 21:44:16.219380 17016 training.py:504] Falling back from v2 loop because of error: Failed to find data adapter that can handle input: <class 'pandas.core.frame.DataFrame'>, <class 'NoneType'>\n"
     ]
    },
    {
     "name": "stdout",
     "output_type": "stream",
     "text": [
      "Epoch 00008: early stopping\n",
      "2016HT =======================================\n"
     ]
    },
    {
     "name": "stderr",
     "output_type": "stream",
     "text": [
      "W0926 21:44:16.745236 17016 training.py:504] Falling back from v2 loop because of error: Failed to find data adapter that can handle input: <class 'pandas.core.frame.DataFrame'>, <class 'NoneType'>\n"
     ]
    },
    {
     "name": "stdout",
     "output_type": "stream",
     "text": [
      "Model: \"sequential\"\n",
      "_________________________________________________________________\n",
      "Layer (type)                 Output Shape              Param #   \n",
      "=================================================================\n",
      "dense (Dense)                (None, 1024)              59392     \n",
      "_________________________________________________________________\n",
      "dense_1 (Dense)              (None, 1024)              1049600   \n",
      "_________________________________________________________________\n",
      "dense_2 (Dense)              (None, 1024)              1049600   \n",
      "_________________________________________________________________\n",
      "dense_3 (Dense)              (None, 1024)              1049600   \n",
      "_________________________________________________________________\n",
      "dense_4 (Dense)              (None, 1024)              1049600   \n",
      "_________________________________________________________________\n",
      "dense_5 (Dense)              (None, 1)                 1025      \n",
      "=================================================================\n",
      "Total params: 4,258,817\n",
      "Trainable params: 4,258,817\n",
      "Non-trainable params: 0\n",
      "_________________________________________________________________\n",
      "Train on 73 samples\n",
      "Epoch 1/100\n",
      "73/73 [==============================] - 2s 25ms/sample - loss: 34314.4482 - mae: 25.2718\n",
      "Epoch 2/100\n",
      "73/73 [==============================] - 1s 20ms/sample - loss: 0.2303 - mae: 0.30520s - loss: 0.0897 - mae:\n",
      "Epoch 3/100\n",
      "73/73 [==============================] - 1s 17ms/sample - loss: 0.5362 - mae: 0.4795\n",
      "Epoch 4/100\n",
      "73/73 [==============================] - 1s 17ms/sample - loss: 0.2555 - mae: 0.28580s - loss: 0.4479 - \n"
     ]
    },
    {
     "name": "stderr",
     "output_type": "stream",
     "text": [
      "W0926 21:44:24.023756 17016 training.py:504] Falling back from v2 loop because of error: Failed to find data adapter that can handle input: <class 'pandas.core.frame.DataFrame'>, <class 'NoneType'>\n"
     ]
    },
    {
     "name": "stdout",
     "output_type": "stream",
     "text": [
      "Epoch 00004: early stopping\n",
      "2016SK =======================================\n"
     ]
    },
    {
     "name": "stderr",
     "output_type": "stream",
     "text": [
      "W0926 21:44:24.492861 17016 training.py:504] Falling back from v2 loop because of error: Failed to find data adapter that can handle input: <class 'pandas.core.frame.DataFrame'>, <class 'NoneType'>\n"
     ]
    },
    {
     "name": "stdout",
     "output_type": "stream",
     "text": [
      "Model: \"sequential\"\n",
      "_________________________________________________________________\n",
      "Layer (type)                 Output Shape              Param #   \n",
      "=================================================================\n",
      "dense (Dense)                (None, 1024)              59392     \n",
      "_________________________________________________________________\n",
      "dense_1 (Dense)              (None, 1024)              1049600   \n",
      "_________________________________________________________________\n",
      "dense_2 (Dense)              (None, 1024)              1049600   \n",
      "_________________________________________________________________\n",
      "dense_3 (Dense)              (None, 1024)              1049600   \n",
      "_________________________________________________________________\n",
      "dense_4 (Dense)              (None, 1024)              1049600   \n",
      "_________________________________________________________________\n",
      "dense_5 (Dense)              (None, 1)                 1025      \n",
      "=================================================================\n",
      "Total params: 4,258,817\n",
      "Trainable params: 4,258,817\n",
      "Non-trainable params: 0\n",
      "_________________________________________________________________\n",
      "Train on 73 samples\n",
      "Epoch 1/100\n",
      "73/73 [==============================] - 2s 23ms/sample - loss: 51080.4692 - mae: 30.2782s - loss: 77684.8\n",
      "Epoch 2/100\n",
      "73/73 [==============================] - 2s 21ms/sample - loss: 0.1274 - mae: 0.2795\n",
      "Epoch 3/100\n",
      "73/73 [==============================] - 1s 18ms/sample - loss: 0.0116 - mae: 0.0910\n",
      "Epoch 4/100\n",
      "73/73 [==============================] - 1s 17ms/sample - loss: 0.0122 - mae: 0.0902\n",
      "Epoch 5/100\n",
      "73/73 [==============================] - 1s 17ms/sample - loss: 0.0124 - mae: 0.0920\n"
     ]
    },
    {
     "name": "stderr",
     "output_type": "stream",
     "text": [
      "W0926 21:44:32.639487 17016 training.py:504] Falling back from v2 loop because of error: Failed to find data adapter that can handle input: <class 'pandas.core.frame.DataFrame'>, <class 'NoneType'>\n"
     ]
    },
    {
     "name": "stdout",
     "output_type": "stream",
     "text": [
      "Epoch 00005: early stopping\n",
      "2016KT =======================================\n"
     ]
    },
    {
     "name": "stderr",
     "output_type": "stream",
     "text": [
      "W0926 21:44:33.087310 17016 training.py:504] Falling back from v2 loop because of error: Failed to find data adapter that can handle input: <class 'pandas.core.frame.DataFrame'>, <class 'NoneType'>\n"
     ]
    },
    {
     "name": "stdout",
     "output_type": "stream",
     "text": [
      "Model: \"sequential\"\n",
      "_________________________________________________________________\n",
      "Layer (type)                 Output Shape              Param #   \n",
      "=================================================================\n",
      "dense (Dense)                (None, 1024)              59392     \n",
      "_________________________________________________________________\n",
      "dense_1 (Dense)              (None, 1024)              1049600   \n",
      "_________________________________________________________________\n",
      "dense_2 (Dense)              (None, 1024)              1049600   \n",
      "_________________________________________________________________\n",
      "dense_3 (Dense)              (None, 1024)              1049600   \n",
      "_________________________________________________________________\n",
      "dense_4 (Dense)              (None, 1024)              1049600   \n",
      "_________________________________________________________________\n",
      "dense_5 (Dense)              (None, 1)                 1025      \n",
      "=================================================================\n",
      "Total params: 4,258,817\n",
      "Trainable params: 4,258,817\n",
      "Non-trainable params: 0\n",
      "_________________________________________________________________\n",
      "Train on 73 samples\n",
      "Epoch 1/100\n",
      "73/73 [==============================] - 2s 22ms/sample - loss: 32749.3198 - mae: 22.4872\n",
      "Epoch 2/100\n",
      "73/73 [==============================] - 1s 19ms/sample - loss: 0.1527 - mae: 0.2357\n",
      "Epoch 3/100\n",
      "73/73 [==============================] - 1s 20ms/sample - loss: 0.0098 - mae: 0.0800\n",
      "Epoch 4/100\n",
      "73/73 [==============================] - 2s 21ms/sample - loss: 0.0105 - mae: 0.08000s - loss: 0.0125 - mae\n",
      "Epoch 5/100\n",
      "73/73 [==============================] - 2s 25ms/sample - loss: 0.0058 - mae: 0.0651\n",
      "Epoch 6/100\n",
      "73/73 [==============================] - 1s 19ms/sample - loss: 0.0041 - mae: 0.0518\n",
      "Epoch 7/100\n",
      "73/73 [==============================] - 1s 18ms/sample - loss: 0.0054 - mae: 0.05920s - loss: 0.0059 - mae: \n",
      "Epoch 8/100\n",
      "73/73 [==============================] - 1s 20ms/sample - loss: 0.0055 - mae: 0.0590\n"
     ]
    },
    {
     "name": "stderr",
     "output_type": "stream",
     "text": [
      "W0926 21:44:46.802298 17016 training.py:504] Falling back from v2 loop because of error: Failed to find data adapter that can handle input: <class 'pandas.core.frame.DataFrame'>, <class 'NoneType'>\n"
     ]
    },
    {
     "name": "stdout",
     "output_type": "stream",
     "text": [
      "Epoch 00008: early stopping\n",
      "2016WO =======================================\n"
     ]
    },
    {
     "name": "stderr",
     "output_type": "stream",
     "text": [
      "W0926 21:44:47.217770 17016 training.py:504] Falling back from v2 loop because of error: Failed to find data adapter that can handle input: <class 'pandas.core.frame.DataFrame'>, <class 'NoneType'>\n"
     ]
    },
    {
     "name": "stdout",
     "output_type": "stream",
     "text": [
      "Model: \"sequential\"\n",
      "_________________________________________________________________\n",
      "Layer (type)                 Output Shape              Param #   \n",
      "=================================================================\n",
      "dense (Dense)                (None, 1024)              59392     \n",
      "_________________________________________________________________\n",
      "dense_1 (Dense)              (None, 1024)              1049600   \n",
      "_________________________________________________________________\n",
      "dense_2 (Dense)              (None, 1024)              1049600   \n",
      "_________________________________________________________________\n",
      "dense_3 (Dense)              (None, 1024)              1049600   \n",
      "_________________________________________________________________\n",
      "dense_4 (Dense)              (None, 1024)              1049600   \n",
      "_________________________________________________________________\n",
      "dense_5 (Dense)              (None, 1)                 1025      \n",
      "=================================================================\n",
      "Total params: 4,258,817\n",
      "Trainable params: 4,258,817\n",
      "Non-trainable params: 0\n",
      "_________________________________________________________________\n",
      "Train on 73 samples\n",
      "Epoch 1/100\n",
      "73/73 [==============================] - 1s 20ms/sample - loss: 71844.3743 - mae: 34.9881\n",
      "Epoch 2/100\n",
      "73/73 [==============================] - 1s 18ms/sample - loss: 0.0110 - mae: 0.0842\n",
      "Epoch 3/100\n",
      "73/73 [==============================] - 1s 18ms/sample - loss: 11.9100 - mae: 1.3683\n",
      "Epoch 4/100\n",
      "73/73 [==============================] - 1s 19ms/sample - loss: 0.1327 - mae: 0.2834\n"
     ]
    },
    {
     "name": "stderr",
     "output_type": "stream",
     "text": [
      "W0926 21:44:53.564969 17016 training.py:504] Falling back from v2 loop because of error: Failed to find data adapter that can handle input: <class 'pandas.core.frame.DataFrame'>, <class 'NoneType'>\n"
     ]
    },
    {
     "name": "stdout",
     "output_type": "stream",
     "text": [
      "Epoch 00004: early stopping\n",
      "2016LT =======================================\n"
     ]
    },
    {
     "name": "stderr",
     "output_type": "stream",
     "text": [
      "W0926 21:44:54.049396 17016 training.py:504] Falling back from v2 loop because of error: Failed to find data adapter that can handle input: <class 'pandas.core.frame.DataFrame'>, <class 'NoneType'>\n"
     ]
    },
    {
     "name": "stdout",
     "output_type": "stream",
     "text": [
      "Model: \"sequential\"\n",
      "_________________________________________________________________\n",
      "Layer (type)                 Output Shape              Param #   \n",
      "=================================================================\n",
      "dense (Dense)                (None, 1024)              59392     \n",
      "_________________________________________________________________\n",
      "dense_1 (Dense)              (None, 1024)              1049600   \n",
      "_________________________________________________________________\n",
      "dense_2 (Dense)              (None, 1024)              1049600   \n",
      "_________________________________________________________________\n",
      "dense_3 (Dense)              (None, 1024)              1049600   \n",
      "_________________________________________________________________\n",
      "dense_4 (Dense)              (None, 1024)              1049600   \n",
      "_________________________________________________________________\n",
      "dense_5 (Dense)              (None, 1)                 1025      \n",
      "=================================================================\n",
      "Total params: 4,258,817\n",
      "Trainable params: 4,258,817\n",
      "Non-trainable params: 0\n",
      "_________________________________________________________________\n",
      "Train on 73 samples\n",
      "Epoch 1/100\n",
      "73/73 [==============================] - 1s 19ms/sample - loss: 32027.2124 - mae: 22.2142\n",
      "Epoch 2/100\n",
      "73/73 [==============================] - 1s 17ms/sample - loss: 0.0200 - mae: 0.1122\n",
      "Epoch 3/100\n",
      "73/73 [==============================] - 1s 17ms/sample - loss: 0.0367 - mae: 0.1583\n",
      "Epoch 4/100\n",
      "73/73 [==============================] - 1s 19ms/sample - loss: 0.0106 - mae: 0.08380s - loss: 0.0111 - mae: 0.084 - ETA: 0s - loss: 0.0107 - mae: \n",
      "Epoch 5/100\n",
      "73/73 [==============================] - 2s 21ms/sample - loss: 0.0094 - mae: 0.0794\n",
      "Epoch 6/100\n",
      "73/73 [==============================] - 1s 20ms/sample - loss: 0.0188 - mae: 0.0984\n",
      "Epoch 7/100\n",
      "73/73 [==============================] - 1s 19ms/sample - loss: 0.0184 - mae: 0.1102\n"
     ]
    },
    {
     "name": "stderr",
     "output_type": "stream",
     "text": [
      "W0926 21:45:04.676877 17016 training.py:504] Falling back from v2 loop because of error: Failed to find data adapter that can handle input: <class 'pandas.core.frame.DataFrame'>, <class 'NoneType'>\n"
     ]
    },
    {
     "name": "stdout",
     "output_type": "stream",
     "text": [
      "Epoch 00007: early stopping\n",
      "2016SS =======================================\n"
     ]
    },
    {
     "name": "stderr",
     "output_type": "stream",
     "text": [
      "W0926 21:45:05.063321 17016 training.py:504] Falling back from v2 loop because of error: Failed to find data adapter that can handle input: <class 'pandas.core.frame.DataFrame'>, <class 'NoneType'>\n"
     ]
    },
    {
     "name": "stdout",
     "output_type": "stream",
     "text": [
      "Model: \"sequential\"\n",
      "_________________________________________________________________\n",
      "Layer (type)                 Output Shape              Param #   \n",
      "=================================================================\n",
      "dense (Dense)                (None, 1024)              59392     \n",
      "_________________________________________________________________\n",
      "dense_1 (Dense)              (None, 1024)              1049600   \n",
      "_________________________________________________________________\n",
      "dense_2 (Dense)              (None, 1024)              1049600   \n",
      "_________________________________________________________________\n",
      "dense_3 (Dense)              (None, 1024)              1049600   \n",
      "_________________________________________________________________\n",
      "dense_4 (Dense)              (None, 1024)              1049600   \n",
      "_________________________________________________________________\n",
      "dense_5 (Dense)              (None, 1)                 1025      \n",
      "=================================================================\n",
      "Total params: 4,258,817\n",
      "Trainable params: 4,258,817\n",
      "Non-trainable params: 0\n",
      "_________________________________________________________________\n",
      "Train on 73 samples\n",
      "Epoch 1/100\n",
      "73/73 [==============================] - 2s 21ms/sample - loss: 57753.5702 - mae: 29.5685\n",
      "Epoch 2/100\n",
      "73/73 [==============================] - 1s 20ms/sample - loss: 1.9779 - mae: 0.8362\n",
      "Epoch 3/100\n",
      "73/73 [==============================] - 1s 18ms/sample - loss: 0.0296 - mae: 0.1265\n",
      "Epoch 4/100\n",
      "73/73 [==============================] - 1s 17ms/sample - loss: 0.0188 - mae: 0.1085\n",
      "Epoch 5/100\n",
      "73/73 [==============================] - 1s 19ms/sample - loss: 0.0121 - mae: 0.0951\n",
      "Epoch 6/100\n",
      "73/73 [==============================] - 1s 20ms/sample - loss: 0.0114 - mae: 0.0898\n",
      "Epoch 7/100\n",
      "73/73 [==============================] - 2s 21ms/sample - loss: 0.0133 - mae: 0.0966\n",
      "Epoch 8/100\n",
      "73/73 [==============================] - 1s 20ms/sample - loss: 0.0117 - mae: 0.09110s - loss: 0.0131 - mae: 0.0 - ETA: 0s - loss: 0.0131 -\n"
     ]
    },
    {
     "name": "stderr",
     "output_type": "stream",
     "text": [
      "W0926 21:45:17.559520 17016 training.py:504] Falling back from v2 loop because of error: Failed to find data adapter that can handle input: <class 'pandas.core.frame.DataFrame'>, <class 'NoneType'>\n"
     ]
    },
    {
     "name": "stdout",
     "output_type": "stream",
     "text": [
      "Epoch 00008: early stopping\n",
      "2016OB =======================================\n"
     ]
    },
    {
     "name": "stderr",
     "output_type": "stream",
     "text": [
      "W0926 21:45:18.291293 17016 training.py:504] Falling back from v2 loop because of error: Failed to find data adapter that can handle input: <class 'pandas.core.frame.DataFrame'>, <class 'NoneType'>\n"
     ]
    },
    {
     "name": "stdout",
     "output_type": "stream",
     "text": [
      "Model: \"sequential\"\n",
      "_________________________________________________________________\n",
      "Layer (type)                 Output Shape              Param #   \n",
      "=================================================================\n",
      "dense (Dense)                (None, 1024)              59392     \n",
      "_________________________________________________________________\n",
      "dense_1 (Dense)              (None, 1024)              1049600   \n",
      "_________________________________________________________________\n",
      "dense_2 (Dense)              (None, 1024)              1049600   \n",
      "_________________________________________________________________\n",
      "dense_3 (Dense)              (None, 1024)              1049600   \n",
      "_________________________________________________________________\n",
      "dense_4 (Dense)              (None, 1024)              1049600   \n",
      "_________________________________________________________________\n",
      "dense_5 (Dense)              (None, 1)                 1025      \n",
      "=================================================================\n",
      "Total params: 4,258,817\n",
      "Trainable params: 4,258,817\n",
      "Non-trainable params: 0\n",
      "_________________________________________________________________\n",
      "Train on 73 samples\n",
      "Epoch 1/100\n",
      "73/73 [==============================] - 2s 21ms/sample - loss: 54800.0292 - mae: 29.0415\n",
      "Epoch 2/100\n",
      "73/73 [==============================] - 1s 19ms/sample - loss: 0.0433 - mae: 0.17350s - loss: 0.0444 - \n",
      "Epoch 3/100\n",
      "73/73 [==============================] - 1s 20ms/sample - loss: 0.0209 - mae: 0.1227\n",
      "Epoch 4/100\n",
      "73/73 [==============================] - 1s 18ms/sample - loss: 0.0312 - mae: 0.14331s - loss: 0.01\n",
      "Epoch 5/100\n",
      "73/73 [==============================] - 1s 17ms/sample - loss: 0.0411 - mae: 0.1528\n"
     ]
    },
    {
     "name": "stderr",
     "output_type": "stream",
     "text": [
      "W0926 21:45:26.312315 17016 training.py:504] Falling back from v2 loop because of error: Failed to find data adapter that can handle input: <class 'pandas.core.frame.DataFrame'>, <class 'NoneType'>\n"
     ]
    },
    {
     "name": "stdout",
     "output_type": "stream",
     "text": [
      "Epoch 00005: early stopping\n",
      "2017LG =======================================\n"
     ]
    },
    {
     "name": "stderr",
     "output_type": "stream",
     "text": [
      "W0926 21:45:26.768131 17016 training.py:504] Falling back from v2 loop because of error: Failed to find data adapter that can handle input: <class 'pandas.core.frame.DataFrame'>, <class 'NoneType'>\n"
     ]
    },
    {
     "name": "stdout",
     "output_type": "stream",
     "text": [
      "Model: \"sequential\"\n",
      "_________________________________________________________________\n",
      "Layer (type)                 Output Shape              Param #   \n",
      "=================================================================\n",
      "dense (Dense)                (None, 1024)              59392     \n",
      "_________________________________________________________________\n",
      "dense_1 (Dense)              (None, 1024)              1049600   \n",
      "_________________________________________________________________\n",
      "dense_2 (Dense)              (None, 1024)              1049600   \n",
      "_________________________________________________________________\n",
      "dense_3 (Dense)              (None, 1024)              1049600   \n",
      "_________________________________________________________________\n",
      "dense_4 (Dense)              (None, 1024)              1049600   \n",
      "_________________________________________________________________\n",
      "dense_5 (Dense)              (None, 1)                 1025      \n",
      "=================================================================\n",
      "Total params: 4,258,817\n",
      "Trainable params: 4,258,817\n",
      "Non-trainable params: 0\n",
      "_________________________________________________________________\n",
      "Train on 73 samples\n",
      "Epoch 1/100\n",
      "73/73 [==============================] - 1s 20ms/sample - loss: 35540.1154 - mae: 26.4261\n",
      "Epoch 2/100\n",
      "73/73 [==============================] - 1s 20ms/sample - loss: 0.0228 - mae: 0.10791s - loss\n",
      "Epoch 3/100\n",
      "73/73 [==============================] - 1s 19ms/sample - loss: 28.9517 - mae: 1.8894\n",
      "Epoch 4/100\n",
      "73/73 [==============================] - 1s 17ms/sample - loss: 31.3851 - mae: 3.5346\n"
     ]
    },
    {
     "name": "stderr",
     "output_type": "stream",
     "text": [
      "W0926 21:45:33.593123 17016 training.py:504] Falling back from v2 loop because of error: Failed to find data adapter that can handle input: <class 'pandas.core.frame.DataFrame'>, <class 'NoneType'>\n"
     ]
    },
    {
     "name": "stdout",
     "output_type": "stream",
     "text": [
      "Epoch 00004: early stopping\n",
      "2017HH =======================================\n"
     ]
    },
    {
     "name": "stderr",
     "output_type": "stream",
     "text": [
      "W0926 21:45:34.081146 17016 training.py:504] Falling back from v2 loop because of error: Failed to find data adapter that can handle input: <class 'pandas.core.frame.DataFrame'>, <class 'NoneType'>\n"
     ]
    },
    {
     "name": "stdout",
     "output_type": "stream",
     "text": [
      "Model: \"sequential\"\n",
      "_________________________________________________________________\n",
      "Layer (type)                 Output Shape              Param #   \n",
      "=================================================================\n",
      "dense (Dense)                (None, 1024)              59392     \n",
      "_________________________________________________________________\n",
      "dense_1 (Dense)              (None, 1024)              1049600   \n",
      "_________________________________________________________________\n",
      "dense_2 (Dense)              (None, 1024)              1049600   \n",
      "_________________________________________________________________\n",
      "dense_3 (Dense)              (None, 1024)              1049600   \n",
      "_________________________________________________________________\n",
      "dense_4 (Dense)              (None, 1024)              1049600   \n",
      "_________________________________________________________________\n",
      "dense_5 (Dense)              (None, 1)                 1025      \n",
      "=================================================================\n",
      "Total params: 4,258,817\n",
      "Trainable params: 4,258,817\n",
      "Non-trainable params: 0\n",
      "_________________________________________________________________\n",
      "Train on 73 samples\n",
      "Epoch 1/100\n",
      "73/73 [==============================] - 2s 21ms/sample - loss: 61850.1324 - mae: 30.4024\n",
      "Epoch 2/100\n",
      "73/73 [==============================] - 1s 20ms/sample - loss: 0.0274 - mae: 0.1308\n",
      "Epoch 3/100\n",
      "73/73 [==============================] - 1s 20ms/sample - loss: 0.0091 - mae: 0.0820\n",
      "Epoch 4/100\n",
      "73/73 [==============================] - 1s 18ms/sample - loss: 0.0085 - mae: 0.0792\n",
      "Epoch 5/100\n",
      "73/73 [==============================] - 1s 17ms/sample - loss: 0.0076 - mae: 0.0732\n",
      "Epoch 6/100\n",
      "73/73 [==============================] - 1s 18ms/sample - loss: 0.0075 - mae: 0.0724\n",
      "Epoch 7/100\n",
      "73/73 [==============================] - 2s 21ms/sample - loss: 0.0082 - mae: 0.0757\n",
      "Epoch 8/100\n",
      "73/73 [==============================] - 1s 20ms/sample - loss: 0.0071 - mae: 0.0683\n",
      "Epoch 9/100\n",
      "73/73 [==============================] - 1s 19ms/sample - loss: 0.0073 - mae: 0.07330s - loss: 0.0074 - mae: 0.073\n",
      "Epoch 10/100\n",
      "73/73 [==============================] - 1s 18ms/sample - loss: 0.0062 - mae: 0.0663\n",
      "Epoch 11/100\n",
      "73/73 [==============================] - 1s 18ms/sample - loss: 0.0090 - mae: 0.0791\n",
      "Epoch 12/100\n",
      "73/73 [==============================] - 1s 19ms/sample - loss: 0.0060 - mae: 0.0661\n",
      "Epoch 13/100\n",
      "73/73 [==============================] - 2s 21ms/sample - loss: 97.7311 - mae: 2.5491 0s - loss: 105.3512 - mae: 2.51\n",
      "Epoch 14/100\n",
      "73/73 [==============================] - 1s 19ms/sample - loss: 0.2425 - mae: 0.3027\n"
     ]
    },
    {
     "name": "stderr",
     "output_type": "stream",
     "text": [
      "W0926 21:45:54.985535 17016 training.py:504] Falling back from v2 loop because of error: Failed to find data adapter that can handle input: <class 'pandas.core.frame.DataFrame'>, <class 'NoneType'>\n"
     ]
    },
    {
     "name": "stdout",
     "output_type": "stream",
     "text": [
      "Epoch 00014: early stopping\n",
      "2017NC =======================================\n"
     ]
    },
    {
     "name": "stderr",
     "output_type": "stream",
     "text": [
      "W0926 21:45:55.417200 17016 training.py:504] Falling back from v2 loop because of error: Failed to find data adapter that can handle input: <class 'pandas.core.frame.DataFrame'>, <class 'NoneType'>\n"
     ]
    },
    {
     "name": "stdout",
     "output_type": "stream",
     "text": [
      "Model: \"sequential\"\n",
      "_________________________________________________________________\n",
      "Layer (type)                 Output Shape              Param #   \n",
      "=================================================================\n",
      "dense (Dense)                (None, 1024)              59392     \n",
      "_________________________________________________________________\n",
      "dense_1 (Dense)              (None, 1024)              1049600   \n",
      "_________________________________________________________________\n",
      "dense_2 (Dense)              (None, 1024)              1049600   \n",
      "_________________________________________________________________\n",
      "dense_3 (Dense)              (None, 1024)              1049600   \n",
      "_________________________________________________________________\n",
      "dense_4 (Dense)              (None, 1024)              1049600   \n",
      "_________________________________________________________________\n",
      "dense_5 (Dense)              (None, 1)                 1025      \n",
      "=================================================================\n",
      "Total params: 4,258,817\n",
      "Trainable params: 4,258,817\n",
      "Non-trainable params: 0\n",
      "_________________________________________________________________\n",
      "Train on 73 samples\n",
      "Epoch 1/100\n",
      "73/73 [==============================] - 2s 21ms/sample - loss: 38482.8874 - mae: 24.8260\n",
      "Epoch 2/100\n",
      "73/73 [==============================] - 1s 20ms/sample - loss: 0.0151 - mae: 0.1005\n",
      "Epoch 3/100\n",
      "73/73 [==============================] - 1s 20ms/sample - loss: 0.0106 - mae: 0.0819\n",
      "Epoch 4/100\n",
      "73/73 [==============================] - 1s 20ms/sample - loss: 0.0121 - mae: 0.08770s - loss: 0.0\n",
      "Epoch 5/100\n",
      "73/73 [==============================] - 1s 19ms/sample - loss: 0.0082 - mae: 0.0733\n",
      "Epoch 6/100\n",
      "73/73 [==============================] - 1s 19ms/sample - loss: 0.0193 - mae: 0.1120\n",
      "Epoch 7/100\n",
      "73/73 [==============================] - 1s 18ms/sample - loss: 0.0163 - mae: 0.0989\n"
     ]
    },
    {
     "name": "stderr",
     "output_type": "stream",
     "text": [
      "W0926 21:46:06.694368 17016 training.py:504] Falling back from v2 loop because of error: Failed to find data adapter that can handle input: <class 'pandas.core.frame.DataFrame'>, <class 'NoneType'>\n"
     ]
    },
    {
     "name": "stdout",
     "output_type": "stream",
     "text": [
      "Epoch 00007: early stopping\n",
      "2017HT =======================================\n"
     ]
    },
    {
     "name": "stderr",
     "output_type": "stream",
     "text": [
      "W0926 21:46:07.195343 17016 training.py:504] Falling back from v2 loop because of error: Failed to find data adapter that can handle input: <class 'pandas.core.frame.DataFrame'>, <class 'NoneType'>\n"
     ]
    },
    {
     "name": "stdout",
     "output_type": "stream",
     "text": [
      "Model: \"sequential\"\n",
      "_________________________________________________________________\n",
      "Layer (type)                 Output Shape              Param #   \n",
      "=================================================================\n",
      "dense (Dense)                (None, 1024)              59392     \n",
      "_________________________________________________________________\n",
      "dense_1 (Dense)              (None, 1024)              1049600   \n",
      "_________________________________________________________________\n",
      "dense_2 (Dense)              (None, 1024)              1049600   \n",
      "_________________________________________________________________\n",
      "dense_3 (Dense)              (None, 1024)              1049600   \n",
      "_________________________________________________________________\n",
      "dense_4 (Dense)              (None, 1024)              1049600   \n",
      "_________________________________________________________________\n",
      "dense_5 (Dense)              (None, 1)                 1025      \n",
      "=================================================================\n",
      "Total params: 4,258,817\n",
      "Trainable params: 4,258,817\n",
      "Non-trainable params: 0\n",
      "_________________________________________________________________\n",
      "Train on 73 samples\n",
      "Epoch 1/100\n",
      "73/73 [==============================] - 1s 19ms/sample - loss: 63022.8203 - mae: 32.4655\n",
      "Epoch 2/100\n",
      "73/73 [==============================] - 1s 17ms/sample - loss: 0.0782 - mae: 0.2024\n",
      "Epoch 3/100\n",
      "73/73 [==============================] - 1s 17ms/sample - loss: 0.3275 - mae: 0.4040\n",
      "Epoch 4/100\n",
      "73/73 [==============================] - 1s 19ms/sample - loss: 0.1041 - mae: 0.22920s - loss: 0.3180  - ETA: 0s - loss: 0.1360 - mae: \n",
      "Epoch 00004: early stopping\n"
     ]
    },
    {
     "name": "stderr",
     "output_type": "stream",
     "text": [
      "W0926 21:46:13.591497 17016 training.py:504] Falling back from v2 loop because of error: Failed to find data adapter that can handle input: <class 'pandas.core.frame.DataFrame'>, <class 'NoneType'>\n"
     ]
    },
    {
     "name": "stdout",
     "output_type": "stream",
     "text": [
      "2017SK =======================================\n"
     ]
    },
    {
     "name": "stderr",
     "output_type": "stream",
     "text": [
      "W0926 21:46:14.378465 17016 training.py:504] Falling back from v2 loop because of error: Failed to find data adapter that can handle input: <class 'pandas.core.frame.DataFrame'>, <class 'NoneType'>\n"
     ]
    },
    {
     "name": "stdout",
     "output_type": "stream",
     "text": [
      "Model: \"sequential\"\n",
      "_________________________________________________________________\n",
      "Layer (type)                 Output Shape              Param #   \n",
      "=================================================================\n",
      "dense (Dense)                (None, 1024)              59392     \n",
      "_________________________________________________________________\n",
      "dense_1 (Dense)              (None, 1024)              1049600   \n",
      "_________________________________________________________________\n",
      "dense_2 (Dense)              (None, 1024)              1049600   \n",
      "_________________________________________________________________\n",
      "dense_3 (Dense)              (None, 1024)              1049600   \n",
      "_________________________________________________________________\n",
      "dense_4 (Dense)              (None, 1024)              1049600   \n",
      "_________________________________________________________________\n",
      "dense_5 (Dense)              (None, 1)                 1025      \n",
      "=================================================================\n",
      "Total params: 4,258,817\n",
      "Trainable params: 4,258,817\n",
      "Non-trainable params: 0\n",
      "_________________________________________________________________\n",
      "Train on 73 samples\n",
      "Epoch 1/100\n",
      "73/73 [==============================] - 2s 21ms/sample - loss: 64858.0917 - mae: 31.7585\n",
      "Epoch 2/100\n",
      "73/73 [==============================] - 1s 16ms/sample - loss: 0.1374 - mae: 0.2554\n",
      "Epoch 3/100\n",
      "73/73 [==============================] - 1s 18ms/sample - loss: 0.0290 - mae: 0.1372\n",
      "Epoch 4/100\n",
      "73/73 [==============================] - 2s 21ms/sample - loss: 0.0223 - mae: 0.1259\n",
      "Epoch 5/100\n",
      "73/73 [==============================] - 1s 19ms/sample - loss: 0.0265 - mae: 0.1410\n",
      "Epoch 6/100\n",
      "73/73 [==============================] - 1s 18ms/sample - loss: 0.0235 - mae: 0.1280\n"
     ]
    },
    {
     "name": "stderr",
     "output_type": "stream",
     "text": [
      "W0926 21:46:23.718554 17016 training.py:504] Falling back from v2 loop because of error: Failed to find data adapter that can handle input: <class 'pandas.core.frame.DataFrame'>, <class 'NoneType'>\n"
     ]
    },
    {
     "name": "stdout",
     "output_type": "stream",
     "text": [
      "Epoch 00006: early stopping\n",
      "2017KT =======================================\n"
     ]
    },
    {
     "name": "stderr",
     "output_type": "stream",
     "text": [
      "W0926 21:46:24.144471 17016 training.py:504] Falling back from v2 loop because of error: Failed to find data adapter that can handle input: <class 'pandas.core.frame.DataFrame'>, <class 'NoneType'>\n"
     ]
    },
    {
     "name": "stdout",
     "output_type": "stream",
     "text": [
      "Model: \"sequential\"\n",
      "_________________________________________________________________\n",
      "Layer (type)                 Output Shape              Param #   \n",
      "=================================================================\n",
      "dense (Dense)                (None, 1024)              59392     \n",
      "_________________________________________________________________\n",
      "dense_1 (Dense)              (None, 1024)              1049600   \n",
      "_________________________________________________________________\n",
      "dense_2 (Dense)              (None, 1024)              1049600   \n",
      "_________________________________________________________________\n",
      "dense_3 (Dense)              (None, 1024)              1049600   \n",
      "_________________________________________________________________\n",
      "dense_4 (Dense)              (None, 1024)              1049600   \n",
      "_________________________________________________________________\n",
      "dense_5 (Dense)              (None, 1)                 1025      \n",
      "=================================================================\n",
      "Total params: 4,258,817\n",
      "Trainable params: 4,258,817\n",
      "Non-trainable params: 0\n",
      "_________________________________________________________________\n",
      "Train on 73 samples\n",
      "Epoch 1/100\n",
      "73/73 [==============================] - 1s 19ms/sample - loss: 62163.1513 - mae: 32.3636\n",
      "Epoch 2/100\n",
      "73/73 [==============================] - 1s 19ms/sample - loss: 0.2036 - mae: 0.26171s - loss: 0\n",
      "Epoch 3/100\n",
      "73/73 [==============================] - 1s 19ms/sample - loss: 0.3224 - mae: 0.3528\n",
      "Epoch 4/100\n",
      "73/73 [==============================] - 1s 17ms/sample - loss: 0.0232 - mae: 0.1245\n",
      "Epoch 5/100\n",
      "73/73 [==============================] - 1s 17ms/sample - loss: 0.0197 - mae: 0.1173\n",
      "Epoch 6/100\n",
      "73/73 [==============================] - 1s 17ms/sample - loss: 0.0146 - mae: 0.10191s - loss\n",
      "Epoch 7/100\n",
      "73/73 [==============================] - 1s 18ms/sample - loss: 0.0278 - mae: 0.1190\n",
      "Epoch 8/100\n",
      "73/73 [==============================] - 1s 19ms/sample - loss: 0.0241 - mae: 0.1252\n"
     ]
    },
    {
     "name": "stderr",
     "output_type": "stream",
     "text": [
      "W0926 21:46:35.903672 17016 training.py:504] Falling back from v2 loop because of error: Failed to find data adapter that can handle input: <class 'pandas.core.frame.DataFrame'>, <class 'NoneType'>\n"
     ]
    },
    {
     "name": "stdout",
     "output_type": "stream",
     "text": [
      "Epoch 00008: early stopping\n",
      "2017WO =======================================\n"
     ]
    },
    {
     "name": "stderr",
     "output_type": "stream",
     "text": [
      "W0926 21:46:36.338567 17016 training.py:504] Falling back from v2 loop because of error: Failed to find data adapter that can handle input: <class 'pandas.core.frame.DataFrame'>, <class 'NoneType'>\n"
     ]
    },
    {
     "name": "stdout",
     "output_type": "stream",
     "text": [
      "Model: \"sequential\"\n",
      "_________________________________________________________________\n",
      "Layer (type)                 Output Shape              Param #   \n",
      "=================================================================\n",
      "dense (Dense)                (None, 1024)              59392     \n",
      "_________________________________________________________________\n",
      "dense_1 (Dense)              (None, 1024)              1049600   \n",
      "_________________________________________________________________\n",
      "dense_2 (Dense)              (None, 1024)              1049600   \n",
      "_________________________________________________________________\n",
      "dense_3 (Dense)              (None, 1024)              1049600   \n",
      "_________________________________________________________________\n",
      "dense_4 (Dense)              (None, 1024)              1049600   \n",
      "_________________________________________________________________\n",
      "dense_5 (Dense)              (None, 1)                 1025      \n",
      "=================================================================\n",
      "Total params: 4,258,817\n",
      "Trainable params: 4,258,817\n",
      "Non-trainable params: 0\n",
      "_________________________________________________________________\n",
      "Train on 73 samples\n",
      "Epoch 1/100\n",
      "73/73 [==============================] - 1s 20ms/sample - loss: 42329.8460 - mae: 25.5261\n",
      "Epoch 2/100\n",
      "73/73 [==============================] - 1s 16ms/sample - loss: 0.0301 - mae: 0.1249\n",
      "Epoch 3/100\n",
      "73/73 [==============================] - 1s 17ms/sample - loss: 0.0165 - mae: 0.1086\n",
      "Epoch 4/100\n",
      "73/73 [==============================] - 1s 19ms/sample - loss: 0.0051 - mae: 0.0533\n",
      "Epoch 5/100\n",
      "73/73 [==============================] - 1s 18ms/sample - loss: 0.0064 - mae: 0.0656\n",
      "Epoch 6/100\n",
      "73/73 [==============================] - 1s 16ms/sample - loss: 0.0089 - mae: 0.0772\n"
     ]
    },
    {
     "name": "stderr",
     "output_type": "stream",
     "text": [
      "W0926 21:46:45.257214 17016 training.py:504] Falling back from v2 loop because of error: Failed to find data adapter that can handle input: <class 'pandas.core.frame.DataFrame'>, <class 'NoneType'>\n"
     ]
    },
    {
     "name": "stdout",
     "output_type": "stream",
     "text": [
      "Epoch 00006: early stopping\n",
      "2017LT =======================================\n"
     ]
    },
    {
     "name": "stderr",
     "output_type": "stream",
     "text": [
      "W0926 21:46:45.692839 17016 training.py:504] Falling back from v2 loop because of error: Failed to find data adapter that can handle input: <class 'pandas.core.frame.DataFrame'>, <class 'NoneType'>\n"
     ]
    },
    {
     "name": "stdout",
     "output_type": "stream",
     "text": [
      "Model: \"sequential\"\n",
      "_________________________________________________________________\n",
      "Layer (type)                 Output Shape              Param #   \n",
      "=================================================================\n",
      "dense (Dense)                (None, 1024)              59392     \n",
      "_________________________________________________________________\n",
      "dense_1 (Dense)              (None, 1024)              1049600   \n",
      "_________________________________________________________________\n",
      "dense_2 (Dense)              (None, 1024)              1049600   \n",
      "_________________________________________________________________\n",
      "dense_3 (Dense)              (None, 1024)              1049600   \n",
      "_________________________________________________________________\n",
      "dense_4 (Dense)              (None, 1024)              1049600   \n",
      "_________________________________________________________________\n",
      "dense_5 (Dense)              (None, 1)                 1025      \n",
      "=================================================================\n",
      "Total params: 4,258,817\n",
      "Trainable params: 4,258,817\n",
      "Non-trainable params: 0\n",
      "_________________________________________________________________\n",
      "Train on 73 samples\n",
      "Epoch 1/100\n",
      "73/73 [==============================] - 1s 20ms/sample - loss: 36076.6373 - mae: 24.6088\n",
      "Epoch 2/100\n",
      "73/73 [==============================] - 1s 18ms/sample - loss: 0.1177 - mae: 0.2517\n",
      "Epoch 3/100\n",
      "73/73 [==============================] - 1s 19ms/sample - loss: 0.0366 - mae: 0.1530\n",
      "Epoch 4/100\n",
      "73/73 [==============================] - 1s 18ms/sample - loss: 0.0153 - mae: 0.09460s - loss: 0.0158 -\n",
      "Epoch 5/100\n",
      "73/73 [==============================] - 1s 17ms/sample - loss: 0.0150 - mae: 0.1010\n",
      "Epoch 6/100\n",
      "73/73 [==============================] - 1s 17ms/sample - loss: 0.0822 - mae: 0.20080s - loss: 0.0\n",
      "Epoch 7/100\n",
      "73/73 [==============================] - 1s 18ms/sample - loss: 0.0449 - mae: 0.1711\n"
     ]
    },
    {
     "name": "stderr",
     "output_type": "stream",
     "text": [
      "W0926 21:46:56.182377 17016 training.py:504] Falling back from v2 loop because of error: Failed to find data adapter that can handle input: <class 'pandas.core.frame.DataFrame'>, <class 'NoneType'>\n"
     ]
    },
    {
     "name": "stdout",
     "output_type": "stream",
     "text": [
      "Epoch 00007: early stopping\n",
      "2017SS =======================================\n"
     ]
    },
    {
     "name": "stderr",
     "output_type": "stream",
     "text": [
      "W0926 21:46:56.639331 17016 training.py:504] Falling back from v2 loop because of error: Failed to find data adapter that can handle input: <class 'pandas.core.frame.DataFrame'>, <class 'NoneType'>\n"
     ]
    },
    {
     "name": "stdout",
     "output_type": "stream",
     "text": [
      "Model: \"sequential\"\n",
      "_________________________________________________________________\n",
      "Layer (type)                 Output Shape              Param #   \n",
      "=================================================================\n",
      "dense (Dense)                (None, 1024)              59392     \n",
      "_________________________________________________________________\n",
      "dense_1 (Dense)              (None, 1024)              1049600   \n",
      "_________________________________________________________________\n",
      "dense_2 (Dense)              (None, 1024)              1049600   \n",
      "_________________________________________________________________\n",
      "dense_3 (Dense)              (None, 1024)              1049600   \n",
      "_________________________________________________________________\n",
      "dense_4 (Dense)              (None, 1024)              1049600   \n",
      "_________________________________________________________________\n",
      "dense_5 (Dense)              (None, 1)                 1025      \n",
      "=================================================================\n",
      "Total params: 4,258,817\n",
      "Trainable params: 4,258,817\n",
      "Non-trainable params: 0\n",
      "_________________________________________________________________\n",
      "Train on 73 samples\n",
      "Epoch 1/100\n",
      "73/73 [==============================] - 1s 20ms/sample - loss: 49806.8460 - mae: 27.8900\n",
      "Epoch 2/100\n",
      "73/73 [==============================] - 1s 17ms/sample - loss: 0.0124 - mae: 0.0936\n",
      "Epoch 3/100\n",
      "73/73 [==============================] - 1s 17ms/sample - loss: 0.0066 - mae: 0.0673\n",
      "Epoch 4/100\n",
      "73/73 [==============================] - 1s 18ms/sample - loss: 0.0046 - mae: 0.0546\n",
      "Epoch 5/100\n",
      "73/73 [==============================] - 1s 19ms/sample - loss: 0.0050 - mae: 0.05500s - loss: 0.0048 - mae: 0\n",
      "Epoch 6/100\n",
      "73/73 [==============================] - 1s 18ms/sample - loss: 0.0040 - mae: 0.0528\n",
      "Epoch 7/100\n",
      "73/73 [==============================] - 1s 16ms/sample - loss: 0.0113 - mae: 0.0853\n",
      "Epoch 8/100\n",
      "73/73 [==============================] - 1s 17ms/sample - loss: 0.0062 - mae: 0.0617\n"
     ]
    },
    {
     "name": "stderr",
     "output_type": "stream",
     "text": [
      "W0926 21:47:08.104020 17016 training.py:504] Falling back from v2 loop because of error: Failed to find data adapter that can handle input: <class 'pandas.core.frame.DataFrame'>, <class 'NoneType'>\n"
     ]
    },
    {
     "name": "stdout",
     "output_type": "stream",
     "text": [
      "Epoch 00008: early stopping\n",
      "2017OB =======================================\n"
     ]
    },
    {
     "name": "stderr",
     "output_type": "stream",
     "text": [
      "W0926 21:47:08.512164 17016 training.py:504] Falling back from v2 loop because of error: Failed to find data adapter that can handle input: <class 'pandas.core.frame.DataFrame'>, <class 'NoneType'>\n"
     ]
    },
    {
     "name": "stdout",
     "output_type": "stream",
     "text": [
      "Model: \"sequential\"\n",
      "_________________________________________________________________\n",
      "Layer (type)                 Output Shape              Param #   \n",
      "=================================================================\n",
      "dense (Dense)                (None, 1024)              59392     \n",
      "_________________________________________________________________\n",
      "dense_1 (Dense)              (None, 1024)              1049600   \n",
      "_________________________________________________________________\n",
      "dense_2 (Dense)              (None, 1024)              1049600   \n",
      "_________________________________________________________________\n",
      "dense_3 (Dense)              (None, 1024)              1049600   \n",
      "_________________________________________________________________\n",
      "dense_4 (Dense)              (None, 1024)              1049600   \n",
      "_________________________________________________________________\n",
      "dense_5 (Dense)              (None, 1)                 1025      \n",
      "=================================================================\n",
      "Total params: 4,258,817\n",
      "Trainable params: 4,258,817\n",
      "Non-trainable params: 0\n",
      "_________________________________________________________________\n",
      "Train on 73 samples\n",
      "Epoch 1/100\n",
      "73/73 [==============================] - 2s 22ms/sample - loss: 65761.5706 - mae: 31.5509\n",
      "Epoch 2/100\n",
      "73/73 [==============================] - 1s 17ms/sample - loss: 0.0319 - mae: 0.1524\n",
      "Epoch 3/100\n",
      "73/73 [==============================] - 1s 17ms/sample - loss: 0.0253 - mae: 0.1363\n",
      "Epoch 4/100\n",
      "73/73 [==============================] - 1s 17ms/sample - loss: 196.7617 - mae: 2.0107\n",
      "Epoch 5/100\n",
      "73/73 [==============================] - 1s 19ms/sample - loss: 67.9640 - mae: 3.7325\n",
      "Epoch 00005: early stopping\n"
     ]
    },
    {
     "name": "stderr",
     "output_type": "stream",
     "text": [
      "W0926 21:47:16.842063 17016 training.py:504] Falling back from v2 loop because of error: Failed to find data adapter that can handle input: <class 'pandas.core.frame.DataFrame'>, <class 'NoneType'>\n"
     ]
    },
    {
     "name": "stdout",
     "output_type": "stream",
     "text": [
      "2018LG =======================================\n"
     ]
    },
    {
     "name": "stderr",
     "output_type": "stream",
     "text": [
      "W0926 21:47:17.284101 17016 training.py:504] Falling back from v2 loop because of error: Failed to find data adapter that can handle input: <class 'pandas.core.frame.DataFrame'>, <class 'NoneType'>\n"
     ]
    },
    {
     "name": "stdout",
     "output_type": "stream",
     "text": [
      "Model: \"sequential\"\n",
      "_________________________________________________________________\n",
      "Layer (type)                 Output Shape              Param #   \n",
      "=================================================================\n",
      "dense (Dense)                (None, 1024)              59392     \n",
      "_________________________________________________________________\n",
      "dense_1 (Dense)              (None, 1024)              1049600   \n",
      "_________________________________________________________________\n",
      "dense_2 (Dense)              (None, 1024)              1049600   \n",
      "_________________________________________________________________\n",
      "dense_3 (Dense)              (None, 1024)              1049600   \n",
      "_________________________________________________________________\n",
      "dense_4 (Dense)              (None, 1024)              1049600   \n",
      "_________________________________________________________________\n",
      "dense_5 (Dense)              (None, 1)                 1025      \n",
      "=================================================================\n",
      "Total params: 4,258,817\n",
      "Trainable params: 4,258,817\n",
      "Non-trainable params: 0\n",
      "_________________________________________________________________\n",
      "Train on 73 samples\n",
      "Epoch 1/100\n",
      "73/73 [==============================] - 1s 20ms/sample - loss: 27659.7185 - mae: 20.1502\n",
      "Epoch 2/100\n",
      "73/73 [==============================] - 1s 16ms/sample - loss: 0.1155 - mae: 0.2771\n",
      "Epoch 3/100\n",
      "73/73 [==============================] - 2s 25ms/sample - loss: 0.0363 - mae: 0.1623\n",
      "Epoch 4/100\n",
      "73/73 [==============================] - 2s 23ms/sample - loss: 0.0332 - mae: 0.1523\n",
      "Epoch 5/100\n",
      "73/73 [==============================] - 2s 21ms/sample - loss: 0.0442 - mae: 0.1783\n",
      "Epoch 6/100\n",
      "73/73 [==============================] - 1s 19ms/sample - loss: 0.0232 - mae: 0.1292\n",
      "Epoch 7/100\n",
      "73/73 [==============================] - 1s 19ms/sample - loss: 0.0260 - mae: 0.13550s - loss: 0.0278 - mae: \n",
      "Epoch 8/100\n",
      "73/73 [==============================] - 1s 20ms/sample - loss: 0.0244 - mae: 0.1299\n"
     ]
    },
    {
     "name": "stderr",
     "output_type": "stream",
     "text": [
      "W0926 21:47:30.472264 17016 training.py:504] Falling back from v2 loop because of error: Failed to find data adapter that can handle input: <class 'pandas.core.frame.DataFrame'>, <class 'NoneType'>\n"
     ]
    },
    {
     "name": "stdout",
     "output_type": "stream",
     "text": [
      "Epoch 00008: early stopping\n",
      "2018HH =======================================\n"
     ]
    },
    {
     "name": "stderr",
     "output_type": "stream",
     "text": [
      "W0926 21:47:31.035422 17016 training.py:504] Falling back from v2 loop because of error: Failed to find data adapter that can handle input: <class 'pandas.core.frame.DataFrame'>, <class 'NoneType'>\n"
     ]
    },
    {
     "name": "stdout",
     "output_type": "stream",
     "text": [
      "Model: \"sequential\"\n",
      "_________________________________________________________________\n",
      "Layer (type)                 Output Shape              Param #   \n",
      "=================================================================\n",
      "dense (Dense)                (None, 1024)              59392     \n",
      "_________________________________________________________________\n",
      "dense_1 (Dense)              (None, 1024)              1049600   \n",
      "_________________________________________________________________\n",
      "dense_2 (Dense)              (None, 1024)              1049600   \n",
      "_________________________________________________________________\n",
      "dense_3 (Dense)              (None, 1024)              1049600   \n",
      "_________________________________________________________________\n",
      "dense_4 (Dense)              (None, 1024)              1049600   \n",
      "_________________________________________________________________\n",
      "dense_5 (Dense)              (None, 1)                 1025      \n",
      "=================================================================\n",
      "Total params: 4,258,817\n",
      "Trainable params: 4,258,817\n",
      "Non-trainable params: 0\n",
      "_________________________________________________________________\n",
      "Train on 73 samples\n",
      "Epoch 1/100\n",
      "73/73 [==============================] - 2s 23ms/sample - loss: 37915.3372 - mae: 24.1337\n",
      "Epoch 2/100\n",
      "73/73 [==============================] - 1s 20ms/sample - loss: 0.0409 - mae: 0.1667\n",
      "Epoch 3/100\n",
      "73/73 [==============================] - 2s 21ms/sample - loss: 0.0150 - mae: 0.10411s - los\n",
      "Epoch 4/100\n",
      "73/73 [==============================] - 2s 21ms/sample - loss: 0.0149 - mae: 0.1010\n",
      "Epoch 5/100\n",
      "73/73 [==============================] - 2s 21ms/sample - loss: 0.0116 - mae: 0.0819\n",
      "Epoch 6/100\n",
      "73/73 [==============================] - 1s 19ms/sample - loss: 0.0388 - mae: 0.14230s - loss: 0.0320 - ma\n",
      "Epoch 7/100\n",
      "73/73 [==============================] - 1s 20ms/sample - loss: 0.0241 - mae: 0.1283\n"
     ]
    },
    {
     "name": "stderr",
     "output_type": "stream",
     "text": [
      "W0926 21:47:42.897468 17016 training.py:504] Falling back from v2 loop because of error: Failed to find data adapter that can handle input: <class 'pandas.core.frame.DataFrame'>, <class 'NoneType'>\n"
     ]
    },
    {
     "name": "stdout",
     "output_type": "stream",
     "text": [
      "Epoch 00007: early stopping\n",
      "2018NC =======================================\n"
     ]
    },
    {
     "name": "stderr",
     "output_type": "stream",
     "text": [
      "W0926 21:47:43.430188 17016 training.py:504] Falling back from v2 loop because of error: Failed to find data adapter that can handle input: <class 'pandas.core.frame.DataFrame'>, <class 'NoneType'>\n"
     ]
    },
    {
     "name": "stdout",
     "output_type": "stream",
     "text": [
      "Model: \"sequential\"\n",
      "_________________________________________________________________\n",
      "Layer (type)                 Output Shape              Param #   \n",
      "=================================================================\n",
      "dense (Dense)                (None, 1024)              59392     \n",
      "_________________________________________________________________\n",
      "dense_1 (Dense)              (None, 1024)              1049600   \n",
      "_________________________________________________________________\n",
      "dense_2 (Dense)              (None, 1024)              1049600   \n",
      "_________________________________________________________________\n",
      "dense_3 (Dense)              (None, 1024)              1049600   \n",
      "_________________________________________________________________\n",
      "dense_4 (Dense)              (None, 1024)              1049600   \n",
      "_________________________________________________________________\n",
      "dense_5 (Dense)              (None, 1)                 1025      \n",
      "=================================================================\n",
      "Total params: 4,258,817\n",
      "Trainable params: 4,258,817\n",
      "Non-trainable params: 0\n",
      "_________________________________________________________________\n",
      "Train on 73 samples\n",
      "Epoch 1/100\n",
      "73/73 [==============================] - 2s 23ms/sample - loss: 64365.3427 - mae: 40.8159 1s - loss: 182135.4272 - mae: 93.7860 - ETA: 1s - loss: 1\n",
      "Epoch 2/100\n",
      "73/73 [==============================] - 1s 17ms/sample - loss: 0.2871 - mae: 0.3604\n",
      "Epoch 3/100\n",
      "73/73 [==============================] - 1s 18ms/sample - loss: 0.0569 - mae: 0.1935\n",
      "Epoch 4/100\n",
      "73/73 [==============================] - 1s 17ms/sample - loss: 0.0296 - mae: 0.1390\n",
      "Epoch 5/100\n",
      "73/73 [==============================] - 1s 18ms/sample - loss: 0.1728 - mae: 0.3060\n",
      "Epoch 6/100\n",
      "73/73 [==============================] - 2s 25ms/sample - loss: 0.0394 - mae: 0.1622\n"
     ]
    },
    {
     "name": "stderr",
     "output_type": "stream",
     "text": [
      "W0926 21:47:53.124530 17016 training.py:504] Falling back from v2 loop because of error: Failed to find data adapter that can handle input: <class 'pandas.core.frame.DataFrame'>, <class 'NoneType'>\n"
     ]
    },
    {
     "name": "stdout",
     "output_type": "stream",
     "text": [
      "Epoch 00006: early stopping\n",
      "2018HT =======================================\n"
     ]
    },
    {
     "name": "stderr",
     "output_type": "stream",
     "text": [
      "W0926 21:47:53.820570 17016 training.py:504] Falling back from v2 loop because of error: Failed to find data adapter that can handle input: <class 'pandas.core.frame.DataFrame'>, <class 'NoneType'>\n"
     ]
    },
    {
     "name": "stdout",
     "output_type": "stream",
     "text": [
      "Model: \"sequential\"\n",
      "_________________________________________________________________\n",
      "Layer (type)                 Output Shape              Param #   \n",
      "=================================================================\n",
      "dense (Dense)                (None, 1024)              59392     \n",
      "_________________________________________________________________\n",
      "dense_1 (Dense)              (None, 1024)              1049600   \n",
      "_________________________________________________________________\n",
      "dense_2 (Dense)              (None, 1024)              1049600   \n",
      "_________________________________________________________________\n",
      "dense_3 (Dense)              (None, 1024)              1049600   \n",
      "_________________________________________________________________\n",
      "dense_4 (Dense)              (None, 1024)              1049600   \n",
      "_________________________________________________________________\n",
      "dense_5 (Dense)              (None, 1)                 1025      \n",
      "=================================================================\n",
      "Total params: 4,258,817\n",
      "Trainable params: 4,258,817\n",
      "Non-trainable params: 0\n",
      "_________________________________________________________________\n",
      "Train on 73 samples\n",
      "Epoch 1/100\n",
      "73/73 [==============================] - 2s 21ms/sample - loss: 80898.0790 - mae: 37.1312\n",
      "Epoch 2/100\n",
      "73/73 [==============================] - 1s 20ms/sample - loss: 0.1104 - mae: 0.2631\n",
      "Epoch 3/100\n",
      "73/73 [==============================] - 1s 19ms/sample - loss: 0.0879 - mae: 0.2377\n",
      "Epoch 4/100\n",
      "73/73 [==============================] - 1s 20ms/sample - loss: 0.0915 - mae: 0.2484\n",
      "Epoch 5/100\n",
      "73/73 [==============================] - 1s 18ms/sample - loss: 0.0484 - mae: 0.1865\n",
      "Epoch 6/100\n",
      "73/73 [==============================] - 1s 17ms/sample - loss: 0.0793 - mae: 0.23651s - loss: 0\n",
      "Epoch 7/100\n",
      "73/73 [==============================] - 1s 20ms/sample - loss: 0.0637 - mae: 0.2041\n"
     ]
    },
    {
     "name": "stderr",
     "output_type": "stream",
     "text": [
      "W0926 21:48:04.849071 17016 training.py:504] Falling back from v2 loop because of error: Failed to find data adapter that can handle input: <class 'pandas.core.frame.DataFrame'>, <class 'NoneType'>\n"
     ]
    },
    {
     "name": "stdout",
     "output_type": "stream",
     "text": [
      "Epoch 00007: early stopping\n",
      "2018SK =======================================\n"
     ]
    },
    {
     "name": "stderr",
     "output_type": "stream",
     "text": [
      "W0926 21:48:05.314941 17016 training.py:504] Falling back from v2 loop because of error: Failed to find data adapter that can handle input: <class 'pandas.core.frame.DataFrame'>, <class 'NoneType'>\n"
     ]
    },
    {
     "name": "stdout",
     "output_type": "stream",
     "text": [
      "Model: \"sequential\"\n",
      "_________________________________________________________________\n",
      "Layer (type)                 Output Shape              Param #   \n",
      "=================================================================\n",
      "dense (Dense)                (None, 1024)              59392     \n",
      "_________________________________________________________________\n",
      "dense_1 (Dense)              (None, 1024)              1049600   \n",
      "_________________________________________________________________\n",
      "dense_2 (Dense)              (None, 1024)              1049600   \n",
      "_________________________________________________________________\n",
      "dense_3 (Dense)              (None, 1024)              1049600   \n",
      "_________________________________________________________________\n",
      "dense_4 (Dense)              (None, 1024)              1049600   \n",
      "_________________________________________________________________\n",
      "dense_5 (Dense)              (None, 1)                 1025      \n",
      "=================================================================\n",
      "Total params: 4,258,817\n",
      "Trainable params: 4,258,817\n",
      "Non-trainable params: 0\n",
      "_________________________________________________________________\n",
      "Train on 73 samples\n",
      "Epoch 1/100\n",
      "73/73 [==============================] - 2s 21ms/sample - loss: 90469.0961 - mae: 37.3551\n",
      "Epoch 2/100\n",
      "73/73 [==============================] - 1s 18ms/sample - loss: 0.0455 - mae: 0.1643\n",
      "Epoch 3/100\n",
      "73/73 [==============================] - 1s 18ms/sample - loss: 0.0223 - mae: 0.1273\n",
      "Epoch 4/100\n",
      "73/73 [==============================] - 1s 20ms/sample - loss: 0.0159 - mae: 0.1047\n",
      "Epoch 5/100\n",
      "73/73 [==============================] - 2s 21ms/sample - loss: 0.0214 - mae: 0.11710s - loss: 0.0195 - mae: 0.112\n",
      "Epoch 6/100\n",
      "73/73 [==============================] - 1s 19ms/sample - loss: 0.0223 - mae: 0.1133\n"
     ]
    },
    {
     "name": "stderr",
     "output_type": "stream",
     "text": [
      "W0926 21:48:15.266397 17016 training.py:504] Falling back from v2 loop because of error: Failed to find data adapter that can handle input: <class 'pandas.core.frame.DataFrame'>, <class 'NoneType'>\n"
     ]
    },
    {
     "name": "stdout",
     "output_type": "stream",
     "text": [
      "Epoch 00006: early stopping\n",
      "2018KT =======================================\n"
     ]
    },
    {
     "name": "stderr",
     "output_type": "stream",
     "text": [
      "W0926 21:48:15.814238 17016 training.py:504] Falling back from v2 loop because of error: Failed to find data adapter that can handle input: <class 'pandas.core.frame.DataFrame'>, <class 'NoneType'>\n"
     ]
    },
    {
     "name": "stdout",
     "output_type": "stream",
     "text": [
      "Model: \"sequential\"\n",
      "_________________________________________________________________\n",
      "Layer (type)                 Output Shape              Param #   \n",
      "=================================================================\n",
      "dense (Dense)                (None, 1024)              59392     \n",
      "_________________________________________________________________\n",
      "dense_1 (Dense)              (None, 1024)              1049600   \n",
      "_________________________________________________________________\n",
      "dense_2 (Dense)              (None, 1024)              1049600   \n",
      "_________________________________________________________________\n",
      "dense_3 (Dense)              (None, 1024)              1049600   \n",
      "_________________________________________________________________\n",
      "dense_4 (Dense)              (None, 1024)              1049600   \n",
      "_________________________________________________________________\n",
      "dense_5 (Dense)              (None, 1)                 1025      \n",
      "=================================================================\n",
      "Total params: 4,258,817\n",
      "Trainable params: 4,258,817\n",
      "Non-trainable params: 0\n",
      "_________________________________________________________________\n",
      "Train on 73 samples\n",
      "Epoch 1/100\n",
      "73/73 [==============================] - 1s 20ms/sample - loss: 46323.2701 - mae: 26.5235\n",
      "Epoch 2/100\n",
      "73/73 [==============================] - 1s 17ms/sample - loss: 0.0130 - mae: 0.0937\n",
      "Epoch 3/100\n",
      "73/73 [==============================] - 1s 18ms/sample - loss: 0.0120 - mae: 0.0866\n",
      "Epoch 4/100\n",
      "73/73 [==============================] - 2s 21ms/sample - loss: 0.0106 - mae: 0.0788\n",
      "Epoch 5/100\n",
      "73/73 [==============================] - 1s 17ms/sample - loss: 0.0114 - mae: 0.0842\n",
      "Epoch 6/100\n",
      "73/73 [==============================] - 1s 17ms/sample - loss: 0.0133 - mae: 0.0883\n"
     ]
    },
    {
     "name": "stderr",
     "output_type": "stream",
     "text": [
      "W0926 21:48:25.083414 17016 training.py:504] Falling back from v2 loop because of error: Failed to find data adapter that can handle input: <class 'pandas.core.frame.DataFrame'>, <class 'NoneType'>\n"
     ]
    },
    {
     "name": "stdout",
     "output_type": "stream",
     "text": [
      "Epoch 00006: early stopping\n",
      "2018WO =======================================\n"
     ]
    },
    {
     "name": "stderr",
     "output_type": "stream",
     "text": [
      "W0926 21:48:25.602100 17016 training.py:504] Falling back from v2 loop because of error: Failed to find data adapter that can handle input: <class 'pandas.core.frame.DataFrame'>, <class 'NoneType'>\n"
     ]
    },
    {
     "name": "stdout",
     "output_type": "stream",
     "text": [
      "Model: \"sequential\"\n",
      "_________________________________________________________________\n",
      "Layer (type)                 Output Shape              Param #   \n",
      "=================================================================\n",
      "dense (Dense)                (None, 1024)              59392     \n",
      "_________________________________________________________________\n",
      "dense_1 (Dense)              (None, 1024)              1049600   \n",
      "_________________________________________________________________\n",
      "dense_2 (Dense)              (None, 1024)              1049600   \n",
      "_________________________________________________________________\n",
      "dense_3 (Dense)              (None, 1024)              1049600   \n",
      "_________________________________________________________________\n",
      "dense_4 (Dense)              (None, 1024)              1049600   \n",
      "_________________________________________________________________\n",
      "dense_5 (Dense)              (None, 1)                 1025      \n",
      "=================================================================\n",
      "Total params: 4,258,817\n",
      "Trainable params: 4,258,817\n",
      "Non-trainable params: 0\n",
      "_________________________________________________________________\n",
      "Train on 73 samples\n",
      "Epoch 1/100\n",
      "73/73 [==============================] - 1s 20ms/sample - loss: 85758.4757 - mae: 35.9657\n",
      "Epoch 2/100\n",
      "73/73 [==============================] - 1s 19ms/sample - loss: 0.0127 - mae: 0.0891\n",
      "Epoch 3/100\n",
      "73/73 [==============================] - 1s 19ms/sample - loss: 0.0139 - mae: 0.0923\n",
      "Epoch 4/100\n",
      "73/73 [==============================] - 1s 18ms/sample - loss: 0.0052 - mae: 0.0571\n",
      "Epoch 5/100\n",
      "73/73 [==============================] - 1s 17ms/sample - loss: 0.0065 - mae: 0.0662\n",
      "Epoch 6/100\n",
      "73/73 [==============================] - 1s 17ms/sample - loss: 0.0071 - mae: 0.0687\n"
     ]
    },
    {
     "name": "stderr",
     "output_type": "stream",
     "text": [
      "W0926 21:48:34.949125 17016 training.py:504] Falling back from v2 loop because of error: Failed to find data adapter that can handle input: <class 'pandas.core.frame.DataFrame'>, <class 'NoneType'>\n"
     ]
    },
    {
     "name": "stdout",
     "output_type": "stream",
     "text": [
      "Epoch 00006: early stopping\n",
      "2018LT =======================================\n"
     ]
    },
    {
     "name": "stderr",
     "output_type": "stream",
     "text": [
      "W0926 21:48:35.967121 17016 training.py:504] Falling back from v2 loop because of error: Failed to find data adapter that can handle input: <class 'pandas.core.frame.DataFrame'>, <class 'NoneType'>\n"
     ]
    },
    {
     "name": "stdout",
     "output_type": "stream",
     "text": [
      "Model: \"sequential\"\n",
      "_________________________________________________________________\n",
      "Layer (type)                 Output Shape              Param #   \n",
      "=================================================================\n",
      "dense (Dense)                (None, 1024)              59392     \n",
      "_________________________________________________________________\n",
      "dense_1 (Dense)              (None, 1024)              1049600   \n",
      "_________________________________________________________________\n",
      "dense_2 (Dense)              (None, 1024)              1049600   \n",
      "_________________________________________________________________\n",
      "dense_3 (Dense)              (None, 1024)              1049600   \n",
      "_________________________________________________________________\n",
      "dense_4 (Dense)              (None, 1024)              1049600   \n",
      "_________________________________________________________________\n",
      "dense_5 (Dense)              (None, 1)                 1025      \n",
      "=================================================================\n",
      "Total params: 4,258,817\n",
      "Trainable params: 4,258,817\n",
      "Non-trainable params: 0\n",
      "_________________________________________________________________\n",
      "Train on 73 samples\n",
      "Epoch 1/100\n",
      "73/73 [==============================] - 1s 20ms/sample - loss: 108847.1145 - mae: 41.1831\n",
      "Epoch 2/100\n",
      "73/73 [==============================] - 1s 17ms/sample - loss: 0.0361 - mae: 0.1537\n",
      "Epoch 3/100\n",
      "73/73 [==============================] - 1s 16ms/sample - loss: 0.0157 - mae: 0.1005\n",
      "Epoch 4/100\n",
      "73/73 [==============================] - 1s 18ms/sample - loss: 0.0119 - mae: 0.0895\n",
      "Epoch 5/100\n",
      "73/73 [==============================] - 1s 18ms/sample - loss: 0.0118 - mae: 0.08640s - loss: 0.0133 - ma\n",
      "Epoch 6/100\n",
      "73/73 [==============================] - 1s 17ms/sample - loss: 0.0099 - mae: 0.0819\n",
      "Epoch 7/100\n",
      "73/73 [==============================] - 1s 16ms/sample - loss: 0.0171 - mae: 0.10550s - loss: 0.0173 - mae: 0.10\n",
      "Epoch 8/100\n",
      "73/73 [==============================] - 1s 16ms/sample - loss: 0.0087 - mae: 0.0779\n",
      "Epoch 9/100\n",
      "73/73 [==============================] - 1s 16ms/sample - loss: 0.0088 - mae: 0.0745\n",
      "Epoch 10/100\n",
      "73/73 [==============================] - 1s 18ms/sample - loss: 0.0107 - mae: 0.0838\n"
     ]
    },
    {
     "name": "stderr",
     "output_type": "stream",
     "text": [
      "W0926 21:48:49.699695 17016 training.py:504] Falling back from v2 loop because of error: Failed to find data adapter that can handle input: <class 'pandas.core.frame.DataFrame'>, <class 'NoneType'>\n"
     ]
    },
    {
     "name": "stdout",
     "output_type": "stream",
     "text": [
      "Epoch 00010: early stopping\n",
      "2018SS =======================================\n"
     ]
    },
    {
     "name": "stderr",
     "output_type": "stream",
     "text": [
      "W0926 21:48:50.167043 17016 training.py:504] Falling back from v2 loop because of error: Failed to find data adapter that can handle input: <class 'pandas.core.frame.DataFrame'>, <class 'NoneType'>\n"
     ]
    },
    {
     "name": "stdout",
     "output_type": "stream",
     "text": [
      "Model: \"sequential\"\n",
      "_________________________________________________________________\n",
      "Layer (type)                 Output Shape              Param #   \n",
      "=================================================================\n",
      "dense (Dense)                (None, 1024)              59392     \n",
      "_________________________________________________________________\n",
      "dense_1 (Dense)              (None, 1024)              1049600   \n",
      "_________________________________________________________________\n",
      "dense_2 (Dense)              (None, 1024)              1049600   \n",
      "_________________________________________________________________\n",
      "dense_3 (Dense)              (None, 1024)              1049600   \n",
      "_________________________________________________________________\n",
      "dense_4 (Dense)              (None, 1024)              1049600   \n",
      "_________________________________________________________________\n",
      "dense_5 (Dense)              (None, 1)                 1025      \n",
      "=================================================================\n",
      "Total params: 4,258,817\n",
      "Trainable params: 4,258,817\n",
      "Non-trainable params: 0\n",
      "_________________________________________________________________\n",
      "Train on 73 samples\n",
      "Epoch 1/100\n",
      "73/73 [==============================] - 2s 26ms/sample - loss: 21251.1860 - mae: 19.9421s - loss: 31026.7\n",
      "Epoch 2/100\n",
      "73/73 [==============================] - 1s 20ms/sample - loss: 0.0321 - mae: 0.1407\n",
      "Epoch 3/100\n",
      "73/73 [==============================] - 2s 22ms/sample - loss: 0.0164 - mae: 0.10060s - loss: 0.0164 - mae: 0.10\n",
      "Epoch 4/100\n",
      "73/73 [==============================] - 2s 24ms/sample - loss: 0.0226 - mae: 0.12491s - loss:\n",
      "Epoch 5/100\n",
      "73/73 [==============================] - 1s 19ms/sample - loss: 0.0170 - mae: 0.1073\n"
     ]
    },
    {
     "name": "stderr",
     "output_type": "stream",
     "text": [
      "W0926 21:48:59.514286 17016 training.py:504] Falling back from v2 loop because of error: Failed to find data adapter that can handle input: <class 'pandas.core.frame.DataFrame'>, <class 'NoneType'>\n"
     ]
    },
    {
     "name": "stdout",
     "output_type": "stream",
     "text": [
      "Epoch 00005: early stopping\n",
      "2018OB =======================================\n"
     ]
    },
    {
     "name": "stderr",
     "output_type": "stream",
     "text": [
      "W0926 21:49:00.033102 17016 training.py:504] Falling back from v2 loop because of error: Failed to find data adapter that can handle input: <class 'pandas.core.frame.DataFrame'>, <class 'NoneType'>\n"
     ]
    },
    {
     "name": "stdout",
     "output_type": "stream",
     "text": [
      "Model: \"sequential\"\n",
      "_________________________________________________________________\n",
      "Layer (type)                 Output Shape              Param #   \n",
      "=================================================================\n",
      "dense (Dense)                (None, 1024)              59392     \n",
      "_________________________________________________________________\n",
      "dense_1 (Dense)              (None, 1024)              1049600   \n",
      "_________________________________________________________________\n",
      "dense_2 (Dense)              (None, 1024)              1049600   \n",
      "_________________________________________________________________\n",
      "dense_3 (Dense)              (None, 1024)              1049600   \n",
      "_________________________________________________________________\n",
      "dense_4 (Dense)              (None, 1024)              1049600   \n",
      "_________________________________________________________________\n",
      "dense_5 (Dense)              (None, 1)                 1025      \n",
      "=================================================================\n",
      "Total params: 4,258,817\n",
      "Trainable params: 4,258,817\n",
      "Non-trainable params: 0\n",
      "_________________________________________________________________\n",
      "Train on 73 samples\n",
      "Epoch 1/100\n",
      "73/73 [==============================] - 2s 21ms/sample - loss: 59696.8252 - mae: 31.0538\n",
      "Epoch 2/100\n",
      "73/73 [==============================] - 2s 27ms/sample - loss: 0.0493 - mae: 0.1528\n",
      "Epoch 3/100\n",
      "73/73 [==============================] - 2s 25ms/sample - loss: 0.0122 - mae: 0.09190s - loss: 0.0112 - mae: \n",
      "Epoch 4/100\n",
      "73/73 [==============================] - 2s 21ms/sample - loss: 0.0096 - mae: 0.08021s - loss: 0.0\n",
      "Epoch 5/100\n",
      "73/73 [==============================] - 2s 21ms/sample - loss: 139.4373 - mae: 2.8013\n",
      "Epoch 6/100\n",
      "73/73 [==============================] - 2s 27ms/sample - loss: 13770.8754 - mae: 31.5784\n"
     ]
    },
    {
     "name": "stderr",
     "output_type": "stream",
     "text": [
      "W0926 21:49:11.445602 17016 training.py:504] Falling back from v2 loop because of error: Failed to find data adapter that can handle input: <class 'pandas.core.frame.DataFrame'>, <class 'NoneType'>\n"
     ]
    },
    {
     "name": "stdout",
     "output_type": "stream",
     "text": [
      "Epoch 00006: early stopping\n",
      "2019LG =======================================\n"
     ]
    },
    {
     "name": "stderr",
     "output_type": "stream",
     "text": [
      "W0926 21:49:12.035344 17016 training.py:504] Falling back from v2 loop because of error: Failed to find data adapter that can handle input: <class 'pandas.core.frame.DataFrame'>, <class 'NoneType'>\n"
     ]
    },
    {
     "name": "stdout",
     "output_type": "stream",
     "text": [
      "Model: \"sequential\"\n",
      "_________________________________________________________________\n",
      "Layer (type)                 Output Shape              Param #   \n",
      "=================================================================\n",
      "dense (Dense)                (None, 1024)              59392     \n",
      "_________________________________________________________________\n",
      "dense_1 (Dense)              (None, 1024)              1049600   \n",
      "_________________________________________________________________\n",
      "dense_2 (Dense)              (None, 1024)              1049600   \n",
      "_________________________________________________________________\n",
      "dense_3 (Dense)              (None, 1024)              1049600   \n",
      "_________________________________________________________________\n",
      "dense_4 (Dense)              (None, 1024)              1049600   \n",
      "_________________________________________________________________\n",
      "dense_5 (Dense)              (None, 1)                 1025      \n",
      "=================================================================\n",
      "Total params: 4,258,817\n",
      "Trainable params: 4,258,817\n",
      "Non-trainable params: 0\n",
      "_________________________________________________________________\n",
      "Train on 73 samples\n",
      "Epoch 1/100\n",
      "73/73 [==============================] - 2s 22ms/sample - loss: 25212.6632 - mae: 20.7152\n",
      "Epoch 2/100\n",
      "73/73 [==============================] - 1s 18ms/sample - loss: 0.0798 - mae: 0.2285\n",
      "Epoch 3/100\n",
      "73/73 [==============================] - 2s 24ms/sample - loss: 0.0119 - mae: 0.0900\n",
      "Epoch 4/100\n",
      "73/73 [==============================] - 2s 25ms/sample - loss: 0.0129 - mae: 0.09170s - loss: 0.0124 - mae: 0.0\n",
      "Epoch 5/100\n",
      "73/73 [==============================] - 2s 21ms/sample - loss: 0.0097 - mae: 0.0776\n",
      "Epoch 6/100\n",
      "73/73 [==============================] - 2s 22ms/sample - loss: 0.0097 - mae: 0.0785: 1s - loss:\n",
      "Epoch 7/100\n",
      "73/73 [==============================] - 1s 19ms/sample - loss: 0.0104 - mae: 0.0812\n",
      "Epoch 8/100\n",
      "73/73 [==============================] - 1s 18ms/sample - loss: 0.0082 - mae: 0.0733\n",
      "Epoch 9/100\n",
      "73/73 [==============================] - 1s 18ms/sample - loss: 0.0085 - mae: 0.07930s - loss: 0.0\n",
      "Epoch 10/100\n",
      "73/73 [==============================] - 1s 19ms/sample - loss: 0.0086 - mae: 0.0741\n"
     ]
    },
    {
     "name": "stderr",
     "output_type": "stream",
     "text": [
      "W0926 21:49:28.194293 17016 training.py:504] Falling back from v2 loop because of error: Failed to find data adapter that can handle input: <class 'pandas.core.frame.DataFrame'>, <class 'NoneType'>\n"
     ]
    },
    {
     "name": "stdout",
     "output_type": "stream",
     "text": [
      "Epoch 00010: early stopping\n",
      "2019HH =======================================\n"
     ]
    },
    {
     "name": "stderr",
     "output_type": "stream",
     "text": [
      "W0926 21:49:28.619163 17016 training.py:504] Falling back from v2 loop because of error: Failed to find data adapter that can handle input: <class 'pandas.core.frame.DataFrame'>, <class 'NoneType'>\n"
     ]
    },
    {
     "name": "stdout",
     "output_type": "stream",
     "text": [
      "Model: \"sequential\"\n",
      "_________________________________________________________________\n",
      "Layer (type)                 Output Shape              Param #   \n",
      "=================================================================\n",
      "dense (Dense)                (None, 1024)              59392     \n",
      "_________________________________________________________________\n",
      "dense_1 (Dense)              (None, 1024)              1049600   \n",
      "_________________________________________________________________\n",
      "dense_2 (Dense)              (None, 1024)              1049600   \n",
      "_________________________________________________________________\n",
      "dense_3 (Dense)              (None, 1024)              1049600   \n",
      "_________________________________________________________________\n",
      "dense_4 (Dense)              (None, 1024)              1049600   \n",
      "_________________________________________________________________\n",
      "dense_5 (Dense)              (None, 1)                 1025      \n",
      "=================================================================\n",
      "Total params: 4,258,817\n",
      "Trainable params: 4,258,817\n",
      "Non-trainable params: 0\n",
      "_________________________________________________________________\n",
      "Train on 73 samples\n",
      "Epoch 1/100\n",
      "73/73 [==============================] - ETA: 0s - loss: 41150.0488 - mae: 25.4019- ETA: 0s - loss: - 1s 20ms/sample - loss: 40586.3495 - mae: 25.0543\n",
      "Epoch 2/100\n",
      "73/73 [==============================] - 1s 17ms/sample - loss: 0.0100 - mae: 0.0784\n",
      "Epoch 3/100\n",
      "73/73 [==============================] - 1s 17ms/sample - loss: 0.0116 - mae: 0.0891\n",
      "Epoch 4/100\n",
      "73/73 [==============================] - 1s 20ms/sample - loss: 0.0053 - mae: 0.0580\n",
      "Epoch 5/100\n",
      "73/73 [==============================] - 1s 18ms/sample - loss: 0.0060 - mae: 0.0645\n",
      "Epoch 6/100\n",
      "73/73 [==============================] - 1s 17ms/sample - loss: 0.0050 - mae: 0.0595\n",
      "Epoch 7/100\n",
      "73/73 [==============================] - 1s 17ms/sample - loss: 0.0039 - mae: 0.05150s - loss: 0.0038 - mae\n",
      "Epoch 8/100\n",
      "73/73 [==============================] - 1s 17ms/sample - loss: 0.0039 - mae: 0.0516\n",
      "Epoch 9/100\n",
      "73/73 [==============================] - 1s 17ms/sample - loss: 0.0040 - mae: 0.0491\n",
      "Epoch 10/100\n",
      "73/73 [==============================] - 1s 19ms/sample - loss: 0.0029 - mae: 0.0431\n",
      "Epoch 11/100\n",
      "73/73 [==============================] - 1s 18ms/sample - loss: 0.0036 - mae: 0.0472TA: 1s - loss: 8.4722\n",
      "Epoch 12/100\n",
      "73/73 [==============================] - 1s 16ms/sample - loss: 0.0033 - mae: 0.0446\n"
     ]
    },
    {
     "name": "stderr",
     "output_type": "stream",
     "text": [
      "W0926 21:49:45.241153 17016 training.py:504] Falling back from v2 loop because of error: Failed to find data adapter that can handle input: <class 'pandas.core.frame.DataFrame'>, <class 'NoneType'>\n"
     ]
    },
    {
     "name": "stdout",
     "output_type": "stream",
     "text": [
      "Epoch 00012: early stopping\n",
      "2019NC =======================================\n"
     ]
    },
    {
     "name": "stderr",
     "output_type": "stream",
     "text": [
      "W0926 21:49:45.672860 17016 training.py:504] Falling back from v2 loop because of error: Failed to find data adapter that can handle input: <class 'pandas.core.frame.DataFrame'>, <class 'NoneType'>\n"
     ]
    },
    {
     "name": "stdout",
     "output_type": "stream",
     "text": [
      "Model: \"sequential\"\n",
      "_________________________________________________________________\n",
      "Layer (type)                 Output Shape              Param #   \n",
      "=================================================================\n",
      "dense (Dense)                (None, 1024)              59392     \n",
      "_________________________________________________________________\n",
      "dense_1 (Dense)              (None, 1024)              1049600   \n",
      "_________________________________________________________________\n",
      "dense_2 (Dense)              (None, 1024)              1049600   \n",
      "_________________________________________________________________\n",
      "dense_3 (Dense)              (None, 1024)              1049600   \n",
      "_________________________________________________________________\n",
      "dense_4 (Dense)              (None, 1024)              1049600   \n",
      "_________________________________________________________________\n",
      "dense_5 (Dense)              (None, 1)                 1025      \n",
      "=================================================================\n",
      "Total params: 4,258,817\n",
      "Trainable params: 4,258,817\n",
      "Non-trainable params: 0\n",
      "_________________________________________________________________\n",
      "Train on 73 samples\n",
      "Epoch 1/100\n",
      "73/73 [==============================] - 1s 19ms/sample - loss: 28854.7915 - mae: 21.4803\n",
      "Epoch 2/100\n",
      "73/73 [==============================] - 1s 19ms/sample - loss: 0.0169 - mae: 0.1050\n",
      "Epoch 3/100\n",
      "73/73 [==============================] - 1s 18ms/sample - loss: 0.0111 - mae: 0.0892\n",
      "Epoch 4/100\n",
      "73/73 [==============================] - 1s 18ms/sample - loss: 0.0082 - mae: 0.0686\n",
      "Epoch 5/100\n",
      "73/73 [==============================] - 1s 17ms/sample - loss: 0.0106 - mae: 0.08411s - loss:\n",
      "Epoch 6/100\n",
      "73/73 [==============================] - 1s 16ms/sample - loss: 0.0112 - mae: 0.0874\n"
     ]
    },
    {
     "name": "stderr",
     "output_type": "stream",
     "text": [
      "W0926 21:49:54.682017 17016 training.py:504] Falling back from v2 loop because of error: Failed to find data adapter that can handle input: <class 'pandas.core.frame.DataFrame'>, <class 'NoneType'>\n"
     ]
    },
    {
     "name": "stdout",
     "output_type": "stream",
     "text": [
      "Epoch 00006: early stopping\n",
      "2019HT =======================================\n"
     ]
    },
    {
     "name": "stderr",
     "output_type": "stream",
     "text": [
      "W0926 21:49:55.263634 17016 training.py:504] Falling back from v2 loop because of error: Failed to find data adapter that can handle input: <class 'pandas.core.frame.DataFrame'>, <class 'NoneType'>\n"
     ]
    },
    {
     "name": "stdout",
     "output_type": "stream",
     "text": [
      "Model: \"sequential\"\n",
      "_________________________________________________________________\n",
      "Layer (type)                 Output Shape              Param #   \n",
      "=================================================================\n",
      "dense (Dense)                (None, 1024)              59392     \n",
      "_________________________________________________________________\n",
      "dense_1 (Dense)              (None, 1024)              1049600   \n",
      "_________________________________________________________________\n",
      "dense_2 (Dense)              (None, 1024)              1049600   \n",
      "_________________________________________________________________\n",
      "dense_3 (Dense)              (None, 1024)              1049600   \n",
      "_________________________________________________________________\n",
      "dense_4 (Dense)              (None, 1024)              1049600   \n",
      "_________________________________________________________________\n",
      "dense_5 (Dense)              (None, 1)                 1025      \n",
      "=================================================================\n",
      "Total params: 4,258,817\n",
      "Trainable params: 4,258,817\n",
      "Non-trainable params: 0\n",
      "_________________________________________________________________\n",
      "Train on 73 samples\n",
      "Epoch 1/100\n",
      "73/73 [==============================] - 1s 20ms/sample - loss: 38527.2066 - mae: 24.1643\n",
      "Epoch 2/100\n",
      "73/73 [==============================] - 1s 17ms/sample - loss: 0.0179 - mae: 0.10670s - loss: 0.0220 - ma\n",
      "Epoch 3/100\n",
      "73/73 [==============================] - 1s 17ms/sample - loss: 0.0130 - mae: 0.0913\n",
      "Epoch 4/100\n",
      "73/73 [==============================] - 1s 16ms/sample - loss: 0.0104 - mae: 0.0780\n",
      "Epoch 5/100\n",
      "73/73 [==============================] - 1s 18ms/sample - loss: 0.4098 - mae: 0.34660s - loss: 0.06\n",
      "Epoch 6/100\n",
      "73/73 [==============================] - 1s 18ms/sample - loss: 0.0160 - mae: 0.1056\n"
     ]
    },
    {
     "name": "stderr",
     "output_type": "stream",
     "text": [
      "W0926 21:50:04.107435 17016 training.py:504] Falling back from v2 loop because of error: Failed to find data adapter that can handle input: <class 'pandas.core.frame.DataFrame'>, <class 'NoneType'>\n"
     ]
    },
    {
     "name": "stdout",
     "output_type": "stream",
     "text": [
      "Epoch 00006: early stopping\n",
      "2019SK =======================================\n"
     ]
    },
    {
     "name": "stderr",
     "output_type": "stream",
     "text": [
      "W0926 21:50:04.606446 17016 training.py:504] Falling back from v2 loop because of error: Failed to find data adapter that can handle input: <class 'pandas.core.frame.DataFrame'>, <class 'NoneType'>\n"
     ]
    },
    {
     "name": "stdout",
     "output_type": "stream",
     "text": [
      "Model: \"sequential\"\n",
      "_________________________________________________________________\n",
      "Layer (type)                 Output Shape              Param #   \n",
      "=================================================================\n",
      "dense (Dense)                (None, 1024)              59392     \n",
      "_________________________________________________________________\n",
      "dense_1 (Dense)              (None, 1024)              1049600   \n",
      "_________________________________________________________________\n",
      "dense_2 (Dense)              (None, 1024)              1049600   \n",
      "_________________________________________________________________\n",
      "dense_3 (Dense)              (None, 1024)              1049600   \n",
      "_________________________________________________________________\n",
      "dense_4 (Dense)              (None, 1024)              1049600   \n",
      "_________________________________________________________________\n",
      "dense_5 (Dense)              (None, 1)                 1025      \n",
      "=================================================================\n",
      "Total params: 4,258,817\n",
      "Trainable params: 4,258,817\n",
      "Non-trainable params: 0\n",
      "_________________________________________________________________\n",
      "Train on 73 samples\n",
      "Epoch 1/100\n",
      "73/73 [==============================] - 1s 19ms/sample - loss: 77692.4270 - mae: 36.2209\n",
      "Epoch 2/100\n",
      "73/73 [==============================] - 1s 16ms/sample - loss: 0.0127 - mae: 0.0875\n",
      "Epoch 3/100\n",
      "73/73 [==============================] - 1s 18ms/sample - loss: 0.0162 - mae: 0.09680s - loss: 0.0126 - mae: 0\n",
      "Epoch 4/100\n",
      "73/73 [==============================] - 1s 18ms/sample - loss: 0.0427 - mae: 0.15740s - loss: 0.05\n"
     ]
    },
    {
     "name": "stderr",
     "output_type": "stream",
     "text": [
      "W0926 21:50:10.959208 17016 training.py:504] Falling back from v2 loop because of error: Failed to find data adapter that can handle input: <class 'pandas.core.frame.DataFrame'>, <class 'NoneType'>\n"
     ]
    },
    {
     "name": "stdout",
     "output_type": "stream",
     "text": [
      "Epoch 00004: early stopping\n",
      "2019KT =======================================\n"
     ]
    },
    {
     "name": "stderr",
     "output_type": "stream",
     "text": [
      "W0926 21:50:11.408838 17016 training.py:504] Falling back from v2 loop because of error: Failed to find data adapter that can handle input: <class 'pandas.core.frame.DataFrame'>, <class 'NoneType'>\n"
     ]
    },
    {
     "name": "stdout",
     "output_type": "stream",
     "text": [
      "Model: \"sequential\"\n",
      "_________________________________________________________________\n",
      "Layer (type)                 Output Shape              Param #   \n",
      "=================================================================\n",
      "dense (Dense)                (None, 1024)              59392     \n",
      "_________________________________________________________________\n",
      "dense_1 (Dense)              (None, 1024)              1049600   \n",
      "_________________________________________________________________\n",
      "dense_2 (Dense)              (None, 1024)              1049600   \n",
      "_________________________________________________________________\n",
      "dense_3 (Dense)              (None, 1024)              1049600   \n",
      "_________________________________________________________________\n",
      "dense_4 (Dense)              (None, 1024)              1049600   \n",
      "_________________________________________________________________\n",
      "dense_5 (Dense)              (None, 1)                 1025      \n",
      "=================================================================\n",
      "Total params: 4,258,817\n",
      "Trainable params: 4,258,817\n",
      "Non-trainable params: 0\n",
      "_________________________________________________________________\n",
      "Train on 73 samples\n",
      "Epoch 1/100\n",
      "73/73 [==============================] - 1s 19ms/sample - loss: 43368.8035 - mae: 28.1171\n",
      "Epoch 2/100\n",
      "73/73 [==============================] - 1s 17ms/sample - loss: 0.0315 - mae: 0.1378\n",
      "Epoch 3/100\n",
      "73/73 [==============================] - 1s 18ms/sample - loss: 0.0123 - mae: 0.0886\n",
      "Epoch 4/100\n",
      "73/73 [==============================] - 1s 18ms/sample - loss: 0.0103 - mae: 0.0823\n",
      "Epoch 5/100\n",
      "73/73 [==============================] - 1s 16ms/sample - loss: 0.0089 - mae: 0.0795\n",
      "Epoch 6/100\n",
      "73/73 [==============================] - 1s 16ms/sample - loss: 0.0088 - mae: 0.0763\n",
      "Epoch 7/100\n",
      "73/73 [==============================] - 1s 16ms/sample - loss: 0.0107 - mae: 0.08730s - loss: 0.0101 \n",
      "Epoch 8/100\n",
      "73/73 [==============================] - 1s 16ms/sample - loss: 0.0103 - mae: 0.0820\n"
     ]
    },
    {
     "name": "stderr",
     "output_type": "stream",
     "text": [
      "W0926 21:50:22.556860 17016 training.py:504] Falling back from v2 loop because of error: Failed to find data adapter that can handle input: <class 'pandas.core.frame.DataFrame'>, <class 'NoneType'>\n"
     ]
    },
    {
     "name": "stdout",
     "output_type": "stream",
     "text": [
      "Epoch 00008: early stopping\n",
      "2019WO =======================================\n"
     ]
    },
    {
     "name": "stderr",
     "output_type": "stream",
     "text": [
      "W0926 21:50:23.683893 17016 training.py:504] Falling back from v2 loop because of error: Failed to find data adapter that can handle input: <class 'pandas.core.frame.DataFrame'>, <class 'NoneType'>\n"
     ]
    },
    {
     "name": "stdout",
     "output_type": "stream",
     "text": [
      "Model: \"sequential\"\n",
      "_________________________________________________________________\n",
      "Layer (type)                 Output Shape              Param #   \n",
      "=================================================================\n",
      "dense (Dense)                (None, 1024)              59392     \n",
      "_________________________________________________________________\n",
      "dense_1 (Dense)              (None, 1024)              1049600   \n",
      "_________________________________________________________________\n",
      "dense_2 (Dense)              (None, 1024)              1049600   \n",
      "_________________________________________________________________\n",
      "dense_3 (Dense)              (None, 1024)              1049600   \n",
      "_________________________________________________________________\n",
      "dense_4 (Dense)              (None, 1024)              1049600   \n",
      "_________________________________________________________________\n",
      "dense_5 (Dense)              (None, 1)                 1025      \n",
      "=================================================================\n",
      "Total params: 4,258,817\n",
      "Trainable params: 4,258,817\n",
      "Non-trainable params: 0\n",
      "_________________________________________________________________\n",
      "Train on 73 samples\n",
      "Epoch 1/100\n",
      "73/73 [==============================] - 1s 19ms/sample - loss: 66193.1618 - mae: 31.1516\n",
      "Epoch 2/100\n",
      "73/73 [==============================] - 1s 17ms/sample - loss: 0.1454 - mae: 0.2699\n",
      "Epoch 3/100\n",
      "73/73 [==============================] - 1s 17ms/sample - loss: 0.0328 - mae: 0.1508\n",
      "Epoch 4/100\n",
      "73/73 [==============================] - 1s 17ms/sample - loss: 0.0211 - mae: 0.1195\n",
      "Epoch 5/100\n",
      "73/73 [==============================] - 1s 18ms/sample - loss: 0.0230 - mae: 0.1313\n",
      "Epoch 6/100\n",
      "73/73 [==============================] - 1s 17ms/sample - loss: 0.0223 - mae: 0.1242\n"
     ]
    },
    {
     "name": "stderr",
     "output_type": "stream",
     "text": [
      "W0926 21:50:32.351146 17016 training.py:504] Falling back from v2 loop because of error: Failed to find data adapter that can handle input: <class 'pandas.core.frame.DataFrame'>, <class 'NoneType'>\n"
     ]
    },
    {
     "name": "stdout",
     "output_type": "stream",
     "text": [
      "Epoch 00006: early stopping\n",
      "2019LT =======================================\n"
     ]
    },
    {
     "name": "stderr",
     "output_type": "stream",
     "text": [
      "W0926 21:50:32.879737 17016 training.py:504] Falling back from v2 loop because of error: Failed to find data adapter that can handle input: <class 'pandas.core.frame.DataFrame'>, <class 'NoneType'>\n"
     ]
    },
    {
     "name": "stdout",
     "output_type": "stream",
     "text": [
      "Model: \"sequential\"\n",
      "_________________________________________________________________\n",
      "Layer (type)                 Output Shape              Param #   \n",
      "=================================================================\n",
      "dense (Dense)                (None, 1024)              59392     \n",
      "_________________________________________________________________\n",
      "dense_1 (Dense)              (None, 1024)              1049600   \n",
      "_________________________________________________________________\n",
      "dense_2 (Dense)              (None, 1024)              1049600   \n",
      "_________________________________________________________________\n",
      "dense_3 (Dense)              (None, 1024)              1049600   \n",
      "_________________________________________________________________\n",
      "dense_4 (Dense)              (None, 1024)              1049600   \n",
      "_________________________________________________________________\n",
      "dense_5 (Dense)              (None, 1)                 1025      \n",
      "=================================================================\n",
      "Total params: 4,258,817\n",
      "Trainable params: 4,258,817\n",
      "Non-trainable params: 0\n",
      "_________________________________________________________________\n",
      "Train on 73 samples\n",
      "Epoch 1/100\n",
      "73/73 [==============================] - 1s 19ms/sample - loss: 56567.0798 - mae: 31.8632s - loss: 71196.4618 - mae:\n",
      "Epoch 2/100\n",
      "73/73 [==============================] - 1s 17ms/sample - loss: 0.1003 - mae: 0.2596\n",
      "Epoch 3/100\n",
      "73/73 [==============================] - 1s 19ms/sample - loss: 2.6288 - mae: 1.1120\n",
      "Epoch 4/100\n",
      "73/73 [==============================] - 1s 18ms/sample - loss: 0.0461 - mae: 0.15190s - loss: 0.0538 - mae: 0.\n",
      "Epoch 5/100\n",
      "73/73 [==============================] - 1s 17ms/sample - loss: 0.0073 - mae: 0.0683\n",
      "Epoch 6/100\n",
      "73/73 [==============================] - 1s 17ms/sample - loss: 0.0067 - mae: 0.0671\n",
      "Epoch 7/100\n",
      "73/73 [==============================] - 1s 17ms/sample - loss: 0.0081 - mae: 0.0738\n",
      "Epoch 8/100\n",
      "73/73 [==============================] - 1s 17ms/sample - loss: 0.0164 - mae: 0.0853\n"
     ]
    },
    {
     "name": "stderr",
     "output_type": "stream",
     "text": [
      "W0926 21:50:44.316478 17016 training.py:504] Falling back from v2 loop because of error: Failed to find data adapter that can handle input: <class 'pandas.core.frame.DataFrame'>, <class 'NoneType'>\n"
     ]
    },
    {
     "name": "stdout",
     "output_type": "stream",
     "text": [
      "Epoch 00008: early stopping\n",
      "2019SS =======================================\n"
     ]
    },
    {
     "name": "stderr",
     "output_type": "stream",
     "text": [
      "W0926 21:50:44.735859 17016 training.py:504] Falling back from v2 loop because of error: Failed to find data adapter that can handle input: <class 'pandas.core.frame.DataFrame'>, <class 'NoneType'>\n"
     ]
    },
    {
     "name": "stdout",
     "output_type": "stream",
     "text": [
      "Model: \"sequential\"\n",
      "_________________________________________________________________\n",
      "Layer (type)                 Output Shape              Param #   \n",
      "=================================================================\n",
      "dense (Dense)                (None, 1024)              59392     \n",
      "_________________________________________________________________\n",
      "dense_1 (Dense)              (None, 1024)              1049600   \n",
      "_________________________________________________________________\n",
      "dense_2 (Dense)              (None, 1024)              1049600   \n",
      "_________________________________________________________________\n",
      "dense_3 (Dense)              (None, 1024)              1049600   \n",
      "_________________________________________________________________\n",
      "dense_4 (Dense)              (None, 1024)              1049600   \n",
      "_________________________________________________________________\n",
      "dense_5 (Dense)              (None, 1)                 1025      \n",
      "=================================================================\n",
      "Total params: 4,258,817\n",
      "Trainable params: 4,258,817\n",
      "Non-trainable params: 0\n",
      "_________________________________________________________________\n",
      "Train on 73 samples\n",
      "Epoch 1/100\n",
      "73/73 [==============================] - 1s 19ms/sample - loss: 32816.2916 - mae: 22.6890\n",
      "Epoch 2/100\n",
      "73/73 [==============================] - 1s 17ms/sample - loss: 0.0450 - mae: 0.1434\n",
      "Epoch 3/100\n",
      "73/73 [==============================] - 1s 17ms/sample - loss: 0.0206 - mae: 0.11261s - loss: 0.0644 - mae:  - ETA: 0s - loss: 0.0299 \n",
      "Epoch 4/100\n",
      "73/73 [==============================] - 1s 18ms/sample - loss: 0.0069 - mae: 0.0648\n",
      "Epoch 5/100\n",
      "73/73 [==============================] - 1s 18ms/sample - loss: 42.7561 - mae: 2.3745\n",
      "Epoch 6/100\n",
      "73/73 [==============================] - 1s 16ms/sample - loss: 0.0152 - mae: 0.1026\n"
     ]
    },
    {
     "name": "stderr",
     "output_type": "stream",
     "text": [
      "W0926 21:50:53.498987 17016 training.py:504] Falling back from v2 loop because of error: Failed to find data adapter that can handle input: <class 'pandas.core.frame.DataFrame'>, <class 'NoneType'>\n"
     ]
    },
    {
     "name": "stdout",
     "output_type": "stream",
     "text": [
      "Epoch 00006: early stopping\n",
      "2019OB =======================================\n"
     ]
    },
    {
     "name": "stderr",
     "output_type": "stream",
     "text": [
      "W0926 21:50:54.030761 17016 training.py:504] Falling back from v2 loop because of error: Failed to find data adapter that can handle input: <class 'pandas.core.frame.DataFrame'>, <class 'NoneType'>\n"
     ]
    },
    {
     "name": "stdout",
     "output_type": "stream",
     "text": [
      "Model: \"sequential\"\n",
      "_________________________________________________________________\n",
      "Layer (type)                 Output Shape              Param #   \n",
      "=================================================================\n",
      "dense (Dense)                (None, 1024)              59392     \n",
      "_________________________________________________________________\n",
      "dense_1 (Dense)              (None, 1024)              1049600   \n",
      "_________________________________________________________________\n",
      "dense_2 (Dense)              (None, 1024)              1049600   \n",
      "_________________________________________________________________\n",
      "dense_3 (Dense)              (None, 1024)              1049600   \n",
      "_________________________________________________________________\n",
      "dense_4 (Dense)              (None, 1024)              1049600   \n",
      "_________________________________________________________________\n",
      "dense_5 (Dense)              (None, 1)                 1025      \n",
      "=================================================================\n",
      "Total params: 4,258,817\n",
      "Trainable params: 4,258,817\n",
      "Non-trainable params: 0\n",
      "_________________________________________________________________\n",
      "Train on 73 samples\n",
      "Epoch 1/100\n",
      "73/73 [==============================] - 1s 19ms/sample - loss: 49166.8584 - mae: 27.2082\n",
      "Epoch 2/100\n",
      "73/73 [==============================] - 1s 19ms/sample - loss: 0.0242 - mae: 0.1257\n",
      "Epoch 3/100\n",
      "73/73 [==============================] - 2s 22ms/sample - loss: 0.0105 - mae: 0.0814\n",
      "Epoch 4/100\n",
      "73/73 [==============================] - 1s 19ms/sample - loss: 0.0048 - mae: 0.0514\n",
      "Epoch 5/100\n",
      "73/73 [==============================] - 1s 17ms/sample - loss: 0.0264 - mae: 0.1109\n",
      "Epoch 6/100\n",
      "73/73 [==============================] - 1s 17ms/sample - loss: 0.0053 - mae: 0.0572\n"
     ]
    },
    {
     "name": "stderr",
     "output_type": "stream",
     "text": [
      "W0926 21:51:03.357926 17016 training.py:504] Falling back from v2 loop because of error: Failed to find data adapter that can handle input: <class 'pandas.core.frame.DataFrame'>, <class 'NoneType'>\n"
     ]
    },
    {
     "name": "stdout",
     "output_type": "stream",
     "text": [
      "Epoch 00006: early stopping\n"
     ]
    },
    {
     "ename": "KeyError",
     "evalue": "\"['shift_AVG_2', 'shift_AVG_1'] not in index\"",
     "output_type": "error",
     "traceback": [
      "\u001b[1;31m---------------------------------------------------------------------------\u001b[0m",
      "\u001b[1;31mKeyError\u001b[0m                                  Traceback (most recent call last)",
      "\u001b[1;32m<ipython-input-7-606b53bf5218>\u001b[0m in \u001b[0;36m<module>\u001b[1;34m\u001b[0m\n\u001b[0;32m     64\u001b[0m         \u001b[0midx\u001b[0m \u001b[1;33m+=\u001b[0m \u001b[1;36m1\u001b[0m\u001b[1;33m\u001b[0m\u001b[1;33m\u001b[0m\u001b[0m\n\u001b[0;32m     65\u001b[0m \u001b[1;33m\u001b[0m\u001b[0m\n\u001b[1;32m---> 66\u001b[1;33m \u001b[0mtest_pred_df\u001b[0m\u001b[1;33m[\u001b[0m\u001b[1;33m[\u001b[0m\u001b[1;34m'y'\u001b[0m\u001b[1;33m,\u001b[0m\u001b[1;34m'y_pred'\u001b[0m\u001b[1;33m,\u001b[0m\u001b[1;34m\"shift_AVG_1\"\u001b[0m\u001b[1;33m,\u001b[0m\u001b[1;34m\"shift_AVG_2\"\u001b[0m\u001b[1;33m,\u001b[0m\u001b[1;34m'MSE'\u001b[0m\u001b[1;33m,\u001b[0m\u001b[1;34m'MSE_avg'\u001b[0m\u001b[1;33m]\u001b[0m\u001b[1;33m]\u001b[0m \u001b[1;33m=\u001b[0m \u001b[0mtest_pred_df\u001b[0m\u001b[1;33m[\u001b[0m\u001b[1;33m[\u001b[0m\u001b[1;34m'y'\u001b[0m\u001b[1;33m,\u001b[0m\u001b[1;34m'y_pred'\u001b[0m\u001b[1;33m,\u001b[0m\u001b[1;34m\"shift_AVG_1\"\u001b[0m\u001b[1;33m,\u001b[0m\u001b[1;34m\"shift_AVG_2\"\u001b[0m\u001b[1;33m,\u001b[0m\u001b[1;34m'MSE'\u001b[0m\u001b[1;33m,\u001b[0m\u001b[1;34m'MSE_avg'\u001b[0m\u001b[1;33m]\u001b[0m\u001b[1;33m]\u001b[0m\u001b[1;33m.\u001b[0m\u001b[0mastype\u001b[0m\u001b[1;33m(\u001b[0m\u001b[0mfloat\u001b[0m\u001b[1;33m)\u001b[0m\u001b[1;33m\u001b[0m\u001b[1;33m\u001b[0m\u001b[0m\n\u001b[0m",
      "\u001b[1;32m~\\Anaconda3\\lib\\site-packages\\pandas\\core\\frame.py\u001b[0m in \u001b[0;36m__getitem__\u001b[1;34m(self, key)\u001b[0m\n\u001b[0;32m   2932\u001b[0m                 \u001b[0mkey\u001b[0m \u001b[1;33m=\u001b[0m \u001b[0mlist\u001b[0m\u001b[1;33m(\u001b[0m\u001b[0mkey\u001b[0m\u001b[1;33m)\u001b[0m\u001b[1;33m\u001b[0m\u001b[1;33m\u001b[0m\u001b[0m\n\u001b[0;32m   2933\u001b[0m             indexer = self.loc._convert_to_indexer(key, axis=1,\n\u001b[1;32m-> 2934\u001b[1;33m                                                    raise_missing=True)\n\u001b[0m\u001b[0;32m   2935\u001b[0m \u001b[1;33m\u001b[0m\u001b[0m\n\u001b[0;32m   2936\u001b[0m         \u001b[1;31m# take() does not accept boolean indexers\u001b[0m\u001b[1;33m\u001b[0m\u001b[1;33m\u001b[0m\u001b[1;33m\u001b[0m\u001b[0m\n",
      "\u001b[1;32m~\\Anaconda3\\lib\\site-packages\\pandas\\core\\indexing.py\u001b[0m in \u001b[0;36m_convert_to_indexer\u001b[1;34m(self, obj, axis, is_setter, raise_missing)\u001b[0m\n\u001b[0;32m   1352\u001b[0m                 kwargs = {'raise_missing': True if is_setter else\n\u001b[0;32m   1353\u001b[0m                           raise_missing}\n\u001b[1;32m-> 1354\u001b[1;33m                 \u001b[1;32mreturn\u001b[0m \u001b[0mself\u001b[0m\u001b[1;33m.\u001b[0m\u001b[0m_get_listlike_indexer\u001b[0m\u001b[1;33m(\u001b[0m\u001b[0mobj\u001b[0m\u001b[1;33m,\u001b[0m \u001b[0maxis\u001b[0m\u001b[1;33m,\u001b[0m \u001b[1;33m**\u001b[0m\u001b[0mkwargs\u001b[0m\u001b[1;33m)\u001b[0m\u001b[1;33m[\u001b[0m\u001b[1;36m1\u001b[0m\u001b[1;33m]\u001b[0m\u001b[1;33m\u001b[0m\u001b[1;33m\u001b[0m\u001b[0m\n\u001b[0m\u001b[0;32m   1355\u001b[0m         \u001b[1;32melse\u001b[0m\u001b[1;33m:\u001b[0m\u001b[1;33m\u001b[0m\u001b[1;33m\u001b[0m\u001b[0m\n\u001b[0;32m   1356\u001b[0m             \u001b[1;32mtry\u001b[0m\u001b[1;33m:\u001b[0m\u001b[1;33m\u001b[0m\u001b[1;33m\u001b[0m\u001b[0m\n",
      "\u001b[1;32m~\\Anaconda3\\lib\\site-packages\\pandas\\core\\indexing.py\u001b[0m in \u001b[0;36m_get_listlike_indexer\u001b[1;34m(self, key, axis, raise_missing)\u001b[0m\n\u001b[0;32m   1159\u001b[0m         self._validate_read_indexer(keyarr, indexer,\n\u001b[0;32m   1160\u001b[0m                                     \u001b[0mo\u001b[0m\u001b[1;33m.\u001b[0m\u001b[0m_get_axis_number\u001b[0m\u001b[1;33m(\u001b[0m\u001b[0maxis\u001b[0m\u001b[1;33m)\u001b[0m\u001b[1;33m,\u001b[0m\u001b[1;33m\u001b[0m\u001b[1;33m\u001b[0m\u001b[0m\n\u001b[1;32m-> 1161\u001b[1;33m                                     raise_missing=raise_missing)\n\u001b[0m\u001b[0;32m   1162\u001b[0m         \u001b[1;32mreturn\u001b[0m \u001b[0mkeyarr\u001b[0m\u001b[1;33m,\u001b[0m \u001b[0mindexer\u001b[0m\u001b[1;33m\u001b[0m\u001b[1;33m\u001b[0m\u001b[0m\n\u001b[0;32m   1163\u001b[0m \u001b[1;33m\u001b[0m\u001b[0m\n",
      "\u001b[1;32m~\\Anaconda3\\lib\\site-packages\\pandas\\core\\indexing.py\u001b[0m in \u001b[0;36m_validate_read_indexer\u001b[1;34m(self, key, indexer, axis, raise_missing)\u001b[0m\n\u001b[0;32m   1250\u001b[0m             \u001b[1;32mif\u001b[0m \u001b[1;32mnot\u001b[0m\u001b[1;33m(\u001b[0m\u001b[0mself\u001b[0m\u001b[1;33m.\u001b[0m\u001b[0mname\u001b[0m \u001b[1;33m==\u001b[0m \u001b[1;34m'loc'\u001b[0m \u001b[1;32mand\u001b[0m \u001b[1;32mnot\u001b[0m \u001b[0mraise_missing\u001b[0m\u001b[1;33m)\u001b[0m\u001b[1;33m:\u001b[0m\u001b[1;33m\u001b[0m\u001b[1;33m\u001b[0m\u001b[0m\n\u001b[0;32m   1251\u001b[0m                 \u001b[0mnot_found\u001b[0m \u001b[1;33m=\u001b[0m \u001b[0mlist\u001b[0m\u001b[1;33m(\u001b[0m\u001b[0mset\u001b[0m\u001b[1;33m(\u001b[0m\u001b[0mkey\u001b[0m\u001b[1;33m)\u001b[0m \u001b[1;33m-\u001b[0m \u001b[0mset\u001b[0m\u001b[1;33m(\u001b[0m\u001b[0max\u001b[0m\u001b[1;33m)\u001b[0m\u001b[1;33m)\u001b[0m\u001b[1;33m\u001b[0m\u001b[1;33m\u001b[0m\u001b[0m\n\u001b[1;32m-> 1252\u001b[1;33m                 \u001b[1;32mraise\u001b[0m \u001b[0mKeyError\u001b[0m\u001b[1;33m(\u001b[0m\u001b[1;34m\"{} not in index\"\u001b[0m\u001b[1;33m.\u001b[0m\u001b[0mformat\u001b[0m\u001b[1;33m(\u001b[0m\u001b[0mnot_found\u001b[0m\u001b[1;33m)\u001b[0m\u001b[1;33m)\u001b[0m\u001b[1;33m\u001b[0m\u001b[1;33m\u001b[0m\u001b[0m\n\u001b[0m\u001b[0;32m   1253\u001b[0m \u001b[1;33m\u001b[0m\u001b[0m\n\u001b[0;32m   1254\u001b[0m             \u001b[1;31m# we skip the warning on Categorical/Interval\u001b[0m\u001b[1;33m\u001b[0m\u001b[1;33m\u001b[0m\u001b[1;33m\u001b[0m\u001b[0m\n",
      "\u001b[1;31mKeyError\u001b[0m: \"['shift_AVG_2', 'shift_AVG_1'] not in index\""
     ]
    }
   ],
   "source": [
    "model_dict = dict()\n",
    "hist_dict = dict()\n",
    "test_pred_df = pd.DataFrame([],columns = ['YEAR','T_ID','y','y_pred','MSE','MSE_avg'])\n",
    "\n",
    "idx = 0\n",
    "for y in year:\n",
    "    tmp1 = lstm_train_X[lstm_train_X[\"YEAR\"] == y]\n",
    "    tmp2 = lstm_train_y[lstm_train_y[\"YEAR\"] == y]\n",
    "    tmp3 = lstm_test_X[lstm_test_X[\"YEAR\"] == y]\n",
    "    tmp4 = lstm_test_y[lstm_test_y[\"YEAR\"] == y]\n",
    "    for t in team:\n",
    "        name = '{}{}'.format(y,t)\n",
    "        print(name,\"=======================================\")\n",
    "        \n",
    "        X_train = tmp1[tmp1[\"T_ID\"] == t].drop([\"T_ID\",\"YEAR\"],axis = 1)\n",
    "        y_train = tmp2[tmp2[\"T_ID\"] == t].drop([\"T_ID\",\"YEAR\"],axis=1)\n",
    "        X_test = tmp3[tmp3[\"T_ID\"] == t].drop([\"T_ID\",\"YEAR\"],axis=1)\n",
    "        y_test = tmp4[tmp4[\"T_ID\"] == t].drop([\"T_ID\",\"YEAR\"],axis=1)\n",
    "        \n",
    "        X_train_v = X_train.values\n",
    "        y_train_v = y_train.values\n",
    "\n",
    "        X_test_v = X_test.values\n",
    "        y_test_v = y_test.values\n",
    "        \"\"\"\n",
    "        X_train_t = X_train_v.reshape(X_train_v.shape[0], 2,X_train_v.shape[1]//2)\n",
    "        X_test_t = X_test_v.reshape(X_test_v.shape[0], 2,X_test_v.shape[1]//2)\n",
    "        \"\"\"\n",
    "        \n",
    "        ## model\n",
    "        K.clear_session() \n",
    "        \n",
    "        model = Sequential()\n",
    "        optimizer = Adam(lr=0.01)\n",
    "        model.add(Dense(1024, activation='relu', input_shape = [X_train.shape[1]]))\n",
    "        model.add(Dense(1024, activation='relu'))\n",
    "        model.add(Dense(1024, activation='relu',))\n",
    "        model.add(Dense(1024, activation='relu',))\n",
    "        model.add(Dense(1024, activation='relu',))\n",
    "        model.add(Dense(1)) # output = 1\n",
    "        model.compile(loss='mean_squared_error', optimizer=optimizer,metrics=['mae'])\n",
    "\n",
    "       \n",
    "        model.summary()\n",
    "        \n",
    "        early_stop = EarlyStopping(monitor='loss', mode = 'min',patience=2, verbose=1)\n",
    "\n",
    "        hist1 = model.fit(X_train, y_train, epochs=100,\n",
    "                  batch_size=1, verbose=1, callbacks=[early_stop])\n",
    "        ##\n",
    "        \n",
    "        model_dict[name] = model\n",
    "        hist_dict[name] = hist1\n",
    "        \n",
    "        y_pred = model.predict(X_test)\n",
    "        mse = mean_squared_error(y_test, y_pred)\n",
    "        \n",
    "        ######### MSE AVG#########\n",
    "        mse_avg = mean_squared_error(y_test,[y_train.mean()[0]])\n",
    "        \n",
    "        \n",
    "        test_pred_df.loc[idx,:] = [y,t,y_test_v.reshape(-1)[0],y_pred.reshape(-1)[0], mse,mse_avg]\n",
    "\n",
    "        idx += 1\n",
    "\n",
    "test_pred_df[['y','y_pred',\"shift_AVG_1\",\"shift_AVG_2\",'MSE','MSE_avg']] = test_pred_df[['y','y_pred',\"shift_AVG_1\",\"shift_AVG_2\",'MSE','MSE_avg']].astype(float)"
   ]
  },
  {
   "cell_type": "code",
   "execution_count": 46,
   "metadata": {},
   "outputs": [
    {
     "data": {
      "text/html": [
       "<div>\n",
       "<style scoped>\n",
       "    .dataframe tbody tr th:only-of-type {\n",
       "        vertical-align: middle;\n",
       "    }\n",
       "\n",
       "    .dataframe tbody tr th {\n",
       "        vertical-align: top;\n",
       "    }\n",
       "\n",
       "    .dataframe thead th {\n",
       "        text-align: right;\n",
       "    }\n",
       "</style>\n",
       "<table border=\"1\" class=\"dataframe\">\n",
       "  <thead>\n",
       "    <tr style=\"text-align: right;\">\n",
       "      <th></th>\n",
       "      <th>YEAR</th>\n",
       "      <th>T_ID</th>\n",
       "      <th>y</th>\n",
       "      <th>y_pred</th>\n",
       "      <th>MSE</th>\n",
       "      <th>MSE_avg</th>\n",
       "    </tr>\n",
       "  </thead>\n",
       "  <tbody>\n",
       "    <tr>\n",
       "      <th>0</th>\n",
       "      <td>2016</td>\n",
       "      <td>LG</td>\n",
       "      <td>0.296069</td>\n",
       "      <td>0.304457</td>\n",
       "      <td>7.03566e-05</td>\n",
       "      <td>3.7316e-05</td>\n",
       "    </tr>\n",
       "    <tr>\n",
       "      <th>1</th>\n",
       "      <td>2016</td>\n",
       "      <td>HH</td>\n",
       "      <td>0.288575</td>\n",
       "      <td>0.290199</td>\n",
       "      <td>2.63944e-06</td>\n",
       "      <td>0.000133732</td>\n",
       "    </tr>\n",
       "    <tr>\n",
       "      <th>2</th>\n",
       "      <td>2016</td>\n",
       "      <td>NC</td>\n",
       "      <td>0.28744</td>\n",
       "      <td>0.270944</td>\n",
       "      <td>0.000272116</td>\n",
       "      <td>3.88079e-05</td>\n",
       "    </tr>\n",
       "    <tr>\n",
       "      <th>3</th>\n",
       "      <td>2016</td>\n",
       "      <td>HT</td>\n",
       "      <td>0.256739</td>\n",
       "      <td>0.315943</td>\n",
       "      <td>0.00350509</td>\n",
       "      <td>0.00136878</td>\n",
       "    </tr>\n",
       "    <tr>\n",
       "      <th>4</th>\n",
       "      <td>2016</td>\n",
       "      <td>SK</td>\n",
       "      <td>0.305263</td>\n",
       "      <td>0.280003</td>\n",
       "      <td>0.000638101</td>\n",
       "      <td>3.75366e-05</td>\n",
       "    </tr>\n",
       "    <tr>\n",
       "      <th>5</th>\n",
       "      <td>2016</td>\n",
       "      <td>KT</td>\n",
       "      <td>0.295455</td>\n",
       "      <td>0.314563</td>\n",
       "      <td>0.000365121</td>\n",
       "      <td>0.000734129</td>\n",
       "    </tr>\n",
       "    <tr>\n",
       "      <th>6</th>\n",
       "      <td>2016</td>\n",
       "      <td>WO</td>\n",
       "      <td>0.289941</td>\n",
       "      <td>0.283091</td>\n",
       "      <td>4.69184e-05</td>\n",
       "      <td>9.82956e-05</td>\n",
       "    </tr>\n",
       "    <tr>\n",
       "      <th>7</th>\n",
       "      <td>2016</td>\n",
       "      <td>LT</td>\n",
       "      <td>0.309893</td>\n",
       "      <td>0.256867</td>\n",
       "      <td>0.00281171</td>\n",
       "      <td>0.000666009</td>\n",
       "    </tr>\n",
       "    <tr>\n",
       "      <th>8</th>\n",
       "      <td>2016</td>\n",
       "      <td>SS</td>\n",
       "      <td>0.283863</td>\n",
       "      <td>0.284588</td>\n",
       "      <td>5.25017e-07</td>\n",
       "      <td>9.98067e-05</td>\n",
       "    </tr>\n",
       "    <tr>\n",
       "      <th>9</th>\n",
       "      <td>2016</td>\n",
       "      <td>OB</td>\n",
       "      <td>0.298225</td>\n",
       "      <td>0.2939</td>\n",
       "      <td>1.87011e-05</td>\n",
       "      <td>1.62505e-05</td>\n",
       "    </tr>\n",
       "    <tr>\n",
       "      <th>10</th>\n",
       "      <td>2017</td>\n",
       "      <td>LG</td>\n",
       "      <td>0.274136</td>\n",
       "      <td>0.289814</td>\n",
       "      <td>0.000245795</td>\n",
       "      <td>0.000241413</td>\n",
       "    </tr>\n",
       "    <tr>\n",
       "      <th>11</th>\n",
       "      <td>2017</td>\n",
       "      <td>HH</td>\n",
       "      <td>0.272944</td>\n",
       "      <td>0.297089</td>\n",
       "      <td>0.000582987</td>\n",
       "      <td>0.000576775</td>\n",
       "    </tr>\n",
       "    <tr>\n",
       "      <th>12</th>\n",
       "      <td>2017</td>\n",
       "      <td>NC</td>\n",
       "      <td>0.329682</td>\n",
       "      <td>0.25366</td>\n",
       "      <td>0.0057794</td>\n",
       "      <td>0.00102854</td>\n",
       "    </tr>\n",
       "    <tr>\n",
       "      <th>13</th>\n",
       "      <td>2017</td>\n",
       "      <td>HT</td>\n",
       "      <td>0.294464</td>\n",
       "      <td>0.312141</td>\n",
       "      <td>0.000312477</td>\n",
       "      <td>0.000505421</td>\n",
       "    </tr>\n",
       "    <tr>\n",
       "      <th>14</th>\n",
       "      <td>2017</td>\n",
       "      <td>SK</td>\n",
       "      <td>0.28416</td>\n",
       "      <td>0.260881</td>\n",
       "      <td>0.00054188</td>\n",
       "      <td>0.000407679</td>\n",
       "    </tr>\n",
       "    <tr>\n",
       "      <th>15</th>\n",
       "      <td>2017</td>\n",
       "      <td>KT</td>\n",
       "      <td>0.303592</td>\n",
       "      <td>0.242481</td>\n",
       "      <td>0.00373456</td>\n",
       "      <td>0.000511633</td>\n",
       "    </tr>\n",
       "    <tr>\n",
       "      <th>16</th>\n",
       "      <td>2017</td>\n",
       "      <td>WO</td>\n",
       "      <td>0.276888</td>\n",
       "      <td>0.287538</td>\n",
       "      <td>0.000113421</td>\n",
       "      <td>0.000311399</td>\n",
       "    </tr>\n",
       "    <tr>\n",
       "      <th>17</th>\n",
       "      <td>2017</td>\n",
       "      <td>LT</td>\n",
       "      <td>0.297794</td>\n",
       "      <td>0.291516</td>\n",
       "      <td>3.94158e-05</td>\n",
       "      <td>0.000308332</td>\n",
       "    </tr>\n",
       "    <tr>\n",
       "      <th>18</th>\n",
       "      <td>2017</td>\n",
       "      <td>SS</td>\n",
       "      <td>0.293588</td>\n",
       "      <td>0.331613</td>\n",
       "      <td>0.00144589</td>\n",
       "      <td>0.000159681</td>\n",
       "    </tr>\n",
       "    <tr>\n",
       "      <th>19</th>\n",
       "      <td>2017</td>\n",
       "      <td>OB</td>\n",
       "      <td>0.288757</td>\n",
       "      <td>0.292983</td>\n",
       "      <td>1.78554e-05</td>\n",
       "      <td>0.000266941</td>\n",
       "    </tr>\n",
       "    <tr>\n",
       "      <th>20</th>\n",
       "      <td>2018</td>\n",
       "      <td>LG</td>\n",
       "      <td>0.268675</td>\n",
       "      <td>0.294453</td>\n",
       "      <td>0.000664501</td>\n",
       "      <td>0.00108653</td>\n",
       "    </tr>\n",
       "    <tr>\n",
       "      <th>21</th>\n",
       "      <td>2018</td>\n",
       "      <td>HH</td>\n",
       "      <td>0.270758</td>\n",
       "      <td>0.314636</td>\n",
       "      <td>0.00192524</td>\n",
       "      <td>9.22974e-06</td>\n",
       "    </tr>\n",
       "    <tr>\n",
       "      <th>22</th>\n",
       "      <td>2018</td>\n",
       "      <td>NC</td>\n",
       "      <td>0.283636</td>\n",
       "      <td>0.308432</td>\n",
       "      <td>0.000614801</td>\n",
       "      <td>0.000681074</td>\n",
       "    </tr>\n",
       "    <tr>\n",
       "      <th>23</th>\n",
       "      <td>2018</td>\n",
       "      <td>HT</td>\n",
       "      <td>0.293083</td>\n",
       "      <td>0.292233</td>\n",
       "      <td>7.2312e-07</td>\n",
       "      <td>4.10084e-06</td>\n",
       "    </tr>\n",
       "    <tr>\n",
       "      <th>24</th>\n",
       "      <td>2018</td>\n",
       "      <td>SK</td>\n",
       "      <td>0.275089</td>\n",
       "      <td>0.273532</td>\n",
       "      <td>2.4233e-06</td>\n",
       "      <td>2.9248e-05</td>\n",
       "    </tr>\n",
       "    <tr>\n",
       "      <th>25</th>\n",
       "      <td>2018</td>\n",
       "      <td>KT</td>\n",
       "      <td>0.280925</td>\n",
       "      <td>0.254062</td>\n",
       "      <td>0.000721608</td>\n",
       "      <td>0.000125964</td>\n",
       "    </tr>\n",
       "    <tr>\n",
       "      <th>26</th>\n",
       "      <td>2018</td>\n",
       "      <td>WO</td>\n",
       "      <td>0.266908</td>\n",
       "      <td>0.327654</td>\n",
       "      <td>0.00369006</td>\n",
       "      <td>0.00063613</td>\n",
       "    </tr>\n",
       "    <tr>\n",
       "      <th>27</th>\n",
       "      <td>2018</td>\n",
       "      <td>LT</td>\n",
       "      <td>0.300691</td>\n",
       "      <td>0.298797</td>\n",
       "      <td>3.58823e-06</td>\n",
       "      <td>0.000110512</td>\n",
       "    </tr>\n",
       "    <tr>\n",
       "      <th>28</th>\n",
       "      <td>2018</td>\n",
       "      <td>SS</td>\n",
       "      <td>0.295063</td>\n",
       "      <td>0.287475</td>\n",
       "      <td>5.75729e-05</td>\n",
       "      <td>5.67506e-06</td>\n",
       "    </tr>\n",
       "    <tr>\n",
       "      <th>29</th>\n",
       "      <td>2018</td>\n",
       "      <td>OB</td>\n",
       "      <td>0.316629</td>\n",
       "      <td>0.335888</td>\n",
       "      <td>0.00037091</td>\n",
       "      <td>1.15037e-11</td>\n",
       "    </tr>\n",
       "    <tr>\n",
       "      <th>30</th>\n",
       "      <td>2019</td>\n",
       "      <td>LG</td>\n",
       "      <td>0.258809</td>\n",
       "      <td>0.260926</td>\n",
       "      <td>4.47871e-06</td>\n",
       "      <td>2.09665e-06</td>\n",
       "    </tr>\n",
       "    <tr>\n",
       "      <th>31</th>\n",
       "      <td>2019</td>\n",
       "      <td>HH</td>\n",
       "      <td>0.236341</td>\n",
       "      <td>0.176186</td>\n",
       "      <td>0.00361853</td>\n",
       "      <td>0.00109893</td>\n",
       "    </tr>\n",
       "    <tr>\n",
       "      <th>32</th>\n",
       "      <td>2019</td>\n",
       "      <td>NC</td>\n",
       "      <td>0.255611</td>\n",
       "      <td>0.277252</td>\n",
       "      <td>0.000468321</td>\n",
       "      <td>0.000815483</td>\n",
       "    </tr>\n",
       "    <tr>\n",
       "      <th>33</th>\n",
       "      <td>2019</td>\n",
       "      <td>HT</td>\n",
       "      <td>0.264524</td>\n",
       "      <td>0.309076</td>\n",
       "      <td>0.00198485</td>\n",
       "      <td>9.34624e-05</td>\n",
       "    </tr>\n",
       "    <tr>\n",
       "      <th>34</th>\n",
       "      <td>2019</td>\n",
       "      <td>SK</td>\n",
       "      <td>0.233207</td>\n",
       "      <td>0.270084</td>\n",
       "      <td>0.00135994</td>\n",
       "      <td>0.000702116</td>\n",
       "    </tr>\n",
       "    <tr>\n",
       "      <th>35</th>\n",
       "      <td>2019</td>\n",
       "      <td>KT</td>\n",
       "      <td>0.265664</td>\n",
       "      <td>0.258518</td>\n",
       "      <td>5.10623e-05</td>\n",
       "      <td>0.000109486</td>\n",
       "    </tr>\n",
       "    <tr>\n",
       "      <th>36</th>\n",
       "      <td>2019</td>\n",
       "      <td>WO</td>\n",
       "      <td>0.260143</td>\n",
       "      <td>0.242826</td>\n",
       "      <td>0.000299873</td>\n",
       "      <td>0.000299382</td>\n",
       "    </tr>\n",
       "    <tr>\n",
       "      <th>37</th>\n",
       "      <td>2019</td>\n",
       "      <td>LT</td>\n",
       "      <td>0.268657</td>\n",
       "      <td>0.268211</td>\n",
       "      <td>1.99055e-07</td>\n",
       "      <td>4.3185e-05</td>\n",
       "    </tr>\n",
       "    <tr>\n",
       "      <th>38</th>\n",
       "      <td>2019</td>\n",
       "      <td>SS</td>\n",
       "      <td>0.279376</td>\n",
       "      <td>0.25083</td>\n",
       "      <td>0.000814927</td>\n",
       "      <td>7.77008e-05</td>\n",
       "    </tr>\n",
       "    <tr>\n",
       "      <th>39</th>\n",
       "      <td>2019</td>\n",
       "      <td>OB</td>\n",
       "      <td>0.255786</td>\n",
       "      <td>0.231526</td>\n",
       "      <td>0.000588517</td>\n",
       "      <td>1.87448e-05</td>\n",
       "    </tr>\n",
       "  </tbody>\n",
       "</table>\n",
       "</div>"
      ],
      "text/plain": [
       "    YEAR T_ID         y    y_pred          MSE      MSE_avg\n",
       "0   2016   LG  0.296069  0.304457  7.03566e-05   3.7316e-05\n",
       "1   2016   HH  0.288575  0.290199  2.63944e-06  0.000133732\n",
       "2   2016   NC   0.28744  0.270944  0.000272116  3.88079e-05\n",
       "3   2016   HT  0.256739  0.315943   0.00350509   0.00136878\n",
       "4   2016   SK  0.305263  0.280003  0.000638101  3.75366e-05\n",
       "5   2016   KT  0.295455  0.314563  0.000365121  0.000734129\n",
       "6   2016   WO  0.289941  0.283091  4.69184e-05  9.82956e-05\n",
       "7   2016   LT  0.309893  0.256867   0.00281171  0.000666009\n",
       "8   2016   SS  0.283863  0.284588  5.25017e-07  9.98067e-05\n",
       "9   2016   OB  0.298225    0.2939  1.87011e-05  1.62505e-05\n",
       "10  2017   LG  0.274136  0.289814  0.000245795  0.000241413\n",
       "11  2017   HH  0.272944  0.297089  0.000582987  0.000576775\n",
       "12  2017   NC  0.329682   0.25366    0.0057794   0.00102854\n",
       "13  2017   HT  0.294464  0.312141  0.000312477  0.000505421\n",
       "14  2017   SK   0.28416  0.260881   0.00054188  0.000407679\n",
       "15  2017   KT  0.303592  0.242481   0.00373456  0.000511633\n",
       "16  2017   WO  0.276888  0.287538  0.000113421  0.000311399\n",
       "17  2017   LT  0.297794  0.291516  3.94158e-05  0.000308332\n",
       "18  2017   SS  0.293588  0.331613   0.00144589  0.000159681\n",
       "19  2017   OB  0.288757  0.292983  1.78554e-05  0.000266941\n",
       "20  2018   LG  0.268675  0.294453  0.000664501   0.00108653\n",
       "21  2018   HH  0.270758  0.314636   0.00192524  9.22974e-06\n",
       "22  2018   NC  0.283636  0.308432  0.000614801  0.000681074\n",
       "23  2018   HT  0.293083  0.292233   7.2312e-07  4.10084e-06\n",
       "24  2018   SK  0.275089  0.273532   2.4233e-06   2.9248e-05\n",
       "25  2018   KT  0.280925  0.254062  0.000721608  0.000125964\n",
       "26  2018   WO  0.266908  0.327654   0.00369006   0.00063613\n",
       "27  2018   LT  0.300691  0.298797  3.58823e-06  0.000110512\n",
       "28  2018   SS  0.295063  0.287475  5.75729e-05  5.67506e-06\n",
       "29  2018   OB  0.316629  0.335888   0.00037091  1.15037e-11\n",
       "30  2019   LG  0.258809  0.260926  4.47871e-06  2.09665e-06\n",
       "31  2019   HH  0.236341  0.176186   0.00361853   0.00109893\n",
       "32  2019   NC  0.255611  0.277252  0.000468321  0.000815483\n",
       "33  2019   HT  0.264524  0.309076   0.00198485  9.34624e-05\n",
       "34  2019   SK  0.233207  0.270084   0.00135994  0.000702116\n",
       "35  2019   KT  0.265664  0.258518  5.10623e-05  0.000109486\n",
       "36  2019   WO  0.260143  0.242826  0.000299873  0.000299382\n",
       "37  2019   LT  0.268657  0.268211  1.99055e-07   4.3185e-05\n",
       "38  2019   SS  0.279376   0.25083  0.000814927  7.77008e-05\n",
       "39  2019   OB  0.255786  0.231526  0.000588517  1.87448e-05"
      ]
     },
     "execution_count": 46,
     "metadata": {},
     "output_type": "execute_result"
    }
   ],
   "source": [
    "test_pred_df"
   ]
  },
  {
   "cell_type": "code",
   "execution_count": 56,
   "metadata": {},
   "outputs": [
    {
     "data": {
      "text/plain": [
       "-1.3222042274068913"
      ]
     },
     "execution_count": 56,
     "metadata": {},
     "output_type": "execute_result"
    }
   ],
   "source": [
    "from sklearn.metrics import r2_score\n",
    "tmp = test_pred_df.copy()\n",
    "# tmp['half']= 0.5\n",
    "r2_y_predict = r2_score(tmp['y'], tmp['y_pred'])\n",
    "r2_y_predict"
   ]
  },
  {
   "cell_type": "code",
   "execution_count": null,
   "metadata": {},
   "outputs": [],
   "source": []
  }
 ],
 "metadata": {
  "kernelspec": {
   "display_name": "Python 3",
   "language": "python",
   "name": "python3"
  },
  "language_info": {
   "codemirror_mode": {
    "name": "ipython",
    "version": 3
   },
   "file_extension": ".py",
   "mimetype": "text/x-python",
   "name": "python",
   "nbconvert_exporter": "python",
   "pygments_lexer": "ipython3",
   "version": "3.7.3"
  }
 },
 "nbformat": 4,
 "nbformat_minor": 2
}
