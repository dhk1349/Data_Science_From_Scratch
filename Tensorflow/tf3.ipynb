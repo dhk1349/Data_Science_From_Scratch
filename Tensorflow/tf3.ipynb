{
 "cells": [
  {
   "cell_type": "code",
   "execution_count": 1,
   "metadata": {},
   "outputs": [
    {
     "name": "stderr",
     "output_type": "stream",
     "text": [
      "  ERROR: Could not find a version that satisfies the requirement tf-nightly-2.0-preview (from versions: none)\n",
      "ERROR: No matching distribution found for tf-nightly-2.0-preview\n",
      "WARNING: You are using pip version 19.2.3, however version 20.2 is available.\n",
      "You should consider upgrading via the 'python -m pip install --upgrade pip' command.\n"
     ]
    },
    {
     "name": "stdout",
     "output_type": "stream",
     "text": [
      "2.2.0\n"
     ]
    }
   ],
   "source": [
    "from __future__ import absolute_import, division, print_function, unicode_literals\n",
    "\n",
    "!pip install -q tf-nightly-2.0-preview\n",
    "import tensorflow as tf\n",
    "from tensorflow import keras\n",
    "\n",
    "import numpy as np\n",
    "\n",
    "print(tf.__version__)"
   ]
  },
  {
   "cell_type": "code",
   "execution_count": 2,
   "metadata": {},
   "outputs": [
    {
     "name": "stderr",
     "output_type": "stream",
     "text": [
      "C:\\Python38\\lib\\site-packages\\tensorflow\\python\\keras\\datasets\\imdb.py:155: VisibleDeprecationWarning: Creating an ndarray from ragged nested sequences (which is a list-or-tuple of lists-or-tuples-or ndarrays with different lengths or shapes) is deprecated. If you meant to do this, you must specify 'dtype=object' when creating the ndarray\n",
      "  x_train, y_train = np.array(xs[:idx]), np.array(labels[:idx])\n",
      "C:\\Python38\\lib\\site-packages\\tensorflow\\python\\keras\\datasets\\imdb.py:156: VisibleDeprecationWarning: Creating an ndarray from ragged nested sequences (which is a list-or-tuple of lists-or-tuples-or ndarrays with different lengths or shapes) is deprecated. If you meant to do this, you must specify 'dtype=object' when creating the ndarray\n",
      "  x_test, y_test = np.array(xs[idx:]), np.array(labels[idx:])\n"
     ]
    }
   ],
   "source": [
    "imdb = keras.datasets.imdb\n",
    "\n",
    "(train_data, train_labels), (test_data, test_labels) = imdb.load_data(num_words=10000)"
   ]
  },
  {
   "cell_type": "code",
   "execution_count": 3,
   "metadata": {},
   "outputs": [
    {
     "name": "stdout",
     "output_type": "stream",
     "text": [
      "훈련 샘플: 25000, 레이블: 25000\n"
     ]
    }
   ],
   "source": [
    "print(\"훈련 샘플: {}, 레이블: {}\".format(len(train_data), len(train_labels)))"
   ]
  },
  {
   "cell_type": "code",
   "execution_count": 4,
   "metadata": {},
   "outputs": [
    {
     "data": {
      "text/plain": [
       "(218, 189)"
      ]
     },
     "execution_count": 4,
     "metadata": {},
     "output_type": "execute_result"
    }
   ],
   "source": [
    "len(train_data[0]), len(train_data[1])"
   ]
  },
  {
   "cell_type": "code",
   "execution_count": 5,
   "metadata": {},
   "outputs": [],
   "source": [
    "# 단어와 정수 인덱스를 매핑한 딕셔너리\n",
    "word_index = imdb.get_word_index()"
   ]
  },
  {
   "cell_type": "code",
   "execution_count": 6,
   "metadata": {},
   "outputs": [
    {
     "name": "stdout",
     "output_type": "stream",
     "text": [
      "8582\n"
     ]
    }
   ],
   "source": [
    "print(word_index['egg'])"
   ]
  },
  {
   "cell_type": "code",
   "execution_count": 7,
   "metadata": {},
   "outputs": [],
   "source": [
    "# 처음 몇 개 인덱스는 사전에 정의되어 있습니다\n",
    "#그래서 모든 인덱스를 3씩 밀어버렸습니다. \n",
    "word_index = {k:(v+3) for k,v in word_index.items()}\n",
    "word_index[\"<PAD>\"] = 0\n",
    "word_index[\"<START>\"] = 1\n",
    "word_index[\"<UNK>\"] = 2  # unknown\n",
    "word_index[\"<UNUSED>\"] = 3\n",
    "\n",
    "reverse_word_index = dict([(value, key) for (key, value) in word_index.items()])\n",
    "\n",
    "def decode_review(text):\n",
    "    return ' '.join([reverse_word_index.get(i, '?') for i in text])"
   ]
  },
  {
   "cell_type": "code",
   "execution_count": 8,
   "metadata": {},
   "outputs": [
    {
     "name": "stdout",
     "output_type": "stream",
     "text": [
      "<PAD>\n",
      "<START>\n",
      "<UNK>\n",
      "<UNUSED>\n",
      "the\n",
      "and\n",
      "a\n",
      "of\n",
      "to\n",
      "is\n"
     ]
    }
   ],
   "source": [
    "for i in range(10):\n",
    "    print(reverse_word_index[i])"
   ]
  },
  {
   "cell_type": "code",
   "execution_count": 9,
   "metadata": {},
   "outputs": [
    {
     "data": {
      "text/plain": [
       "\"<START> this film was just brilliant casting location scenery story direction everyone's really suited the part they played and you could just imagine being there robert <UNK> is an amazing actor and now the same being director <UNK> father came from the same scottish island as myself so i loved the fact there was a real connection with this film the witty remarks throughout the film were great it was just brilliant so much that i bought the film as soon as it was released for <UNK> and would recommend it to everyone to watch and the fly fishing was amazing really cried at the end it was so sad and you know what they say if you cry at a film it must have been good and this definitely was also <UNK> to the two little boy's that played the <UNK> of norman and paul they were just brilliant children are often left out of the <UNK> list i think because the stars that play them all grown up are such a big profile for the whole film but these children are amazing and should be praised for what they have done don't you think the whole story was so lovely because it was true and was someone's life after all that was shared with us all\""
      ]
     },
     "execution_count": 9,
     "metadata": {},
     "output_type": "execute_result"
    }
   ],
   "source": [
    "decode_review(train_data[0])"
   ]
  },
  {
   "cell_type": "code",
   "execution_count": 10,
   "metadata": {
    "scrolled": true
   },
   "outputs": [
    {
     "name": "stdout",
     "output_type": "stream",
     "text": [
      "[1, 14, 22, 16, 43, 530, 973, 1622, 1385, 65, 458, 4468, 66, 3941, 4, 173, 36, 256, 5, 25, 100, 43, 838, 112, 50, 670, 2, 9, 35, 480, 284, 5, 150, 4, 172, 112, 167, 2, 336, 385, 39, 4, 172, 4536, 1111, 17, 546, 38, 13, 447, 4, 192, 50, 16, 6, 147, 2025, 19, 14, 22, 4, 1920, 4613, 469, 4, 22, 71, 87, 12, 16, 43, 530, 38, 76, 15, 13, 1247, 4, 22, 17, 515, 17, 12, 16, 626, 18, 2, 5, 62, 386, 12, 8, 316, 8, 106, 5, 4, 2223, 5244, 16, 480, 66, 3785, 33, 4, 130, 12, 16, 38, 619, 5, 25, 124, 51, 36, 135, 48, 25, 1415, 33, 6, 22, 12, 215, 28, 77, 52, 5, 14, 407, 16, 82, 2, 8, 4, 107, 117, 5952, 15, 256, 4, 2, 7, 3766, 5, 723, 36, 71, 43, 530, 476, 26, 400, 317, 46, 7, 4, 2, 1029, 13, 104, 88, 4, 381, 15, 297, 98, 32, 2071, 56, 26, 141, 6, 194, 7486, 18, 4, 226, 22, 21, 134, 476, 26, 480, 5, 144, 30, 5535, 18, 51, 36, 28, 224, 92, 25, 104, 4, 226, 65, 16, 38, 1334, 88, 12, 16, 283, 5, 16, 4472, 113, 103, 32, 15, 16, 5345, 19, 178, 32]\n"
     ]
    }
   ],
   "source": [
    "print(train_data[0])"
   ]
  },
  {
   "cell_type": "code",
   "execution_count": 11,
   "metadata": {},
   "outputs": [
    {
     "data": {
      "text/plain": [
       "2"
      ]
     },
     "execution_count": 11,
     "metadata": {},
     "output_type": "execute_result"
    }
   ],
   "source": [
    "word_index['<UNK>']"
   ]
  },
  {
   "cell_type": "code",
   "execution_count": 12,
   "metadata": {},
   "outputs": [],
   "source": [
    "train_data = keras.preprocessing.sequence.pad_sequences(train_data,\n",
    "                                                        value=word_index[\"<PAD>\"],\n",
    "                                                        padding='post',\n",
    "                                                        maxlen=256)\n",
    "\n",
    "test_data = keras.preprocessing.sequence.pad_sequences(test_data,\n",
    "                                                       value=word_index[\"<PAD>\"],\n",
    "                                                       padding='post',\n",
    "                                                       maxlen=256)"
   ]
  },
  {
   "cell_type": "markdown",
   "metadata": {},
   "source": [
    "keras.preprocessing.sequence.pad_sequences()\n",
    "value: float or string. padding value.\n",
    "padding: when given post option, padding values are pushed back. \n",
    "        if given default option, padding values are pushed front.\n",
    "maxlen: maximum length of each sequence. If sequence is too long, \n",
    "        element are poped from front(or back)\n",
    "truncate: default or 'post', when 'post' is given as parametere, seqeunces that \n",
    "          are too long are trucated from back. "
   ]
  },
  {
   "cell_type": "code",
   "execution_count": 13,
   "metadata": {},
   "outputs": [
    {
     "name": "stdout",
     "output_type": "stream",
     "text": [
      "Model: \"sequential\"\n",
      "_________________________________________________________________\n",
      "Layer (type)                 Output Shape              Param #   \n",
      "=================================================================\n",
      "embedding (Embedding)        (None, None, 16)          160000    \n",
      "_________________________________________________________________\n",
      "global_average_pooling1d (Gl (None, 16)                0         \n",
      "_________________________________________________________________\n",
      "dense (Dense)                (None, 16)                272       \n",
      "_________________________________________________________________\n",
      "dense_1 (Dense)              (None, 1)                 17        \n",
      "=================================================================\n",
      "Total params: 160,289\n",
      "Trainable params: 160,289\n",
      "Non-trainable params: 0\n",
      "_________________________________________________________________\n"
     ]
    }
   ],
   "source": [
    "# 입력 크기는 영화 리뷰 데이터셋에 적용된 어휘 사전의 크기입니다(10,000개의 단어)\n",
    "vocab_size = 10000\n",
    "\n",
    "model = keras.Sequential()\n",
    "model.add(keras.layers.Embedding(vocab_size, 16, input_shape=(None,)))\n",
    "model.add(keras.layers.GlobalAveragePooling1D())\n",
    "model.add(keras.layers.Dense(16, activation='relu'))\n",
    "model.add(keras.layers.Dense(1, activation='sigmoid'))\n",
    "\n",
    "model.summary()"
   ]
  },
  {
   "cell_type": "markdown",
   "metadata": {},
   "source": [
    "위의 Embedding layer에서 사용하는  input_shape=(None, )부분이 이해가 잘 안된다. \n",
    "(None, )의 의미가 어떤 차원을 의미하는 것인지 알아볼 것.\n",
    "\n",
    "각 input sequence는 maxlen이 256으로, 최대 길이가 256이다. \n",
    "즉, 256일 수도 있고 작을 수도 있기 때문의 input size를 가변적으로 잡아 주어야한다. \n",
    "\n",
    "https://keras.io/ko/getting-started/sequential-model-guide/\n",
    "None means network will be able to accept input with any dimension."
   ]
  },
  {
   "cell_type": "code",
   "execution_count": 14,
   "metadata": {},
   "outputs": [],
   "source": [
    "model.compile(optimizer='adam',\n",
    "              loss='binary_crossentropy',\n",
    "              metrics=['accuracy'])"
   ]
  },
  {
   "cell_type": "code",
   "execution_count": 15,
   "metadata": {},
   "outputs": [],
   "source": [
    "x_val = train_data[:10000]\n",
    "partial_x_train = train_data[10000:]\n",
    "\n",
    "y_val = train_labels[:10000]\n",
    "partial_y_train = train_labels[10000:]"
   ]
  },
  {
   "cell_type": "code",
   "execution_count": 16,
   "metadata": {},
   "outputs": [
    {
     "name": "stdout",
     "output_type": "stream",
     "text": [
      "Epoch 1/40\n",
      "30/30 [==============================] - 1s 23ms/step - loss: 0.6920 - accuracy: 0.5627 - val_loss: 0.6904 - val_accuracy: 0.6112\n",
      "Epoch 2/40\n",
      "30/30 [==============================] - 0s 16ms/step - loss: 0.6870 - accuracy: 0.6807 - val_loss: 0.6833 - val_accuracy: 0.7269\n",
      "Epoch 3/40\n",
      "30/30 [==============================] - 1s 17ms/step - loss: 0.6761 - accuracy: 0.7457 - val_loss: 0.6693 - val_accuracy: 0.7444\n",
      "Epoch 4/40\n",
      "30/30 [==============================] - 1s 19ms/step - loss: 0.6564 - accuracy: 0.7579 - val_loss: 0.6463 - val_accuracy: 0.7615\n",
      "Epoch 5/40\n",
      "30/30 [==============================] - 1s 18ms/step - loss: 0.6262 - accuracy: 0.7819 - val_loss: 0.6140 - val_accuracy: 0.7782\n",
      "Epoch 6/40\n",
      "30/30 [==============================] - 1s 18ms/step - loss: 0.5862 - accuracy: 0.8019 - val_loss: 0.5747 - val_accuracy: 0.7963\n",
      "Epoch 7/40\n",
      "30/30 [==============================] - 1s 20ms/step - loss: 0.5401 - accuracy: 0.8225 - val_loss: 0.5312 - val_accuracy: 0.8097\n",
      "Epoch 8/40\n",
      "30/30 [==============================] - 0s 17ms/step - loss: 0.4930 - accuracy: 0.8381 - val_loss: 0.4891 - val_accuracy: 0.8236\n",
      "Epoch 9/40\n",
      "30/30 [==============================] - 1s 19ms/step - loss: 0.4481 - accuracy: 0.8559 - val_loss: 0.4517 - val_accuracy: 0.8389\n",
      "Epoch 10/40\n",
      "30/30 [==============================] - 1s 22ms/step - loss: 0.4084 - accuracy: 0.8670 - val_loss: 0.4194 - val_accuracy: 0.8474\n",
      "Epoch 11/40\n",
      "30/30 [==============================] - 1s 20ms/step - loss: 0.3745 - accuracy: 0.8757 - val_loss: 0.3934 - val_accuracy: 0.8544\n",
      "Epoch 12/40\n",
      "30/30 [==============================] - 1s 20ms/step - loss: 0.3460 - accuracy: 0.8837 - val_loss: 0.3724 - val_accuracy: 0.8605\n",
      "Epoch 13/40\n",
      "30/30 [==============================] - 1s 19ms/step - loss: 0.3218 - accuracy: 0.8919 - val_loss: 0.3554 - val_accuracy: 0.8646\n",
      "Epoch 14/40\n",
      "30/30 [==============================] - 1s 18ms/step - loss: 0.3013 - accuracy: 0.8971 - val_loss: 0.3417 - val_accuracy: 0.8685\n",
      "Epoch 15/40\n",
      "30/30 [==============================] - 1s 18ms/step - loss: 0.2833 - accuracy: 0.9029 - val_loss: 0.3304 - val_accuracy: 0.8730\n",
      "Epoch 16/40\n",
      "30/30 [==============================] - 0s 17ms/step - loss: 0.2678 - accuracy: 0.9072 - val_loss: 0.3225 - val_accuracy: 0.8722\n",
      "Epoch 17/40\n",
      "30/30 [==============================] - 1s 18ms/step - loss: 0.2538 - accuracy: 0.9113 - val_loss: 0.3135 - val_accuracy: 0.8781\n",
      "Epoch 18/40\n",
      "30/30 [==============================] - 1s 18ms/step - loss: 0.2412 - accuracy: 0.9172 - val_loss: 0.3074 - val_accuracy: 0.8797\n",
      "Epoch 19/40\n",
      "30/30 [==============================] - 0s 17ms/step - loss: 0.2296 - accuracy: 0.9195 - val_loss: 0.3022 - val_accuracy: 0.8809\n",
      "Epoch 20/40\n",
      "30/30 [==============================] - 0s 16ms/step - loss: 0.2188 - accuracy: 0.9249 - val_loss: 0.2976 - val_accuracy: 0.8815\n",
      "Epoch 21/40\n",
      "30/30 [==============================] - 0s 16ms/step - loss: 0.2092 - accuracy: 0.9277 - val_loss: 0.2944 - val_accuracy: 0.8822\n",
      "Epoch 22/40\n",
      "30/30 [==============================] - 0s 16ms/step - loss: 0.2001 - accuracy: 0.9315 - val_loss: 0.2914 - val_accuracy: 0.8840\n",
      "Epoch 23/40\n",
      "30/30 [==============================] - 0s 16ms/step - loss: 0.1919 - accuracy: 0.9352 - val_loss: 0.2892 - val_accuracy: 0.8837\n",
      "Epoch 24/40\n",
      "30/30 [==============================] - 0s 16ms/step - loss: 0.1834 - accuracy: 0.9381 - val_loss: 0.2874 - val_accuracy: 0.8846\n",
      "Epoch 25/40\n",
      "30/30 [==============================] - 0s 16ms/step - loss: 0.1762 - accuracy: 0.9429 - val_loss: 0.2865 - val_accuracy: 0.8849\n",
      "Epoch 26/40\n",
      "30/30 [==============================] - 1s 17ms/step - loss: 0.1688 - accuracy: 0.9456 - val_loss: 0.2855 - val_accuracy: 0.8850\n",
      "Epoch 27/40\n",
      "30/30 [==============================] - 1s 18ms/step - loss: 0.1622 - accuracy: 0.9486 - val_loss: 0.2859 - val_accuracy: 0.8848\n",
      "Epoch 28/40\n",
      "30/30 [==============================] - 1s 18ms/step - loss: 0.1558 - accuracy: 0.9514 - val_loss: 0.2854 - val_accuracy: 0.8856\n",
      "Epoch 29/40\n",
      "30/30 [==============================] - 1s 18ms/step - loss: 0.1501 - accuracy: 0.9525 - val_loss: 0.2862 - val_accuracy: 0.8841\n",
      "Epoch 30/40\n",
      "30/30 [==============================] - 1s 19ms/step - loss: 0.1445 - accuracy: 0.9561 - val_loss: 0.2861 - val_accuracy: 0.8863\n",
      "Epoch 31/40\n",
      "30/30 [==============================] - 1s 19ms/step - loss: 0.1389 - accuracy: 0.9577 - val_loss: 0.2872 - val_accuracy: 0.8859\n",
      "Epoch 32/40\n",
      "30/30 [==============================] - 1s 19ms/step - loss: 0.1333 - accuracy: 0.9599 - val_loss: 0.2881 - val_accuracy: 0.8863\n",
      "Epoch 33/40\n",
      "30/30 [==============================] - 1s 19ms/step - loss: 0.1284 - accuracy: 0.9625 - val_loss: 0.2897 - val_accuracy: 0.8866\n",
      "Epoch 34/40\n",
      "30/30 [==============================] - 1s 18ms/step - loss: 0.1237 - accuracy: 0.9643 - val_loss: 0.2934 - val_accuracy: 0.8849\n",
      "Epoch 35/40\n",
      "30/30 [==============================] - 0s 17ms/step - loss: 0.1193 - accuracy: 0.9659 - val_loss: 0.2929 - val_accuracy: 0.8863\n",
      "Epoch 36/40\n",
      "30/30 [==============================] - 1s 20ms/step - loss: 0.1149 - accuracy: 0.9684 - val_loss: 0.2951 - val_accuracy: 0.8847\n",
      "Epoch 37/40\n",
      "30/30 [==============================] - 1s 21ms/step - loss: 0.1107 - accuracy: 0.9695 - val_loss: 0.2970 - val_accuracy: 0.8849\n",
      "Epoch 38/40\n",
      "30/30 [==============================] - 1s 21ms/step - loss: 0.1066 - accuracy: 0.9712 - val_loss: 0.3005 - val_accuracy: 0.8837\n",
      "Epoch 39/40\n",
      "30/30 [==============================] - 1s 20ms/step - loss: 0.1032 - accuracy: 0.9717 - val_loss: 0.3029 - val_accuracy: 0.8831\n",
      "Epoch 40/40\n",
      "30/30 [==============================] - 1s 17ms/step - loss: 0.0990 - accuracy: 0.9736 - val_loss: 0.3047 - val_accuracy: 0.8832\n"
     ]
    }
   ],
   "source": [
    "history = model.fit(partial_x_train,\n",
    "                    partial_y_train,\n",
    "                    epochs=40,\n",
    "                    batch_size=512,\n",
    "                    validation_data=(x_val, y_val),\n",
    "                    verbose=1)"
   ]
  },
  {
   "cell_type": "code",
   "execution_count": 17,
   "metadata": {},
   "outputs": [
    {
     "name": "stdout",
     "output_type": "stream",
     "text": [
      "782/782 - 2s - loss: 0.3254 - accuracy: 0.8723\n",
      "[0.325434148311615, 0.8722800016403198]\n"
     ]
    }
   ],
   "source": [
    "results = model.evaluate(test_data,  test_labels, verbose=2)\n",
    "\n",
    "print(results)"
   ]
  },
  {
   "cell_type": "code",
   "execution_count": 18,
   "metadata": {},
   "outputs": [
    {
     "data": {
      "text/plain": [
       "dict_keys(['loss', 'accuracy', 'val_loss', 'val_accuracy'])"
      ]
     },
     "execution_count": 18,
     "metadata": {},
     "output_type": "execute_result"
    }
   ],
   "source": [
    "history_dict = history.history\n",
    "history_dict.keys()"
   ]
  },
  {
   "cell_type": "code",
   "execution_count": 19,
   "metadata": {},
   "outputs": [
    {
     "data": {
      "image/png": "[encoded data removed]",
      "text/plain": [
       "<Figure size 432x288 with 1 Axes>"
      ]
     },
     "metadata": {
      "needs_background": "light"
     },
     "output_type": "display_data"
    }
   ],
   "source": [
    "import matplotlib.pyplot as plt\n",
    "\n",
    "acc = history_dict['accuracy']\n",
    "val_acc = history_dict['val_accuracy']\n",
    "loss = history_dict['loss']\n",
    "val_loss = history_dict['val_loss']\n",
    "\n",
    "epochs = range(1, len(acc) + 1)\n",
    "\n",
    "# \"bo\"는 \"파란색 점\"입니다\n",
    "plt.plot(epochs, loss, 'bo', label='Training loss')\n",
    "# b는 \"파란 실선\"입니다\n",
    "plt.plot(epochs, val_loss, 'b', label='Validation loss')\n",
    "plt.title('Training and validation loss')\n",
    "plt.xlabel('Epochs')\n",
    "plt.ylabel('Loss')\n",
    "plt.legend()\n",
    "\n",
    "plt.show()"
   ]
  },
  {
   "cell_type": "code",
   "execution_count": 20,
   "metadata": {},
   "outputs": [
    {
     "data": {
      "image/png": "[encoded data removed]",
      "text/plain": [
       "<Figure size 432x288 with 1 Axes>"
      ]
     },
     "metadata": {
      "needs_background": "light"
     },
     "output_type": "display_data"
    }
   ],
   "source": [
    "plt.clf()   # 그림을 초기화합니다\n",
    "\n",
    "plt.plot(epochs, acc, 'bo', label='Training acc')\n",
    "plt.plot(epochs, val_acc, 'b', label='Validation acc')\n",
    "plt.title('Training and validation accuracy')\n",
    "plt.xlabel('Epochs')\n",
    "plt.ylabel('Accuracy')\n",
    "plt.legend()\n",
    "\n",
    "plt.show()"
   ]
  },
  {
   "cell_type": "code",
   "execution_count": 21,
   "metadata": {},
   "outputs": [],
   "source": [
    "#@title MIT License\n",
    "#\n",
    "# Copyright (c) 2017 François Chollet\n",
    "#\n",
    "# Permission is hereby granted, free of charge, to any person obtaining a\n",
    "# copy of this software and associated documentation files (the \"Software\"),\n",
    "# to deal in the Software without restriction, including without limitation\n",
    "# the rights to use, copy, modify, merge, publish, distribute, sublicense,\n",
    "# and/or sell copies of the Software, and to permit persons to whom the\n",
    "# Software is furnished to do so, subject to the following conditions:\n",
    "#\n",
    "# The above copyright notice and this permission notice shall be included in\n",
    "# all copies or substantial portions of the Software.\n",
    "#\n",
    "# THE SOFTWARE IS PROVIDED \"AS IS\", WITHOUT WARRANTY OF ANY KIND, EXPRESS OR\n",
    "# IMPLIED, INCLUDING BUT NOT LIMITED TO THE WARRANTIES OF MERCHANTABILITY,\n",
    "# FITNESS FOR A PARTICULAR PURPOSE AND NONINFRINGEMENT. IN NO EVENT SHALL\n",
    "# THE AUTHORS OR COPYRIGHT HOLDERS BE LIABLE FOR ANY CLAIM, DAMAGES OR OTHER\n",
    "# LIABILITY, WHETHER IN AN ACTION OF CONTRACT, TORT OR OTHERWISE, ARISING\n",
    "# FROM, OUT OF OR IN CONNECTION WITH THE SOFTWARE OR THE USE OR OTHER\n",
    "# DEALINGS IN THE SOFTWARE."
   ]
  },
  {
   "cell_type": "code",
   "execution_count": null,
   "metadata": {},
   "outputs": [],
   "source": []
  },
  {
   "cell_type": "code",
   "execution_count": null,
   "metadata": {},
   "outputs": [],
   "source": []
  }
 ],
 "metadata": {
  "kernelspec": {
   "display_name": "tf_CPU",
   "language": "python",
   "name": "tf_cpu"
  },
  "language_info": {
   "codemirror_mode": {
    "name": "ipython",
    "version": 3
   },
   "file_extension": ".py",
   "mimetype": "text/x-python",
   "name": "python",
   "nbconvert_exporter": "python",
   "pygments_lexer": "ipython3",
   "version": "3.8.3"
  }
 },
 "nbformat": 4,
 "nbformat_minor": 4
}
