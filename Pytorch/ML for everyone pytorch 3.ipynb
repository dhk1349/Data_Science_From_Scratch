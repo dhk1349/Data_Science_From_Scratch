{
 "cells": [
  {
   "cell_type": "code",
   "execution_count": 1,
   "metadata": {},
   "outputs": [],
   "source": [
    "import torch\n",
    "import numpy as np\n",
    "import matplotlib.pyplot as plt"
   ]
  },
  {
   "cell_type": "code",
   "execution_count": 2,
   "metadata": {},
   "outputs": [],
   "source": [
    "x_data=[1.0, 2.0, 3.0]\n",
    "y_data=[2.0, 4.0, 6.0]\n",
    "\n",
    "w=1.0"
   ]
  },
  {
   "cell_type": "code",
   "execution_count": 3,
   "metadata": {},
   "outputs": [],
   "source": [
    "def forward(x):\n",
    "    return w*x\n",
    "\n",
    "def loss(x, y):\n",
    "    y_pred=forward(x)\n",
    "    return (y_pred-y)**2\n",
    "\n",
    "def gradient(x, y):  #dloss/dw (given loss is MSE function)\n",
    "    return 2*x*(w*x-y)"
   ]
  },
  {
   "cell_type": "code",
   "execution_count": 4,
   "metadata": {},
   "outputs": [
    {
     "name": "stdout",
     "output_type": "stream",
     "text": [
      "predict (before training) 4 4.0\n",
      "\t grad:  1.0 2.0 -2.0\n",
      "\t grad:  2.0 4.0 -7.84\n",
      "\t grad:  3.0 6.0 -16.2288\n",
      "progress:  0  w=  1.260688  loss=  4.919240100095999\n",
      "\t grad:  1.0 2.0 -1.478624\n",
      "\t grad:  2.0 4.0 -5.796206079999999\n",
      "\t grad:  3.0 6.0 -11.998146585599997\n",
      "progress:  1  w=  1.453417766656  loss=  2.688769240265834\n",
      "\t grad:  1.0 2.0 -1.093164466688\n",
      "\t grad:  2.0 4.0 -4.285204709416961\n",
      "\t grad:  3.0 6.0 -8.87037374849311\n",
      "progress:  2  w=  1.5959051959019805  loss=  1.4696334962911515\n",
      "\t grad:  1.0 2.0 -0.8081896081960389\n",
      "\t grad:  2.0 4.0 -3.1681032641284723\n",
      "\t grad:  3.0 6.0 -6.557973756745939\n",
      "progress:  3  w=  1.701247862192685  loss=  0.8032755585999681\n",
      "\t grad:  1.0 2.0 -0.59750427561463\n",
      "\t grad:  2.0 4.0 -2.3422167604093502\n",
      "\t grad:  3.0 6.0 -4.848388694047353\n",
      "progress:  4  w=  1.7791289594933983  loss=  0.43905614881022015\n",
      "\t grad:  1.0 2.0 -0.44174208101320334\n",
      "\t grad:  2.0 4.0 -1.7316289575717576\n",
      "\t grad:  3.0 6.0 -3.584471942173538\n",
      "progress:  5  w=  1.836707389300983  loss=  0.2399802903801062\n",
      "\t grad:  1.0 2.0 -0.3265852213980338\n",
      "\t grad:  2.0 4.0 -1.2802140678802925\n",
      "\t grad:  3.0 6.0 -2.650043120512205\n",
      "progress:  6  w=  1.8792758133988885  loss=  0.1311689630744999\n",
      "\t grad:  1.0 2.0 -0.241448373202223\n",
      "\t grad:  2.0 4.0 -0.946477622952715\n",
      "\t grad:  3.0 6.0 -1.9592086795121197\n",
      "progress:  7  w=  1.910747160155559  loss=  0.07169462478267678\n",
      "\t grad:  1.0 2.0 -0.17850567968888198\n",
      "\t grad:  2.0 4.0 -0.6997422643804168\n",
      "\t grad:  3.0 6.0 -1.4484664872674653\n",
      "progress:  8  w=  1.9340143044689266  loss=  0.03918700813247573\n",
      "\t grad:  1.0 2.0 -0.13197139106214673\n",
      "\t grad:  2.0 4.0 -0.5173278529636143\n",
      "\t grad:  3.0 6.0 -1.0708686556346834\n",
      "progress:  9  w=  1.9512159834655312  loss=  0.021418922423117836\n",
      "predict (after training) 4 7.804863933862125\n"
     ]
    }
   ],
   "source": [
    "print(\"predict (before training)\", 4, forward(4))\n",
    "\n",
    "#training loop\n",
    "for epoch in range(10):\n",
    "    for x_val, y_val in zip(x_data, y_data):\n",
    "        grad=gradient(x_val, y_val)\n",
    "        w=w-0.01*grad\n",
    "        print(\"\\t grad: \", x_val, y_val, grad)\n",
    "        l=loss(x_val, y_val)\n",
    "        \n",
    "    print(\"progress: \", epoch,  \" w= \", w, \" loss= \", l)\n",
    "\n",
    "#after training\n",
    "print(\"predict (after training)\", 4, forward(4))"
   ]
  },
  {
   "cell_type": "code",
   "execution_count": null,
   "metadata": {},
   "outputs": [],
   "source": []
  },
  {
   "cell_type": "code",
   "execution_count": null,
   "metadata": {},
   "outputs": [],
   "source": []
  }
 ],
 "metadata": {
  "kernelspec": {
   "display_name": "Python 3",
   "language": "python",
   "name": "python3"
  },
  "language_info": {
   "codemirror_mode": {
    "name": "ipython",
    "version": 3
   },
   "file_extension": ".py",
   "mimetype": "text/x-python",
   "name": "python",
   "nbconvert_exporter": "python",
   "pygments_lexer": "ipython3",
   "version": "3.7.3"
  }
 },
 "nbformat": 4,
 "nbformat_minor": 2
}
