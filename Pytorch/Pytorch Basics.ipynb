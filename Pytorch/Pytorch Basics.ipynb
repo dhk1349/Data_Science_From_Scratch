{
 "cells": [
  {
   "cell_type": "markdown",
   "metadata": {},
   "source": [
    "<h2>Pytorch's some basic torch methods</h2>"
   ]
  },
  {
   "cell_type": "code",
   "execution_count": 1,
   "metadata": {},
   "outputs": [],
   "source": [
    "import torch"
   ]
  },
  {
   "cell_type": "code",
   "execution_count": 2,
   "metadata": {},
   "outputs": [],
   "source": [
    "x=torch.tensor([[1,2,3],[4,5,6],[7,8,9]])"
   ]
  },
  {
   "cell_type": "code",
   "execution_count": 3,
   "metadata": {},
   "outputs": [
    {
     "name": "stdout",
     "output_type": "stream",
     "text": [
      "tensor([[1, 2, 3],\n",
      "        [4, 5, 6],\n",
      "        [7, 8, 9]])\n"
     ]
    }
   ],
   "source": [
    "print(x)"
   ]
  },
  {
   "cell_type": "code",
   "execution_count": 4,
   "metadata": {},
   "outputs": [
    {
     "name": "stdout",
     "output_type": "stream",
     "text": [
      "torch.Size([3, 3])\n",
      "torch.Size([3, 3])\n",
      "2\n"
     ]
    }
   ],
   "source": [
    "print(x.shape)\n",
    "print(x.size())\n",
    "print(x.ndimension())"
   ]
  },
  {
   "cell_type": "code",
   "execution_count": 5,
   "metadata": {},
   "outputs": [
    {
     "name": "stdout",
     "output_type": "stream",
     "text": [
      "tensor([[[1, 2, 3],\n",
      "         [4, 5, 6],\n",
      "         [7, 8, 9]]])\n"
     ]
    }
   ],
   "source": [
    "#increasing the dimension of tensor.\n",
    "x=torch.unsqueeze(x, 0)\n",
    "print(x)"
   ]
  },
  {
   "cell_type": "code",
   "execution_count": 6,
   "metadata": {},
   "outputs": [
    {
     "name": "stdout",
     "output_type": "stream",
     "text": [
      "tensor([[1, 2, 3],\n",
      "        [4, 5, 6],\n",
      "        [7, 8, 9]])\n"
     ]
    }
   ],
   "source": [
    "#decrease the dimension of tensor.\n",
    "x=torch.squeeze(x)\n",
    "print(x)"
   ]
  },
  {
   "cell_type": "code",
   "execution_count": 8,
   "metadata": {},
   "outputs": [
    {
     "name": "stdout",
     "output_type": "stream",
     "text": [
      "tensor([1, 2, 3, 4, 5, 6, 7, 8, 9])\n"
     ]
    }
   ],
   "source": [
    "#view is similar to np.rehape()\n",
    "y=x.view(-1)\n",
    "print(y)"
   ]
  },
  {
   "cell_type": "code",
   "execution_count": 9,
   "metadata": {},
   "outputs": [
    {
     "name": "stdout",
     "output_type": "stream",
     "text": [
      "Weight size: torch.Size([5, 4])\n",
      "x size:  torch.Size([4, 2])\n",
      "Weight:  tensor([[ 0.1297,  0.0626, -0.0604, -0.1303],\n",
      "        [ 0.2744,  2.7175, -0.6008, -0.5668],\n",
      "        [-1.3323,  0.7200, -0.0476, -1.1583],\n",
      "        [ 0.8430, -0.6350, -1.7392, -1.1513],\n",
      "        [-1.6214, -0.4234,  0.9110, -0.1254]])\n",
      "x:  tensor([[1, 2],\n",
      "        [3, 4],\n",
      "        [5, 6],\n",
      "        [7, 8]])\n"
     ]
    }
   ],
   "source": [
    "w=torch.randn(5,4, dtype=torch.float)\n",
    "x=torch.tensor([[1,2],[3,4],[5,6],[7,8]])\n",
    "print(\"Weight size:\", w.size())\n",
    "print(\"x size: \", x.size())\n",
    "print(\"Weight: \",w)\n",
    "print(\"x: \", x)"
   ]
  },
  {
   "cell_type": "code",
   "execution_count": 14,
   "metadata": {},
   "outputs": [
    {
     "name": "stdout",
     "output_type": "stream",
     "text": [
      "b size:  torch.Size([5, 2])\n",
      "b:  tensor([[-0.6982, -0.3619],\n",
      "        [-0.0069, -0.8838],\n",
      "        [ 1.7085,  0.4816],\n",
      "        [-0.0204, -1.1429],\n",
      "        [-1.1664,  0.1461]])\n"
     ]
    }
   ],
   "source": [
    "b=torch.randn(5,2, dtype=torch.float)\n",
    "print(\"b size: \", b.size())\n",
    "print(\"b: \", b)"
   ]
  },
  {
   "cell_type": "code",
   "execution_count": 17,
   "metadata": {},
   "outputs": [
    {
     "name": "stdout",
     "output_type": "stream",
     "text": [
      "result size:  torch.Size([5, 2])\n",
      "result:  tensor([[ -1.5944,  -1.2565],\n",
      "        [  1.4485,   2.3959],\n",
      "        [ -5.8098,  -8.8548],\n",
      "        [-17.8374, -21.6424],\n",
      "        [ -0.3806,  -0.3273]])\n"
     ]
    }
   ],
   "source": [
    "wx=torch.mm(w,x.float())\n",
    "result=wx+b\n",
    "print(\"result size: \", result.size())\n",
    "print(\"result: \", result)"
   ]
  },
  {
   "cell_type": "code",
   "execution_count": null,
   "metadata": {},
   "outputs": [],
   "source": []
  }
 ],
 "metadata": {
  "kernelspec": {
   "display_name": "Python 3",
   "language": "python",
   "name": "python3"
  },
  "language_info": {
   "codemirror_mode": {
    "name": "ipython",
    "version": 3
   },
   "file_extension": ".py",
   "mimetype": "text/x-python",
   "name": "python",
   "nbconvert_exporter": "python",
   "pygments_lexer": "ipython3",
   "version": "3.7.3"
  }
 },
 "nbformat": 4,
 "nbformat_minor": 2
}
