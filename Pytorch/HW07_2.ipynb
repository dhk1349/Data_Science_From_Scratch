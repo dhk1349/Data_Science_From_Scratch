{
 "cells": [
  {
   "cell_type": "markdown",
   "metadata": {},
   "source": [
    "<h1>ex7-1 Try to minimize the loss for Diabets data</h1>\n",
    "● Classify Diabetes with deep nets<br>\n",
    "    ○ More than 10 layers\n"
   ]
  },
  {
   "cell_type": "code",
   "execution_count": 1,
   "metadata": {},
   "outputs": [],
   "source": [
    "import numpy as np\n",
    "import torch\n",
    "from torch import nn, from_numpy\n",
    "import torch.nn.functional as F"
   ]
  },
  {
   "cell_type": "code",
   "execution_count": 2,
   "metadata": {},
   "outputs": [
    {
     "name": "stdout",
     "output_type": "stream",
     "text": [
      "shape of x: torch.Size([759, 8])\n",
      "shape of y: torch.Size([759, 1])\n"
     ]
    }
   ],
   "source": [
    "xy_data=np.loadtxt(\"D:\\\\4-2\\\\Machine Learning\\\\Pytorch\\\\data\\\\diabetes.csv.gz\", delimiter=',', dtype=np.float32)\n",
    "x_data=from_numpy(xy_data[:,0:-1])\n",
    "y_data=from_numpy(xy_data[:, [-1]])\n",
    "print(f'shape of x: {x_data.size()}\\nshape of y: {y_data.size()}')"
   ]
  },
  {
   "cell_type": "code",
   "execution_count": 3,
   "metadata": {},
   "outputs": [],
   "source": [
    "class Model(nn.Module):\n",
    "    def __init__(self):\n",
    "        super(Model, self).__init__()\n",
    "        self.l1=nn.Linear(8, 64)\n",
    "        self.l2=nn.Linear(64, 128)\n",
    "        self.l3=nn.Linear(128, 256)\n",
    "        self.l4=nn.Linear(256, 128)\n",
    "        self.l5=nn.Linear(128, 128)\n",
    "        self.l6=nn.Linear(128, 64)\n",
    "        self.l7=nn.Linear(64, 64)\n",
    "        self.l8=nn.Linear(64, 32)\n",
    "        self.l9=nn.Linear(32, 16)\n",
    "        self.l10=nn.Linear(16, 8)\n",
    "        self.l11=nn.Linear(8, 1)\n",
    "        self.sigmoid=nn.Sigmoid()\n",
    "    def forward(self,x):\n",
    "        out1=self.l1(x)\n",
    "        out2=self.l2(out1)\n",
    "        out3=self.l3(out2)\n",
    "        out4=self.l4(out3)\n",
    "        out5=self.l5(out4)\n",
    "        out6=self.l6(out5)\n",
    "        out7=self.l7(out6)\n",
    "        out8=self.l8(out7)\n",
    "        out9=self.l9(out8)\n",
    "        out10=self.l10(out9)\n",
    "        out11=self.l11(out10)\n",
    "        y_pred=self.sigmoid(out11)\n",
    "        return y_pred"
   ]
  },
  {
   "cell_type": "code",
   "execution_count": 4,
   "metadata": {},
   "outputs": [],
   "source": [
    "model=Model()"
   ]
  },
  {
   "cell_type": "code",
   "execution_count": 5,
   "metadata": {},
   "outputs": [],
   "source": [
    "criterion=nn.BCELoss(reduction='mean')\n",
    "optimizer=torch.optim.SGD(model.parameters(), lr=0.1)"
   ]
  },
  {
   "cell_type": "code",
   "execution_count": 6,
   "metadata": {},
   "outputs": [
    {
     "name": "stdout",
     "output_type": "stream",
     "text": [
      "EPOCH: 100/1000 | LOSS: 0.6450\n",
      "EPOCH: 200/1000 | LOSS: 0.6444\n",
      "EPOCH: 300/1000 | LOSS: 0.6428\n",
      "EPOCH: 400/1000 | LOSS: 0.6323\n",
      "EPOCH: 500/1000 | LOSS: 0.4769\n",
      "EPOCH: 600/1000 | LOSS: 0.4723\n",
      "EPOCH: 700/1000 | LOSS: 0.4717\n",
      "EPOCH: 800/1000 | LOSS: 0.4717\n",
      "EPOCH: 900/1000 | LOSS: 0.4717\n",
      "EPOCH: 1000/1000 | LOSS: 0.4717\n"
     ]
    }
   ],
   "source": [
    "#training loop\n",
    "for epoch in range(1000):\n",
    "    y_pred=model(x_data)\n",
    "    loss=criterion(y_pred, y_data)\n",
    "    \n",
    "    optimizer.zero_grad()\n",
    "    loss.backward()\n",
    "    optimizer.step()\n",
    "    if (epoch+1)%100==0:\n",
    "        print(f'EPOCH: {epoch+1}/1000 | LOSS: {loss.item():.4f}')"
   ]
  },
  {
   "cell_type": "code",
   "execution_count": 7,
   "metadata": {},
   "outputs": [
    {
     "name": "stdout",
     "output_type": "stream",
     "text": [
      "Accuracy: 584/759 | 0.769433465085639%\n"
     ]
    }
   ],
   "source": [
    "correct = 0\n",
    "total = 0\n",
    "with torch.no_grad():\n",
    "    for idx, sample in enumerate(x_data):\n",
    "        if np.round(model(sample)).item()== y_data[idx].item():\n",
    "            correct+=1\n",
    "\n",
    "print(f'Accuracy: {correct}/{len(x_data)} | {correct/len(x_data*100)}%')"
   ]
  },
  {
   "cell_type": "markdown",
   "metadata": {},
   "source": [
    "<h2>●Find other classification datasets</h2>\n",
    "<h2>○Try with deep network</h2>\n",
    "<h3>Dataset from https://archive.ics.uci.edu/ml/datasets/auto+mpg</h3>"
   ]
  },
  {
   "cell_type": "code",
   "execution_count": 8,
   "metadata": {},
   "outputs": [],
   "source": [
    "dataset_path=\"D:\\\\4-2\\\\Machine Learning\\\\Pytorch\\\\data\\\\auto-mpg.data\""
   ]
  },
  {
   "cell_type": "code",
   "execution_count": 9,
   "metadata": {},
   "outputs": [
    {
     "data": {
      "text/html": [
       "<div>\n",
       "<style scoped>\n",
       "    .dataframe tbody tr th:only-of-type {\n",
       "        vertical-align: middle;\n",
       "    }\n",
       "\n",
       "    .dataframe tbody tr th {\n",
       "        vertical-align: top;\n",
       "    }\n",
       "\n",
       "    .dataframe thead th {\n",
       "        text-align: right;\n",
       "    }\n",
       "</style>\n",
       "<table border=\"1\" class=\"dataframe\">\n",
       "  <thead>\n",
       "    <tr style=\"text-align: right;\">\n",
       "      <th></th>\n",
       "      <th>MPG</th>\n",
       "      <th>Cylinders</th>\n",
       "      <th>Displacement</th>\n",
       "      <th>Horsepower</th>\n",
       "      <th>Weight</th>\n",
       "      <th>Acceleration</th>\n",
       "      <th>Model Year</th>\n",
       "      <th>Origin</th>\n",
       "    </tr>\n",
       "  </thead>\n",
       "  <tbody>\n",
       "    <tr>\n",
       "      <th>393</th>\n",
       "      <td>27.0</td>\n",
       "      <td>4</td>\n",
       "      <td>140.0</td>\n",
       "      <td>86.0</td>\n",
       "      <td>2790.0</td>\n",
       "      <td>15.6</td>\n",
       "      <td>82</td>\n",
       "      <td>1</td>\n",
       "    </tr>\n",
       "    <tr>\n",
       "      <th>394</th>\n",
       "      <td>44.0</td>\n",
       "      <td>4</td>\n",
       "      <td>97.0</td>\n",
       "      <td>52.0</td>\n",
       "      <td>2130.0</td>\n",
       "      <td>24.6</td>\n",
       "      <td>82</td>\n",
       "      <td>2</td>\n",
       "    </tr>\n",
       "    <tr>\n",
       "      <th>395</th>\n",
       "      <td>32.0</td>\n",
       "      <td>4</td>\n",
       "      <td>135.0</td>\n",
       "      <td>84.0</td>\n",
       "      <td>2295.0</td>\n",
       "      <td>11.6</td>\n",
       "      <td>82</td>\n",
       "      <td>1</td>\n",
       "    </tr>\n",
       "    <tr>\n",
       "      <th>396</th>\n",
       "      <td>28.0</td>\n",
       "      <td>4</td>\n",
       "      <td>120.0</td>\n",
       "      <td>79.0</td>\n",
       "      <td>2625.0</td>\n",
       "      <td>18.6</td>\n",
       "      <td>82</td>\n",
       "      <td>1</td>\n",
       "    </tr>\n",
       "    <tr>\n",
       "      <th>397</th>\n",
       "      <td>31.0</td>\n",
       "      <td>4</td>\n",
       "      <td>119.0</td>\n",
       "      <td>82.0</td>\n",
       "      <td>2720.0</td>\n",
       "      <td>19.4</td>\n",
       "      <td>82</td>\n",
       "      <td>1</td>\n",
       "    </tr>\n",
       "  </tbody>\n",
       "</table>\n",
       "</div>"
      ],
      "text/plain": [
       "      MPG  Cylinders  Displacement  Horsepower  Weight  Acceleration  \\\n",
       "393  27.0          4         140.0        86.0  2790.0          15.6   \n",
       "394  44.0          4          97.0        52.0  2130.0          24.6   \n",
       "395  32.0          4         135.0        84.0  2295.0          11.6   \n",
       "396  28.0          4         120.0        79.0  2625.0          18.6   \n",
       "397  31.0          4         119.0        82.0  2720.0          19.4   \n",
       "\n",
       "     Model Year  Origin  \n",
       "393          82       1  \n",
       "394          82       2  \n",
       "395          82       1  \n",
       "396          82       1  \n",
       "397          82       1  "
      ]
     },
     "execution_count": 9,
     "metadata": {},
     "output_type": "execute_result"
    }
   ],
   "source": [
    "import pandas as pd\n",
    "column_names = ['MPG','Cylinders','Displacement','Horsepower','Weight',\n",
    "                'Acceleration', 'Model Year', 'Origin']\n",
    "raw_dataset = pd.read_csv(dataset_path, names=column_names,\n",
    "                      na_values = \"?\", comment='\\t',\n",
    "                      sep=\" \", skipinitialspace=True)\n",
    "\n",
    "dataset = raw_dataset.copy()\n",
    "dataset.tail()"
   ]
  },
  {
   "cell_type": "code",
   "execution_count": 10,
   "metadata": {},
   "outputs": [
    {
     "data": {
      "text/html": [
       "<div>\n",
       "<style scoped>\n",
       "    .dataframe tbody tr th:only-of-type {\n",
       "        vertical-align: middle;\n",
       "    }\n",
       "\n",
       "    .dataframe tbody tr th {\n",
       "        vertical-align: top;\n",
       "    }\n",
       "\n",
       "    .dataframe thead th {\n",
       "        text-align: right;\n",
       "    }\n",
       "</style>\n",
       "<table border=\"1\" class=\"dataframe\">\n",
       "  <thead>\n",
       "    <tr style=\"text-align: right;\">\n",
       "      <th></th>\n",
       "      <th>MPG</th>\n",
       "      <th>Cylinders</th>\n",
       "      <th>Displacement</th>\n",
       "      <th>Horsepower</th>\n",
       "      <th>Weight</th>\n",
       "      <th>Acceleration</th>\n",
       "      <th>Model Year</th>\n",
       "      <th>USA</th>\n",
       "      <th>Europe</th>\n",
       "      <th>Japan</th>\n",
       "    </tr>\n",
       "  </thead>\n",
       "  <tbody>\n",
       "    <tr>\n",
       "      <th>393</th>\n",
       "      <td>27.0</td>\n",
       "      <td>4</td>\n",
       "      <td>140.0</td>\n",
       "      <td>86.0</td>\n",
       "      <td>2790.0</td>\n",
       "      <td>15.6</td>\n",
       "      <td>82</td>\n",
       "      <td>1.0</td>\n",
       "      <td>0.0</td>\n",
       "      <td>0.0</td>\n",
       "    </tr>\n",
       "    <tr>\n",
       "      <th>394</th>\n",
       "      <td>44.0</td>\n",
       "      <td>4</td>\n",
       "      <td>97.0</td>\n",
       "      <td>52.0</td>\n",
       "      <td>2130.0</td>\n",
       "      <td>24.6</td>\n",
       "      <td>82</td>\n",
       "      <td>0.0</td>\n",
       "      <td>1.0</td>\n",
       "      <td>0.0</td>\n",
       "    </tr>\n",
       "    <tr>\n",
       "      <th>395</th>\n",
       "      <td>32.0</td>\n",
       "      <td>4</td>\n",
       "      <td>135.0</td>\n",
       "      <td>84.0</td>\n",
       "      <td>2295.0</td>\n",
       "      <td>11.6</td>\n",
       "      <td>82</td>\n",
       "      <td>1.0</td>\n",
       "      <td>0.0</td>\n",
       "      <td>0.0</td>\n",
       "    </tr>\n",
       "    <tr>\n",
       "      <th>396</th>\n",
       "      <td>28.0</td>\n",
       "      <td>4</td>\n",
       "      <td>120.0</td>\n",
       "      <td>79.0</td>\n",
       "      <td>2625.0</td>\n",
       "      <td>18.6</td>\n",
       "      <td>82</td>\n",
       "      <td>1.0</td>\n",
       "      <td>0.0</td>\n",
       "      <td>0.0</td>\n",
       "    </tr>\n",
       "    <tr>\n",
       "      <th>397</th>\n",
       "      <td>31.0</td>\n",
       "      <td>4</td>\n",
       "      <td>119.0</td>\n",
       "      <td>82.0</td>\n",
       "      <td>2720.0</td>\n",
       "      <td>19.4</td>\n",
       "      <td>82</td>\n",
       "      <td>1.0</td>\n",
       "      <td>0.0</td>\n",
       "      <td>0.0</td>\n",
       "    </tr>\n",
       "  </tbody>\n",
       "</table>\n",
       "</div>"
      ],
      "text/plain": [
       "      MPG  Cylinders  Displacement  Horsepower  Weight  Acceleration  \\\n",
       "393  27.0          4         140.0        86.0  2790.0          15.6   \n",
       "394  44.0          4          97.0        52.0  2130.0          24.6   \n",
       "395  32.0          4         135.0        84.0  2295.0          11.6   \n",
       "396  28.0          4         120.0        79.0  2625.0          18.6   \n",
       "397  31.0          4         119.0        82.0  2720.0          19.4   \n",
       "\n",
       "     Model Year  USA  Europe  Japan  \n",
       "393          82  1.0     0.0    0.0  \n",
       "394          82  0.0     1.0    0.0  \n",
       "395          82  1.0     0.0    0.0  \n",
       "396          82  1.0     0.0    0.0  \n",
       "397          82  1.0     0.0    0.0  "
      ]
     },
     "execution_count": 10,
     "metadata": {},
     "output_type": "execute_result"
    }
   ],
   "source": [
    "dataset = dataset.dropna()\n",
    "origin = dataset.pop('Origin')\n",
    "dataset['USA'] = (origin == 1)*1.0\n",
    "dataset['Europe'] = (origin == 2)*1.0\n",
    "dataset['Japan'] = (origin == 3)*1.0\n",
    "dataset.tail()"
   ]
  },
  {
   "cell_type": "code",
   "execution_count": 11,
   "metadata": {},
   "outputs": [],
   "source": [
    "data_y=dataset.pop('MPG')\n",
    "data_x=dataset"
   ]
  },
  {
   "cell_type": "code",
   "execution_count": 12,
   "metadata": {},
   "outputs": [],
   "source": [
    "class MPGModel(nn.Module):\n",
    "    def __init__(self):\n",
    "        super(MPGModel, self).__init__()\n",
    "        self.l1=nn.Linear(9, 64)\n",
    "        self.l2=nn.Linear(64, 128)\n",
    "        self.l3=nn.Linear(128, 256)\n",
    "        self.l4=nn.Linear(256, 128)\n",
    "        self.l5=nn.Linear(128, 128)\n",
    "        self.l6=nn.Linear(128, 64)\n",
    "        self.l7=nn.Linear(64, 64)\n",
    "        self.l8=nn.Linear(64, 32)\n",
    "        self.l9=nn.Linear(32, 16)\n",
    "        self.l10=nn.Linear(16, 8)\n",
    "        self.l11=nn.Linear(8, 1)\n",
    "        self.relu=nn.ReLU()\n",
    "    def forward(self,x):\n",
    "        out1=self.l1(x)\n",
    "        out2=self.l2(out1)\n",
    "        out3=self.l3(out2)\n",
    "        out4=self.l4(out3)\n",
    "        out5=self.relu(self.l5(out4))\n",
    "        out6=self.l6(out5)\n",
    "        out7=self.l7(out6)\n",
    "        out8=self.l8(out7)\n",
    "        out9=self.relu(self.l9(out8))\n",
    "        out10=self.l10(out9)\n",
    "        out11=self.l11(out10)\n",
    "        y_pred=out11\n",
    "        return y_pred"
   ]
  },
  {
   "cell_type": "code",
   "execution_count": 13,
   "metadata": {},
   "outputs": [],
   "source": [
    "MPG=MPGModel()"
   ]
  },
  {
   "cell_type": "code",
   "execution_count": 14,
   "metadata": {},
   "outputs": [],
   "source": [
    "data_y = torch.tensor(data_y.values.astype(np.float32))\n",
    "data_x = torch.tensor(data_x.values.astype(np.float32)) "
   ]
  },
  {
   "cell_type": "code",
   "execution_count": 15,
   "metadata": {},
   "outputs": [
    {
     "name": "stdout",
     "output_type": "stream",
     "text": [
      "torch.Size([392]) torch.Size([392, 9])\n"
     ]
    }
   ],
   "source": [
    "print(data_y.size(), data_x.size())"
   ]
  },
  {
   "cell_type": "code",
   "execution_count": 16,
   "metadata": {},
   "outputs": [],
   "source": [
    "MPGcriterion=nn.MSELoss(reduction='mean')\n",
    "MPGoptimizer=torch.optim.Adam(MPG.parameters(), lr=0.01)"
   ]
  },
  {
   "cell_type": "code",
   "execution_count": 17,
   "metadata": {},
   "outputs": [
    {
     "name": "stderr",
     "output_type": "stream",
     "text": [
      "C:\\Users\\dhk13\\Anaconda3\\lib\\site-packages\\torch\\nn\\modules\\loss.py:431: UserWarning: Using a target size (torch.Size([392])) that is different to the input size (torch.Size([392, 1])). This will likely lead to incorrect results due to broadcasting. Please ensure they have the same size.\n",
      "  return F.mse_loss(input, target, reduction=self.reduction)\n"
     ]
    },
    {
     "name": "stdout",
     "output_type": "stream",
     "text": [
      "EPOCH: 100/1000 | LOSS: 584.9051\n",
      "EPOCH: 200/1000 | LOSS: 538.7008\n",
      "EPOCH: 300/1000 | LOSS: 486.8878\n",
      "EPOCH: 400/1000 | LOSS: 433.6938\n",
      "EPOCH: 500/1000 | LOSS: 381.1313\n",
      "EPOCH: 600/1000 | LOSS: 330.3315\n",
      "EPOCH: 700/1000 | LOSS: 282.1094\n",
      "EPOCH: 800/1000 | LOSS: 237.2440\n",
      "EPOCH: 900/1000 | LOSS: 196.5762\n",
      "EPOCH: 1000/1000 | LOSS: 160.9671\n"
     ]
    }
   ],
   "source": [
    "#training loop\n",
    "for epoch in range(1000):\n",
    "    y_pred=MPG(data_x)\n",
    "    loss=MPGcriterion(y_pred, data_y)\n",
    "    \n",
    "    MPGoptimizer.zero_grad()\n",
    "    loss.backward()\n",
    "    MPGoptimizer.step()\n",
    "    if (epoch+1)%100==0:\n",
    "        print(f'EPOCH: {epoch+1}/1000 | LOSS: {loss.item():.4f}')"
   ]
  },
  {
   "cell_type": "markdown",
   "metadata": {},
   "source": [
    "<h2>●Try different activation functions:Sigmoid to something else</h2>"
   ]
  },
  {
   "cell_type": "code",
   "execution_count": 18,
   "metadata": {},
   "outputs": [],
   "source": [
    "class ModelwithRelu(nn.Module):\n",
    "    def __init__(self):\n",
    "        super(ModelwithRelu, self).__init__()\n",
    "        self.l1=nn.Linear(8, 64)\n",
    "        self.l2=nn.Linear(64, 128)\n",
    "        self.l3=nn.Linear(128, 256)\n",
    "        self.l4=nn.Linear(256, 128)\n",
    "        self.l5=nn.Linear(128, 128)\n",
    "        self.l6=nn.Linear(128, 64)\n",
    "        self.l7=nn.Linear(64, 64)\n",
    "        self.l8=nn.Linear(64, 32)\n",
    "        self.l9=nn.Linear(32, 16)\n",
    "        self.l10=nn.Linear(16, 8)\n",
    "        self.l11=nn.Linear(8, 1)\n",
    "        self.relu=nn.ReLU()\n",
    "    def forward(self,x):\n",
    "        out1=self.l1(x)\n",
    "        out2=self.l2(out1)\n",
    "        out3=self.l3(out2)\n",
    "        out4=self.l4(out3)\n",
    "        out5=self.l5(out4)\n",
    "        out6=self.l6(out5)\n",
    "        out7=self.l7(out6)\n",
    "        out8=self.l8(out7)\n",
    "        out9=self.l9(out8)\n",
    "        out10=self.l10(out9)\n",
    "        out11=self.l11(out10)\n",
    "        y_pred=self.relu(out11)\n",
    "        return y_pred"
   ]
  },
  {
   "cell_type": "code",
   "execution_count": 19,
   "metadata": {},
   "outputs": [],
   "source": [
    "relumodel=ModelwithRelu()"
   ]
  },
  {
   "cell_type": "code",
   "execution_count": 20,
   "metadata": {},
   "outputs": [],
   "source": [
    "criterion=nn.BCELoss(reduction='mean')\n",
    "optimizer=torch.optim.SGD(relumodel.parameters(), lr=0.01)"
   ]
  },
  {
   "cell_type": "code",
   "execution_count": 21,
   "metadata": {},
   "outputs": [],
   "source": [
    "#training loop\n",
    "for epoch in range(1000):\n",
    "    y_pred=relumodel(x_data)\n",
    "    loss=criterion(y_pred, y_data)\n",
    "    \n",
    "    optimizer.zero_grad()\n",
    "    loss.backward()\n",
    "    optimizer.step()\n",
    "    if epoch+1%100==0:\n",
    "        print(f'EPOCH: {epoch+1}/1000 | LOSS: {loss.item():.4f}')"
   ]
  },
  {
   "cell_type": "code",
   "execution_count": 22,
   "metadata": {},
   "outputs": [
    {
     "name": "stdout",
     "output_type": "stream",
     "text": [
      "Accuracy: 263/759 | 34.65085638998682%\n"
     ]
    }
   ],
   "source": [
    "correct = 0\n",
    "total = 0\n",
    "with torch.no_grad():\n",
    "    for idx, sample in enumerate(x_data):\n",
    "        if np.round(relumodel(sample)).item()== y_data[idx].item():\n",
    "            correct+=1\n",
    "\n",
    "print(f'Accuracy: {correct}/{len(x_data)} | {correct/len(x_data)*100}%')"
   ]
  },
  {
   "cell_type": "markdown",
   "metadata": {},
   "source": [
    "<h2>●Find out a better model with respect to minimizing the loss</h2>\n",
    "<h3>각 Linearlayer 뒤에 relu를 activation으로 사용</h3>\n",
    "<h3>Adam optimizer를 사용하여 lr를 adapative하게 적용</h3>\n",
    "<h3>epoch를 1000번 했을 때, overfitting이 일어나는 듯하지만 일반화를 하면 개선 될 것이다.</h3>"
   ]
  },
  {
   "cell_type": "code",
   "execution_count": 28,
   "metadata": {},
   "outputs": [],
   "source": [
    "class Model2(nn.Module):\n",
    "    def __init__(self):\n",
    "        super(Model2, self).__init__()\n",
    "        self.l1=nn.Linear(8, 64)\n",
    "        self.l2=nn.Linear(64, 128)\n",
    "        self.l3=nn.Linear(128, 256)\n",
    "        self.l4=nn.Linear(256, 128)\n",
    "        self.l5=nn.Linear(128, 128)\n",
    "        self.l6=nn.Linear(128, 64)\n",
    "        self.l7=nn.Linear(64, 64)\n",
    "        self.l8=nn.Linear(64, 32)\n",
    "        self.l9=nn.Linear(32, 16)\n",
    "        self.l10=nn.Linear(16, 8)\n",
    "        self.l11=nn.Linear(8, 1)\n",
    "        self.sigmoid=nn.Sigmoid()\n",
    "    def forward(self,x):\n",
    "        out1=F.relu(self.l1(x))\n",
    "        out2=F.relu(self.l2(out1))\n",
    "        out3=F.relu(self.l3(out2))\n",
    "        out4=F.relu(self.l4(out3))\n",
    "        out5=F.relu(self.l5(out4))\n",
    "        out6=F.relu(self.l6(out5))\n",
    "        out7=F.relu(self.l7(out6))\n",
    "        out8=F.relu(self.l8(out7))\n",
    "        out9=F.relu(self.l9(out8))\n",
    "        out10=F.relu(self.l10(out9))\n",
    "        out11=self.l11(out10)\n",
    "        y_pred=self.sigmoid(out11)\n",
    "        return y_pred"
   ]
  },
  {
   "cell_type": "code",
   "execution_count": 29,
   "metadata": {},
   "outputs": [],
   "source": [
    "model2=Model2()"
   ]
  },
  {
   "cell_type": "code",
   "execution_count": 30,
   "metadata": {},
   "outputs": [],
   "source": [
    "criterion2=nn.BCELoss(reduction='mean')\n",
    "#optimizer2=torch.optim.SGD(model2.parameters(), lr=0.01)\n",
    "optimizer2=torch.optim.Adam(model2.parameters(), lr=0.01)"
   ]
  },
  {
   "cell_type": "code",
   "execution_count": 31,
   "metadata": {},
   "outputs": [
    {
     "name": "stdout",
     "output_type": "stream",
     "text": [
      "EPOCH: 100/1000 | LOSS: 0.3774\n",
      "EPOCH: 200/1000 | LOSS: 0.2697\n",
      "EPOCH: 300/1000 | LOSS: 0.2343\n",
      "EPOCH: 400/1000 | LOSS: 0.0994\n",
      "EPOCH: 500/1000 | LOSS: 0.0175\n",
      "EPOCH: 600/1000 | LOSS: 0.0896\n",
      "EPOCH: 700/1000 | LOSS: 0.0491\n",
      "EPOCH: 800/1000 | LOSS: 0.0000\n",
      "EPOCH: 900/1000 | LOSS: 0.0000\n",
      "EPOCH: 1000/1000 | LOSS: 0.0000\n"
     ]
    }
   ],
   "source": [
    "#training loop\n",
    "for epoch in range(1000):\n",
    "    y_pred=model2(x_data)\n",
    "    loss=criterion2(y_pred, y_data)\n",
    "    \n",
    "    optimizer2.zero_grad()\n",
    "    loss.backward()\n",
    "    optimizer2.step()\n",
    "    if (epoch+1)%100==0:\n",
    "        print(f'EPOCH: {epoch+1}/1000 | LOSS: {loss.item():.4f}')"
   ]
  },
  {
   "cell_type": "code",
   "execution_count": 32,
   "metadata": {},
   "outputs": [
    {
     "name": "stdout",
     "output_type": "stream",
     "text": [
      "Accuracy: 759/759 | 100.0%\n"
     ]
    }
   ],
   "source": [
    "correct = 0\n",
    "total = 0\n",
    "with torch.no_grad():\n",
    "    for idx, sample in enumerate(x_data):\n",
    "        if np.round(model2(sample)).item()== y_data[idx].item():\n",
    "            correct+=1\n",
    "\n",
    "print(f'Accuracy: {correct}/{len(x_data)} | {correct/len(x_data)*100}%')"
   ]
  },
  {
   "cell_type": "code",
   "execution_count": null,
   "metadata": {},
   "outputs": [],
   "source": []
  }
 ],
 "metadata": {
  "kernelspec": {
   "display_name": "Python 3",
   "language": "python",
   "name": "python3"
  },
  "language_info": {
   "codemirror_mode": {
    "name": "ipython",
    "version": 3
   },
   "file_extension": ".py",
   "mimetype": "text/x-python",
   "name": "python",
   "nbconvert_exporter": "python",
   "pygments_lexer": "ipython3",
   "version": "3.7.3"
  }
 },
 "nbformat": 4,
 "nbformat_minor": 2
}
