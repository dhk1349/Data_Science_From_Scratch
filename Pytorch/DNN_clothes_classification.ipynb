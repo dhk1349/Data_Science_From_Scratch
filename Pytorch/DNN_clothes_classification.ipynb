{
 "cells": [
  {
   "cell_type": "code",
   "execution_count": 3,
   "metadata": {},
   "outputs": [],
   "source": [
    "import torch\n",
    "import torch.nn as nn\n",
    "import torch.optim as optim\n",
    "import torch.nn.functional as F\n",
    "from torchvision import transforms, datasets"
   ]
  },
  {
   "cell_type": "code",
   "execution_count": 4,
   "metadata": {},
   "outputs": [],
   "source": [
    "USE_CUDA=torch.cuda.is_available()\n",
    "DEVICE=torch.device(\"cuda\" if USE_CUDA else 'cpu')"
   ]
  },
  {
   "cell_type": "markdown",
   "metadata": {},
   "source": [
    "<p>This code is written just in case other peaple run this code.</p>"
   ]
  },
  {
   "cell_type": "code",
   "execution_count": 5,
   "metadata": {},
   "outputs": [],
   "source": [
    "epochs=30\n",
    "batch_size=64"
   ]
  },
  {
   "cell_type": "code",
   "execution_count": 7,
   "metadata": {},
   "outputs": [],
   "source": [
    "transform=transforms.Compose([transforms.ToTensor()])"
   ]
  },
  {
   "cell_type": "code",
   "execution_count": 13,
   "metadata": {},
   "outputs": [
    {
     "name": "stdout",
     "output_type": "stream",
     "text": [
      "Downloading http://fashion-mnist.s3-website.eu-central-1.amazonaws.com/train-images-idx3-ubyte.gz to D:\\Datasets\\FasionMNIST\\FashionMNIST\\raw\\train-images-idx3-ubyte.gz\n"
     ]
    },
    {
     "data": {
      "application/vnd.jupyter.widget-view+json": {
       "model_id": "73733e07bf2b4772b1210a70ceef3466",
       "version_major": 2,
       "version_minor": 0
      },
      "text/plain": [
       "HBox(children=(FloatProgress(value=1.0, bar_style='info', max=1.0), HTML(value='')))"
      ]
     },
     "metadata": {},
     "output_type": "display_data"
    },
    {
     "name": "stdout",
     "output_type": "stream",
     "text": [
      "Extracting D:\\Datasets\\FasionMNIST\\FashionMNIST\\raw\\train-images-idx3-ubyte.gz to D:\\Datasets\\FasionMNIST\\FashionMNIST\\raw\n",
      "Downloading http://fashion-mnist.s3-website.eu-central-1.amazonaws.com/train-labels-idx1-ubyte.gz to D:\\Datasets\\FasionMNIST\\FashionMNIST\\raw\\train-labels-idx1-ubyte.gz\n"
     ]
    },
    {
     "data": {
      "application/vnd.jupyter.widget-view+json": {
       "model_id": "f77818d2b09445f386a4da1bd4402bad",
       "version_major": 2,
       "version_minor": 0
      },
      "text/plain": [
       "HBox(children=(FloatProgress(value=1.0, bar_style='info', max=1.0), HTML(value='')))"
      ]
     },
     "metadata": {},
     "output_type": "display_data"
    },
    {
     "name": "stdout",
     "output_type": "stream",
     "text": [
      "Extracting D:\\Datasets\\FasionMNIST\\FashionMNIST\\raw\\train-labels-idx1-ubyte.gz to D:\\Datasets\\FasionMNIST\\FashionMNIST\\raw\n",
      "Downloading http://fashion-mnist.s3-website.eu-central-1.amazonaws.com/t10k-images-idx3-ubyte.gz to D:\\Datasets\\FasionMNIST\\FashionMNIST\\raw\\t10k-images-idx3-ubyte.gz\n"
     ]
    },
    {
     "data": {
      "application/vnd.jupyter.widget-view+json": {
       "model_id": "cb1bc15b5c2e4c8e962a914e9cc63e5c",
       "version_major": 2,
       "version_minor": 0
      },
      "text/plain": [
       "HBox(children=(FloatProgress(value=1.0, bar_style='info', max=1.0), HTML(value='')))"
      ]
     },
     "metadata": {},
     "output_type": "display_data"
    },
    {
     "name": "stdout",
     "output_type": "stream",
     "text": [
      "Extracting D:\\Datasets\\FasionMNIST\\FashionMNIST\\raw\\t10k-images-idx3-ubyte.gz to D:\\Datasets\\FasionMNIST\\FashionMNIST\\raw\n",
      "Downloading http://fashion-mnist.s3-website.eu-central-1.amazonaws.com/t10k-labels-idx1-ubyte.gz to D:\\Datasets\\FasionMNIST\\FashionMNIST\\raw\\t10k-labels-idx1-ubyte.gz\n"
     ]
    },
    {
     "data": {
      "application/vnd.jupyter.widget-view+json": {
       "model_id": "d85a1053e83f49e5bcf17e76b97ad2b6",
       "version_major": 2,
       "version_minor": 0
      },
      "text/plain": [
       "HBox(children=(FloatProgress(value=1.0, bar_style='info', max=1.0), HTML(value='')))"
      ]
     },
     "metadata": {},
     "output_type": "display_data"
    },
    {
     "name": "stdout",
     "output_type": "stream",
     "text": [
      "Extracting D:\\Datasets\\FasionMNIST\\FashionMNIST\\raw\\t10k-labels-idx1-ubyte.gz to D:\\Datasets\\FasionMNIST\\FashionMNIST\\raw\n",
      "Processing...\n",
      "Done!\n"
     ]
    }
   ],
   "source": [
    "trainset=datasets.FashionMNIST(\n",
    "    root='D:\\\\Datasets\\\\FasionMNIST',\n",
    "    train=True,\n",
    "    download=True,\n",
    "    transform=transform,\n",
    ")\n",
    "testset=datasets.FashionMNIST(\n",
    "    root=\"D:\\\\Datasets\\\\FasionMNIST\",\n",
    "    train=False,\n",
    "    download=True,\n",
    "    transform=transform,\n",
    ")"
   ]
  },
  {
   "cell_type": "code",
   "execution_count": 14,
   "metadata": {},
   "outputs": [],
   "source": [
    "train_loader=torch.utils.data.DataLoader(\n",
    "    dataset=trainset, \n",
    "    batch_size=batch_size,\n",
    "    shuffle=True,\n",
    ")\n",
    "test_loader=torch.utils.data.DataLoader(\n",
    "    dataset=testset,\n",
    "    batch_size=batch_size,\n",
    "    shuffle=True,\n",
    ")"
   ]
  },
  {
   "cell_type": "code",
   "execution_count": 15,
   "metadata": {},
   "outputs": [],
   "source": [
    "class Net(nn.Module):\n",
    "    def __init__(self):\n",
    "        super(Net, self).__init__()\n",
    "        self.fc1=nn.Linear(784, 256)\n",
    "        self.fc2=nn.Linear(256, 128)\n",
    "        self.fc3=nn.Linear(128,10)\n",
    "    \n",
    "    def forward(self, x):\n",
    "        x=x.view(-1,784) #unwrap \n",
    "        x=self.fc1(x)\n",
    "        x=F.relu(x)\n",
    "        x=self.fc2(x)\n",
    "        x=F.relu(x)\n",
    "        x=self.fc3(x)\n",
    "        return x"
   ]
  },
  {
   "cell_type": "code",
   "execution_count": 28,
   "metadata": {},
   "outputs": [],
   "source": [
    "model=Net().to(DEVICE)\n",
    "optimizer=optim.SGD(model.parameters(), lr=0.01)"
   ]
  },
  {
   "cell_type": "code",
   "execution_count": 35,
   "metadata": {},
   "outputs": [],
   "source": [
    "def train(model, train_loader, test_loader):\n",
    "    model.train()\n",
    "    for batch_idx, (data, target) in enumerate(train_loader):\n",
    "        data, target=data.to(DEVICE), target.to(DEVICE)\n",
    "        optimizer.zero_grad()\n",
    "        output=model(data)\n",
    "        loss=F.cross_entropy(output, target)\n",
    "        loss.backward()\n",
    "        optimizer.step()"
   ]
  },
  {
   "cell_type": "code",
   "execution_count": 30,
   "metadata": {},
   "outputs": [],
   "source": [
    "def evaluate(model, test_loader):\n",
    "    model.eval()\n",
    "    test_loss=0\n",
    "    correct=0\n",
    "    with torch.no_grad():\n",
    "        for data, target in test_loader:\n",
    "            data, target=data.to(DEVICE), target.to(DEVICE)\n",
    "            output=model(data)\n",
    "           \n",
    "            test_loss+=F.cross_entropy(output, target, reduction='sum').item()\n",
    "            pred=output.max(1,keepdim=True)[1]\n",
    "            correct+=pred.eq(target.view_as(pred)).sum().item()\n",
    "    test_loss/=len(test_loader.dataset)\n",
    "    test_acc=100*correct/len(test_loader.dataset)\n",
    "    return test_loss, test_acc"
   ]
  },
  {
   "cell_type": "code",
   "execution_count": 36,
   "metadata": {},
   "outputs": [
    {
     "name": "stdout",
     "output_type": "stream",
     "text": [
      "1 TEST LOSS: 0.8411, ACCURACY: 69.03%\n",
      "2 TEST LOSS: 0.6692, ACCURACY: 76.26%\n",
      "3 TEST LOSS: 0.5922, ACCURACY: 79.71%\n",
      "4 TEST LOSS: 0.5362, ACCURACY: 81.43%\n",
      "5 TEST LOSS: 0.5177, ACCURACY: 81.95%\n",
      "6 TEST LOSS: 0.5107, ACCURACY: 81.85%\n",
      "7 TEST LOSS: 0.4807, ACCURACY: 83.07%\n",
      "8 TEST LOSS: 0.4708, ACCURACY: 83.54%\n",
      "9 TEST LOSS: 0.4601, ACCURACY: 83.72%\n",
      "10 TEST LOSS: 0.4576, ACCURACY: 83.82%\n",
      "11 TEST LOSS: 0.4970, ACCURACY: 81.82%\n",
      "12 TEST LOSS: 0.4636, ACCURACY: 83.87%\n",
      "13 TEST LOSS: 0.4387, ACCURACY: 84.54%\n",
      "14 TEST LOSS: 0.4233, ACCURACY: 85.08%\n",
      "15 TEST LOSS: 0.4244, ACCURACY: 85.13%\n",
      "16 TEST LOSS: 0.4128, ACCURACY: 85.45%\n",
      "17 TEST LOSS: 0.4105, ACCURACY: 85.51%\n",
      "18 TEST LOSS: 0.4089, ACCURACY: 85.55%\n",
      "19 TEST LOSS: 0.4136, ACCURACY: 85.35%\n",
      "20 TEST LOSS: 0.3981, ACCURACY: 85.84%\n",
      "21 TEST LOSS: 0.3977, ACCURACY: 85.72%\n",
      "22 TEST LOSS: 0.3952, ACCURACY: 86.10%\n",
      "23 TEST LOSS: 0.3904, ACCURACY: 86.21%\n",
      "24 TEST LOSS: 0.4117, ACCURACY: 85.64%\n",
      "25 TEST LOSS: 0.3786, ACCURACY: 86.73%\n",
      "26 TEST LOSS: 0.4089, ACCURACY: 85.25%\n",
      "27 TEST LOSS: 0.3881, ACCURACY: 85.92%\n",
      "28 TEST LOSS: 0.3744, ACCURACY: 86.79%\n",
      "29 TEST LOSS: 0.3725, ACCURACY: 86.79%\n",
      "30 TEST LOSS: 0.3901, ACCURACY: 86.11%\n"
     ]
    }
   ],
   "source": [
    "for epoch in range(1, epochs+1):\n",
    "    train(model, train_loader, optimizer)\n",
    "    test_loss, test_acc=evaluate(model, test_loader)\n",
    "    print(\"{} TEST LOSS: {:.4f}, ACCURACY: {:.2f}%\".format(epoch, test_loss, test_acc))"
   ]
  },
  {
   "cell_type": "code",
   "execution_count": null,
   "metadata": {},
   "outputs": [],
   "source": []
  }
 ],
 "metadata": {
  "kernelspec": {
   "display_name": "Python 3",
   "language": "python",
   "name": "python3"
  },
  "language_info": {
   "codemirror_mode": {
    "name": "ipython",
    "version": 3
   },
   "file_extension": ".py",
   "mimetype": "text/x-python",
   "name": "python",
   "nbconvert_exporter": "python",
   "pygments_lexer": "ipython3",
   "version": "3.7.3"
  }
 },
 "nbformat": 4,
 "nbformat_minor": 2
}
