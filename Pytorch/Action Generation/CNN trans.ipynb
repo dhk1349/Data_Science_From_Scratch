{
 "cells": [
  {
   "cell_type": "code",
   "execution_count": 5,
   "metadata": {},
   "outputs": [],
   "source": [
    "import os\n",
    "import numpy as np\n",
    "import torch\n",
    "import torch.nn as nn\n",
    "import torch.nn.functional as F\n",
    "from torchtext import data, datasets"
   ]
  },
  {
   "cell_type": "code",
   "execution_count": 5,
   "metadata": {},
   "outputs": [],
   "source": [
    "# Root directory for dataset\n",
    "dataroot = \"data/celeba\"\n",
    "\n",
    "# Number of workers for dataloader\n",
    "workers = 2\n",
    "\n",
    "# Batch size during training\n",
    "batch_size = 128\n",
    "\n",
    "# Spatial size of training images. All images will be resized to this\n",
    "#   size using a transformer.\n",
    "image_size = 64\n",
    "\n",
    "# Number of channels in the training images. For color images this is 3\n",
    "nc = 3\n",
    "\n",
    "# Size of z latent vector (i.e. size of generator input)\n",
    "nz = 100\n",
    "\n",
    "# Size of feature maps in generator\n",
    "ngf = 64\n",
    "\n",
    "# Size of feature maps in discriminator\n",
    "ndf = 64\n",
    "\n",
    "# Number of training epochs\n",
    "num_epochs = 5\n",
    "\n",
    "# Learning rate for optimizers\n",
    "lr = 0.0002\n",
    "\n",
    "# Beta1 hyperparam for Adam optimizers\n",
    "beta1 = 0.5\n",
    "\n",
    "# Number of GPUs available. Use 0 for CPU mode.\n",
    "ngpu = 1"
   ]
  },
  {
   "cell_type": "code",
   "execution_count": 59,
   "metadata": {},
   "outputs": [],
   "source": [
    "# Generator Code\n",
    "#nc - number of color channels in the input images. For color images this is 3\n",
    "#nz - length of latent vector (i.e. size of generator input)\n",
    "#ngf - relates to the depth of feature maps carried through the generator (Size of feature maps in generator)\n",
    "#ndf - sets the depth of feature maps propagated through the discriminator (Size of feature maps in discriminator)\n",
    "\n",
    "def weights_init(m):\n",
    "    classname = m.__class__.__name__\n",
    "    if classname.find('Conv') != -1:\n",
    "        nn.init.normal_(m.weight.data, 0.0, 0.02)\n",
    "    elif classname.find('BatchNorm') != -1:\n",
    "        nn.init.normal_(m.weight.data, 1.0, 0.02)\n",
    "        nn.init.constant_(m.bias.data, 0)\n",
    "\n",
    "nc=1 #channel이랄 것이 딱히 없음\n",
    "\n",
    "\n",
    "class DCGANGenerator(nn.Module):\n",
    "    def __init__(self):\n",
    "        super(DCGANGenerator, self).__init__()\n",
    "        self.main = nn.Sequential(\n",
    "            # input is Z, going into a convolution\n",
    "            nn.ConvTranspose2d( nz, ngf * 4, 4, 1, 0, bias=False),\n",
    "            nn.BatchNorm2d(ngf * 8),\n",
    "            nn.ReLU(True),\n",
    "            # state size. (ngf*8) x 4 x 4\n",
    "            nn.ConvTranspose2d(ngf * 4, ngf * 2, 4, (2,4), (1,0), bias=False),\n",
    "            nn.BatchNorm2d(ngf * 4),\n",
    "            nn.ReLU(True),\n",
    "            # state size. (ngf*4) x 8 x 16\n",
    "            \n",
    "            nn.ConvTranspose2d( ngf * 2, ngf , 4, 2, 1, bias=False, dilation =(1,2)),\n",
    "            nn.BatchNorm2d(ngf * 2),\n",
    "            nn.ReLU(True),\n",
    "            # state size. (ngf*2) x 16 x 35\n",
    "            nn.ConvTranspose2d( ngf , 1, 4, 2, (2,0), bias=False, dilation=(1,2)),\n",
    "            nn.Tanh()\n",
    "            # state size. (ngf) x 32 x 75\n",
    "            \n",
    "        )\n",
    "    \n",
    "    \n",
    "    def forward(self, input):\n",
    "        return self.main(input)"
   ]
  },
  {
   "cell_type": "code",
   "execution_count": 49,
   "metadata": {},
   "outputs": [],
   "source": [
    "model=DCGANGenerator()"
   ]
  },
  {
   "cell_type": "code",
   "execution_count": 54,
   "metadata": {},
   "outputs": [],
   "source": [
    "#real_cpu = data[0].to(device)\n",
    "#b_size = real_cpu.size(0)\"\"\n",
    "b_size=3  #batch size\n",
    "noise=torch.randn(1, nz, 1, 1)"
   ]
  },
  {
   "cell_type": "code",
   "execution_count": 60,
   "metadata": {},
   "outputs": [
    {
     "data": {
      "text/plain": [
       "torch.Size([1, 100, 1, 1])"
      ]
     },
     "execution_count": 60,
     "metadata": {},
     "output_type": "execute_result"
    }
   ],
   "source": [
    "noise.size()"
   ]
  },
  {
   "cell_type": "markdown",
   "metadata": {},
   "source": [
    "input tensor를 forward()함수에 넣을 때 여러 개의 input이 batch로 들어갈 수 있다. "
   ]
  },
  {
   "cell_type": "code",
   "execution_count": 61,
   "metadata": {},
   "outputs": [
    {
     "name": "stderr",
     "output_type": "stream",
     "text": [
      "C:\\Users\\dhk13\\Anaconda3\\lib\\site-packages\\ipykernel_launcher.py:1: UserWarning: To copy construct from a tensor, it is recommended to use sourceTensor.clone().detach() or sourceTensor.clone().detach().requires_grad_(True), rather than torch.tensor(sourceTensor).\n",
      "  \"\"\"Entry point for launching an IPython kernel.\n"
     ]
    }
   ],
   "source": [
    "output=model(torch.tensor(noise))"
   ]
  },
  {
   "cell_type": "code",
   "execution_count": 62,
   "metadata": {},
   "outputs": [
    {
     "data": {
      "text/plain": [
       "torch.Size([1, 64, 30, 75])"
      ]
     },
     "execution_count": 62,
     "metadata": {},
     "output_type": "execute_result"
    }
   ],
   "source": [
    "output.size()"
   ]
  },
  {
   "cell_type": "code",
   "execution_count": 63,
   "metadata": {},
   "outputs": [
    {
     "data": {
      "text/plain": [
       "tensor([[[[ 0.0456,  0.0000,  0.0324,  ...,  0.4372,  0.0000,  0.0639],\n",
       "          [-0.0099,  0.0000, -0.0803,  ...,  0.2237,  0.0000,  0.0123],\n",
       "          [ 0.0456,  0.0000, -0.2163,  ...,  0.3680,  0.0000,  0.0639],\n",
       "          ...,\n",
       "          [-0.0099,  0.0000,  0.2438,  ...,  0.2713,  0.0000,  0.0123],\n",
       "          [ 0.0456,  0.0000,  0.2828,  ...,  0.3887,  0.0000,  0.0639],\n",
       "          [-0.0099,  0.0000, -0.0299,  ..., -0.1912,  0.0000,  0.0123]],\n",
       "\n",
       "         [[-0.0668,  0.0000, -0.1088,  ..., -0.1823,  0.0000, -0.0984],\n",
       "          [-0.0100,  0.0000, -0.1803,  ...,  0.0246,  0.0000,  0.0805],\n",
       "          [-0.0668,  0.0000, -0.1820,  ..., -0.0057,  0.0000, -0.0984],\n",
       "          ...,\n",
       "          [-0.0100,  0.0000, -0.1750,  ...,  0.1109,  0.0000,  0.0805],\n",
       "          [-0.0668,  0.0000, -0.0957,  ..., -0.0062,  0.0000, -0.0984],\n",
       "          [-0.0100,  0.0000, -0.2264,  ...,  0.2025,  0.0000,  0.0805]],\n",
       "\n",
       "         [[ 0.0445,  0.0000, -0.3060,  ..., -0.1446,  0.0000, -0.0914],\n",
       "          [-0.0485,  0.0000, -0.0284,  ..., -0.0431,  0.0000,  0.0024],\n",
       "          [ 0.0445,  0.0000, -0.2941,  ..., -0.0990,  0.0000, -0.0914],\n",
       "          ...,\n",
       "          [-0.0485,  0.0000, -0.0142,  ..., -0.1822,  0.0000,  0.0024],\n",
       "          [ 0.0445,  0.0000,  0.1173,  ..., -0.1519,  0.0000, -0.0914],\n",
       "          [-0.0485,  0.0000,  0.0340,  ...,  0.0129,  0.0000,  0.0024]],\n",
       "\n",
       "         ...,\n",
       "\n",
       "         [[-0.0102,  0.0000, -0.1118,  ..., -0.1900,  0.0000,  0.0437],\n",
       "          [ 0.0337,  0.0000,  0.0929,  ...,  0.2541,  0.0000,  0.0434],\n",
       "          [-0.0102,  0.0000,  0.2137,  ..., -0.0920,  0.0000,  0.0437],\n",
       "          ...,\n",
       "          [ 0.0337,  0.0000, -0.0266,  ..., -0.0963,  0.0000,  0.0434],\n",
       "          [-0.0102,  0.0000, -0.0088,  ..., -0.2609,  0.0000,  0.0437],\n",
       "          [ 0.0337,  0.0000, -0.1218,  ...,  0.0127,  0.0000,  0.0434]],\n",
       "\n",
       "         [[ 0.0176,  0.0000,  0.2951,  ...,  0.4040,  0.0000,  0.0840],\n",
       "          [ 0.0049,  0.0000, -0.1089,  ...,  0.2970,  0.0000,  0.0188],\n",
       "          [ 0.0176,  0.0000, -0.1742,  ..., -0.1540,  0.0000,  0.0840],\n",
       "          ...,\n",
       "          [ 0.0049,  0.0000, -0.0943,  ...,  0.2661,  0.0000,  0.0188],\n",
       "          [ 0.0176,  0.0000,  0.0700,  ...,  0.0916,  0.0000,  0.0840],\n",
       "          [ 0.0049,  0.0000, -0.2939,  ..., -0.0796,  0.0000,  0.0188]],\n",
       "\n",
       "         [[ 0.0157,  0.0000, -0.1238,  ...,  0.0357,  0.0000, -0.1232],\n",
       "          [-0.0010,  0.0000, -0.1815,  ..., -0.0885,  0.0000, -0.0049],\n",
       "          [ 0.0157,  0.0000,  0.0457,  ...,  0.0217,  0.0000, -0.1232],\n",
       "          ...,\n",
       "          [-0.0010,  0.0000, -0.2204,  ...,  0.0906,  0.0000, -0.0049],\n",
       "          [ 0.0157,  0.0000, -0.0866,  ...,  0.0464,  0.0000, -0.1232],\n",
       "          [-0.0010,  0.0000,  0.0348,  ...,  0.0170,  0.0000, -0.0049]]]],\n",
       "       grad_fn=<TanhBackward>)"
      ]
     },
     "execution_count": 63,
     "metadata": {},
     "output_type": "execute_result"
    }
   ],
   "source": [
    "output"
   ]
  },
  {
   "cell_type": "code",
   "execution_count": 6,
   "metadata": {},
   "outputs": [],
   "source": [
    "arr=np.load('./snapshot/gan_cnn_generated_action01.npy')"
   ]
  },
  {
   "cell_type": "code",
   "execution_count": 7,
   "metadata": {},
   "outputs": [
    {
     "data": {
      "text/plain": [
       "(1, 30, 75)"
      ]
     },
     "execution_count": 7,
     "metadata": {},
     "output_type": "execute_result"
    }
   ],
   "source": [
    "arr.shape"
   ]
  },
  {
   "cell_type": "code",
   "execution_count": null,
   "metadata": {},
   "outputs": [],
   "source": []
  }
 ],
 "metadata": {
  "kernelspec": {
   "display_name": "Python 3",
   "language": "python",
   "name": "python3"
  },
  "language_info": {
   "codemirror_mode": {
    "name": "ipython",
    "version": 3
   },
   "file_extension": ".py",
   "mimetype": "text/x-python",
   "name": "python",
   "nbconvert_exporter": "python",
   "pygments_lexer": "ipython3",
   "version": "3.7.3"
  }
 },
 "nbformat": 4,
 "nbformat_minor": 2
}
