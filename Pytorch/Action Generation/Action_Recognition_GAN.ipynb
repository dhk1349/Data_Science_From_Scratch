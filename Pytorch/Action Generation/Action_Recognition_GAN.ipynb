{
 "cells": [
  {
   "cell_type": "code",
   "execution_count": 9,
   "metadata": {},
   "outputs": [],
   "source": [
    "import os\n",
    "import numpy as np\n",
    "import torch\n",
    "import torch.nn as nn\n",
    "import torch.nn.functional as F\n",
    "from torchtext import data, datasets\n",
    "import dataloader as dl"
   ]
  },
  {
   "cell_type": "code",
   "execution_count": 10,
   "metadata": {},
   "outputs": [
    {
     "name": "stdout",
     "output_type": "stream",
     "text": [
      "다음 기기로 학습합니다: cuda\n"
     ]
    }
   ],
   "source": [
    "# 하이퍼파라미터\n",
    "BATCH_SIZE = 64\n",
    "lr = 0.001\n",
    "EPOCHS = 10\n",
    "USE_CUDA = torch.cuda.is_available()\n",
    "#DEVICE = torch.device(\"cpu\")\n",
    "DEVICE = torch.device(\"cuda\" if USE_CUDA else \"cpu\")\n",
    "print(\"다음 기기로 학습합니다:\", DEVICE)"
   ]
  },
  {
   "cell_type": "code",
   "execution_count": 11,
   "metadata": {},
   "outputs": [],
   "source": [
    "train_loader=dl.load_trainset(\"/home/dhk1349/Desktop/Capstone Design2/ntu/xsub/\")\n",
    "test_loader=dl.load_testset(\"/home/dhk1349/Desktop/Capstone Design2/ntu/xsub/\")"
   ]
  },
  {
   "cell_type": "code",
   "execution_count": null,
   "metadata": {},
   "outputs": [],
   "source": [
    "class LSTM(nn.Module):\n",
    "    #def __init__(self, n_layers, hidden_dim, n_vocab, embed_dim, n_classes, dropout_p=0.2):\n",
    "    def __init__(self, n_layers, hidden_dim, input_shape, n_classes, dropout_p=0.2):\n",
    "        super(LSTM, self).__init__()\n",
    "        print(\"Building Basic LSTM model...\")\n",
    "        self.n_layers = n_layers \n",
    "        #self.embed = nn.Embedding(n_vocab, embed_dim)\n",
    "        self.hidden_dim = hidden_dim\n",
    "        self.dropout = nn.Dropout(dropout_p)\n",
    "        self.lstm = nn.LSTM(input_shape, self.hidden_dim,\n",
    "                          num_layers=self.n_layers,\n",
    "                          batch_first=True)\n",
    "        self.out = nn.Linear(self.hidden_dim, n_classes)\n",
    "\n",
    "    def forward(self, x):\n",
    "        #x = self.embed(x)\n",
    "        h_0 = self._init_state(batch_size=x.size(0))\n",
    "        c_0 = self._init_state(batch_size=x.size(0))\n",
    "        x, _ = self.lstm(x, (h_0, c_0))  # [i, b, h]\n",
    "        h_t = x[:,-1,:]\n",
    "        self.dropout(h_t)\n",
    "        logit = self.out(h_t)  # [b, h] -> [b, o]\n",
    "        return logit\n",
    "    \n",
    "    def _init_state(self, batch_size=1):\n",
    "        weight = next(self.parameters()).data\n",
    "        return weight.new(self.n_layers, batch_size, self.hidden_dim).zero_()"
   ]
  },
  {
   "cell_type": "code",
   "execution_count": null,
   "metadata": {},
   "outputs": [],
   "source": [
    "def train(model, optimizer, train_iter):\n",
    "    model.train()\n",
    "    for batch in train_iter:\n",
    "        x, y = np.array(batch[0][0]), batch[1]\n",
    "        \n",
    "        X=[]\n",
    "        for i in range(10):\n",
    "            X.append(x[np.random.randint(i*10,(1+i)*10)].reshape(-1))\n",
    "        \n",
    "        X=torch.tensor(np.array(X)).unsqueeze(0).to(DEVICE)\n",
    "        y=y.to(DEVICE)\n",
    "        \n",
    "        optimizer.zero_grad()\n",
    "\n",
    "        logit = model(X)\n",
    "        loss = F.cross_entropy(logit, y)\n",
    "        loss.backward()\n",
    "        optimizer.step()"
   ]
  },
  {
   "cell_type": "code",
   "execution_count": null,
   "metadata": {},
   "outputs": [],
   "source": [
    "    \"\"\"\n",
    "def train(model, optimizer, data_idx):\n",
    "    model.train()\n",
    "    for idx, i in enumerate(data_idx): #suppose no batch\n",
    "        sample=data[i][...,0].transpose(1,0,2) #shape 300,3,25\n",
    "        #print(sample.shape)\n",
    "        \n",
    "        x=[] #Devide 300frame into 10 sectors and choose 1 frame from each sector\n",
    "        \n",
    "        for i in range(10):\n",
    "            x.append(sample[np.random.randint(i*10,(1+i)*10)].reshape(-1))\n",
    "        \n",
    "        X=torch.tensor(np.array(x)).unsqueeze(0).to(DEVICE)\n",
    "        y=torch.tensor(y_label[idx]).to(DEVICE)\n",
    "        optimizer.zero_grad()\n",
    "        logit = model(X)\n",
    "        loss = F.cross_entropy(logit, y)\n",
    "        loss.backward()\n",
    "        optimizer.step()\n",
    "    \"\"\" \n",
    "    "
   ]
  },
  {
   "cell_type": "code",
   "execution_count": null,
   "metadata": {},
   "outputs": [],
   "source": [
    "def evaluate(model, val_iter):\n",
    "    #evaluate model\n",
    "    model.eval()\n",
    "    corrects, total_loss = 0, 0\n",
    "    for batch in val_iter:\n",
    "        x, y = np.array(batch[0][0]), batch[1]\n",
    "        \n",
    "        X=[]\n",
    "        for i in range(10):\n",
    "            X.append(x[np.random.randint(i*10,(1+i)*10)].reshape(-1))\n",
    "        \n",
    "        X=torch.tensor(np.array(X)).unsqueeze(0).to(DEVICE)\n",
    "        y=y.to(DEVICE)\n",
    "        \n",
    "        logit = model(X)\n",
    "        loss = F.cross_entropy(logit, y, reduction='sum')\n",
    "        total_loss += loss.item()\n",
    "        corrects += (logit.max(1)[1].view(y.size()).data == y.data).sum()\n",
    "    size = len(val_iter.dataset)\n",
    "    avg_loss = total_loss / size\n",
    "    avg_accuracy = 100.0 * corrects / size\n",
    "    return avg_loss, avg_accuracy"
   ]
  },
  {
   "cell_type": "code",
   "execution_count": null,
   "metadata": {},
   "outputs": [],
   "source": [
    "    \"\"\"\n",
    "def evaluate(model, val_iter):\n",
    "    #evaluate model\n",
    "    model.eval()\n",
    "    corrects, total_loss = 0, 0\n",
    "    for idx, i in enumerate(test_data_idx): #suppose no batch\n",
    "        sample=test_data[i][...,0].transpose(1,0,2) #shape 300,3,25\n",
    "        #print(sample.shape)\n",
    "        \n",
    "        x=[] #Devide 300frame into 10 sectors and choose 1 frame from each sector\n",
    "        \n",
    "        for i in range(10):\n",
    "            x.append(sample[np.random.randint(i*10,(1+i)*10)].reshape(-1))\n",
    "        \n",
    "        X=torch.tensor(np.array(x)).unsqueeze(0).to(DEVICE)\n",
    "        y=torch.tensor(test_y_label[idx]).to(DEVICE)\n",
    "    \n",
    "        logit = model(X)\n",
    "        loss = F.cross_entropy(logit, y, reduction='sum')\n",
    "        total_loss += loss.item()\n",
    "        corrects += (logit.max(1)[1].view(y.size()).data == y.data).sum()\n",
    "    size = len(val_iter.dataset)\n",
    "    avg_loss = total_loss / size\n",
    "    avg_accuracy = 100.0 * corrects / size\n",
    "    return avg_loss, avg_accuracy\n",
    "    \"\"\"\""
   ]
  },
  {
   "cell_type": "code",
   "execution_count": null,
   "metadata": {},
   "outputs": [],
   "source": [
    "model = LSTM(1, 256, 75, 2, 0.2).to(DEVICE)\n",
    "optimizer = torch.optim.Adam(model.parameters(), lr=lr)"
   ]
  },
  {
   "cell_type": "code",
   "execution_count": null,
   "metadata": {},
   "outputs": [],
   "source": [
    "best_val_loss = None\n",
    "for e in range(1, EPOCHS+1):\n",
    "    train(model, optimizer, train_loader)\n",
    "    val_loss, val_accuracy = evaluate(model, test_loader)\n",
    "\n",
    "    print(\"[이폭: %d] 검증 오차:%5.2f | 검증 정확도:%5.2f\" % (e, val_loss, val_accuracy))\n",
    "    \n",
    "    # 검증 오차가 가장 적은 최적의 모델을 저장\n",
    "    if not best_val_loss or val_loss < best_val_loss:\n",
    "        if not os.path.isdir(\"snapshot\"):\n",
    "            os.makedirs(\"snapshot\")\n",
    "        torch.save(model.state_dict(), './snapshot/actionrecognition.pt')\n",
    "        best_val_loss = val_loss"
   ]
  },
  {
   "cell_type": "code",
   "execution_count": null,
   "metadata": {},
   "outputs": [],
   "source": [
    "#model.load_state_dict(torch.load('./snapshot/txtclassification.pt'))\n",
    "test_loss, test_acc = evaluate(model, test_loader)\n",
    "print('테스트 오차: %5.2f | 테스트 정확도: %5.2f' % (test_loss, test_acc))"
   ]
  },
  {
   "cell_type": "markdown",
   "metadata": {},
   "source": [
    "## Generator\n",
    "\n",
    "1 * 30-> 1 * 30 * 75"
   ]
  },
  {
   "cell_type": "code",
   "execution_count": 12,
   "metadata": {},
   "outputs": [],
   "source": [
    "class Discriminator(nn.Module):\n",
    "    #def __init__(self, n_layers, hidden_dim, n_vocab, embed_dim, n_classes, dropout_p=0.2):\n",
    "    def __init__(self, n_layers, hidden_dim, input_shape, n_classes, dropout_p=0.2):\n",
    "        super(Discriminator, self).__init__()\n",
    "        print(\"Building Basic Discriminator model...\")\n",
    "        self.n_layers = n_layers \n",
    "        #self.embed = nn.Embedding(n_vocab, embed_dim)\n",
    "        self.hidden_dim = hidden_dim\n",
    "        self.dropout = nn.Dropout(dropout_p)\n",
    "        self.lstm = nn.LSTM(input_shape, self.hidden_dim,\n",
    "                          num_layers=self.n_layers,\n",
    "                          batch_first=True)\n",
    "        self.fc = nn.Linear(self.hidden_dim, n_classes)\n",
    "        self.out = nn.Softmax()\n",
    "    def forward(self, x):\n",
    "        #x = self.embed(x)\n",
    "        h_0 = self._init_state(batch_size=x.size(0))\n",
    "        c_0 = self._init_state(batch_size=x.size(0))\n",
    "        x, _ = self.lstm(x, (h_0, c_0))  # [i, b, h]\n",
    "        h_t = x[:,-1,:]\n",
    "        self.dropout(h_t)\n",
    "        logit = self.fc(h_t)  # [b, h] -> [b, o]\n",
    "        logit = self.out(logit)\n",
    "        return logit\n",
    "    \n",
    "    def _init_state(self, batch_size=1):\n",
    "        weight = next(self.parameters()).data\n",
    "        return weight.new(self.n_layers, batch_size, self.hidden_dim).zero_()"
   ]
  },
  {
   "cell_type": "code",
   "execution_count": 13,
   "metadata": {},
   "outputs": [],
   "source": [
    "class Generator(nn.Module):\n",
    "    #def __init__(self, n_layers, hidden_dim, n_vocab, embed_dim, n_classes, dropout_p=0.2):\n",
    "    def __init__(self, n_layers, hidden_dim, input_shape, dropout_p=0.2):\n",
    "        super(Generator, self).__init__()\n",
    "        print(\"Building Basic generator model...\")\n",
    "        self.n_layers = n_layers \n",
    "        #self.embed = nn.Embedding(n_vocab, embed_dim)\n",
    "        self.hidden_dim = hidden_dim\n",
    "        self.dropout = nn.Dropout(dropout_p)\n",
    "        self.lstm = nn.LSTM(input_shape, self.hidden_dim,\n",
    "                          num_layers=self.n_layers,\n",
    "                          batch_first=True)\n",
    "        #self.out = nn.Linear(self.hidden_dim, n_classes)\n",
    "\n",
    "    def forward(self, x):\n",
    "        #x = self.embed(x)\n",
    "        h_0 = self._init_state(batch_size=x.size(0))\n",
    "        c_0 = self._init_state(batch_size=x.size(0))\n",
    "        x, (h, c) = self.lstm(x, (h_0, c_0))  # [i, b, h]\n",
    "        \n",
    "        return x\n",
    "    \n",
    "    def _init_state(self, batch_size=1):\n",
    "        weight = next(self.parameters()).data\n",
    "        return weight.new(self.n_layers, batch_size, self.hidden_dim).zero_()"
   ]
  },
  {
   "cell_type": "code",
   "execution_count": 14,
   "metadata": {},
   "outputs": [
    {
     "name": "stdout",
     "output_type": "stream",
     "text": [
      "Building Basic Discriminator model...\n",
      "Building Basic generator model...\n"
     ]
    }
   ],
   "source": [
    "D = Discriminator(1, 256, 75, 2, 0.2).to(DEVICE)\n",
    "G = Generator(1, 75, 1, 0.2).to(DEVICE)\n",
    "\n",
    "d_optimizer = torch.optim.Adam(D.parameters(), lr=lr)\n",
    "g_optimizer = torch.optim.Adam(G.parameters(), lr=lr)"
   ]
  },
  {
   "cell_type": "code",
   "execution_count": 15,
   "metadata": {},
   "outputs": [],
   "source": [
    "criterion=nn.BCELoss()"
   ]
  },
  {
   "cell_type": "code",
   "execution_count": 16,
   "metadata": {},
   "outputs": [],
   "source": [
    "input_data=torch.randn(30,1)\n",
    "input_data=torch.tensor(np.array(input_data)).unsqueeze(0).to(DEVICE)"
   ]
  },
  {
   "cell_type": "code",
   "execution_count": 17,
   "metadata": {},
   "outputs": [],
   "source": [
    "data_loader=dl.GAN_dataloader(\"/home/dhk1349/Desktop/Capstone Design2/ntu/xsub/\")\n",
    "EPOCHS=100"
   ]
  },
  {
   "cell_type": "code",
   "execution_count": 19,
   "metadata": {},
   "outputs": [
    {
     "name": "stderr",
     "output_type": "stream",
     "text": [
      "<ipython-input-12-82b9017cfe17>:23: UserWarning: Implicit dimension choice for softmax has been deprecated. Change the call to include dim=X as an argument.\n",
      "  logit = self.out(logit)\n"
     ]
    },
    {
     "name": "stdout",
     "output_type": "stream",
     "text": [
      "Epoch [0/100], d_loss: 0.0003, g_loss: 8.1092, D(x): 0.50, D(G(z)): 0.50\n",
      "Epoch [1/100], d_loss: 0.0003, g_loss: 8.2174, D(x): 0.50, D(G(z)): 0.50\n",
      "Epoch [2/100], d_loss: 0.0001, g_loss: 8.9858, D(x): 0.50, D(G(z)): 0.50\n",
      "Epoch [3/100], d_loss: 0.0001, g_loss: 8.9690, D(x): 0.50, D(G(z)): 0.50\n",
      "Epoch [4/100], d_loss: 0.0001, g_loss: 9.2898, D(x): 0.50, D(G(z)): 0.50\n",
      "Epoch [5/100], d_loss: 0.0001, g_loss: 9.3278, D(x): 0.50, D(G(z)): 0.50\n",
      "Epoch [6/100], d_loss: 0.0001, g_loss: 9.2489, D(x): 0.50, D(G(z)): 0.50\n",
      "Epoch [7/100], d_loss: 0.0002, g_loss: 8.6667, D(x): 0.50, D(G(z)): 0.50\n",
      "Epoch [8/100], d_loss: 0.0000, g_loss: 11.2961, D(x): 0.50, D(G(z)): 0.50\n",
      "Epoch [9/100], d_loss: 0.0000, g_loss: 12.6177, D(x): 0.50, D(G(z)): 0.50\n",
      "Epoch [10/100], d_loss: 0.0000, g_loss: 12.3034, D(x): 0.50, D(G(z)): 0.50\n",
      "Epoch [11/100], d_loss: 0.0001, g_loss: 11.4435, D(x): 0.50, D(G(z)): 0.50\n",
      "Epoch [12/100], d_loss: 0.0000, g_loss: 12.7569, D(x): 0.50, D(G(z)): 0.50\n",
      "Epoch [13/100], d_loss: 0.0000, g_loss: 13.4723, D(x): 0.50, D(G(z)): 0.50\n",
      "Epoch [14/100], d_loss: 0.0000, g_loss: 13.3900, D(x): 0.50, D(G(z)): 0.50\n",
      "Epoch [15/100], d_loss: 0.0000, g_loss: 13.6178, D(x): 0.50, D(G(z)): 0.50\n",
      "Epoch [16/100], d_loss: 0.0000, g_loss: 13.6367, D(x): 0.50, D(G(z)): 0.50\n",
      "Epoch [17/100], d_loss: 0.0000, g_loss: 13.8712, D(x): 0.50, D(G(z)): 0.50\n",
      "Epoch [18/100], d_loss: 0.0000, g_loss: 14.1588, D(x): 0.50, D(G(z)): 0.50\n",
      "Epoch [19/100], d_loss: 0.0000, g_loss: 14.5753, D(x): 0.50, D(G(z)): 0.50\n",
      "Epoch [20/100], d_loss: 0.0000, g_loss: 15.1484, D(x): 0.50, D(G(z)): 0.50\n",
      "Epoch [21/100], d_loss: 0.0000, g_loss: 13.9688, D(x): 0.50, D(G(z)): 0.50\n",
      "Epoch [22/100], d_loss: 0.0000, g_loss: 10.4788, D(x): 0.50, D(G(z)): 0.50\n",
      "Epoch [23/100], d_loss: 0.0002, g_loss: 8.7823, D(x): 0.50, D(G(z)): 0.50\n",
      "Epoch [24/100], d_loss: 0.0001, g_loss: 9.7880, D(x): 0.50, D(G(z)): 0.50\n",
      "Epoch [25/100], d_loss: 0.0000, g_loss: 10.1471, D(x): 0.50, D(G(z)): 0.50\n",
      "Epoch [26/100], d_loss: 0.0000, g_loss: 10.3808, D(x): 0.50, D(G(z)): 0.50\n",
      "Epoch [27/100], d_loss: 0.0000, g_loss: 10.5807, D(x): 0.50, D(G(z)): 0.50\n",
      "Epoch [28/100], d_loss: 0.0000, g_loss: 10.1106, D(x): 0.50, D(G(z)): 0.50\n",
      "Epoch [29/100], d_loss: 0.0000, g_loss: 11.3391, D(x): 0.50, D(G(z)): 0.50\n",
      "Epoch [30/100], d_loss: 0.0000, g_loss: 11.5208, D(x): 0.50, D(G(z)): 0.50\n",
      "Epoch [31/100], d_loss: 0.0000, g_loss: 12.0102, D(x): 0.50, D(G(z)): 0.50\n",
      "Epoch [32/100], d_loss: 0.0000, g_loss: 12.4733, D(x): 0.50, D(G(z)): 0.50\n",
      "Epoch [33/100], d_loss: 0.0000, g_loss: 11.7556, D(x): 0.50, D(G(z)): 0.50\n",
      "Epoch [34/100], d_loss: 0.0000, g_loss: 12.3342, D(x): 0.50, D(G(z)): 0.50\n",
      "Epoch [35/100], d_loss: 0.0000, g_loss: 11.1619, D(x): 0.50, D(G(z)): 0.50\n",
      "Epoch [36/100], d_loss: 0.0000, g_loss: 12.2319, D(x): 0.50, D(G(z)): 0.50\n",
      "Epoch [37/100], d_loss: 0.0000, g_loss: 11.2437, D(x): 0.50, D(G(z)): 0.50\n",
      "Epoch [38/100], d_loss: 0.0000, g_loss: 11.7826, D(x): 0.50, D(G(z)): 0.50\n",
      "Epoch [39/100], d_loss: 0.0000, g_loss: 12.8929, D(x): 0.50, D(G(z)): 0.50\n",
      "Epoch [40/100], d_loss: 0.0000, g_loss: 13.2400, D(x): 0.50, D(G(z)): 0.50\n",
      "Epoch [41/100], d_loss: 0.0000, g_loss: 13.1151, D(x): 0.50, D(G(z)): 0.50\n",
      "Epoch [42/100], d_loss: 0.0001, g_loss: 10.9191, D(x): 0.50, D(G(z)): 0.50\n",
      "Epoch [43/100], d_loss: 0.0002, g_loss: 8.8717, D(x): 0.50, D(G(z)): 0.50\n",
      "Epoch [44/100], d_loss: 0.0001, g_loss: 9.9921, D(x): 0.50, D(G(z)): 0.50\n",
      "Epoch [45/100], d_loss: 0.0003, g_loss: 9.4413, D(x): 0.50, D(G(z)): 0.50\n",
      "Epoch [46/100], d_loss: 0.0000, g_loss: 11.6380, D(x): 0.50, D(G(z)): 0.50\n",
      "Epoch [47/100], d_loss: 0.0020, g_loss: 10.1432, D(x): 0.50, D(G(z)): 0.50\n",
      "Epoch [48/100], d_loss: 0.0007, g_loss: 7.5456, D(x): 0.50, D(G(z)): 0.50\n",
      "Epoch [49/100], d_loss: 0.0007, g_loss: 7.3461, D(x): 0.50, D(G(z)): 0.50\n",
      "Epoch [50/100], d_loss: 0.0035, g_loss: 5.7027, D(x): 0.50, D(G(z)): 0.50\n",
      "Epoch [51/100], d_loss: 0.0004, g_loss: 7.8525, D(x): 0.50, D(G(z)): 0.50\n",
      "Epoch [52/100], d_loss: 0.0005, g_loss: 7.6956, D(x): 0.50, D(G(z)): 0.50\n",
      "Epoch [53/100], d_loss: 0.0004, g_loss: 7.8728, D(x): 0.50, D(G(z)): 0.50\n",
      "Epoch [54/100], d_loss: 0.0004, g_loss: 7.7602, D(x): 0.50, D(G(z)): 0.50\n",
      "Epoch [55/100], d_loss: 0.0005, g_loss: 7.7030, D(x): 0.50, D(G(z)): 0.50\n",
      "Epoch [56/100], d_loss: 0.0003, g_loss: 8.0869, D(x): 0.50, D(G(z)): 0.50\n",
      "Epoch [57/100], d_loss: 0.0003, g_loss: 8.0175, D(x): 0.50, D(G(z)): 0.50\n",
      "Epoch [58/100], d_loss: 0.0008, g_loss: 6.3991, D(x): 0.50, D(G(z)): 0.50\n",
      "Epoch [59/100], d_loss: 0.0004, g_loss: 7.7243, D(x): 0.50, D(G(z)): 0.50\n",
      "Epoch [60/100], d_loss: 0.0002, g_loss: 8.4261, D(x): 0.50, D(G(z)): 0.50\n",
      "Epoch [61/100], d_loss: 0.0000, g_loss: 11.1080, D(x): 0.50, D(G(z)): 0.50\n",
      "Epoch [62/100], d_loss: 0.0000, g_loss: 11.1729, D(x): 0.50, D(G(z)): 0.50\n",
      "Epoch [63/100], d_loss: 0.0000, g_loss: 15.3646, D(x): 0.50, D(G(z)): 0.50\n",
      "Epoch [64/100], d_loss: 0.0000, g_loss: 13.7636, D(x): 0.50, D(G(z)): 0.50\n",
      "Epoch [65/100], d_loss: 0.0000, g_loss: 15.3358, D(x): 0.50, D(G(z)): 0.50\n",
      "Epoch [66/100], d_loss: 0.0000, g_loss: 15.1549, D(x): 0.50, D(G(z)): 0.50\n",
      "Epoch [67/100], d_loss: 0.0000, g_loss: 15.1823, D(x): 0.50, D(G(z)): 0.50\n",
      "Epoch [68/100], d_loss: 0.0000, g_loss: 14.5776, D(x): 0.50, D(G(z)): 0.50\n",
      "Epoch [69/100], d_loss: 0.0000, g_loss: 15.2785, D(x): 0.50, D(G(z)): 0.50\n",
      "Epoch [70/100], d_loss: 0.0000, g_loss: 15.2477, D(x): 0.50, D(G(z)): 0.50\n",
      "Epoch [71/100], d_loss: 0.0000, g_loss: 15.7999, D(x): 0.50, D(G(z)): 0.50\n",
      "Epoch [72/100], d_loss: 0.0000, g_loss: 16.2083, D(x): 0.50, D(G(z)): 0.50\n",
      "Epoch [73/100], d_loss: 0.0001, g_loss: 12.4763, D(x): 0.50, D(G(z)): 0.50\n",
      "Epoch [74/100], d_loss: 0.0000, g_loss: 11.1286, D(x): 0.50, D(G(z)): 0.50\n",
      "Epoch [75/100], d_loss: 0.0000, g_loss: 11.9529, D(x): 0.50, D(G(z)): 0.50\n",
      "Epoch [76/100], d_loss: 0.0000, g_loss: 12.6112, D(x): 0.50, D(G(z)): 0.50\n",
      "Epoch [77/100], d_loss: 0.0000, g_loss: 12.8981, D(x): 0.50, D(G(z)): 0.50\n",
      "Epoch [78/100], d_loss: 0.0000, g_loss: 13.3160, D(x): 0.50, D(G(z)): 0.50\n",
      "Epoch [79/100], d_loss: 0.0000, g_loss: 13.2436, D(x): 0.50, D(G(z)): 0.50\n",
      "Epoch [80/100], d_loss: 0.0000, g_loss: 14.3475, D(x): 0.50, D(G(z)): 0.50\n",
      "Epoch [81/100], d_loss: 0.0000, g_loss: 14.7880, D(x): 0.50, D(G(z)): 0.50\n",
      "Epoch [82/100], d_loss: 0.0000, g_loss: 14.8216, D(x): 0.50, D(G(z)): 0.50\n",
      "Epoch [83/100], d_loss: 0.0000, g_loss: 14.9298, D(x): 0.50, D(G(z)): 0.50\n",
      "Epoch [84/100], d_loss: 0.0000, g_loss: 15.3545, D(x): 0.50, D(G(z)): 0.50\n",
      "Epoch [85/100], d_loss: 0.0000, g_loss: 14.9177, D(x): 0.50, D(G(z)): 0.50\n",
      "Epoch [86/100], d_loss: 0.0000, g_loss: 15.3105, D(x): 0.50, D(G(z)): 0.50\n",
      "Epoch [87/100], d_loss: 0.0000, g_loss: 16.0769, D(x): 0.50, D(G(z)): 0.50\n",
      "Epoch [88/100], d_loss: 0.0000, g_loss: 14.7911, D(x): 0.50, D(G(z)): 0.50\n",
      "Epoch [89/100], d_loss: 0.0000, g_loss: 13.8927, D(x): 0.50, D(G(z)): 0.50\n",
      "Epoch [90/100], d_loss: 0.0000, g_loss: 14.6111, D(x): 0.50, D(G(z)): 0.50\n",
      "Epoch [91/100], d_loss: 0.0000, g_loss: 14.5318, D(x): 0.50, D(G(z)): 0.50\n",
      "Epoch [92/100], d_loss: 0.0000, g_loss: 14.8681, D(x): 0.50, D(G(z)): 0.50\n",
      "Epoch [93/100], d_loss: 0.0000, g_loss: 15.3423, D(x): 0.50, D(G(z)): 0.50\n",
      "Epoch [94/100], d_loss: 0.0000, g_loss: 15.7789, D(x): 0.50, D(G(z)): 0.50\n",
      "Epoch [95/100], d_loss: 0.0000, g_loss: 15.9617, D(x): 0.50, D(G(z)): 0.50\n",
      "Epoch [96/100], d_loss: 0.0000, g_loss: 16.1956, D(x): 0.50, D(G(z)): 0.50\n",
      "Epoch [97/100], d_loss: 0.0000, g_loss: 15.2705, D(x): 0.50, D(G(z)): 0.50\n",
      "Epoch [98/100], d_loss: 0.0000, g_loss: 16.1521, D(x): 0.50, D(G(z)): 0.50\n",
      "Epoch [99/100], d_loss: 0.0000, g_loss: 16.1374, D(x): 0.50, D(G(z)): 0.50\n"
     ]
    }
   ],
   "source": [
    "total_step = len(data_loader)\n",
    "for epoch in range(EPOCHS):\n",
    "    for i, data in enumerate(data_loader):\n",
    "        x = np.array(data[0][0])\n",
    "        \n",
    "        X=[]\n",
    "        for i in range(10):\n",
    "            X.append(x[np.random.randint(i*10,(1+i)*10)].reshape(-1))\n",
    "        \n",
    "        X=torch.tensor(np.array(X)).unsqueeze(0).to(DEVICE)\n",
    "        \n",
    "        # '진짜'와 '가짜' 레이블 생성\n",
    "        real_labels = torch.tensor([[0,1]]).to(torch.float32).to(DEVICE)\n",
    "        fake_labels = torch.tensor([[1,0]]).to(torch.float32).to(DEVICE)\n",
    "        \n",
    "        # 판별자가 진짜 이미지를 진짜로 인식하는 오차를 예산\n",
    "        outputs = D(X)\n",
    "        \n",
    "        d_loss_real = criterion(outputs, real_labels)\n",
    "        real_score = outputs\n",
    "        #print(real_score)\n",
    "        # 무작위 텐서로 가짜 이미지 생성 \n",
    "        z = torch.randn(30,1)\n",
    "        z = torch.tensor(np.array(z)).unsqueeze(0).to(DEVICE)\n",
    "        fake_images = G(z)\n",
    "        \n",
    "        # 판별자가 가짜 이미지를 가짜로 인식하는 오차를 계산\n",
    "        outputs = D(fake_images)\n",
    "        d_loss_fake = criterion(outputs, fake_labels)\n",
    "        fake_score = outputs\n",
    "        \n",
    "        # 진짜와 가짜 이미지를 갖고 낸 오차를 더해서 판별자의 오차 계산\n",
    "        d_loss = d_loss_real + d_loss_fake\n",
    "\n",
    "        # 역전파 알고리즘으로 판별자 모델의 학습을 진행\n",
    "        d_optimizer.zero_grad()\n",
    "        g_optimizer.zero_grad()\n",
    "        d_loss.backward()\n",
    "        d_optimizer.step()\n",
    "        \n",
    "        # 생성자가 판별자를 속였는지에 대한 오차를 계산\n",
    "        fake_images = G(z)\n",
    "        outputs = D(fake_images)\n",
    "        g_loss = criterion(outputs, real_labels)\n",
    "        \n",
    "        # 역전파 알고리즘으로 생성자 모델의 학습을 진행\n",
    "        d_optimizer.zero_grad()\n",
    "        g_optimizer.zero_grad()\n",
    "        g_loss.backward()\n",
    "        g_optimizer.step()\n",
    "        \n",
    "    # 학습 진행 알아보기\n",
    "    print('Epoch [{}/{}], d_loss: {:.4f}, g_loss: {:.4f}, D(x): {:.2f}, D(G(z)): {:.2f}' \n",
    "          .format(epoch, EPOCHS, d_loss.item(), g_loss.item(), \n",
    "                  real_score.mean().item(), fake_score.mean().item()))\n",
    "    if(epoch%3==0):\n",
    "        torch.save(G.state_dict(), './snapshot/lstm_gan_'+str(epoch)+'.pt')"
   ]
  },
  {
   "cell_type": "code",
   "execution_count": 25,
   "metadata": {},
   "outputs": [
    {
     "name": "stdout",
     "output_type": "stream",
     "text": [
      "Building Basic generator model...\n",
      "tensor([1.1201])\n",
      "tensor([-1.0182])\n",
      "tensor([-0.1795])\n",
      "tensor([0.8854])\n",
      "tensor([-1.3263])\n",
      "tensor([-1.7696])\n",
      "tensor([-0.1415])\n",
      "tensor([-0.0017])\n",
      "tensor([1.3857])\n",
      "tensor([-0.0093])\n"
     ]
    }
   ],
   "source": [
    "model=Generator(1, 75, 1, 0.2)\n",
    "model.load_state_dict(torch.load('./snapshot/lstm_gan_99.pt'))\n",
    "for i in range(10):\n",
    "    z = torch.randn(30,1)\n",
    "    z = torch.tensor(np.array(z)).unsqueeze(0)\n",
    "    print(z[0][0])\n",
    "    output=model(z)\n",
    "    #np.save(\"./snapshot/1105lstm_out_\"+str(i)+\".npy\", output.detach().numpy().reshape(1,30,75))"
   ]
  },
  {
   "cell_type": "code",
   "execution_count": 33,
   "metadata": {},
   "outputs": [
    {
     "name": "stdout",
     "output_type": "stream",
     "text": [
      "torch.Size([1, 10, 75])\n",
      "0\n",
      "torch.Size([1, 10, 75])\n",
      "1\n",
      "torch.Size([1, 10, 75])\n",
      "2\n",
      "torch.Size([1, 10, 75])\n",
      "3\n",
      "torch.Size([1, 10, 75])\n",
      "4\n",
      "torch.Size([1, 10, 75])\n",
      "5\n",
      "torch.Size([1, 10, 75])\n",
      "6\n",
      "torch.Size([1, 10, 75])\n",
      "7\n",
      "torch.Size([1, 10, 75])\n",
      "8\n",
      "torch.Size([1, 10, 75])\n",
      "9\n"
     ]
    }
   ],
   "source": [
    "for j, data in enumerate(data_loader):\n",
    "    \n",
    "    if j==10:\n",
    "        break\n",
    "    x = np.array(data[0][0])\n",
    "        \n",
    "    X=[]\n",
    "    for i in range(10):\n",
    "        X.append(x[np.random.randint(i*10,(1+i)*10)].reshape(-1))\n",
    "        \n",
    "    X=torch.tensor(np.array(X)).unsqueeze(0)\n",
    "    print(X.shape)\n",
    "    print(j)\n",
    "    np.save(\"./realdata_numpy/r_\"+str(j)+\".npy\", X.detach().numpy().reshape(1,10,75))"
   ]
  },
  {
   "cell_type": "code",
   "execution_count": null,
   "metadata": {},
   "outputs": [],
   "source": []
  }
 ],
 "metadata": {
  "kernelspec": {
   "display_name": "Python 3",
   "language": "python",
   "name": "python3"
  },
  "language_info": {
   "codemirror_mode": {
    "name": "ipython",
    "version": 3
   },
   "file_extension": ".py",
   "mimetype": "text/x-python",
   "name": "python",
   "nbconvert_exporter": "python",
   "pygments_lexer": "ipython3",
   "version": "3.8.5"
  }
 },
 "nbformat": 4,
 "nbformat_minor": 4
}
