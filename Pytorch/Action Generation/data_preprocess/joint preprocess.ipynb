{
 "cells": [
  {
   "cell_type": "markdown",
   "metadata": {},
   "source": [
    "Joint order (1-25)<br>\n",
    "[2, 19, 18, 17, 24, 25, 12, 1, 10, 9, 4, 3, 21, 2, 1, 5, 6, 7, 8, 23, 22, 13, 14, 15, 16]"
   ]
  },
  {
   "cell_type": "code",
   "execution_count": 27,
   "metadata": {},
   "outputs": [],
   "source": [
    "pre=[i for i in range(1, 26)]"
   ]
  },
  {
   "cell_type": "code",
   "execution_count": 28,
   "metadata": {},
   "outputs": [
    {
     "data": {
      "text/plain": [
       "[1,\n",
       " 2,\n",
       " 3,\n",
       " 4,\n",
       " 5,\n",
       " 6,\n",
       " 7,\n",
       " 8,\n",
       " 9,\n",
       " 10,\n",
       " 11,\n",
       " 12,\n",
       " 13,\n",
       " 14,\n",
       " 15,\n",
       " 16,\n",
       " 17,\n",
       " 18,\n",
       " 19,\n",
       " 20,\n",
       " 21,\n",
       " 22,\n",
       " 23,\n",
       " 24,\n",
       " 25]"
      ]
     },
     "execution_count": 28,
     "metadata": {},
     "output_type": "execute_result"
    }
   ],
   "source": [
    "pre"
   ]
  },
  {
   "cell_type": "code",
   "execution_count": 29,
   "metadata": {},
   "outputs": [],
   "source": [
    "def reorder(pre, idxlst):\n",
    "    out=[-1 for k in range(len(pre))]\n",
    "    for idx, i in enumerate(idxlst):\n",
    "        out[idx]=pre[i-1]\n",
    "        print(pre[i-1], \"on\", idx, \" th | i: \", i)\n",
    "    return out"
   ]
  },
  {
   "cell_type": "code",
   "execution_count": 30,
   "metadata": {},
   "outputs": [],
   "source": [
    "idxlst=[2, 19, 18, 17, 24, 25, 12, 1, 10, 9, 4, 3, 21, 2, 1, 5, 6, 7, 8, 23, 22, 13, 14, 15, 16]"
   ]
  },
  {
   "cell_type": "code",
   "execution_count": 31,
   "metadata": {},
   "outputs": [
    {
     "name": "stdout",
     "output_type": "stream",
     "text": [
      "2 on 0  th | i:  2\n",
      "19 on 1  th | i:  19\n",
      "18 on 2  th | i:  18\n",
      "17 on 3  th | i:  17\n",
      "24 on 4  th | i:  24\n",
      "25 on 5  th | i:  25\n",
      "12 on 6  th | i:  12\n",
      "1 on 7  th | i:  1\n",
      "10 on 8  th | i:  10\n",
      "9 on 9  th | i:  9\n",
      "4 on 10  th | i:  4\n",
      "3 on 11  th | i:  3\n",
      "21 on 12  th | i:  21\n",
      "2 on 13  th | i:  2\n",
      "1 on 14  th | i:  1\n",
      "5 on 15  th | i:  5\n",
      "6 on 16  th | i:  6\n",
      "7 on 17  th | i:  7\n",
      "8 on 18  th | i:  8\n",
      "23 on 19  th | i:  23\n",
      "22 on 20  th | i:  22\n",
      "13 on 21  th | i:  13\n",
      "14 on 22  th | i:  14\n",
      "15 on 23  th | i:  15\n",
      "16 on 24  th | i:  16\n"
     ]
    }
   ],
   "source": [
    "out=reorder(pre, idxlst)"
   ]
  },
  {
   "cell_type": "code",
   "execution_count": 32,
   "metadata": {},
   "outputs": [
    {
     "data": {
      "text/plain": [
       "[2,\n",
       " 19,\n",
       " 18,\n",
       " 17,\n",
       " 24,\n",
       " 25,\n",
       " 12,\n",
       " 1,\n",
       " 10,\n",
       " 9,\n",
       " 4,\n",
       " 3,\n",
       " 21,\n",
       " 2,\n",
       " 1,\n",
       " 5,\n",
       " 6,\n",
       " 7,\n",
       " 8,\n",
       " 23,\n",
       " 22,\n",
       " 13,\n",
       " 14,\n",
       " 15,\n",
       " 16]"
      ]
     },
     "execution_count": 32,
     "metadata": {},
     "output_type": "execute_result"
    }
   ],
   "source": [
    "out"
   ]
  },
  {
   "cell_type": "code",
   "execution_count": null,
   "metadata": {},
   "outputs": [],
   "source": []
  }
 ],
 "metadata": {
  "kernelspec": {
   "display_name": "Python 3",
   "language": "python",
   "name": "python3"
  },
  "language_info": {
   "codemirror_mode": {
    "name": "ipython",
    "version": 3
   },
   "file_extension": ".py",
   "mimetype": "text/x-python",
   "name": "python",
   "nbconvert_exporter": "python",
   "pygments_lexer": "ipython3",
   "version": "3.8.5"
  }
 },
 "nbformat": 4,
 "nbformat_minor": 4
}
