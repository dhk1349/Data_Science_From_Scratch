{
 "cells": [
  {
   "cell_type": "markdown",
   "metadata": {},
   "source": [
    "<h3>ResNet Simulation</h3>"
   ]
  },
  {
   "cell_type": "code",
   "execution_count": 1,
   "metadata": {},
   "outputs": [],
   "source": [
    "import torch\n",
    "import torch.nn as nn\n",
    "import torch.optim as optim\n",
    "import torch.nn.functional as F\n",
    "from torchvision import transforms, datasets, models"
   ]
  },
  {
   "cell_type": "code",
   "execution_count": 3,
   "metadata": {},
   "outputs": [],
   "source": [
    "USE_CUDA=torch.cuda.is_available()\n",
    "DEVICE=torch.device(\"cuda\"if USE_CUDA else\"cpu\")"
   ]
  },
  {
   "cell_type": "code",
   "execution_count": 4,
   "metadata": {},
   "outputs": [],
   "source": [
    "EPOCHS=300\n",
    "BATCH_SIZE=128"
   ]
  },
  {
   "cell_type": "markdown",
   "metadata": {},
   "source": [
    "<h3>Downloading CIFAR10 Dataset</h3>"
   ]
  },
  {
   "cell_type": "code",
   "execution_count": 7,
   "metadata": {},
   "outputs": [
    {
     "name": "stdout",
     "output_type": "stream",
     "text": [
      "Downloading https://www.cs.toronto.edu/~kriz/cifar-10-python.tar.gz to D:\\Datasets\\CIFAR10\\cifar-10-python.tar.gz\n"
     ]
    },
    {
     "data": {
      "application/vnd.jupyter.widget-view+json": {
       "model_id": "d8a1856e8ece43ddaec1b30be77cc721",
       "version_major": 2,
       "version_minor": 0
      },
      "text/plain": [
       "HBox(children=(IntProgress(value=1, bar_style='info', max=1), HTML(value='')))"
      ]
     },
     "metadata": {},
     "output_type": "display_data"
    },
    {
     "name": "stdout",
     "output_type": "stream",
     "text": [
      "Extracting D:\\Datasets\\CIFAR10\\cifar-10-python.tar.gz to D:\\Datasets\\CIFAR10\n"
     ]
    }
   ],
   "source": [
    "train_loader=torch.utils.data.DataLoader(\n",
    "    datasets.CIFAR10('D:\\Datasets\\CIFAR10',\n",
    "                     train=True,\n",
    "                     download=True,\n",
    "                     transform=transforms.Compose([\n",
    "                         transforms.RandomCrop(32, padding=4),\n",
    "                         transforms.RandomHorizontalFlip(),\n",
    "                         transforms.ToTensor(),\n",
    "                         transforms.Normalize((0.5,0.5,0,5),\n",
    "                                              (0.5,0.5,0.5))\n",
    "                     ])\n",
    "    ),\n",
    "    batch_size=BATCH_SIZE,\n",
    "    shuffle=True\n",
    ")"
   ]
  },
  {
   "cell_type": "code",
   "execution_count": 8,
   "metadata": {},
   "outputs": [],
   "source": [
    "test_loader=torch.utils.data.DataLoader(\n",
    "    datasets.CIFAR10('D:\\Datasets\\CIFAR10',\n",
    "                     train=False,\n",
    "                     transform=transforms.Compose([\n",
    "                         transforms.ToTensor(),\n",
    "                         transforms.Normalize((0.5,0.5,0,5),\n",
    "                                              (0.5,0.5,0.5))\n",
    "                     ])\n",
    "    ),\n",
    "    batch_size=BATCH_SIZE,\n",
    "    shuffle=True\n",
    ")"
   ]
  },
  {
   "cell_type": "code",
   "execution_count": 9,
   "metadata": {},
   "outputs": [],
   "source": [
    "class BasicBlock(nn.Module):\n",
    "    def __init__(self, in_planes, planes, stride=1):\n",
    "        super(BasicBlock, self).__intit__()\n",
    "        self.conv1=nn.Conv2d(in_planes, planes, kernel_size=3, stride=stride, padding=1,bias=False)\n",
    "        self.bn1=nn.BatchNorm2d(planes)\n",
    "        self.conv2=nn.Conv2d(planes, planes, kernel_Size=3, stride=1, padding=1, bias=False)\n",
    "        self.bn2=nn.BatchNorm2d(planes)\n",
    "        \n",
    "        self.shortcut=nn.Sequential()\n",
    "        if stride!=1 or in_planes!=planes:\n",
    "            self.shortcut=nn.Sequential(\n",
    "                nn.Con2d(in_planes, planes, kernel_size=1, stride=stride, bias=False),\n",
    "                nn.BatchNorm2d(planes)\n",
    "            )\n",
    "    def forward(self, x):\n",
    "        out=F.relu(self.bn1(self.conv1(x)))\n",
    "        out=self.bn2(self.conv2(out))\n",
    "        out+=self.shortcut(x) #궁금한게.. 이걸 평균 구하는게 아니라 그냥 더해도 상관이 없는건가?\n",
    "        out=F.relu(out)\n",
    "        return out"
   ]
  },
  {
   "cell_type": "code",
   "execution_count": null,
   "metadata": {},
   "outputs": [],
   "source": [
    "class ResNet(nn.Module):\n",
    "    def __init__(self, num__classes=10):\n",
    "        super(ResNet, self).__init__()\n",
    "        self.in_planes=16\n",
    "        \n",
    "        self.conv1=nn.Conv2d()"
   ]
  }
 ],
 "metadata": {
  "kernelspec": {
   "display_name": "Python 3",
   "language": "python",
   "name": "python3"
  },
  "language_info": {
   "codemirror_mode": {
    "name": "ipython",
    "version": 3
   },
   "file_extension": ".py",
   "mimetype": "text/x-python",
   "name": "python",
   "nbconvert_exporter": "python",
   "pygments_lexer": "ipython3",
   "version": "3.7.3"
  }
 },
 "nbformat": 4,
 "nbformat_minor": 2
}
