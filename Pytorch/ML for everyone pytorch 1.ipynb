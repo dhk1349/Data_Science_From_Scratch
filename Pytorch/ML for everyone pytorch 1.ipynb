{
 "cells": [
  {
   "cell_type": "code",
   "execution_count": 1,
   "metadata": {},
   "outputs": [],
   "source": [
    "import torch\n",
    "import numpy as np\n",
    "import matplotlib.pyplot as plt"
   ]
  },
  {
   "cell_type": "code",
   "execution_count": 2,
   "metadata": {},
   "outputs": [
    {
     "name": "stdout",
     "output_type": "stream",
     "text": [
      "tensor([[1., 1.],\n",
      "        [1., 1.],\n",
      "        [1., 1.]])\n"
     ]
    }
   ],
   "source": [
    "x=torch.ones(3, 2)\n",
    "print(x)"
   ]
  },
  {
   "cell_type": "code",
   "execution_count": 3,
   "metadata": {},
   "outputs": [
    {
     "name": "stdout",
     "output_type": "stream",
     "text": [
      "tensor([[0., 0.],\n",
      "        [0., 0.],\n",
      "        [0., 0.]])\n"
     ]
    }
   ],
   "source": [
    "x=torch.zeros(3,2)\n",
    "print(x)"
   ]
  },
  {
   "cell_type": "code",
   "execution_count": 4,
   "metadata": {},
   "outputs": [
    {
     "name": "stdout",
     "output_type": "stream",
     "text": [
      "tensor([[0.6147, 0.3810],\n",
      "        [0.6371, 0.4745],\n",
      "        [0.7136, 0.6190]])\n"
     ]
    }
   ],
   "source": [
    "torch.manual_seed(2)\n",
    "x=torch.rand(3,2)\n",
    "print(x)"
   ]
  },
  {
   "cell_type": "code",
   "execution_count": 5,
   "metadata": {},
   "outputs": [
    {
     "name": "stdout",
     "output_type": "stream",
     "text": [
      "tensor([[0.4425, 0.0958, 0.6142],\n",
      "        [0.0573, 0.5657, 0.5332],\n",
      "        [0.3901, 0.9088, 0.5334]])\n"
     ]
    }
   ],
   "source": [
    "x=torch.rand(3,3)\n",
    "print(x)"
   ]
  },
  {
   "cell_type": "code",
   "execution_count": 6,
   "metadata": {},
   "outputs": [
    {
     "name": "stdout",
     "output_type": "stream",
     "text": [
      "tensor([2, 4, 6])\n",
      "tensor([1, 2])\n"
     ]
    }
   ],
   "source": [
    "x=torch.tensor([[1,2],[3,4,],[5,6]])\n",
    "print(x[:,1])\n",
    "print(x[0, :])"
   ]
  },
  {
   "cell_type": "code",
   "execution_count": 7,
   "metadata": {},
   "outputs": [
    {
     "data": {
      "text/plain": [
       "tensor(4)"
      ]
     },
     "execution_count": 7,
     "metadata": {},
     "output_type": "execute_result"
    }
   ],
   "source": [
    "y=x[1,1]\n",
    "y"
   ]
  },
  {
   "cell_type": "code",
   "execution_count": 8,
   "metadata": {},
   "outputs": [
    {
     "name": "stdout",
     "output_type": "stream",
     "text": [
      "tensor([[1, 2, 3],\n",
      "        [4, 5, 6]])\n",
      "tensor([[1],\n",
      "        [2],\n",
      "        [3],\n",
      "        [4],\n",
      "        [5],\n",
      "        [6]])\n"
     ]
    }
   ],
   "source": [
    "x=torch.tensor([[1,2],[3,4],[5,6]])\n",
    "y=x.view(2,3)\n",
    "print(y)\n",
    "y=x.view(6,-1)\n",
    "print(y)"
   ]
  },
  {
   "cell_type": "code",
   "execution_count": 9,
   "metadata": {},
   "outputs": [
    {
     "name": "stdout",
     "output_type": "stream",
     "text": [
      "tensor([[2., 2.],\n",
      "        [2., 2.],\n",
      "        [2., 2.]])\n",
      "tensor([[0., 0.],\n",
      "        [0., 0.],\n",
      "        [0., 0.]])\n",
      "tensor([[2., 2.],\n",
      "        [2., 2.],\n",
      "        [2., 2.]])\n"
     ]
    }
   ],
   "source": [
    "x=torch.ones([3,2])\n",
    "y=torch.ones([3,2])\n",
    "\n",
    "z=x+y\n",
    "z=torch.add(x, y) #both methods are same\n",
    "print(z)\n",
    "\n",
    "z=x-y\n",
    "z=torch.sub(x, y) #both methods are same\n",
    "print(z)\n",
    "\n",
    "y.add_(x)\n",
    "print(y)"
   ]
  },
  {
   "cell_type": "code",
   "execution_count": 10,
   "metadata": {},
   "outputs": [
    {
     "name": "stdout",
     "output_type": "stream",
     "text": [
      "[-2.21171295  0.83075    -0.58420385  0.37856611 -1.07090857]\n",
      "tensor([-2.2117,  0.8307, -0.5842,  0.3786, -1.0709], dtype=torch.float64)\n",
      "<class 'numpy.ndarray'> <class 'torch.Tensor'>\n"
     ]
    }
   ],
   "source": [
    "a=np.random.randn(5)\n",
    "print(a)\n",
    "a_pt=torch.from_numpy(a)\n",
    "print(a_pt)\n",
    "print(type(a), type(a_pt))"
   ]
  },
  {
   "cell_type": "code",
   "execution_count": 11,
   "metadata": {},
   "outputs": [],
   "source": [
    "USE_CUDA = torch.cuda.is_available()\n",
    "DEVICE = torch.device(\"cuda\" if USE_CUDA else \"cpu\")"
   ]
  },
  {
   "cell_type": "code",
   "execution_count": 14,
   "metadata": {},
   "outputs": [
    {
     "name": "stdout",
     "output_type": "stream",
     "text": [
      "cpu False\n"
     ]
    }
   ],
   "source": [
    "print(DEVICE, USE_CUDA)"
   ]
  },
  {
   "cell_type": "code",
   "execution_count": 15,
   "metadata": {},
   "outputs": [
    {
     "data": {
      "text/plain": [
       "device(type='cpu')"
      ]
     },
     "execution_count": 15,
     "metadata": {},
     "output_type": "execute_result"
    }
   ],
   "source": [
    "DEVICE"
   ]
  },
  {
   "cell_type": "code",
   "execution_count": 17,
   "metadata": {},
   "outputs": [],
   "source": [
    "a=torch.ones(3,2,device=DEVICE)\n",
    "b=torch.ones(3,2, device=DEVICE)\n",
    "c=a+b"
   ]
  },
  {
   "cell_type": "code",
   "execution_count": 19,
   "metadata": {},
   "outputs": [],
   "source": [
    "c=c.cpu() #can move variable c to cpu"
   ]
  },
  {
   "cell_type": "code",
   "execution_count": 20,
   "metadata": {},
   "outputs": [
    {
     "name": "stdout",
     "output_type": "stream",
     "text": [
      "tensor([[1., 1.],\n",
      "        [1., 1.],\n",
      "        [1., 1.]], requires_grad=True)\n"
     ]
    }
   ],
   "source": [
    "x=torch.ones(3,2, requires_grad=True)\n",
    "print(x)"
   ]
  },
  {
   "cell_type": "code",
   "execution_count": 21,
   "metadata": {},
   "outputs": [
    {
     "name": "stdout",
     "output_type": "stream",
     "text": [
      "tensor([[6., 6.],\n",
      "        [6., 6.],\n",
      "        [6., 6.]], grad_fn=<AddBackward0>)\n",
      "tensor([[37., 37.],\n",
      "        [37., 37.],\n",
      "        [37., 37.]], grad_fn=<AddBackward0>)\n",
      "tensor(222., grad_fn=<SumBackward0>)\n"
     ]
    }
   ],
   "source": [
    "y=x+5\n",
    "print(y)\n",
    "\n",
    "z=y*y+1\n",
    "print(z)\n",
    "\n",
    "t=torch.sum(z)\n",
    "print(t)\n"
   ]
  },
  {
   "cell_type": "code",
   "execution_count": 22,
   "metadata": {},
   "outputs": [
    {
     "name": "stdout",
     "output_type": "stream",
     "text": [
      "tensor([[12., 12.],\n",
      "        [12., 12.],\n",
      "        [12., 12.]])\n"
     ]
    }
   ],
   "source": [
    "t.backward()\n",
    "print(x.grad)"
   ]
  },
  {
   "cell_type": "code",
   "execution_count": 30,
   "metadata": {},
   "outputs": [
    {
     "name": "stdout",
     "output_type": "stream",
     "text": [
      "tensor([[ 6.,  7.],\n",
      "        [ 8.,  9.],\n",
      "        [10., 11.],\n",
      "        [ 6.,  7.]], grad_fn=<AddBackward0>)\n",
      "tensor([[ 37.,  50.],\n",
      "        [ 65.,  82.],\n",
      "        [101., 122.],\n",
      "        [ 37.,  50.]], grad_fn=<AddBackward0>)\n",
      "tensor(544., grad_fn=<SumBackward0>)\n",
      "tensor([[12., 14.],\n",
      "        [16., 18.],\n",
      "        [20., 22.],\n",
      "        [12., 14.]])\n"
     ]
    }
   ],
   "source": [
    "x=torch.tensor([[1,2],[3,4],[5,6],[1,2]], dtype=torch.float32, requires_grad=True)\n",
    "y=x+5\n",
    "y.requires_grad_(True)\n",
    "print(y)\n",
    "\n",
    "z=y*y+1\n",
    "z.requires_grad_(True)\n",
    "print(z)\n",
    "\n",
    "t=torch.sum(z)\n",
    "print(t)\n",
    "\n",
    "t.backward()\n",
    "print(x.grad)"
   ]
  },
  {
   "cell_type": "code",
   "execution_count": 31,
   "metadata": {},
   "outputs": [
    {
     "name": "stdout",
     "output_type": "stream",
     "text": [
      "None\n",
      "None\n",
      "tensor([[12., 14.],\n",
      "        [16., 18.],\n",
      "        [20., 22.],\n",
      "        [12., 14.]])\n"
     ]
    }
   ],
   "source": [
    "print(z.grad)\n",
    "print(y.grad)\n",
    "print(x.grad)"
   ]
  },
  {
   "cell_type": "markdown",
   "metadata": {},
   "source": [
    "![autograd-formula](./pics/autograd.jpg)"
   ]
  },
  {
   "cell_type": "code",
   "execution_count": null,
   "metadata": {},
   "outputs": [],
   "source": []
  }
 ],
 "metadata": {
  "kernelspec": {
   "display_name": "Python 3",
   "language": "python",
   "name": "python3"
  },
  "language_info": {
   "codemirror_mode": {
    "name": "ipython",
    "version": 3
   },
   "file_extension": ".py",
   "mimetype": "text/x-python",
   "name": "python",
   "nbconvert_exporter": "python",
   "pygments_lexer": "ipython3",
   "version": "3.7.3"
  }
 },
 "nbformat": 4,
 "nbformat_minor": 2
}
