{
 "cells": [
  {
   "cell_type": "markdown",
   "metadata": {},
   "source": [
    "## This Code is based on 3분 딥러닝: 파이토치"
   ]
  },
  {
   "cell_type": "code",
   "execution_count": 1,
   "metadata": {},
   "outputs": [],
   "source": [
    "import os\n",
    "import torch\n",
    "import torchvision\n",
    "import torch.nn as nn\n",
    "import torch.optim as optim\n",
    "from torchvision import transforms, datasets\n",
    "from torchvision.utils import save_image\n",
    "import matplotlib.pyplot as plt\n",
    "import numpy as np"
   ]
  },
  {
   "cell_type": "code",
   "execution_count": 3,
   "metadata": {},
   "outputs": [
    {
     "name": "stdout",
     "output_type": "stream",
     "text": [
      "Using  cpu\n"
     ]
    }
   ],
   "source": [
    "EPOCH=500\n",
    "BATCH_SIZE=100\n",
    "USE_CUDA=torch.cuda.is_available()\n",
    "DEVICE=torch.device(\"cuda\" if USE_CUDA else \"cpu\")\n",
    "print(\"Using \", DEVICE)"
   ]
  },
  {
   "cell_type": "code",
   "execution_count": 5,
   "metadata": {},
   "outputs": [
    {
     "name": "stdout",
     "output_type": "stream",
     "text": [
      "Downloading http://fashion-mnist.s3-website.eu-central-1.amazonaws.com/train-images-idx3-ubyte.gz to ./.data\\FashionMNIST\\raw\\train-images-idx3-ubyte.gz\n"
     ]
    },
    {
     "data": {
      "application/vnd.jupyter.widget-view+json": {
       "model_id": "fbc3959048244157aa041f8402c067a8",
       "version_major": 2,
       "version_minor": 0
      },
      "text/plain": [
       "HBox(children=(IntProgress(value=1, bar_style='info', max=1), HTML(value='')))"
      ]
     },
     "metadata": {},
     "output_type": "display_data"
    },
    {
     "name": "stdout",
     "output_type": "stream",
     "text": [
      "Extracting ./.data\\FashionMNIST\\raw\\train-images-idx3-ubyte.gz to ./.data\\FashionMNIST\\raw\n",
      "Downloading http://fashion-mnist.s3-website.eu-central-1.amazonaws.com/train-labels-idx1-ubyte.gz to ./.data\\FashionMNIST\\raw\\train-labels-idx1-ubyte.gz\n"
     ]
    },
    {
     "data": {
      "application/vnd.jupyter.widget-view+json": {
       "model_id": "17ae36de4cb746118faa33ea285751e0",
       "version_major": 2,
       "version_minor": 0
      },
      "text/plain": [
       "HBox(children=(IntProgress(value=1, bar_style='info', max=1), HTML(value='')))"
      ]
     },
     "metadata": {},
     "output_type": "display_data"
    },
    {
     "name": "stdout",
     "output_type": "stream",
     "text": [
      "Extracting ./.data\\FashionMNIST\\raw\\train-labels-idx1-ubyte.gz to ./.data\\FashionMNIST\\raw\n",
      "Downloading http://fashion-mnist.s3-website.eu-central-1.amazonaws.com/t10k-images-idx3-ubyte.gz to ./.data\\FashionMNIST\\raw\\t10k-images-idx3-ubyte.gz\n"
     ]
    },
    {
     "data": {
      "application/vnd.jupyter.widget-view+json": {
       "model_id": "9c52075aa2264a21a73e6af23f24ec10",
       "version_major": 2,
       "version_minor": 0
      },
      "text/plain": [
       "HBox(children=(IntProgress(value=1, bar_style='info', max=1), HTML(value='')))"
      ]
     },
     "metadata": {},
     "output_type": "display_data"
    },
    {
     "name": "stdout",
     "output_type": "stream",
     "text": [
      "Extracting ./.data\\FashionMNIST\\raw\\t10k-images-idx3-ubyte.gz to ./.data\\FashionMNIST\\raw\n",
      "Downloading http://fashion-mnist.s3-website.eu-central-1.amazonaws.com/t10k-labels-idx1-ubyte.gz to ./.data\\FashionMNIST\\raw\\t10k-labels-idx1-ubyte.gz\n"
     ]
    },
    {
     "data": {
      "application/vnd.jupyter.widget-view+json": {
       "model_id": "61781ac90b7c4c59b967205f4ac9dd67",
       "version_major": 2,
       "version_minor": 0
      },
      "text/plain": [
       "HBox(children=(IntProgress(value=1, bar_style='info', max=1), HTML(value='')))"
      ]
     },
     "metadata": {},
     "output_type": "display_data"
    },
    {
     "name": "stdout",
     "output_type": "stream",
     "text": [
      "Extracting ./.data\\FashionMNIST\\raw\\t10k-labels-idx1-ubyte.gz to ./.data\\FashionMNIST\\raw\n",
      "Processing...\n",
      "Done!\n"
     ]
    }
   ],
   "source": [
    "trainset=datasets.FashionMNIST('./.data',\n",
    "                              train=True,\n",
    "                              download=True,\n",
    "                              transform=transforms.Compose([\n",
    "                                  transforms.ToTensor(), \n",
    "                                  transforms.Normalize((0.5,),(0.5,))\n",
    "                              ]))\n",
    "train_loader=torch.utils.data.DataLoader(\n",
    "    dataset=trainset,    \n",
    "    batch_size=BATCH_SIZE,\n",
    "    shuffle=True\n",
    "    )"
   ]
  },
  {
   "cell_type": "code",
   "execution_count": 6,
   "metadata": {},
   "outputs": [],
   "source": [
    "G=nn.Sequential(\n",
    "    nn.Linear(64, 256),\n",
    "    nn.ReLU(),\n",
    "    nn.Linear(256, 256),\n",
    "    nn.ReLU(),\n",
    "    nn.Linear(256, 784),\n",
    "    nn.Tanh()\n",
    "    )\n",
    "D=nn.Sequential(\n",
    "    nn.Linear(784, 256),\n",
    "    nn.LeakyReLU(0.2),\n",
    "    nn.Linear(256, 256),\n",
    "    nn.LeakyReLU(0.2),\n",
    "    nn.Linear(256, 1),\n",
    "    nn.Sigmoid()\n",
    "    )"
   ]
  },
  {
   "cell_type": "code",
   "execution_count": 7,
   "metadata": {},
   "outputs": [],
   "source": [
    "D=D.to(DEVICE)\n",
    "G=G.to(DEVICE)"
   ]
  },
  {
   "cell_type": "code",
   "execution_count": 8,
   "metadata": {},
   "outputs": [],
   "source": [
    "criterion=nn.BCELoss()\n",
    "d_optimizer=optim.Adam(D.parameters(), lr=0.0002)\n",
    "g_optimizer=optim.Adam(G.parameters(), lr=0.0002)"
   ]
  },
  {
   "cell_type": "code",
   "execution_count": null,
   "metadata": {},
   "outputs": [
    {
     "name": "stdout",
     "output_type": "stream",
     "text": [
      "EPOCH[0/500] d_loss: -27.6310: g_loss: 0.0000 D(x):1.00 D(G(z)):1.00\n",
      "EPOCH[1/500] d_loss: -27.6309: g_loss: 0.0000 D(x):1.00 D(G(z)):1.00\n",
      "EPOCH[2/500] d_loss: -27.6310: g_loss: 0.0000 D(x):1.00 D(G(z)):1.00\n",
      "EPOCH[3/500] d_loss: -27.6310: g_loss: 0.0000 D(x):1.00 D(G(z)):1.00\n",
      "EPOCH[4/500] d_loss: -27.6310: g_loss: 0.0000 D(x):1.00 D(G(z)):1.00\n",
      "EPOCH[5/500] d_loss: -27.6310: g_loss: 0.0000 D(x):1.00 D(G(z)):1.00\n",
      "EPOCH[6/500] d_loss: -27.6310: g_loss: 0.0000 D(x):1.00 D(G(z)):1.00\n",
      "EPOCH[7/500] d_loss: -27.6310: g_loss: 0.0000 D(x):1.00 D(G(z)):1.00\n",
      "EPOCH[8/500] d_loss: -27.6310: g_loss: 0.0000 D(x):1.00 D(G(z)):1.00\n",
      "EPOCH[9/500] d_loss: -27.6310: g_loss: 0.0000 D(x):1.00 D(G(z)):1.00\n",
      "EPOCH[10/500] d_loss: -27.6310: g_loss: 0.0000 D(x):1.00 D(G(z)):1.00\n",
      "EPOCH[11/500] d_loss: -27.6310: g_loss: 0.0000 D(x):1.00 D(G(z)):1.00\n",
      "EPOCH[12/500] d_loss: -27.6310: g_loss: 0.0000 D(x):1.00 D(G(z)):1.00\n",
      "EPOCH[13/500] d_loss: -27.6310: g_loss: 0.0000 D(x):1.00 D(G(z)):1.00\n",
      "EPOCH[14/500] d_loss: -27.6310: g_loss: 0.0000 D(x):1.00 D(G(z)):1.00\n",
      "EPOCH[15/500] d_loss: -27.6310: g_loss: 0.0000 D(x):1.00 D(G(z)):1.00\n",
      "EPOCH[16/500] d_loss: -27.6310: g_loss: 0.0000 D(x):1.00 D(G(z)):1.00\n",
      "EPOCH[17/500] d_loss: -27.6310: g_loss: 0.0000 D(x):1.00 D(G(z)):1.00\n",
      "EPOCH[18/500] d_loss: -27.6310: g_loss: 0.0000 D(x):1.00 D(G(z)):1.00\n",
      "EPOCH[19/500] d_loss: -27.6310: g_loss: 0.0000 D(x):1.00 D(G(z)):1.00\n",
      "EPOCH[20/500] d_loss: -27.6310: g_loss: 0.0000 D(x):1.00 D(G(z)):1.00\n",
      "EPOCH[21/500] d_loss: -27.6310: g_loss: 0.0000 D(x):1.00 D(G(z)):1.00\n",
      "EPOCH[22/500] d_loss: -27.6310: g_loss: 0.0000 D(x):1.00 D(G(z)):1.00\n",
      "EPOCH[23/500] d_loss: -27.6310: g_loss: 0.0000 D(x):1.00 D(G(z)):1.00\n",
      "EPOCH[24/500] d_loss: -27.6310: g_loss: 0.0000 D(x):1.00 D(G(z)):1.00\n",
      "EPOCH[25/500] d_loss: -27.6310: g_loss: 0.0000 D(x):1.00 D(G(z)):1.00\n",
      "EPOCH[26/500] d_loss: -27.6310: g_loss: 0.0000 D(x):1.00 D(G(z)):1.00\n",
      "EPOCH[27/500] d_loss: -27.6310: g_loss: 0.0000 D(x):1.00 D(G(z)):1.00\n",
      "EPOCH[28/500] d_loss: -27.6310: g_loss: 0.0000 D(x):1.00 D(G(z)):1.00\n",
      "EPOCH[29/500] d_loss: -27.6310: g_loss: 0.0000 D(x):1.00 D(G(z)):1.00\n",
      "EPOCH[30/500] d_loss: -27.6310: g_loss: 0.0000 D(x):1.00 D(G(z)):1.00\n",
      "EPOCH[31/500] d_loss: -27.6310: g_loss: 0.0000 D(x):1.00 D(G(z)):1.00\n",
      "EPOCH[32/500] d_loss: -27.6310: g_loss: 0.0000 D(x):1.00 D(G(z)):1.00\n",
      "EPOCH[33/500] d_loss: -27.6310: g_loss: 0.0000 D(x):1.00 D(G(z)):1.00\n",
      "EPOCH[34/500] d_loss: -27.6310: g_loss: 0.0000 D(x):1.00 D(G(z)):1.00\n",
      "EPOCH[35/500] d_loss: -27.6310: g_loss: 0.0000 D(x):1.00 D(G(z)):1.00\n",
      "EPOCH[36/500] d_loss: -27.6310: g_loss: 0.0000 D(x):1.00 D(G(z)):1.00\n",
      "EPOCH[37/500] d_loss: -27.6310: g_loss: 0.0000 D(x):1.00 D(G(z)):1.00\n",
      "EPOCH[38/500] d_loss: -27.6310: g_loss: 0.0000 D(x):1.00 D(G(z)):1.00\n",
      "EPOCH[39/500] d_loss: -27.6310: g_loss: 0.0000 D(x):1.00 D(G(z)):1.00\n",
      "EPOCH[40/500] d_loss: -27.6310: g_loss: 0.0000 D(x):1.00 D(G(z)):1.00\n",
      "EPOCH[41/500] d_loss: -27.6310: g_loss: 0.0000 D(x):1.00 D(G(z)):1.00\n"
     ]
    }
   ],
   "source": [
    "total_step=len(train_loader)\n",
    "for epoch in range(EPOCH):\n",
    "    for i,(images, _) in enumerate(train_loader):\n",
    "        images=images.reshape(BATCH_SIZE, -1).to(DEVICE)\n",
    "        \n",
    "        real_labels=torch.ones(BATCH_SIZE, 1).to(DEVICE)\n",
    "        fake_labels=torch.zeros(BATCH_SIZE, 1).to(DEVICE)\n",
    "        \n",
    "        outputs=D(images)\n",
    "        d_loss_real=criterion(outputs, real_labels)\n",
    "        real_score=outputs\n",
    "        \n",
    "        z=torch.randn(BATCH_SIZE, 64).to(DEVICE)\n",
    "        fake_images=G(z)\n",
    "        \n",
    "        outputs=D(fake_images)\n",
    "        d_loss_fake=criterion(outputs, fake_labels)\n",
    "        fake_score=outputs\n",
    "        \n",
    "        d_loss=d_loss_real-d_loss_fake\n",
    "        d_optimizer.zero_grad()\n",
    "        g_optimizer.zero_grad()\n",
    "        d_loss.backward()\n",
    "        d_optimizer.step()\n",
    "        \n",
    "        fake_images=G(z)\n",
    "        outputs=D(fake_images)\n",
    "        g_loss=criterion(outputs, real_labels)\n",
    "        \n",
    "        d_optimizer.zero_grad()\n",
    "        g_optimizer.zero_grad()\n",
    "        g_loss.backward()\n",
    "        g_optimizer.step()\n",
    "    print(\"EPOCH[{}/{}] d_loss: {:.4f}: g_loss: {:.4f} D(x):{:.2f} D(G(z)):{:.2f}\".format(epoch, EPOCH, d_loss.item(), g_loss.item(), real_score.mean().item(), fake_score.mean().item()))"
   ]
  },
  {
   "cell_type": "code",
   "execution_count": null,
   "metadata": {},
   "outputs": [],
   "source": []
  }
 ],
 "metadata": {
  "kernelspec": {
   "display_name": "Python 3",
   "language": "python",
   "name": "python3"
  },
  "language_info": {
   "codemirror_mode": {
    "name": "ipython",
    "version": 3
   },
   "file_extension": ".py",
   "mimetype": "text/x-python",
   "name": "python",
   "nbconvert_exporter": "python",
   "pygments_lexer": "ipython3",
   "version": "3.7.3"
  }
 },
 "nbformat": 4,
 "nbformat_minor": 2
}
