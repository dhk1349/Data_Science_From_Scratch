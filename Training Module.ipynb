{
 "cells": [
  {
   "cell_type": "markdown",
   "metadata": {},
   "source": [
    "<h3>Classifying Handwritten Number From Scratch</h3>\n",
    "\n",
    "<p>Define few activation functions<br>\n",
    "    Initialize W and b parameters<br>\n",
    "    Forward and backward propagation<br>\n",
    "    prediction function<br>\n",
    "\n",
    "</p>"
   ]
  },
  {
   "cell_type": "markdown",
   "metadata": {},
   "source": [
    "<h4>Useful numpy functions and application</h4>\n",
    "<p>-argmax: <br>\n",
    "    -choice: <br>\n",
    "    -Masking with choice function<br>\n",
    "</p>"
   ]
  },
  {
   "cell_type": "code",
   "execution_count": 6,
   "metadata": {},
   "outputs": [],
   "source": [
    "import numpy as np\n",
    "import matplotlib.pyplot as plt"
   ]
  },
  {
   "cell_type": "code",
   "execution_count": 7,
   "metadata": {},
   "outputs": [],
   "source": [
    "def LoadMNIST(path, datatype=\"image\"):\n",
    "    x_test=open(path, 'rb')\n",
    "    maigc=int.from_bytes(x_test.read(4), \"big\")\n",
    "    num=int.from_bytes(x_test.read(4), \"big\")\n",
    "    row=int.from_bytes(x_test.read(4), \"big\")\n",
    "    col=int.from_bytes(x_test.read(4), \"big\")\n",
    "    if datatype==\"image\":\n",
    "        data=np.frombuffer(x_test.read(col*row*num), dtype=np.uint8)\n",
    "        return data, col, row, num\n",
    "    elif datatype==\"label\":\n",
    "        data=np.frombuffer(x_test.read(num), dtype=np.uint8)\n",
    "        return data, num\n",
    "    \n",
    "def RetrieveData(bufffer, idx, row, col, img=False):\n",
    "    pixel=data[idx*row*col:(idx+1)*row*col].reshape(row, col)\n",
    "    if img==True:\n",
    "        plt.imshow(pixel)\n",
    "    return pixel\n",
    "    "
   ]
  },
  {
   "cell_type": "code",
   "execution_count": 3,
   "metadata": {},
   "outputs": [
    {
     "ename": "SyntaxError",
     "evalue": "invalid syntax (<ipython-input-3-1e3c1a68b7e2>, line 44)",
     "output_type": "error",
     "traceback": [
      "\u001b[1;36m  File \u001b[1;32m\"<ipython-input-3-1e3c1a68b7e2>\"\u001b[1;36m, line \u001b[1;32m44\u001b[0m\n\u001b[1;33m    grad['b1']=\u001b[0m\n\u001b[1;37m               ^\u001b[0m\n\u001b[1;31mSyntaxError\u001b[0m\u001b[1;31m:\u001b[0m invalid syntax\n"
     ]
    }
   ],
   "source": [
    "class MNIST_NN:\n",
    "    def __init__(self, data, label, row, col, num):\n",
    "        self.params={}\n",
    "        self.grads={}\n",
    "        self.cache={}\n",
    "        self.data=data\n",
    "        self.label=label\n",
    "        self.loss=0\n",
    "        self.row=row\n",
    "        self.col=col\n",
    "        self.num=num #number of training sample\n",
    "        \n",
    "    def relu(number):\n",
    "        if number>0:\n",
    "            return number \n",
    "        else:\n",
    "            return 0\n",
    "        \n",
    "    def softmax(numbers):\n",
    "        c=np.max(numbers)\n",
    "        return np.exp(numbers-c)/np.sum(np.exp(numbers))\n",
    "    \n",
    "    def Initial_param(self):\n",
    "        np.random.seed(0)\n",
    "        self.params['W1']=np.random.randn(self.row*self.col, 24)\n",
    "        self.params['W2']=np.random.randn(24, 48)\n",
    "        self.params['W3']=np.random.randn(48, 10)\n",
    "        \n",
    "        self.params['b1']=np.random.randn(24)\n",
    "        self.params['b2']=np.random.rand(48)\n",
    "        self.params['b3']=np.random.rand(10)\n",
    "    \n",
    "    def Mean_Squared_Error(yhat, y):\n",
    "        return 0.5*(np.sum(yhat-y)**2)\n",
    "    \n",
    "    def Cross_Entropy_Error(yhat, y):\n",
    "        delta=1e-7\n",
    "        return -np.sum(y*np.log(yhat+delta))\n",
    "    \n",
    "    def Loss(self,yhat, y):    \n",
    "        self.loss=Cross_Entrophy_Error(yhat,y)\n",
    "        return self.loss\n",
    "    \n",
    "    def Forwart(self):\n",
    "        self.cache['L1']=np.dot(self.data, self.params['W1'])+self.params['b1']\n",
    "        self.cache['L1A']=self.relu(self.cache['L1'])\n",
    "        \n",
    "        self.cache['L2']=np.dot(self.data, self.params['W2'])+self.params['b2']\n",
    "        self.cache['L2A']=self.relu(self.cache['L2'])\n",
    "        \n",
    "        self.cache['L3']=np.dot(self.data, self.params['W3'])+self.params['b3']\n",
    "        self.cache['L3A']=self.relu(self.cache['L3'])\n",
    "        \n",
    "        return self.softmax(self.cache['L3A'])\n",
    "    \n",
    "    def Backward(self):\n",
    "        \n",
    "    \n",
    "    def Grad(self, yhat, y):\n",
    "        # Lth layer (SIGMOID -> LINEAR) gradients. \n",
    "        #Inputs: \"dAL, current_cache\". Outputs: \"grads[\"dAL-1\"], grads[\"dWL\"], grads[\"dbL\"]\n",
    "        grad={}\n",
    "        print(\"shape of data is \", data.shape)\n",
    "        print(\"shape of A-Y is \", yhat.shape)\n",
    "        grad['W2']=1/num*data*(yhat-y).transpose     #data는 pixelXsamplenums\n",
    "        grad['b2']=\n",
    "        \n",
    "        \n",
    "        return\n",
    "        \n",
    "    def Predict(self):\n",
    "        L1=np.dot(self.data, self.params['W1'])+self.params['b1']\n",
    "        L1A=self.relu(L1)\n",
    "        \n",
    "        L2=np.dot(L1A, self.params['W2'])+self.params['b2']\n",
    "        L2A=self.relu(L2)\n",
    "        \n",
    "        L3=np.dot(L2A, self.params['W3'])+self.params['b3']\n",
    "        L3A=self.relu(L3)\n",
    "        \n",
    "        return self.softmax(L3A)\n",
    "        "
   ]
  },
  {
   "cell_type": "code",
   "execution_count": 8,
   "metadata": {},
   "outputs": [],
   "source": [
    "x_train=\"D:\\\\Datasets\\\\MNIST\\\\train-images-idx3-ubyte\\\\train-images.idx3-ubyte\"\n",
    "y_train=\"D:\\\\Datasets\\\\MNIST\\\\train-labels-idx1-ubyte\\\\train-labels.idx1-ubyte\"\n",
    "x_test=\"D:\\\\Datasets\\\\MNIST\\\\t10k-images-idx3-ubyte\\\\t10k-images.idx3-ubyte\"\n",
    "y_test=\"D:\\\\Datasets\\\\MNIST\\\\t10k-labels-idx1-ubyte\\\\t10k-labels.idx1-ubyte\""
   ]
  },
  {
   "cell_type": "code",
   "execution_count": 9,
   "metadata": {},
   "outputs": [],
   "source": [
    "x_train,row,col,train_num=LoadMNIST(x_train)\n",
    "y_train,_=LoadMNIST(y_train, \"label\") \n",
    "x_test,_,_,test_num=LoadMNIST(x_test)\n",
    "y_test,_=LoadMNIST(y_test, \"label\")"
   ]
  },
  {
   "cell_type": "code",
   "execution_count": 13,
   "metadata": {},
   "outputs": [
    {
     "data": {
      "text/plain": [
       "(784, 60000)"
      ]
     },
     "execution_count": 13,
     "metadata": {},
     "output_type": "execute_result"
    }
   ],
   "source": [
    "x_train.reshape(row*col, -1).shape"
   ]
  },
  {
   "cell_type": "code",
   "execution_count": 34,
   "metadata": {},
   "outputs": [],
   "source": [
    "tmp=MNIST_NN(x_train, y_train, row, col, train_num)\n",
    "tmp.Initial_param()"
   ]
  },
  {
   "cell_type": "code",
   "execution_count": 35,
   "metadata": {},
   "outputs": [
    {
     "data": {
      "text/plain": [
       "array([[ 1.76405235,  0.40015721,  0.97873798, ...,  0.6536186 ,\n",
       "         0.8644362 , -0.74216502],\n",
       "       [ 2.26975462, -1.45436567,  0.04575852, ..., -0.4380743 ,\n",
       "        -1.25279536,  0.77749036],\n",
       "       [-1.61389785, -0.21274028, -0.89546656, ...,  0.0519454 ,\n",
       "         0.72909056,  0.12898291],\n",
       "       ...,\n",
       "       [-0.71153674,  1.58311431, -0.26756359, ..., -0.59932157,\n",
       "        -1.58674784,  0.18783473],\n",
       "       [-1.29732297,  2.13927392, -0.52370123, ...,  0.37317312,\n",
       "        -0.77589984,  0.75021901],\n",
       "       [ 1.01797544, -0.21325951, -0.62568164, ...,  0.14498341,\n",
       "         1.56537216, -0.88302102]])"
      ]
     },
     "execution_count": 35,
     "metadata": {},
     "output_type": "execute_result"
    }
   ],
   "source": [
    "tmp.params['W1']"
   ]
  },
  {
   "cell_type": "code",
   "execution_count": 2,
   "metadata": {},
   "outputs": [
    {
     "data": {
      "text/plain": [
       "0.09999999999999999"
      ]
     },
     "execution_count": 2,
     "metadata": {},
     "output_type": "execute_result"
    }
   ],
   "source": [
    "(1e-7)*1000000"
   ]
  },
  {
   "cell_type": "code",
   "execution_count": null,
   "metadata": {},
   "outputs": [],
   "source": []
  }
 ],
 "metadata": {
  "kernelspec": {
   "display_name": "Python 3",
   "language": "python",
   "name": "python3"
  },
  "language_info": {
   "codemirror_mode": {
    "name": "ipython",
    "version": 3
   },
   "file_extension": ".py",
   "mimetype": "text/x-python",
   "name": "python",
   "nbconvert_exporter": "python",
   "pygments_lexer": "ipython3",
   "version": "3.7.3"
  }
 },
 "nbformat": 4,
 "nbformat_minor": 2
}
