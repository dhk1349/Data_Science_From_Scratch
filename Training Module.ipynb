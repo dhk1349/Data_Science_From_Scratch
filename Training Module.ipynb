{
 "cells": [
  {
   "cell_type": "markdown",
   "metadata": {},
   "source": [
    "<h3>Classifying Handwritten Number From Scratch</h3>\n",
    "\n",
    "<p>Define few activation functions<br>\n",
    "    Initialize W and b parameters<br>\n",
    "    Forward and backward propagation<br>\n",
    "    prediction function<br>\n",
    "\n",
    "</p>"
   ]
  },
  {
   "cell_type": "markdown",
   "metadata": {},
   "source": [
    "<h4>Useful numpy functions and application</h4>\n",
    "<p>-argmax: <br>\n",
    "    -choice: <br>\n",
    "    -Masking with choice function<br>\n",
    "</p>"
   ]
  },
  {
   "cell_type": "code",
   "execution_count": null,
   "metadata": {},
   "outputs": [],
   "source": [
    "import numpy as np\n",
    "import matplotlib.pyplot as plt"
   ]
  },
  {
   "cell_type": "code",
   "execution_count": null,
   "metadata": {},
   "outputs": [],
   "source": [
    "def LoadMNIST(path):\n",
    "    x_test=open(path, 'rb')\n",
    "    maigc=int.from_bytes(x_test.read(4), \"big\")\n",
    "    num=int.from_bytes(x_test.read(4), \"big\")\n",
    "    row=int.from_bytes(x_test.read(4), \"big\")\n",
    "    col=int.from_bytes(x_test.read(4), \"big\")\n",
    "    data=np.frombuffer(x_test.read(col*row*num), dtype=np.uint8)\n",
    "    return data, col, row, num\n",
    "    \n",
    "def RetrieveData(bufffer, idx, row, col, img=False):\n",
    "    pixel=data[idx*row*col:(idx+1)*row*col].reshape(row, col)\n",
    "    if img==True:\n",
    "        plt.imshow(pixel)\n",
    "    return pixel\n",
    "    "
   ]
  },
  {
   "cell_type": "code",
   "execution_count": 3,
   "metadata": {},
   "outputs": [],
   "source": [
    "class MNIST_NN:\n",
    "    def __init__(self, row, col, num):\n",
    "        self.params\n",
    "        self.data\n",
    "        self.label\n",
    "    \n",
    "    def relu():\n",
    "        \n",
    "    def softmax():\n",
    "    \n",
    "    def Initial_param(self, row, col, num):\n",
    "        np.random.seed(0)\n",
    "        self.params['W1']=np.random.randn(row*col, 24)\n",
    "        self.params['W2']\n",
    "        \n",
    "    def Predict(self):\n",
    "        L1=np.dot(self.data, self.params['W1'])+self.params['b1']\n",
    "        L1A=self.relu(L1)\n",
    "        \n",
    "        L2=np.dot(L1A, self.params['W2'])+self.params['b2']\n",
    "        L2A=self.relu(L2)\n",
    "        \n",
    "        L3=np.dot(L2A, self.params['W3'])+self.params['b3']\n",
    "        L3A=self.relu(L3)\n",
    "        \n",
    "        self.softmax(L3A)\n",
    "        "
   ]
  },
  {
   "cell_type": "code",
   "execution_count": null,
   "metadata": {},
   "outputs": [],
   "source": []
  }
 ],
 "metadata": {
  "kernelspec": {
   "display_name": "Python 3",
   "language": "python",
   "name": "python3"
  },
  "language_info": {
   "codemirror_mode": {
    "name": "ipython",
    "version": 3
   },
   "file_extension": ".py",
   "mimetype": "text/x-python",
   "name": "python",
   "nbconvert_exporter": "python",
   "pygments_lexer": "ipython3",
   "version": "3.7.3"
  }
 },
 "nbformat": 4,
 "nbformat_minor": 2
}
