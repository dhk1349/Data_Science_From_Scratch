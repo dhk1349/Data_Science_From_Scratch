{
 "cells": [
  {
   "cell_type": "code",
   "execution_count": 7,
   "metadata": {},
   "outputs": [],
   "source": [
    "import requests\n",
    "from bs4 import BeautifulSoup as bs"
   ]
  },
  {
   "cell_type": "markdown",
   "metadata": {},
   "source": [
    "<h3>Getting Recent Dump on Wiki</h3>"
   ]
  },
  {
   "cell_type": "code",
   "execution_count": 24,
   "metadata": {},
   "outputs": [],
   "source": [
    "index=requests.get('https://dumps.wikimedia.org/enwiki/').text"
   ]
  },
  {
   "cell_type": "code",
   "execution_count": 25,
   "metadata": {},
   "outputs": [
    {
     "data": {
      "text/plain": [
       "'<html>\\r\\n<head><title>Index of /enwiki/</title></head>\\r\\n<body bgcolor=\"white\">\\r\\n<h1>Index of /enwiki/</h1><hr><pre><a href=\"../\">../</a>\\r\\n<a href=\"20191020/\">20191020/</a>                                          02-Dec-2019 01:29                   -\\r\\n<a href=\"20191101/\">20191101/</a>                                          21-Dec-2019 01:40                   -\\r\\n<a href=\"20191120/\">20191120/</a>                                          02-Jan-2020 01:29                   -\\r\\n<a href=\"20191201/\">20191201/</a>                                          21-Jan-2020 01:35                   -\\r\\n<a href=\"20191220/\">20191220/</a>                                          22-Dec-2019 20:50                   -\\r\\n<a href=\"20200101/\">20200101/</a>                                          08-Jan-2020 18:14                   -\\r\\n<a href=\"20200120/\">20200120/</a>                                          22-Jan-2020 06:15                   -\\r\\n<a href=\"latest/\">latest/</a>                                            22-Jan-2020 06:15                   -\\r\\n</pre><hr></body>\\r\\n</html>\\r\\n'"
      ]
     },
     "execution_count": 25,
     "metadata": {},
     "output_type": "execute_result"
    }
   ],
   "source": [
    "index"
   ]
  },
  {
   "cell_type": "code",
   "execution_count": 26,
   "metadata": {},
   "outputs": [],
   "source": [
    "soup_index=bs(index, 'html.parser')\n",
    "dumps=[a['href'] for a in soup_index.find_all('a') if a.has_attr('href') and a.text[:-1].isdigit()]"
   ]
  },
  {
   "cell_type": "code",
   "execution_count": 27,
   "metadata": {},
   "outputs": [
    {
     "data": {
      "text/plain": [
       "['20191020/',\n",
       " '20191101/',\n",
       " '20191120/',\n",
       " '20191201/',\n",
       " '20191220/',\n",
       " '20200101/',\n",
       " '20200120/']"
      ]
     },
     "execution_count": 27,
     "metadata": {},
     "output_type": "execute_result"
    }
   ],
   "source": [
    "dumps"
   ]
  },
  {
   "cell_type": "code",
   "execution_count": 29,
   "metadata": {},
   "outputs": [
    {
     "name": "stdout",
     "output_type": "stream",
     "text": [
      "20200120/\n"
     ]
    }
   ],
   "source": [
    "for dump_url in sorted(dumps, reverse=True):\n",
    "    print(dump_url)\n",
    "    dump_html=index=requests.get('https://dumps.wikimedia.org/enwiki/'+dump_url).text\n",
    "    soup_dump=bs(dump_html, 'html.parser')\n",
    "    pages_xml=[a['href'] for a in soup_dump.find_all('a') if a.has_attr('href') and a['href'].endswith('-pages-articles.xml.bz2')]\n",
    "    if pages_xml:\n",
    "        break\n",
    "    time.sleep(0.8)"
   ]
  },
  {
   "cell_type": "code",
   "execution_count": 30,
   "metadata": {},
   "outputs": [
    {
     "data": {
      "text/plain": [
       "['/enwiki/20200120/enwiki-20200120-pages-articles.xml.bz2']"
      ]
     },
     "execution_count": 30,
     "metadata": {},
     "output_type": "execute_result"
    }
   ],
   "source": [
    "pages_xml"
   ]
  }
 ],
 "metadata": {
  "kernelspec": {
   "display_name": "Python 3",
   "language": "python",
   "name": "python3"
  },
  "language_info": {
   "codemirror_mode": {
    "name": "ipython",
    "version": 3
   },
   "file_extension": ".py",
   "mimetype": "text/x-python",
   "name": "python",
   "nbconvert_exporter": "python",
   "pygments_lexer": "ipython3",
   "version": "3.7.3"
  }
 },
 "nbformat": 4,
 "nbformat_minor": 2
}
